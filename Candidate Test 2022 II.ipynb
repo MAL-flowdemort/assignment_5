{
 "cells": [
  {
   "cell_type": "markdown",
   "id": "278102b3",
   "metadata": {},
   "source": [
    "# Candidate Test 2022 Analysis Part 2\n",
    "\n",
    "This exercise focuses on the candidate tests from two television networks: DR and TV2. Data from both tests have been given on a scale of five responses (-2, -1, 0, 1, 2). Consider normalizing the data or performing similar scaling transformations as needed.\n",
    "\n",
    "---\n",
    "\n",
    "There are 6 datasets included in this exercise:\n",
    "\n",
    "- `alldata.xlsx`: Contains responses from both TV stations.\n",
    "- `drdata.xlsx`: Contains responses from DR.\n",
    "- `drq.xlsx`: Contains questions from DR.\n",
    "- `tv2data.xlsx`: Contains responses from TV2.\n",
    "- `tv2q.xlsx`: Contains questions from TV2.\n",
    "- `electeddata.xlsx`: Contains responses from both TV stations for candidates who were elected to the parliament. Note that 9 members are missing; 7 of them didn't take any of the tests. Additionally, some notable figures like Mette F. and Lars Løkke did not participate in any of the tests.\n",
    "\n",
    "---\n",
    "\n",
    "It's entirely up to you how you approach this data, but at a *minimum*, your analysis should include:\n",
    "\n",
    "- An analysis/description of which questions are most crucial concerning their placement on the axes.\n",
    "- Average positions of parties concerning each question, preferably with accompanying plots of each (or selected) question.\n",
    "- A clustering analysis where you attempt various cluster numbers, which would correspond to different parties. Discuss whether there is room for more clusters/parties or if a reduction is needed. Make sure you cover: **K-Means, Hierarchical clustering, and DBSCAN.**\n",
    "- An overview of the political landscape of the elected candidates, highlighting which members agree or disagree the most and which parties or party members have significant disagreements.\n",
    "- Feel free to explore further and remember that preprocessing, methodology, and evaluation metrics are not mentioned explicitly, but are implicitly assumed.\n",
    "\n",
    "---\n",
    "\n",
    "The following parties are represented:\n",
    "\n",
    "| Party letter | Party name | Party name (English) | Political position |\n",
    "| :-: | :-: | :-: | :-: |\n",
    "| A | Socialdemokratiet | Social Democrats | Centre-left |\n",
    "| V | Venstre | Danish Liberal Party | Centre-right |\n",
    "| M | Moderaterne | Moderates | Centre-right |\n",
    "| F | Socialistisk Folkeparti | Socialist People's Party | Left-wing |\n",
    "| D | Danmarksdemokraterne | Denmark Democrats | Right-wing |\n",
    "| I | Liberal Alliance | Liberal Alliance | Right-wing |\n",
    "| C | Konservative | Conservative People's Party | Right-wing |\n",
    "| Æ | Enhedslisten | Red-Green Alliance | Far-left |\n",
    "| B | Radikale Venstre | Social Liberal Party | Centre-left |\n",
    "| D | Nye Borgerlige | New Right | Far-right |\n",
    "| Z | Alternativet | The Alternative | Centre-left |\n",
    "| O | Dansk Folkeparti | Danish People's Party | Far-right |\n",
    "| G | Frie Grønne | Free Greens | Centre-left |\n",
    "| K | Kristendemokraterne | Christian Democrats | Centre-right |\n",
    "\n",
    "Below you can see the results and the colors chosen to represent the parties. Use these colors in your analysis above.\n",
    "\n",
    "![Alt text](image-1.png)\n",
    "\n",
    "\n",
    "Others have undertaken similar analyses. You can draw inspiration from the following (use Google tranlsate if your Danish is rusty):\n",
    "\n",
    "- [Analysis of where individual candidates stand relative to each other and their parties](https://v2022.dumdata.dk/)\n",
    "- [Candidate Test 2022 – A deep dive into the data](https://kwedel.github.io/kandidattest2022/)\n",
    "- [The Political Landscape 2019](https://kwedel.github.io/kandidattest2019/)\n",
    "\n"
   ]
  },
  {
   "cell_type": "code",
   "execution_count": 411,
   "id": "0773e39c",
   "metadata": {},
   "outputs": [],
   "source": [
    "import pandas as pd\n",
    "from sklearn.decomposition import PCA\n",
    "from sklearn.preprocessing import StandardScaler\n",
    "import matplotlib.pyplot as plt\n",
    "import numpy as np\n",
    "import plotly.express as px\n",
    "from sklearn.manifold import TSNE"
   ]
  },
  {
   "cell_type": "markdown",
   "id": "181081af",
   "metadata": {},
   "source": [
    "Load the data and remove the unnecessary columns."
   ]
  },
  {
   "cell_type": "code",
   "execution_count": 412,
   "id": "05d4ccb7",
   "metadata": {},
   "outputs": [
    {
     "name": "stdout",
     "output_type": "stream",
     "text": [
      "Index(['530', '531', '533', '534', '535', '537', '538', '540', '541', '543',\n",
      "       '544', '545', '546', '547', '548', '550', '551', '552', '553', '555',\n",
      "       '556', '557', '559', '561', '563', 'navn', 'parti', '1a', '1b', '2a',\n",
      "       '2b', '3a', '3b', '4a', '4b', '5a', '5b', '6a', '6b', '7a', '7b', '8a',\n",
      "       '8b', '9a', '9b', '10a', '10b', '11a', '11b', '12a', '12b'],\n",
      "      dtype='object')\n"
     ]
    }
   ],
   "source": [
    "data = pd.read_excel('alldata.xlsx')\n",
    "data = data.drop(columns='alder')\n",
    "data = data.drop(columns='storkreds')\n",
    "print(data.columns)"
   ]
  },
  {
   "cell_type": "markdown",
   "id": "3a8d3317",
   "metadata": {},
   "source": [
    "Move the candidate's name and party to the end of the dataframe for easier selection of question data."
   ]
  },
  {
   "cell_type": "code",
   "execution_count": 413,
   "id": "54fff1ad",
   "metadata": {},
   "outputs": [
    {
     "name": "stdout",
     "output_type": "stream",
     "text": [
      "   530  531  533  534  535  537  538  540  541  543  544  545  546  547  548  \\\n",
      "0   -1   -2    1   -2    2    1   -2    1    1    2   -2    1    2    2    1   \n",
      "1    2    2   -1   -2   -1   -2    1   -2    2   -2    2   -1   -2   -2    2   \n",
      "2    2    1   -2   -2    1   -2    1   -1    1   -1    2   -2   -2   -1    1   \n",
      "3    2    1   -2   -1    1    1    1    1    1   -2    2    1    1   -2    2   \n",
      "4    1    1   -2    2   -2    1   -2    1    2   -2   -2    2    2   -2    2   \n",
      "\n",
      "   550  551  552  553  555  556  557  559  561  563  1a  1b  2a  2b  3a  3b  \\\n",
      "0   -2    1    2   -2    2    2    1    2    2   -2   0   0   2   2   2  -2   \n",
      "1    2   -2    1    1   -1   -2    1    2    1    2   1   1   1   1   1   2   \n",
      "2    1   -2    2   -1   -2   -1    1    2    2    2   1   1   1   2   1   1   \n",
      "3    2   -2    2    1    2   -2    2    2    2    2   2   2   2   2   0   2   \n",
      "4    1   -2    2   -2   -2   -1    1   -2   -1   -2  -2  -2   0   0  -2  -2   \n",
      "\n",
      "   4a  4b  5a  5b  6a  6b  7a  7b  8a  8b  9a  9b  10a  10b  11a  11b  12a  \\\n",
      "0  -1   0  -1   1  -1   1   2   2   1   0   2   0    1   -2   -2    1    1   \n",
      "1   2   2  -2   0   1  -2  -2   0   0   0  -2   0   -1    2    1   -2    0   \n",
      "2   2   0  -1   1   2  -2  -2  -2   1   1  -1  -2    0    2    0   -1    1   \n",
      "3   0   2  -2   2  -1   2   0  -2   2   2  -2   2    2    2    2   -1    2   \n",
      "4   2   1  -2   2   1  -2   2  -2   1   0  -2   0   -1    0   -2    0    2   \n",
      "\n",
      "   12b                    parti                      navn  \n",
      "0    1              Moderaterne      Lars Philipsen Prahm  \n",
      "1    0  Socialistisk Folkeparti             Karsten Hønge  \n",
      "2   -2             Alternativet  Martin Kelleher-Petersen  \n",
      "3    0             Alternativet    Nicklas Gjedsig Larsen  \n",
      "4   -2                Løsgænger            Tom Gillesberg  \n"
     ]
    }
   ],
   "source": [
    "parti_col = data['parti']\n",
    "navn_col = data['navn']\n",
    "# Drop the columns 'parti' and 'navn'\n",
    "data.drop(columns=['parti', 'navn'], inplace=True)\n",
    "\n",
    "# Append the columns 'parti' and 'navn' to the end of the DataFrame\n",
    "data['parti'] = parti_col\n",
    "data['navn'] = navn_col\n",
    "print(data.head())"
   ]
  },
  {
   "cell_type": "markdown",
   "id": "e6cb212c",
   "metadata": {},
   "source": [
    "Extract only the question data into a separate dataframe and print."
   ]
  },
  {
   "cell_type": "code",
   "execution_count": 414,
   "id": "3efb2d3e",
   "metadata": {},
   "outputs": [
    {
     "name": "stdout",
     "output_type": "stream",
     "text": [
      "49\n",
      "   530  531  533  534  535  537  538  540  541  543  544  545  546  547  548  \\\n",
      "0   -1   -2    1   -2    2    1   -2    1    1    2   -2    1    2    2    1   \n",
      "1    2    2   -1   -2   -1   -2    1   -2    2   -2    2   -1   -2   -2    2   \n",
      "2    2    1   -2   -2    1   -2    1   -1    1   -1    2   -2   -2   -1    1   \n",
      "3    2    1   -2   -1    1    1    1    1    1   -2    2    1    1   -2    2   \n",
      "4    1    1   -2    2   -2    1   -2    1    2   -2   -2    2    2   -2    2   \n",
      "\n",
      "   550  551  552  553  555  556  557  559  561  563  1a  1b  2a  2b  3a  3b  \\\n",
      "0   -2    1    2   -2    2    2    1    2    2   -2   0   0   2   2   2  -2   \n",
      "1    2   -2    1    1   -1   -2    1    2    1    2   1   1   1   1   1   2   \n",
      "2    1   -2    2   -1   -2   -1    1    2    2    2   1   1   1   2   1   1   \n",
      "3    2   -2    2    1    2   -2    2    2    2    2   2   2   2   2   0   2   \n",
      "4    1   -2    2   -2   -2   -1    1   -2   -1   -2  -2  -2   0   0  -2  -2   \n",
      "\n",
      "   4a  4b  5a  5b  6a  6b  7a  7b  8a  8b  9a  9b  10a  10b  11a  11b  12a  \\\n",
      "0  -1   0  -1   1  -1   1   2   2   1   0   2   0    1   -2   -2    1    1   \n",
      "1   2   2  -2   0   1  -2  -2   0   0   0  -2   0   -1    2    1   -2    0   \n",
      "2   2   0  -1   1   2  -2  -2  -2   1   1  -1  -2    0    2    0   -1    1   \n",
      "3   0   2  -2   2  -1   2   0  -2   2   2  -2   2    2    2    2   -1    2   \n",
      "4   2   1  -2   2   1  -2   2  -2   1   0  -2   0   -1    0   -2    0    2   \n",
      "\n",
      "   12b  \n",
      "0    1  \n",
      "1    0  \n",
      "2   -2  \n",
      "3    0  \n",
      "4   -2  \n"
     ]
    }
   ],
   "source": [
    "pd.set_option('display.max_columns', None)  # This line will ensure all columns are displayed\n",
    "index_of_parti = data.columns.get_loc('parti')\n",
    "print(index_of_parti)\n",
    "questions_data = data.iloc[:,:49]\n",
    "print(questions_data.head())\n"
   ]
  },
  {
   "cell_type": "markdown",
   "id": "5a122ee9",
   "metadata": {},
   "source": [
    "Scale the data using the standard scaler (mean of 0 with variance of 1) and apply PCA without specifying the number of components in order to see the variance explained by each component. \n",
    "We can observe that the first two components explain about 51% of the variance."
   ]
  },
  {
   "cell_type": "code",
   "execution_count": 415,
   "id": "ef243610",
   "metadata": {},
   "outputs": [
    {
     "name": "stdout",
     "output_type": "stream",
     "text": [
      "[0.41737636 0.10259865 0.04976015 0.04300927 0.0293233  0.0237033\n",
      " 0.01994712 0.01697463 0.01676652 0.01608279 0.01527152 0.01449084\n",
      " 0.01303718 0.01297392 0.01200226 0.01125725 0.0102922  0.00997773\n",
      " 0.00986747 0.00966786 0.00928391 0.0089641  0.00877818 0.00786085\n",
      " 0.00755989 0.00722701 0.00682415 0.00670982 0.00626662 0.00605007\n",
      " 0.00582534 0.0055948  0.0052595  0.00505699 0.00473416 0.00466639\n",
      " 0.00453667 0.00416406 0.00398844 0.00388108 0.00341904 0.00330379\n",
      " 0.0029882  0.00290354 0.00251036 0.00244041 0.00210387 0.00141116\n",
      " 0.00130729]\n"
     ]
    }
   ],
   "source": [
    "scaler = StandardScaler()\n",
    "data_scaled = scaler.fit_transform(questions_data)\n",
    "\n",
    "pca = PCA(n_components=None)\n",
    "principal_components = pca.fit_transform(data_scaled)\n",
    "print(pca.explained_variance_ratio_)"
   ]
  },
  {
   "cell_type": "markdown",
   "id": "d93a12d7",
   "metadata": {},
   "source": [
    "Specify the number of components, show the shape of the data, and plot the elbow graph."
   ]
  },
  {
   "cell_type": "code",
   "execution_count": 416,
   "id": "ed799be8",
   "metadata": {},
   "outputs": [
    {
     "name": "stdout",
     "output_type": "stream",
     "text": [
      "[0.41737636 0.10259865 0.04976014 0.04300924 0.02932221 0.02370175\n",
      " 0.01993959 0.01696243 0.01674066 0.01595337]\n",
      "Original shape: (867, 49)\n",
      "Reduced shape: (867, 10)\n"
     ]
    },
    {
     "data": {
      "image/png": "[encoded data removed]",
      "text/plain": [
       "<Figure size 1000x600 with 1 Axes>"
      ]
     },
     "metadata": {},
     "output_type": "display_data"
    }
   ],
   "source": [
    "pca = PCA(n_components=10)\n",
    "principal_components = pca.fit_transform(data_scaled)\n",
    "print(pca.explained_variance_ratio_)\n",
    "\n",
    "print(\"Original shape: {}\".format(str(data_scaled.shape)))\n",
    "print(\"Reduced shape: {}\".format(str(principal_components.shape)))\n",
    "\n",
    "# Creating the plot\n",
    "plt.figure(figsize=(10, 6))\n",
    "plt.plot(range(1, 1 + len(pca.explained_variance_ratio_)), pca.explained_variance_ratio_, marker='o', linestyle='-', color='b')\n",
    "plt.title('Scree Plot')\n",
    "plt.xlabel('Principal Component')\n",
    "plt.ylabel('Explained Variance Ratio')\n",
    "plt.xticks(range(1, 11))  # Ensuring that all components are marked on the x-axis\n",
    "plt.grid(True)\n",
    "plt.show()"
   ]
  },
  {
   "cell_type": "markdown",
   "id": "e68e969c",
   "metadata": {},
   "source": [
    "Based on the information in the elbow graph, we pick two principal components for the analysis."
   ]
  },
  {
   "cell_type": "code",
   "execution_count": 417,
   "id": "b06b215b",
   "metadata": {},
   "outputs": [
    {
     "name": "stdout",
     "output_type": "stream",
     "text": [
      "[0.41737636 0.10259865]\n",
      "Original shape: (867, 49)\n",
      "Reduced shape: (867, 2)\n"
     ]
    },
    {
     "data": {
      "image/png": "[encoded data removed]",
      "text/plain": [
       "<Figure size 1200x600 with 2 Axes>"
      ]
     },
     "metadata": {},
     "output_type": "display_data"
    }
   ],
   "source": [
    "pca = PCA(n_components=2)\n",
    "principal_components = pca.fit_transform(data_scaled)\n",
    "print(pca.explained_variance_ratio_)\n",
    "\n",
    "print(\"Original shape: {}\".format(str(data_scaled.shape)))\n",
    "print(\"Reduced shape: {}\".format(str(principal_components.shape)))\n",
    "\n",
    "# Create a heatmap of the loading vectors\n",
    "plt.figure(figsize=(12, 6))\n",
    "plt.matshow(pca.components_, cmap='viridis', fignum=1)\n",
    "plt.yticks([0, 1], [\"First component\", \"Second component\"])\n",
    "plt.colorbar()\n",
    "plt.xticks(range(len(questions_data.columns)),\n",
    "           questions_data.columns, rotation=60, ha='left')\n",
    "plt.xlabel(\"Feature\")\n",
    "plt.ylabel(\"Principal components\")\n",
    "plt.show()"
   ]
  },
  {
   "cell_type": "code",
   "execution_count": 418,
   "id": "02cacbfd",
   "metadata": {},
   "outputs": [
    {
     "name": "stdout",
     "output_type": "stream",
     "text": [
      "Component 1:\n",
      "\t537: 0.19028\tDet er okay, at den økonomiske ulighed stiger, så længe danskerne generelt bliver rigere\n",
      "\t543: 0.18589\tDet er en god idé, at dagpengesatsen for nyuddannede er sat ned\n",
      "\t540: 0.1744\tDet skal være muligt at tjene penge på at drive private børnehaver og vuggestuer\n",
      "\t9a: 0.17269\tDele af SU’en på videregående uddannelser skal omdannes til lån for at sikre ressourcer til andre dele af uddannelsesområdet.\n",
      "\t3a: 0.17047\tDanmark bør bruge to procent af BNP på forsvaret, inden 2033 begynder.\n",
      "\t555: 0.16574\tAsylansøgere bør sendes til et land uden for EU - f.eks. Rwanda - mens deres ansøgning behandles\n",
      "\t10a: 0.16568\tDet offentlige bruger i dag for mange penge på at hjælpe mennesker, der godt kunne klare sig selv, og for få penge på mennesker, der virkelig har brug for hjælp.\n",
      "\t6b: 0.16321\tDet vil være en god idé at etablere et dansk asylmodtagecenter i Rwanda.\n",
      "\t11b: 0.15866\tDet bør undersøges, om Mette Frederiksen kan stilles for en rigsret som konsekvens af hendes håndtering af Mink-sagen.\n",
      "\t7a: 0.15516\tIndførelse af atomkraft i Danmark vil være et godt bidrag til den grønne omstilling.\n",
      "Component 2:\n",
      "\t10b: 0.30292\tDen såkaldte Arne-pension, der giver mulighed for tidligere pension, skal bibeholdes, selvom der er mangel på arbejdskraft.\n",
      "\t551: 0.29384\tDer skal være permanent grænsekontrol mellem Danmark og Tyskland\n",
      "\t553: 0.27281\tDer skal udflyttes flere uddannelsespladser fra de store byer\n",
      "\t4b: 0.25845\tStaten bør i højere grad kompensere danskerne for de stigende priser, som inflationen har medført.\n",
      "\t6b: 0.20771\tDet vil være en god idé at etablere et dansk asylmodtagecenter i Rwanda.\n",
      "\t555: 0.20675\tAsylansøgere bør sendes til et land uden for EU - f.eks. Rwanda - mens deres ansøgning behandles\n",
      "\t534: 0.20145\tPå sigt skal Danmark meldes ud af EU\n",
      "\t533: 0.18496\tKriminalitet begået i udsatte boligområder skal straffes særligt hårdt\n",
      "\t5b: 0.17042\tDer bør tilføres ekstra ressourcer til ældreplejen, selvom dette vil medføre, at andre velfærdsområder får færre ressourcer.\n",
      "\t7b: 0.12597\tDanmark skal hurtigst muligt gøre sig totalt uafhængig af russisk gas og olie, også selvom det medfører øget brug af kul, som er mere klimaskadeligt.\n"
     ]
    }
   ],
   "source": [
    "drq_questions = pd.read_excel('drq.xlsx')\n",
    "tv2_questions = pd.read_excel('tv2q.xlsx')\n",
    "\n",
    "# Remove the first 51 elements from tv2_questions\n",
    "tv2_questions = tv2_questions.iloc[50:]\n",
    "\n",
    "combined_questions = pd.concat([drq_questions[['ID', 'Title', 'Question']], tv2_questions[['id', 'header', 'question']].rename(columns={'id': 'ID', 'header': 'Title', 'question': 'Question'})])\n",
    "# Print all combined questions\n",
    "pd.set_option('display.max_rows', None)  # This line will ensure all rows are displayed\n",
    "pd.set_option('display.max_columns', None)  # This line will ensure all columns are displayed\n",
    "\n",
    "combined_questions.to_excel('combined_questions.xlsx', index=False)\n",
    "# print(combined_questions)\n",
    "\n",
    "# Access the loading vectors\n",
    "loadings = pca.components_\n",
    "# print(loadings)\n",
    "\n",
    "# set the ID column of combined questions as string\n",
    "combined_questions.ID = combined_questions.ID.astype(str)\n",
    "\n",
    "# Create a dictionary to store loadings for each component\n",
    "loading_dict = {}\n",
    "for i, component in enumerate(loadings):\n",
    "    # Create a list to store tuples of feature loading pairs\n",
    "    loadings_list = [(feature, loading) for feature, loading in zip(questions_data.columns, component)]\n",
    "    # Sort the list based on loading value\n",
    "    sorted_loadings = sorted(loadings_list, key=lambda x: x[1], reverse=True)\n",
    "    # Store the sorted loadings in the dictionary\n",
    "    loading_dict[\"Component {}\".format(i + 1)] = sorted_loadings\n",
    "\n",
    "# Print the questions ordered by loading to each component\n",
    "for component, loadings_list in loading_dict.items():\n",
    "    print(component + \":\")\n",
    "    for feature, loading in loadings_list[:10]:     # Only take the top 10\n",
    "        loading = round(loading, 5)                 # Round the loading to 5 decimal points\n",
    "        question_text = combined_questions[combined_questions['ID'] == feature]['Question'].values[0] if feature in combined_questions['ID'].values else 'No question found'\n",
    "        print(\"\\t{}: {}\\t{}\".format(feature, loading, question_text))"
   ]
  },
  {
   "cell_type": "markdown",
   "id": "0bd133b5",
   "metadata": {},
   "source": [
    "**Component 1:**\n",
    "\n",
    "| Item | Loading   | Question |\n",
    "|------|---------|-----------|\n",
    "| 537  | 0.19028 | It is okay for economic inequality to increase as long as the Danes generally become richer |\n",
    "| 543  | 0.18589 | It is a good idea that the allowance rate for new graduates has been reduced |\n",
    "| 540  | 0.17440 | It must be possible to make money from running private kindergartens and nurseries |\n",
    "| 9a   | 0.17269 | Parts of the SU in higher education must be converted into loans in order to secure resources for other parts of the education area |\n",
    "| 3a   | 0.17047 | Denmark should spend two percent of GDP on defense before 2033 begins |\n",
    "| 555  | 0.16574 | Asylum seekers should be sent to a country outside the EU - e.g. Rwanda - while their application is being processed |\n",
    "| 10a  | 0.16568 | The public sector today spends too much money on helping people who could manage well on their own, and too little money on people who really need help |\n",
    "| 6b   | 0.16321 | It would be a good idea to establish a Danish asylum reception center in Rwanda |\n",
    "| 11b  | 0.15866 | It should be investigated whether Mette Frederiksen can be impeached as a consequence of her handling of the Mink case |\n",
    "| 7a   | 0.15516 | Introduction of nuclear power in Denmark will be a good contribution to the green transition |\n",
    "\n",
    "**Component 2:**\n",
    "\n",
    "| Item | Loading   | Question |\n",
    "|------|---------|-----------|\n",
    "| 10b  | 0.30292 | The so-called Arne pension, which allows for an earlier pension, must be maintained, even if there is a shortage of labour |\n",
    "| 551  | 0.29384 | There must be permanent border control between Denmark and Germany |\n",
    "| 553  | 0.27281 | More education places must be moved from the big cities |\n",
    "| 4b   | 0.25845 | The state should compensate the Danes to a greater extent for the rising prices that inflation has brought about |\n",
    "| 6b   | 0.20771 | It would be a good idea to establish a Danish asylum reception center in Rwanda |\n",
    "| 555  | 0.20675 | Asylum seekers should be sent to a country outside the EU - e.g. Rwanda - while their application is being processed |\n",
    "| 534  | 0.20145 | In the long term, Denmark must be declared out of the EU |\n",
    "| 533  | 0.18496 | Crime committed in vulnerable residential areas must be punished particularly harshly |\n",
    "| 5b   | 0.17042 | Extra resources should be added to care for the elderly, even if this will result in other welfare areas receiving fewer resources |\n",
    "| 7b   | 0.12597 | Denmark must as soon as possible become totally independent of Russian gas and oil, even if this entails increased use of coal, which is more harmful to the climate |\n",
    "\n",
    "\n",
    "\n",
    "\n",
    "\n",
    "\n",
    "\n",
    "\n"
   ]
  },
  {
   "cell_type": "code",
   "execution_count": 419,
   "id": "9bbc01a5",
   "metadata": {},
   "outputs": [
    {
     "data": {
      "image/png": "[encoded data removed]",
      "text/plain": [
       "<Figure size 1500x1000 with 1 Axes>"
      ]
     },
     "metadata": {},
     "output_type": "display_data"
    }
   ],
   "source": [
    "\n",
    "# Define party colors using RGB values\n",
    "party_colors = {\n",
    "    'Socialdemokratiet': 'rgb(179, 39, 34)',\n",
    "    'Venstre': 'rgb(0, 102, 151)',\n",
    "    'Moderaterne': 'rgb(108, 57, 229)',\n",
    "    'Socialistisk Folkeparti': 'rgb(221, 8, 120)',\n",
    "    'Danmarksdemokraterne': 'rgb(138, 195, 255)',\n",
    "    'Liberal Alliance': 'rgb(33, 198, 207)',\n",
    "    'Det Konservative Folkeparti': 'rgb(158, 186, 39)',\n",
    "    'Enhedslisten': 'rgb(237, 128, 25)',\n",
    "    'Radikale Venstre': 'rgb(113, 50, 128)',\n",
    "    'Nye Borgerlige': 'rgb(5, 79, 92)',\n",
    "    'Alternativet': 'rgb(42, 143, 57)',\n",
    "    'Dansk Folkeparti': 'rgb(243, 205, 65)',\n",
    "    'Frie Grønne, Danmarks Nye Venstrefløjsparti': 'rgb(0, 230, 106)',\n",
    "    'Kristendemokraterne': 'rgb(186, 186, 186)',\n",
    "    'Løsgænger': 'rgb(255, 118, 237)'\n",
    "}\n",
    "\n",
    "\n",
    "# Plot the candidates on the political compass\n",
    "plt.figure(figsize=(15, 10))\n",
    "\n",
    "\n",
    "# Plot each candidate, coloring by party\n",
    "for i, (x, y) in enumerate(principal_components):\n",
    "    party = parti_col[i]\n",
    "    rgb = party_colors[party][4:-1].split(',')\n",
    "    color_tuple = (int(rgb[0])/255, int(rgb[1])/255, int(rgb[2])/255)\n",
    "    plt.scatter(x, y, color=color_tuple, label=party)\n",
    "\n",
    "# Create the legend without duplicates, and move it outside the plot area\n",
    "handles, labels = plt.gca().get_legend_handles_labels()\n",
    "by_label = dict(zip(labels, handles))\n",
    "plt.legend(by_label.values(), by_label.keys(), loc='upper left', bbox_to_anchor=(1, 1))\n",
    "\n",
    "plt.axhline(0, color='grey', lw=1)\n",
    "plt.axvline(0, color='grey', lw=1)\n",
    "plt.grid(True)\n",
    "plt.xlabel('Component 1')\n",
    "plt.ylabel('Component 2')\n",
    "plt.title('Political Compass of Candidates Based on PCA of Questionnaire Responses')\n",
    "\n",
    "plt.tight_layout()  # Adjust subplot params so that the subplot(s) fits in to the figure area.\n",
    "plt.show()"
   ]
  },
  {
   "cell_type": "code",
   "execution_count": 424,
   "id": "5600113b",
   "metadata": {},
   "outputs": [
    {
     "data": {
      "application/vnd.plotly.v1+json": {
       "config": {
        "plotlyServerURL": "https://plot.ly"
       },
       "data": [
        {
         "customdata": [
          [
           "Lars Philipsen Prahm",
           "Moderaterne",
           78,
           "Københavns Storkreds"
          ],
          [
           "Johan Kahl",
           "Moderaterne",
           25,
           "Københavns Storkreds"
          ],
          [
           "Henrik Rejnholt Andersen",
           "Moderaterne",
           45,
           "Østjyllands Storkreds"
          ],
          [
           "Karin Liltorp",
           "Moderaterne",
           50,
           "Østjyllands Storkreds"
          ],
          [
           "Peter Have",
           "Moderaterne",
           59,
           "Østjyllands Storkreds"
          ],
          [
           "Tobias Grotkjær Elmstrøm",
           "Moderaterne",
           40,
           "Østjyllands Storkreds"
          ],
          [
           "Ellen Emilie",
           "Moderaterne",
           21,
           "Københavns Storkreds"
          ],
          [
           "Jørgen Kjøller",
           "Moderaterne",
           65,
           "Københavns Storkreds"
          ],
          [
           "Marina Fløjgaard Andersen",
           "Moderaterne",
           46,
           "Københavns Storkreds"
          ],
          [
           "Nanna W. Gotfredsen",
           "Moderaterne",
           53,
           "Københavns Storkreds"
          ],
          [
           "Jon Læssøe Stephensen",
           "Moderaterne",
           62,
           "Københavns Storkreds"
          ],
          [
           "Louise Davidsen",
           "Moderaterne",
           43,
           "Københavns Storkreds"
          ],
          [
           "Lean Milo",
           "Moderaterne",
           47,
           "Københavns Storkreds"
          ],
          [
           "Dina Mofidi",
           "Moderaterne",
           24,
           "Nordjyllands Storkreds"
          ],
          [
           "Mohammad Rona",
           "Moderaterne",
           37,
           "Nordjyllands Storkreds"
          ],
          [
           "Kristian Klarskov",
           "Moderaterne",
           47,
           "Nordjyllands Storkreds"
          ],
          [
           "Kenneth Bjerg Andersen",
           "Moderaterne",
           36,
           "Fyns Storkreds"
          ],
          [
           "Rosa Eriksen",
           "Moderaterne",
           32,
           "Fyns Storkreds"
          ],
          [
           "Carsten Damgaard Møller",
           "Moderaterne",
           52,
           "Fyns Storkreds"
          ],
          [
           "Jeppe Søe",
           "Moderaterne",
           51,
           "Vestjyllands Storkreds"
          ],
          [
           "Nikolaj Gam-Pedersen",
           "Moderaterne",
           29,
           "Vestjyllands Storkreds"
          ],
          [
           "Freya Luna Andersen",
           "Moderaterne",
           19,
           "Vestjyllands Storkreds"
          ],
          [
           "Kasper Søstrøm Müller",
           "Moderaterne",
           36,
           "Sydjyllands Storkreds"
          ],
          [
           "Mette Kierkgaard",
           "Moderaterne",
           50,
           "Sydjyllands Storkreds"
          ],
          [
           "Henrik Frandsen",
           "Moderaterne",
           61,
           "Sydjyllands Storkreds"
          ],
          [
           "Mads Lund Beier",
           "Moderaterne",
           19,
           "Sjællands Storkreds"
          ],
          [
           "Michael Hertz",
           "Moderaterne",
           33,
           "Sjællands Storkreds"
          ],
          [
           "Benjamin Lindberg",
           "Moderaterne",
           45,
           "Sjællands Storkreds"
          ],
          [
           "Charlotte Bagge Hansen",
           "Moderaterne",
           53,
           "Sjællands Storkreds"
          ],
          [
           "Jan Carlsen",
           "Moderaterne",
           57,
           "Sjællands Storkreds"
          ],
          [
           "Ulf Helgstrand",
           "Moderaterne",
           71,
           "Nordsjællands Storkreds"
          ],
          [
           "Kim Rasmussen",
           "Moderaterne",
           61,
           "Nordsjællands Storkreds"
          ],
          [
           "Kim Mejnert Frydensbjerg",
           "Moderaterne",
           42,
           "Nordsjællands Storkreds"
          ],
          [
           "Erick Thürmer",
           "Moderaterne",
           45,
           "Nordsjællands Storkreds"
          ],
          [
           "Jakob Engel-Schmidt",
           "Moderaterne",
           39,
           "Nordsjællands Storkreds"
          ],
          [
           "Carina Bloch Simonsen",
           "Moderaterne",
           49,
           "Nordsjællands Storkreds"
          ],
          [
           "Anastasia Valentin Mikitsiuk Rasmussen",
           "Moderaterne",
           40,
           "Københavns Omegns Storkreds"
          ],
          [
           "Rasmus Skindbjerg Hinrichs",
           "Moderaterne",
           35,
           "Københavns Omegns Storkreds"
          ],
          [
           "Rasmus Lund-Nielsen",
           "Moderaterne",
           34,
           "Københavns Omegns Storkreds"
          ],
          [
           "Ammar Ali",
           "Moderaterne",
           37,
           "Københavns Omegns Storkreds"
          ],
          [
           "Monika Rubin",
           "Moderaterne",
           34,
           "Københavns Omegns Storkreds"
          ],
          [
           "Lars Arne Christensen",
           "Moderaterne",
           57,
           "Københavns Omegns Storkreds"
          ]
         ],
         "hovertemplate": "Party=%{customdata[1]}<br>Component 1=%{x}<br>Component 2=%{y}<br>Candidate=%{customdata[0]}<br>Age=%{customdata[2]}<br>Constituency=%{customdata[3]}<extra></extra>",
         "legendgroup": "Moderaterne",
         "marker": {
          "color": "rgb(108, 57, 229)",
          "line": {
           "color": "DarkSlateGrey",
           "width": 1
          },
          "size": 10,
          "symbol": "circle"
         },
         "mode": "markers",
         "name": "Moderaterne",
         "orientation": "v",
         "showlegend": true,
         "textposition": "top center",
         "type": "scatter",
         "x": [
          3.3621853974950513,
          -0.4901270407160911,
          1.6637700572374539,
          0.16514816699598797,
          1.1388605283059112,
          0.4243315717795106,
          -1.4774346027134337,
          1.8164829987099518,
          3.2957564682989124,
          -0.2711035920069426,
          -4.22108493426149,
          2.12116703699487,
          1.4890656273739953,
          0.9386591792518882,
          -0.550544347322027,
          1.95207553919084,
          -1.437580019790477,
          0.03463048871351305,
          1.4752939258595081,
          2.495109584426794,
          0.823182729701706,
          1.06747969458272,
          -0.7819994655122557,
          0.9451453781957918,
          1.9588498307709121,
          0.34081766580993295,
          -0.42327792026199806,
          1.1601395002995583,
          1.8755590793204182,
          2.41939443755756,
          2.233378552483977,
          2.6578423235003084,
          0.38083260777998396,
          3.7819253976889087,
          1.0017869511447823,
          0.4236828031463124,
          1.0760490797919486,
          -0.6272170057356186,
          0.9738762080307182,
          -0.9780164641554864,
          -0.48164245179173837,
          0.9708186417958918
         ],
         "xaxis": "x",
         "y": [
          -1.5169300977089917,
          -4.467209213012236,
          -3.6849758485229045,
          -2.991723702131878,
          -0.8857171387501308,
          -2.61664693954736,
          -3.3778520550416533,
          -2.0619601170489945,
          -3.495528284786084,
          -2.585447806892493,
          -2.227610323002826,
          -4.430826002773486,
          -2.8918834130827076,
          -2.0984391523970025,
          -1.0849637261332112,
          -3.009672976835157,
          -1.0465279532296068,
          -1.255369998370672,
          -2.2080257225100794,
          -1.8208415403288583,
          -2.659012895444505,
          -1.944748144907946,
          -3.88768997460054,
          -1.955928909755104,
          -1.5617535531887705,
          -2.1973139426319475,
          -3.150625681871466,
          -3.1313006561015264,
          -1.470906302294529,
          -1.1555810498233068,
          -2.9217568419981967,
          -3.84124878275244,
          -3.3407292111471234,
          -2.380301577080721,
          -1.5799980811031897,
          -0.14067668313958215,
          -2.0941566294250484,
          -1.8861067166432428,
          -2.4879037630463205,
          -2.4378791701193196,
          -3.8707669642386437,
          -3.8632646664244903
         ],
         "yaxis": "y"
        },
        {
         "customdata": [
          [
           "Karsten Hønge",
           "Socialistisk Folkeparti",
           64,
           "Fyns Storkreds"
          ],
          [
           "Søren Lahn Sloth",
           "Socialistisk Folkeparti",
           32,
           "Østjyllands Storkreds"
          ],
          [
           "Charlotte Vindeløv",
           "Socialistisk Folkeparti",
           52,
           "Østjyllands Storkreds"
          ],
          [
           "Morten Siig Henriksen",
           "Socialistisk Folkeparti",
           25,
           "Østjyllands Storkreds"
          ],
          [
           "Sofie Lippert",
           "Socialistisk Folkeparti",
           26,
           "Østjyllands Storkreds"
          ],
          [
           "Charlotte Broman Mølbæk",
           "Socialistisk Folkeparti",
           44,
           "Østjyllands Storkreds"
          ],
          [
           "Rasmus Nordqvist",
           "Socialistisk Folkeparti",
           47,
           "Østjyllands Storkreds"
          ],
          [
           "Anna Brændemose",
           "Socialistisk Folkeparti",
           29,
           "Østjyllands Storkreds"
          ],
          [
           "Kirsten Normann Andersen",
           "Socialistisk Folkeparti",
           60,
           "Østjyllands Storkreds"
          ],
          [
           "Sadek Al-Amood",
           "Socialistisk Folkeparti",
           22,
           "Københavns Storkreds"
          ],
          [
           "Klaus Mygind",
           "Socialistisk Folkeparti",
           67,
           "Københavns Storkreds"
          ],
          [
           "Cecilie Holdt",
           "Socialistisk Folkeparti",
           36,
           "Københavns Storkreds"
          ],
          [
           "Peder Holk Svendsen",
           "Socialistisk Folkeparti",
           50,
           "Københavns Storkreds"
          ],
          [
           "Melissa Skovgaard Jensen",
           "Socialistisk Folkeparti",
           33,
           "Københavns Storkreds"
          ],
          [
           "Line Petersen",
           "Socialistisk Folkeparti",
           30,
           "Københavns Storkreds"
          ],
          [
           "Andreas Berendt Bæk",
           "Socialistisk Folkeparti",
           22,
           "Københavns Storkreds"
          ],
          [
           "Pia Olsen Dyhr",
           "Socialistisk Folkeparti",
           50,
           "Københavns Storkreds"
          ],
          [
           "Carl Valentin",
           "Socialistisk Folkeparti",
           30,
           "Københavns Storkreds"
          ],
          [
           "Lisbeth Bech-Nielsen",
           "Socialistisk Folkeparti",
           39,
           "Københavns Storkreds"
          ],
          [
           "Halime Oguz",
           "Socialistisk Folkeparti",
           52,
           "Københavns Storkreds"
          ],
          [
           "Balder Mørk Andersen",
           "Socialistisk Folkeparti",
           46,
           "Københavns Storkreds"
          ],
          [
           "Dorte M. Nielsen",
           "Socialistisk Folkeparti",
           56,
           "Nordjyllands Storkreds"
          ],
          [
           "Peder Larsen",
           "Socialistisk Folkeparti",
           49,
           "Nordjyllands Storkreds"
          ],
          [
           "Thorkil Olesen",
           "Socialistisk Folkeparti",
           57,
           "Nordjyllands Storkreds"
          ],
          [
           "Benjamin Risager Jørgensen",
           "Socialistisk Folkeparti",
           26,
           "Nordjyllands Storkreds"
          ],
          [
           "Melina Andersen",
           "Socialistisk Folkeparti",
           28,
           "Nordjyllands Storkreds"
          ],
          [
           "Theresa Berg Andersen",
           "Socialistisk Folkeparti",
           42,
           "Nordjyllands Storkreds"
          ],
          [
           "Thomas Garfort",
           "Socialistisk Folkeparti",
           53,
           "Bornholms Storkreds"
          ],
          [
           "Andreas Grosbøll",
           "Socialistisk Folkeparti",
           0,
           "Bornholms Storkreds"
          ],
          [
           "Jonas Hulgaard Ammundsen",
           "Socialistisk Folkeparti",
           26,
           "Fyns Storkreds"
          ],
          [
           "Katrine Wulff",
           "Socialistisk Folkeparti",
           41,
           "Fyns Storkreds"
          ],
          [
           "Lise Müller",
           "Socialistisk Folkeparti",
           48,
           "Fyns Storkreds"
          ],
          [
           "Meritta Bjerregaard",
           "Socialistisk Folkeparti",
           47,
           "Vestjyllands Storkreds"
          ],
          [
           "Emma Thorup Jacobsen",
           "Socialistisk Folkeparti",
           26,
           "Vestjyllands Storkreds"
          ],
          [
           "Niels Kristian Larsen",
           "Socialistisk Folkeparti",
           21,
           "Vestjyllands Storkreds"
          ],
          [
           "Bente Refslund",
           "Socialistisk Folkeparti",
           65,
           "Vestjyllands Storkreds"
          ],
          [
           "Signe Munk",
           "Socialistisk Folkeparti",
           32,
           "Vestjyllands Storkreds"
          ],
          [
           "Karsten Filsø",
           "Socialistisk Folkeparti",
           63,
           "Vestjyllands Storkreds"
          ],
          [
           "Susanne Stenstrop Thorsen",
           "Socialistisk Folkeparti",
           44,
           "Sydjyllands Storkreds"
          ],
          [
           "Gunner Poulsen",
           "Socialistisk Folkeparti",
           57,
           "Sydjyllands Storkreds"
          ],
          [
           "Karin B. Nissen",
           "Socialistisk Folkeparti",
           49,
           "Sydjyllands Storkreds"
          ],
          [
           "Lars Olesen",
           "Socialistisk Folkeparti",
           44,
           "Sydjyllands Storkreds"
          ],
          [
           "Wanda Madsen",
           "Socialistisk Folkeparti",
           47,
           "Sydjyllands Storkreds"
          ],
          [
           "John Hyrup Jensen",
           "Socialistisk Folkeparti",
           64,
           "Sydjyllands Storkreds"
          ],
          [
           "David Dam Jensen",
           "Socialistisk Folkeparti",
           20,
           "Sydjyllands Storkreds"
          ],
          [
           "Karina Lorentzen Dehnhardt",
           "Socialistisk Folkeparti",
           49,
           "Sydjyllands Storkreds"
          ],
          [
           "Christian Mutwa Christensen",
           "Socialistisk Folkeparti",
           40,
           "Sydjyllands Storkreds"
          ],
          [
           "Nanna Bonde",
           "Socialistisk Folkeparti",
           29,
           "Sydjyllands Storkreds"
          ],
          [
           "Kenneth Werby Jensen",
           "Socialistisk Folkeparti",
           30,
           "Sjællands Storkreds"
          ],
          [
           "Mads Olsen",
           "Socialistisk Folkeparti",
           20,
           "Sjællands Storkreds"
          ],
          [
           "Michael Graakjær",
           "Socialistisk Folkeparti",
           62,
           "Sjællands Storkreds"
          ],
          [
           "Jeanne Bergmansen",
           "Socialistisk Folkeparti",
           33,
           "Sjællands Storkreds"
          ],
          [
           "Gitte Terp Henriksen",
           "Socialistisk Folkeparti",
           59,
           "Sjællands Storkreds"
          ],
          [
           "Anne Valentina Berthelsen",
           "Socialistisk Folkeparti",
           28,
           "Sjællands Storkreds"
          ],
          [
           "Claus Jørgensen",
           "Socialistisk Folkeparti",
           53,
           "Sjællands Storkreds"
          ],
          [
           "Astrid Carøe Rasmussen",
           "Socialistisk Folkeparti",
           28,
           "Sjællands Storkreds"
          ],
          [
           "Jacob Mark",
           "Socialistisk Folkeparti",
           31,
           "Sjællands Storkreds"
          ],
          [
           "Jens Skov",
           "Socialistisk Folkeparti",
           56,
           "Nordsjællands Storkreds"
          ],
          [
           "Peter Westermann",
           "Socialistisk Folkeparti",
           37,
           "Nordsjællands Storkreds"
          ],
          [
           "Marianne Stannum",
           "Socialistisk Folkeparti",
           56,
           "Nordsjællands Storkreds"
          ],
          [
           "Silje Brynildsen",
           "Socialistisk Folkeparti",
           20,
           "Nordsjællands Storkreds"
          ],
          [
           "Marianne Bigum",
           "Socialistisk Folkeparti",
           39,
           "Nordsjællands Storkreds"
          ],
          [
           "Alexander Bruhn Skjøth",
           "Socialistisk Folkeparti",
           42,
           "Københavns Omegns Storkreds"
          ],
          [
           "Niels Haxthausen",
           "Socialistisk Folkeparti",
           68,
           "Københavns Omegns Storkreds"
          ],
          [
           "Sigurd Agersnap",
           "Socialistisk Folkeparti",
           29,
           "Københavns Omegns Storkreds"
          ],
          [
           "Sofie Falck Villadsen",
           "Socialistisk Folkeparti",
           28,
           "Københavns Omegns Storkreds"
          ],
          [
           "Rasmus Henriksen",
           "Socialistisk Folkeparti",
           38,
           "Københavns Omegns Storkreds"
          ],
          [
           "Troels Stru Schmidt",
           "Socialistisk Folkeparti",
           40,
           "Københavns Omegns Storkreds"
          ],
          [
           "Vivi Nør Jacobsen",
           "Socialistisk Folkeparti",
           46,
           "Københavns Omegns Storkreds"
          ],
          [
           "Serdal Benli",
           "Socialistisk Folkeparti",
           43,
           "Københavns Omegns Storkreds"
          ]
         ],
         "hovertemplate": "Party=%{customdata[1]}<br>Component 1=%{x}<br>Component 2=%{y}<br>Candidate=%{customdata[0]}<br>Age=%{customdata[2]}<br>Constituency=%{customdata[3]}<extra></extra>",
         "legendgroup": "Socialistisk Folkeparti",
         "marker": {
          "color": "rgb(221, 8, 120)",
          "line": {
           "color": "DarkSlateGrey",
           "width": 1
          },
          "size": 10,
          "symbol": "circle"
         },
         "mode": "markers",
         "name": "Socialistisk Folkeparti",
         "orientation": "v",
         "showlegend": true,
         "textposition": "top center",
         "type": "scatter",
         "x": [
          -6.091748745183731,
          -7.052065939851438,
          -6.643609904135915,
          -4.641474830520773,
          -6.765133147728759,
          -6.55795584588746,
          -7.407490771595474,
          -7.101194010502409,
          -6.105477760672665,
          -5.6473079965238595,
          -5.646902492401668,
          -6.373867871001599,
          -6.167734826786042,
          -4.319228412534569,
          -6.816094810183139,
          -6.256100878732087,
          -5.09762954990441,
          -6.7808113361020625,
          -6.723916115373974,
          -5.4626222710229495,
          -6.2892144777005505,
          -4.544132173774761,
          -5.686909436134255,
          -6.494309128718507,
          -6.3171541575767485,
          -5.834984368431626,
          -5.1442321148384496,
          -4.115057840450729,
          -4.769175862391945,
          -6.361098899648849,
          -6.824366694358731,
          -5.7575630912176825,
          -6.309354771771802,
          -5.521900679215531,
          -6.8847269647030975,
          -6.6685833277672595,
          -6.269973908195191,
          -5.496772181990396,
          -6.039594834053234,
          -5.794394407184701,
          -5.4690262447520634,
          -7.004886860413843,
          -6.35640513617202,
          -2.7427429122056908,
          -6.148757041443611,
          -6.769920526943771,
          -6.53199136437717,
          -6.444563082489808,
          -4.579331391581581,
          -5.350289660318044,
          -6.62429693827925,
          -4.147439557068648,
          -4.829690174549254,
          -6.043891123878863,
          -6.593713878297346,
          -6.987042114246796,
          -5.026110660629224,
          -6.7522279181292895,
          -4.993585616781658,
          -5.816830433787335,
          -6.273342995700239,
          -4.45184258374213,
          -4.894923931751292,
          -6.159774875854259,
          -5.86467694561636,
          -5.241622191723405,
          -5.1260859144640625,
          -4.123901223324695,
          -4.986285654932798,
          -4.949255733301992
         ],
         "xaxis": "x",
         "y": [
          1.191951874830957,
          1.340669996564435,
          2.2278094633520387,
          -0.7212230499221848,
          -0.3359849119669855,
          1.2871706430290226,
          1.401597539228963,
          0.8968155867367609,
          2.2623679704343944,
          0.3190842096110777,
          1.8647202696345233,
          0.5311392088849815,
          -0.3494283477082151,
          -0.9136247971064346,
          1.9106519667697504,
          1.0958366796431016,
          1.8201592669098974,
          0.008827861233829585,
          0.9521929357393231,
          2.5029490727181916,
          0.26351120391768623,
          1.73323467706808,
          0.8099868818600302,
          2.225771026292524,
          1.3609718362615322,
          2.3302635531755724,
          1.5187673500684775,
          0.4782124285485235,
          -0.29623189377436043,
          -0.06232738779894982,
          1.8215190286411298,
          1.4777942136145037,
          2.34991000837113,
          0.20720146403187606,
          1.8783561689060986,
          0.5706038924204105,
          2.4400217660039587,
          0.05958063455671384,
          1.1180833308262648,
          1.0756770699971363,
          1.3215244752805342,
          1.0213418331388273,
          2.4571040197670997,
          0.8207861760072959,
          1.6429569320443405,
          2.266062843887695,
          0.8991677987148016,
          1.4904277227811755,
          1.103571578338428,
          0.6473255496869879,
          0.4479753408916352,
          -1.6062434646789792,
          1.7787409145076614,
          1.7122184848422148,
          1.3577788772739041,
          1.6094906144603771,
          2.2409177999229857,
          2.252884914409727,
          1.0244289681604921,
          1.8674486726363941,
          -1.005834224264388,
          0.5841944705874447,
          1.1980276972465882,
          0.3824426321580823,
          0.2597899153090979,
          0.5662252713965088,
          2.718125214187472,
          0.30702239780894613,
          0.6433530724029001,
          1.7190767224410448
         ],
         "yaxis": "y"
        },
        {
         "customdata": [
          [
           "Martin Kelleher-Petersen",
           "Alternativet",
           37,
           "Bornholms Storkreds"
          ],
          [
           "Nicklas Gjedsig Larsen",
           "Alternativet",
           28,
           "Nordjyllands Storkreds"
          ],
          [
           "Jan Kristoffersen",
           "Alternativet",
           48,
           "Københavns Storkreds"
          ],
          [
           "Thor Clasen Jonasen",
           "Alternativet",
           47,
           "Østjyllands Storkreds"
          ],
          [
           "Vinni Kjærgaard Jørgensen",
           "Alternativet",
           55,
           "Østjyllands Storkreds"
          ],
          [
           "Berit Naomi Skjernaa",
           "Alternativet",
           48,
           "Østjyllands Storkreds"
          ],
          [
           "Helle Wium",
           "Alternativet",
           56,
           "Østjyllands Storkreds"
          ],
          [
           "Line Aaen",
           "Alternativet",
           57,
           "Østjyllands Storkreds"
          ],
          [
           "Sarah Roued Thomsen",
           "Alternativet",
           0,
           "Østjyllands Storkreds"
          ],
          [
           "Mira Issa Bloch",
           "Alternativet",
           52,
           "Østjyllands Storkreds"
          ],
          [
           "Nikoline Erbs Hillers-Bendtsen",
           "Alternativet",
           21,
           "Østjyllands Storkreds"
          ],
          [
           "Torsten Gejl",
           "Alternativet",
           58,
           "Østjyllands Storkreds"
          ],
          [
           "Kim Hjerrild",
           "Alternativet",
           62,
           "Københavns Storkreds"
          ],
          [
           "Annika Martins",
           "Alternativet",
           49,
           "Københavns Storkreds"
          ],
          [
           "Lars Corvinius Olesen",
           "Alternativet",
           31,
           "Københavns Storkreds"
          ],
          [
           "Noah Reinert Sturis",
           "Alternativet",
           29,
           "Københavns Storkreds"
          ],
          [
           "Mette Kaasfeldt Bram",
           "Alternativet",
           58,
           "Københavns Storkreds"
          ],
          [
           "Christina Sade Olumeko",
           "Alternativet",
           25,
           "Københavns Storkreds"
          ],
          [
           "Birgitte Kehler Holst",
           "Alternativet",
           50,
           "Københavns Storkreds"
          ],
          [
           "Jonathan Ries",
           "Alternativet",
           35,
           "Københavns Storkreds"
          ],
          [
           "Franciska Rosenkilde",
           "Alternativet",
           46,
           "Københavns Storkreds"
          ],
          [
           "Troels Christian Jakobsen",
           "Alternativet",
           53,
           "Københavns Storkreds"
          ],
          [
           "Jens Harder",
           "Alternativet",
           42,
           "Nordjyllands Storkreds"
          ],
          [
           "Liselotte Jakobe Lundgaard",
           "Alternativet",
           46,
           "Nordjyllands Storkreds"
          ],
          [
           "Jef Seistrup",
           "Alternativet",
           64,
           "Nordjyllands Storkreds"
          ],
          [
           "Anette Jensen Smith",
           "Alternativet",
           50,
           "Nordjyllands Storkreds"
          ],
          [
           "Mikkel Høj Bagger Larsson",
           "Alternativet",
           23,
           "Nordjyllands Storkreds"
          ],
          [
           "Joachim Plaetner Kjeldsen",
           "Alternativet",
           43,
           "Nordjyllands Storkreds"
          ],
          [
           "Kasper Sten Krebs",
           "Alternativet",
           30,
           "Fyns Storkreds"
          ],
          [
           "Martin Kjærulff",
           "Alternativet",
           44,
           "Fyns Storkreds"
          ],
          [
           "Henrik Boye",
           "Alternativet",
           66,
           "Fyns Storkreds"
          ],
          [
           "Ole Dupont Kofod",
           "Alternativet",
           51,
           "Fyns Storkreds"
          ],
          [
           "Simon Nyborg Jensen",
           "Alternativet",
           27,
           "Fyns Storkreds"
          ],
          [
           "Anna Astrid Høy-Nielsen",
           "Alternativet",
           23,
           "Fyns Storkreds"
          ],
          [
           "Lars Holstein",
           "Alternativet",
           59,
           "Vestjyllands Storkreds"
          ],
          [
           "Jørn Grønkjær",
           "Alternativet",
           71,
           "Vestjyllands Storkreds"
          ],
          [
           "Kirsten Hindbo",
           "Alternativet",
           63,
           "Vestjyllands Storkreds"
          ],
          [
           "Stine Isaksen",
           "Alternativet",
           45,
           "Vestjyllands Storkreds"
          ],
          [
           "H.C. Molbech",
           "Alternativet",
           46,
           "Vestjyllands Storkreds"
          ],
          [
           "Benjamin Strand Andersen",
           "Alternativet",
           29,
           "Sydjyllands Storkreds"
          ],
          [
           "Carsten Sohl",
           "Alternativet",
           0,
           "Sydjyllands Storkreds"
          ],
          [
           "Hans Biering Fonsbøl",
           "Alternativet",
           77,
           "Sydjyllands Storkreds"
          ],
          [
           "Ane Line Søndergaard",
           "Alternativet",
           50,
           "Sydjyllands Storkreds"
          ],
          [
           "Nilas Bay-Foged",
           "Alternativet",
           44,
           "Sydjyllands Storkreds"
          ],
          [
           "Ditte Madvig Evald",
           "Alternativet",
           42,
           "Sydjyllands Storkreds"
          ],
          [
           "Ulla Munksgaard",
           "Alternativet",
           69,
           "Sjællands Storkreds"
          ],
          [
           "Kirsten Kock",
           "Alternativet",
           53,
           "Sjællands Storkreds"
          ],
          [
           "Jakob Schmidt",
           "Alternativet",
           50,
           "Sjællands Storkreds"
          ],
          [
           "Jan Allan Andersen",
           "Alternativet",
           61,
           "Sjællands Storkreds"
          ],
          [
           "Line Gessø",
           "Alternativet",
           48,
           "Sjællands Storkreds"
          ],
          [
           "Michael Monberg",
           "Alternativet",
           44,
           "Sjællands Storkreds"
          ],
          [
           "Sascha Faxe",
           "Alternativet",
           51,
           "Sjællands Storkreds"
          ],
          [
           "Nicklas Hakmann",
           "Alternativet",
           25,
           "Nordsjællands Storkreds"
          ],
          [
           "Sidsel Marie Dyekjær",
           "Alternativet",
           60,
           "Nordsjællands Storkreds"
          ],
          [
           "Allon Hein Sørensen",
           "Alternativet",
           50,
           "Nordsjællands Storkreds"
          ],
          [
           "Maud Margrethe Pedersen",
           "Alternativet",
           59,
           "Nordsjællands Storkreds"
          ],
          [
           "Nanna Høyrup",
           "Alternativet",
           43,
           "Nordsjællands Storkreds"
          ],
          [
           "Helene Liliendahl Brydensholt",
           "Alternativet",
           35,
           "Nordsjællands Storkreds"
          ],
          [
           "Mariane Lunden",
           "Alternativet",
           59,
           "Nordsjællands Storkreds"
          ],
          [
           "Mette Skamris",
           "Alternativet",
           39,
           "Nordsjællands Storkreds"
          ],
          [
           "Thomas Lindqvist",
           "Alternativet",
           32,
           "Københavns Omegns Storkreds"
          ],
          [
           "Ulla Sandbæk",
           "Alternativet",
           79,
           "Københavns Omegns Storkreds"
          ],
          [
           "Jesper Callesen",
           "Alternativet",
           62,
           "Københavns Omegns Storkreds"
          ],
          [
           "Irina Bjørnø",
           "Alternativet",
           63,
           "Københavns Omegns Storkreds"
          ],
          [
           "Qasam Nazir Ahmad",
           "Alternativet",
           42,
           "Københavns Omegns Storkreds"
          ],
          [
           "Sofie Groth",
           "Alternativet",
           31,
           "Københavns Omegns Storkreds"
          ],
          [
           "Thomas Anker",
           "Alternativet",
           47,
           "Københavns Omegns Storkreds"
          ]
         ],
         "hovertemplate": "Party=%{customdata[1]}<br>Component 1=%{x}<br>Component 2=%{y}<br>Candidate=%{customdata[0]}<br>Age=%{customdata[2]}<br>Constituency=%{customdata[3]}<extra></extra>",
         "legendgroup": "Alternativet",
         "marker": {
          "color": "rgb(42, 143, 57)",
          "line": {
           "color": "DarkSlateGrey",
           "width": 1
          },
          "size": 10,
          "symbol": "circle"
         },
         "mode": "markers",
         "name": "Alternativet",
         "orientation": "v",
         "showlegend": true,
         "textposition": "top center",
         "type": "scatter",
         "x": [
          -4.9601823561815594,
          -4.0375292130158575,
          -2.9488885555353774,
          -4.46021076929156,
          -4.266105343526768,
          -4.930325855177019,
          -4.127114522371055,
          -6.130196801140979,
          -6.678304956548684,
          -4.735721558495637,
          -5.014894532907567,
          -6.633397144185322,
          -5.340646129518479,
          -4.912163771407675,
          -5.140810338832535,
          -5.101024241352969,
          -3.94891101655283,
          -4.461297165533699,
          -5.674112166795879,
          -6.678832867291212,
          -5.0782645386984075,
          -4.537393600756772,
          -4.450852990557012,
          -5.063499698231708,
          -3.993878408074654,
          -3.876932023306022,
          -5.675411806129729,
          -3.298781196385464,
          -3.0435235238082305,
          -4.092231203788713,
          -5.848715814029758,
          -3.7081182250852027,
          -6.147551804917109,
          -5.781276803223795,
          -5.106734014534542,
          -3.6533738504388746,
          -5.398633355937302,
          -6.4931729903023925,
          -4.637468581640926,
          -3.007619394257473,
          -5.210703899091378,
          -4.527497657591417,
          -4.092709070658493,
          -5.610326458335402,
          -6.2791383829800616,
          -5.056438945466113,
          -4.4063676266991925,
          -4.1016620927818535,
          -4.21060484799051,
          -3.182619486658632,
          -5.5436611418827,
          -4.341417968486877,
          -4.9870080545713815,
          -6.0987353400196955,
          -3.931576800493627,
          -6.472349711288049,
          -4.464179319857247,
          -5.489710478582151,
          -4.928785309249314,
          -4.0423835355024655,
          -4.930497022221356,
          -4.679480089603582,
          -3.7788163541772555,
          -1.3418298847719328,
          -5.782194135359876,
          -4.806883536469694,
          -5.580877801233374
         ],
         "xaxis": "x",
         "y": [
          -1.0960069699478652,
          0.8349477191100468,
          -2.6264517303331014,
          -1.9558536142548768,
          -0.5047322653111742,
          -1.0992665296693926,
          -2.4833811261383043,
          -0.08919343765251674,
          -0.6438586499811741,
          -0.8094172878603151,
          -2.3075582671568684,
          0.3055933731241947,
          -1.611523664317234,
          -1.5844648655637787,
          -0.16422551250679085,
          -1.7584958585762254,
          -2.4721099488921188,
          -2.713025000272566,
          -1.493005382536617,
          0.14892360655596185,
          -2.070398914861251,
          -0.1445428426155274,
          -1.935571339464003,
          -0.041994626474903776,
          -0.36546530695368284,
          -1.3026154709041504,
          -1.214509605661147,
          -1.2361605031174538,
          -0.3480148615043268,
          -1.544580223057987,
          0.3587804964214019,
          -3.436557637372806,
          -1.2493978108639323,
          -1.3179919358101908,
          -2.0378916362608757,
          -0.7281529068371637,
          -2.0345190307329224,
          -0.9209667275527977,
          -2.1902731417372245,
          -1.449972442790351,
          0.8861073157950993,
          -1.540933785210891,
          -1.7051556989423666,
          -0.11450387002357917,
          -0.371890121594763,
          -0.7564774274591424,
          -1.6326501220389975,
          -0.4570355693445732,
          -1.1210113831215722,
          -0.7742739093548463,
          -1.161638443835376,
          -2.0026475195795115,
          -2.3765591930044607,
          -0.1878216125252419,
          -0.5531201961506814,
          0.4362604668454799,
          -2.198412908344664,
          -1.7658751113912716,
          -1.877312434423356,
          -3.216199638296271,
          -1.704568181612745,
          -2.7334408226330855,
          -1.7415549625501938,
          -1.6529943323487137,
          -1.1666342840261537,
          -1.2288566637008695,
          -1.265277203856958
         ],
         "yaxis": "y"
        },
        {
         "customdata": [
          [
           "Tom Gillesberg",
           "Løsgænger",
           58,
           "Københavns Storkreds"
          ],
          [
           "Chresten H. Ibsen",
           "Løsgænger",
           46,
           "Østjyllands Storkreds"
          ],
          [
           "Rasmus Paludan",
           "Løsgænger",
           40,
           "Sjællands Storkreds"
          ]
         ],
         "hovertemplate": "Party=%{customdata[1]}<br>Component 1=%{x}<br>Component 2=%{y}<br>Candidate=%{customdata[0]}<br>Age=%{customdata[2]}<br>Constituency=%{customdata[3]}<extra></extra>",
         "legendgroup": "Løsgænger",
         "marker": {
          "color": "rgb(255, 118, 237)",
          "line": {
           "color": "DarkSlateGrey",
           "width": 1
          },
          "size": 10,
          "symbol": "circle"
         },
         "mode": "markers",
         "name": "Løsgænger",
         "orientation": "v",
         "showlegend": true,
         "textposition": "top center",
         "type": "scatter",
         "x": [
          -0.5069012887187291,
          -1.2872912183179717,
          6.074776196583062
         ],
         "xaxis": "x",
         "y": [
          -0.7847402165800784,
          -2.5465499252218864,
          2.5919980493352544
         ],
         "yaxis": "y"
        },
        {
         "customdata": [
          [
           "Rasmus Bøgh Vinther",
           "Enhedslisten",
           21,
           "Østjyllands Storkreds"
          ],
          [
           "Lucasia Gregersen",
           "Enhedslisten",
           21,
           "Østjyllands Storkreds"
          ],
          [
           "Magnus Fage Gislason",
           "Enhedslisten",
           19,
           "Østjyllands Storkreds"
          ],
          [
           "Anders Pedersen",
           "Enhedslisten",
           28,
           "Østjyllands Storkreds"
          ],
          [
           "Jesper Yde Knudsen",
           "Enhedslisten",
           60,
           "Østjyllands Storkreds"
          ],
          [
           "Kristjar Skajaa",
           "Enhedslisten",
           68,
           "Østjyllands Storkreds"
          ],
          [
           "Lisbeth Torfing",
           "Enhedslisten",
           35,
           "Østjyllands Storkreds"
          ],
          [
           "Anne Hegelund",
           "Enhedslisten",
           33,
           "Østjyllands Storkreds"
          ],
          [
           "Mai Villadsen",
           "Enhedslisten",
           30,
           "Østjyllands Storkreds"
          ],
          [
           "Karen Budtz-Jørgensen",
           "Enhedslisten",
           19,
           "Østjyllands Storkreds"
          ],
          [
           "Mette Bloch Hansen",
           "Enhedslisten",
           45,
           "Københavns Storkreds"
          ],
          [
           "Dorthe Hecht",
           "Enhedslisten",
           0,
           "Københavns Storkreds"
          ],
          [
           "David Schack Trappaud Rønne",
           "Enhedslisten",
           0,
           "Københavns Storkreds"
          ],
          [
           "Emil Samaras",
           "Enhedslisten",
           24,
           "Københavns Storkreds"
          ],
          [
           "Jette Gottlieb",
           "Enhedslisten",
           74,
           "Københavns Storkreds"
          ],
          [
           "Leila Stockmarr",
           "Enhedslisten",
           40,
           "Københavns Storkreds"
          ],
          [
           "Ibrahim Benli",
           "Enhedslisten",
           43,
           "Københavns Storkreds"
          ],
          [
           "Rosa Lund",
           "Enhedslisten",
           35,
           "Københavns Storkreds"
          ],
          [
           "Pelle Dragsted",
           "Enhedslisten",
           47,
           "Københavns Storkreds"
          ],
          [
           "Clara Turms",
           "Enhedslisten",
           26,
           "Københavns Storkreds"
          ],
          [
           "Janne Toft-Lind",
           "Enhedslisten",
           51,
           "Nordjyllands Storkreds"
          ],
          [
           "Stine Ry Andersen",
           "Enhedslisten",
           22,
           "Nordjyllands Storkreds"
          ],
          [
           "Berit Raldin",
           "Enhedslisten",
           53,
           "Nordjyllands Storkreds"
          ],
          [
           "Susanne Flydtkjær",
           "Enhedslisten",
           59,
           "Nordjyllands Storkreds"
          ],
          [
           "Malene Ingwersen",
           "Enhedslisten",
           47,
           "Nordjyllands Storkreds"
          ],
          [
           "Runa Friis Hansen",
           "Enhedslisten",
           38,
           "Nordjyllands Storkreds"
          ],
          [
           "Peder Hvelplund",
           "Enhedslisten",
           55,
           "Nordjyllands Storkreds"
          ],
          [
           "Astrid Vang Hansen",
           "Enhedslisten",
           35,
           "Nordjyllands Storkreds"
          ],
          [
           "Pia Thorsen",
           "Enhedslisten",
           51,
           "Nordjyllands Storkreds"
          ],
          [
           "Morten Riis",
           "Enhedslisten",
           46,
           "Bornholms Storkreds"
          ],
          [
           "Laura Kofod",
           "Enhedslisten",
           34,
           "Bornholms Storkreds"
          ],
          [
           "Niels Bjarne Lund",
           "Enhedslisten",
           65,
           "Fyns Storkreds"
          ],
          [
           "Camilla Dalum Jensen",
           "Enhedslisten",
           21,
           "Fyns Storkreds"
          ],
          [
           "Torsten Ringgaard",
           "Enhedslisten",
           46,
           "Fyns Storkreds"
          ],
          [
           "Vibeke Syppli Enrum",
           "Enhedslisten",
           74,
           "Fyns Storkreds"
          ],
          [
           "Victoria Velásquez",
           "Enhedslisten",
           31,
           "Fyns Storkreds"
          ],
          [
           "Reza Javid",
           "Enhedslisten",
           59,
           "Fyns Storkreds"
          ],
          [
           "Victoria Bøgh Salo",
           "Enhedslisten",
           34,
           "Fyns Storkreds"
          ],
          [
           "Sabrina Christiansen Broch",
           "Enhedslisten",
           33,
           "Vestjyllands Storkreds"
          ],
          [
           "Peter Sig Kristensen",
           "Enhedslisten",
           49,
           "Vestjyllands Storkreds"
          ],
          [
           "Per Møller Jacobsen",
           "Enhedslisten",
           54,
           "Vestjyllands Storkreds"
          ],
          [
           "Charlotte Lindberg",
           "Enhedslisten",
           35,
           "Vestjyllands Storkreds"
          ],
          [
           "Maria Temponeras",
           "Enhedslisten",
           51,
           "Vestjyllands Storkreds"
          ],
          [
           "Aksel Rosager Johansen",
           "Enhedslisten",
           31,
           "Vestjyllands Storkreds"
          ],
          [
           "Benny Dall",
           "Enhedslisten",
           66,
           "Sydjyllands Storkreds"
          ],
          [
           "Helene Hellesøe Appel",
           "Enhedslisten",
           36,
           "Sydjyllands Storkreds"
          ],
          [
           "Sabrina Louise Christiansen",
           "Enhedslisten",
           27,
           "Sydjyllands Storkreds"
          ],
          [
           "Marianne Mose",
           "Enhedslisten",
           44,
           "Sydjyllands Storkreds"
          ],
          [
           "Johanna-Maria Precht",
           "Enhedslisten",
           58,
           "Sydjyllands Storkreds"
          ],
          [
           "Selma Bolø",
           "Enhedslisten",
           24,
           "Sydjyllands Storkreds"
          ],
          [
           "Mathias Christiansen",
           "Enhedslisten",
           42,
           "Sydjyllands Storkreds"
          ],
          [
           "Jan Filbært",
           "Enhedslisten",
           57,
           "Sydjyllands Storkreds"
          ],
          [
           "Søren Egge Rasmussen",
           "Enhedslisten",
           61,
           "Sydjyllands Storkreds"
          ],
          [
           "Sarah Nørris",
           "Enhedslisten",
           43,
           "Sydjyllands Storkreds"
          ],
          [
           "Rasmus Vestergaard Madsen",
           "Enhedslisten",
           31,
           "Sydjyllands Storkreds"
          ],
          [
           "Otto Mortensen",
           "Enhedslisten",
           20,
           "Sjællands Storkreds"
          ],
          [
           "Jonas Paludan",
           "Enhedslisten",
           41,
           "Sjællands Storkreds"
          ],
          [
           "Bruno Jerup",
           "Enhedslisten",
           65,
           "Sjællands Storkreds"
          ],
          [
           "Trine Pertou Mach",
           "Enhedslisten",
           0,
           "Sjællands Storkreds"
          ],
          [
           "Christine Lundgaard",
           "Enhedslisten",
           48,
           "Sjællands Storkreds"
          ],
          [
           "Ludmila Plenge Schütt",
           "Enhedslisten",
           20,
           "Sjællands Storkreds"
          ],
          [
           "Anders Marchsteiner",
           "Enhedslisten",
           35,
           "Sjællands Storkreds"
          ],
          [
           "Sinem Demir",
           "Enhedslisten",
           30,
           "Nordsjællands Storkreds"
          ],
          [
           "Øjvind Vilsholm",
           "Enhedslisten",
           55,
           "Nordsjællands Storkreds"
          ],
          [
           "Emil Ulrik Andersen",
           "Enhedslisten",
           35,
           "Nordsjællands Storkreds"
          ],
          [
           "Christoffer Emil Jexen",
           "Enhedslisten",
           35,
           "Nordsjællands Storkreds"
          ],
          [
           "Annie Hagel",
           "Enhedslisten",
           72,
           "Nordsjællands Storkreds"
          ],
          [
           "Thue Lundgaard",
           "Enhedslisten",
           49,
           "Nordsjællands Storkreds"
          ],
          [
           "Stine Rahbek Pedersen",
           "Enhedslisten",
           45,
           "Københavns Omegns Storkreds"
          ],
          [
           "Mathilde Vinther",
           "Enhedslisten",
           28,
           "Københavns Omegns Storkreds"
          ],
          [
           "Stefan Rundstrøm",
           "Enhedslisten",
           23,
           "Københavns Omegns Storkreds"
          ],
          [
           "Søren Søndergaard",
           "Enhedslisten",
           67,
           "Københavns Omegns Storkreds"
          ],
          [
           "Tobias Clausen",
           "Enhedslisten",
           36,
           "Københavns Omegns Storkreds"
          ],
          [
           "Helge Bo Jensen",
           "Enhedslisten",
           63,
           "Københavns Omegns Storkreds"
          ]
         ],
         "hovertemplate": "Party=%{customdata[1]}<br>Component 1=%{x}<br>Component 2=%{y}<br>Candidate=%{customdata[0]}<br>Age=%{customdata[2]}<br>Constituency=%{customdata[3]}<extra></extra>",
         "legendgroup": "Enhedslisten",
         "marker": {
          "color": "rgb(237, 128, 25)",
          "line": {
           "color": "DarkSlateGrey",
           "width": 1
          },
          "size": 10,
          "symbol": "circle"
         },
         "mode": "markers",
         "name": "Enhedslisten",
         "orientation": "v",
         "showlegend": true,
         "textposition": "top center",
         "type": "scatter",
         "x": [
          -4.522382626748754,
          -7.265347907546238,
          -5.930497303483687,
          -6.9076022529670995,
          -6.51011720334456,
          -7.110887444626237,
          -7.784359518398333,
          -3.285270946273307,
          -6.875018481140976,
          -6.344276040578979,
          -6.892401464014993,
          -4.847676426460573,
          -7.291634471439745,
          -4.585670650869321,
          -5.748582691385651,
          -6.872154156759347,
          -7.793572708255467,
          -7.385657003815886,
          -6.872265364813922,
          -6.954488477417977,
          -6.774236972311605,
          -7.421398421241622,
          -6.204001027316327,
          -6.624307829915793,
          -7.042147175240391,
          -6.472937231535074,
          -7.6973383984366075,
          -6.2991089038070776,
          -6.569067653624246,
          -6.817392771423736,
          -7.295685854997275,
          -5.77082597630877,
          -6.944770141379632,
          -6.98270569744042,
          -6.611091215576383,
          -6.703119299984641,
          -6.63244292996622,
          -7.137141623299611,
          -5.761446492746176,
          -6.279602351711129,
          -7.892153438127306,
          -6.796811756408134,
          -6.059763744984547,
          -6.401747504526573,
          -6.969577929232074,
          -6.664934009974998,
          -8.091058756952805,
          -7.316972044867025,
          -6.430697994612284,
          -7.2674835622540765,
          -5.834377739713229,
          -5.616492485674144,
          -6.735998834151145,
          -7.750809418984194,
          -6.722191721523767,
          -7.5541835081139945,
          -7.340802280235978,
          -7.473768829337905,
          -7.091373710498172,
          -7.3393483715250465,
          -7.478979332742966,
          -5.388676629312362,
          -6.169574083887224,
          -6.962566985961024,
          -4.791594803220797,
          -6.040627369502268,
          -7.046576069299693,
          -7.121806670907348,
          -4.9190377201031525,
          -7.088189424797917,
          -5.0806859258985515,
          -5.520604929106737,
          -5.018411668105532,
          -5.7135004449421105
         ],
         "xaxis": "x",
         "y": [
          -0.047687947681216564,
          1.1831875796957092,
          1.06914063779399,
          0.24533244418009761,
          0.9064208866251863,
          0.18621858972549699,
          2.0693727649703133,
          1.2562554742611278,
          0.8429902171453534,
          1.1720571954236145,
          0.5738547067196109,
          1.787740166764527,
          0.638969603369938,
          0.14579177702774798,
          1.6363873727398233,
          0.6728417843645353,
          1.045730009857744,
          0.6442179227510751,
          0.67845547340348,
          -0.3151141227863631,
          1.7517179767500246,
          1.3164854135970727,
          0.9282731547097449,
          1.4131355638536942,
          1.5090605422355239,
          0.8288321492805232,
          1.3310714308296046,
          1.0756866173515776,
          0.9654092902769518,
          0.691172863046697,
          0.6319942241243391,
          1.1778193336241491,
          1.782154116379661,
          0.9469970501518706,
          0.2131373217141791,
          1.4047436885567135,
          1.587246145800294,
          0.6349687411528241,
          0.5340952852202365,
          0.925303448853239,
          1.5416247213843841,
          0.6671181317168439,
          1.5579716799094285,
          1.1296580234425007,
          1.50184907065665,
          1.33321991772672,
          1.1342041085164456,
          -0.14991807252479997,
          0.15268971871563872,
          1.0330620352724456,
          0.5950223860164521,
          2.559430221684387,
          0.8723246219165832,
          1.2544559319974102,
          0.30116559060984094,
          1.487532458359556,
          0.22240276570583312,
          1.644954319862956,
          1.093888536083664,
          0.5441563318120289,
          1.6708518946230793,
          -0.9324686676248753,
          1.355103342149284,
          0.8825271726623809,
          0.36687929710169653,
          1.0402130587234453,
          0.541204383233258,
          1.1866802858047636,
          -0.4973431665575034,
          1.0313506013603722,
          1.044094125808549,
          0.9661927219539171,
          2.283216229417887,
          1.5136562586610431
         ],
         "yaxis": "y"
        },
        {
         "customdata": [
          [
           "Linda Englyst",
           "Danmarksdemokraterne",
           48,
           "Østjyllands Storkreds"
          ],
          [
           "Erik Poulsen",
           "Danmarksdemokraterne",
           60,
           "Østjyllands Storkreds"
          ],
          [
           "Lone Glarbo",
           "Danmarksdemokraterne",
           57,
           "Østjyllands Storkreds"
          ],
          [
           "Hans Kristian Skibby",
           "Danmarksdemokraterne",
           53,
           "Østjyllands Storkreds"
          ],
          [
           "Ulrik Knudsen",
           "Danmarksdemokraterne",
           44,
           "Østjyllands Storkreds"
          ],
          [
           "Claus Gisselmann",
           "Danmarksdemokraterne",
           55,
           "Københavns Storkreds"
          ],
          [
           "Therese Skaarup",
           "Danmarksdemokraterne",
           46,
           "Københavns Storkreds"
          ],
          [
           "Lise Bech",
           "Danmarksdemokraterne",
           61,
           "Nordjyllands Storkreds"
          ],
          [
           "Peter Lindholt",
           "Danmarksdemokraterne",
           56,
           "Nordjyllands Storkreds"
          ],
          [
           "Inger Støjberg",
           "Danmarksdemokraterne",
           49,
           "Nordjyllands Storkreds"
          ],
          [
           "Kristian Bøgsted",
           "Danmarksdemokraterne",
           40,
           "Nordjyllands Storkreds"
          ],
          [
           "Vibeke Brønnum",
           "Danmarksdemokraterne",
           69,
           "Bornholms Storkreds"
          ],
          [
           "Martin Jason Adelgaard",
           "Danmarksdemokraterne",
           48,
           "Fyns Storkreds"
          ],
          [
           "Bent Juul Sørensen",
           "Danmarksdemokraterne",
           63,
           "Fyns Storkreds"
          ],
          [
           "Jens Henrik W. Thulesen Dahl",
           "Danmarksdemokraterne",
           61,
           "Fyns Storkreds"
          ],
          [
           "Nikolaj Vang",
           "Danmarksdemokraterne",
           45,
           "Fyns Storkreds"
          ],
          [
           "Vivian Lindberg Larsen",
           "Danmarksdemokraterne",
           56,
           "Fyns Storkreds"
          ],
          [
           "Dennis Flydtkjær",
           "Danmarksdemokraterne",
           44,
           "Vestjyllands Storkreds"
          ],
          [
           "Betina Kastbjerg",
           "Danmarksdemokraterne",
           50,
           "Vestjyllands Storkreds"
          ],
          [
           "Morten Vehl",
           "Danmarksdemokraterne",
           48,
           "Vestjyllands Storkreds"
          ],
          [
           "Vivi Altenburg",
           "Danmarksdemokraterne",
           60,
           "Vestjyllands Storkreds"
          ],
          [
           "Kenneth Fredslund Petersen",
           "Danmarksdemokraterne",
           57,
           "Sydjyllands Storkreds"
          ],
          [
           "Karina Adsbøl",
           "Danmarksdemokraterne",
           45,
           "Sydjyllands Storkreds"
          ],
          [
           "Michael Mikkelsen",
           "Danmarksdemokraterne",
           50,
           "Sydjyllands Storkreds"
          ],
          [
           "Jenny Andresen",
           "Danmarksdemokraterne",
           40,
           "Sydjyllands Storkreds"
          ],
          [
           "Patrick Culmsee Bryhl",
           "Danmarksdemokraterne",
           24,
           "Sydjyllands Storkreds"
          ],
          [
           "Søren Espersen",
           "Danmarksdemokraterne",
           69,
           "Sydjyllands Storkreds"
          ],
          [
           "Peter Skaarup",
           "Danmarksdemokraterne",
           58,
           "Sjællands Storkreds"
          ],
          [
           "Susie Jessen",
           "Danmarksdemokraterne",
           37,
           "Sjællands Storkreds"
          ],
          [
           "Sebastian Mylsted-Schenstrøm",
           "Danmarksdemokraterne",
           30,
           "Sjællands Storkreds"
          ],
          [
           "Christian Wibholm",
           "Danmarksdemokraterne",
           55,
           "Sjællands Storkreds"
          ],
          [
           "Lars Bregbak",
           "Danmarksdemokraterne",
           59,
           "Nordsjællands Storkreds"
          ],
          [
           "Marlene Harpsøe",
           "Danmarksdemokraterne",
           39,
           "Nordsjællands Storkreds"
          ],
          [
           "Lars Ole Skovgaard Larsen",
           "Danmarksdemokraterne",
           61,
           "Nordsjællands Storkreds"
          ],
          [
           "Charlotte Munch",
           "Danmarksdemokraterne",
           55,
           "Københavns Omegns Storkreds"
          ],
          [
           "Michael Rosenmark",
           "Danmarksdemokraterne",
           63,
           "Københavns Omegns Storkreds"
          ],
          [
           "Mette Qwinten",
           "Danmarksdemokraterne",
           40,
           "Københavns Omegns Storkreds"
          ]
         ],
         "hovertemplate": "Party=%{customdata[1]}<br>Component 1=%{x}<br>Component 2=%{y}<br>Candidate=%{customdata[0]}<br>Age=%{customdata[2]}<br>Constituency=%{customdata[3]}<extra></extra>",
         "legendgroup": "Danmarksdemokraterne",
         "marker": {
          "color": "rgb(138, 195, 255)",
          "line": {
           "color": "DarkSlateGrey",
           "width": 1
          },
          "size": 10,
          "symbol": "circle"
         },
         "mode": "markers",
         "name": "Danmarksdemokraterne",
         "orientation": "v",
         "showlegend": true,
         "textposition": "top center",
         "type": "scatter",
         "x": [
          2.8527829682309322,
          4.388949157883153,
          3.7553161400693753,
          3.313768075176835,
          4.024859448805699,
          4.236176419602987,
          3.4630404440659923,
          4.24539892672383,
          3.3472981851068497,
          4.301242504404664,
          3.7292885558259417,
          4.711825285479018,
          4.550187962516729,
          3.502184844662777,
          3.9745225737522616,
          2.6413923114397666,
          3.3809916913588696,
          4.473242457209336,
          4.413529745576633,
          5.0569170955589655,
          4.4928931707796895,
          2.1609280632296923,
          3.1686043286267,
          2.8053662036449363,
          3.888003811984478,
          4.195358695046548,
          2.386141152830057,
          3.8933788288706417,
          3.572515368428821,
          4.578741352325661,
          3.7340194556558006,
          3.483934343600658,
          3.033668217182677,
          4.274096697631179,
          4.807913541851979,
          2.8656811080296927,
          4.442672962382413
         ],
         "xaxis": "x",
         "y": [
          2.988685601821035,
          3.5755159976923108,
          4.2038310483992865,
          3.845314468712315,
          3.9723527278194415,
          4.071152189272047,
          4.04786041024199,
          4.052257213319169,
          2.7815689127673355,
          3.944181290513559,
          4.2970363750061376,
          3.1713579726757355,
          3.5701875598902824,
          2.221571796634304,
          3.73927043472697,
          3.4121991687851394,
          3.84174007628038,
          3.2205324535068085,
          3.7020446296667586,
          3.26254568223113,
          2.9477325917716484,
          2.0174263593334576,
          3.500516792963923,
          2.080826312553016,
          3.6713250625049576,
          3.6414582758713823,
          3.6394781301854193,
          4.041308070436209,
          4.530580739548754,
          3.8679737818410076,
          3.0223503873143125,
          3.1081328910456243,
          4.234752947444842,
          3.2906453114586287,
          3.218680877641967,
          3.605018258426747,
          3.876972560373005
         ],
         "yaxis": "y"
        },
        {
         "customdata": [
          [
           "Tina Lund Sørensen",
           "Venstre",
           41,
           "Østjyllands Storkreds"
          ],
          [
           "Erik Veje Rasmussen",
           "Venstre",
           63,
           "Østjyllands Storkreds"
          ],
          [
           "Troels Lund Poulsen",
           "Venstre",
           46,
           "Østjyllands Storkreds"
          ],
          [
           "Lene Prip-Sørensen",
           "Venstre",
           41,
           "Østjyllands Storkreds"
          ],
          [
           "Louise Lingren Louring",
           "Venstre",
           30,
           "Østjyllands Storkreds"
          ],
          [
           "Gustav Juul",
           "Venstre",
           52,
           "Østjyllands Storkreds"
          ],
          [
           "Michael Aastrup Jensen",
           "Venstre",
           46,
           "Østjyllands Storkreds"
          ],
          [
           "Stephan Arnold",
           "Venstre",
           44,
           "Østjyllands Storkreds"
          ],
          [
           "Jakob Ellemann-Jensen",
           "Venstre",
           49,
           "Østjyllands Storkreds"
          ],
          [
           "Heidi Bank",
           "Venstre",
           50,
           "Østjyllands Storkreds"
          ],
          [
           "Alexandra Sasha",
           "Venstre",
           27,
           "Københavns Storkreds"
          ],
          [
           "Linea Søgaard-Lidell",
           "Venstre",
           35,
           "Københavns Storkreds"
          ],
          [
           "Bo Sandroos",
           "Venstre",
           57,
           "Københavns Storkreds"
          ],
          [
           "Michael Lange",
           "Venstre",
           59,
           "Københavns Storkreds"
          ],
          [
           "Anne Rasmussen",
           "Venstre",
           51,
           "Københavns Storkreds"
          ],
          [
           "Jan E. Jørgensen",
           "Venstre",
           57,
           "Københavns Storkreds"
          ],
          [
           "Martin Geertsen",
           "Venstre",
           52,
           "Københavns Storkreds"
          ],
          [
           "Claus Buch",
           "Venstre",
           50,
           "Københavns Storkreds"
          ],
          [
           "René Bredal",
           "Venstre",
           61,
           "Københavns Storkreds"
          ],
          [
           "Anders Fausbøll",
           "Venstre",
           45,
           "Københavns Storkreds"
          ],
          [
           "Anne Honoré Østergaard",
           "Venstre",
           41,
           "Nordjyllands Storkreds"
          ],
          [
           "Maja Torp",
           "Venstre",
           49,
           "Nordjyllands Storkreds"
          ],
          [
           "Phillip Sperling",
           "Venstre",
           25,
           "Nordjyllands Storkreds"
          ],
          [
           "Marie Bjerre",
           "Venstre",
           36,
           "Nordjyllands Storkreds"
          ],
          [
           "Preben Bang Henriksen",
           "Venstre",
           68,
           "Nordjyllands Storkreds"
          ],
          [
           "Henrik Buchhave",
           "Venstre",
           60,
           "Nordjyllands Storkreds"
          ],
          [
           "Mette Hardam",
           "Venstre",
           49,
           "Nordjyllands Storkreds"
          ],
          [
           "Torsten Schack Pedersen",
           "Venstre",
           46,
           "Nordjyllands Storkreds"
          ],
          [
           "Julie Pauch Nymark",
           "Venstre",
           27,
           "Bornholms Storkreds"
          ],
          [
           "Birthe Tindbæk Bredo",
           "Venstre",
           63,
           "Bornholms Storkreds"
          ],
          [
           "Peter Juel-Jensen",
           "Venstre",
           56,
           "Bornholms Storkreds"
          ],
          [
           "Bo Sandberg",
           "Venstre",
           60,
           "Fyns Storkreds"
          ],
          [
           "Pia Offer Madsen",
           "Venstre",
           49,
           "Fyns Storkreds"
          ],
          [
           "Lars Christian Lilleholt",
           "Venstre",
           57,
           "Fyns Storkreds"
          ],
          [
           "Araz Khan",
           "Venstre",
           41,
           "Fyns Storkreds"
          ],
          [
           "Nikolaj Leed Henriksen",
           "Venstre",
           26,
           "Fyns Storkreds"
          ],
          [
           "Marlene Ambo-Rasmussen",
           "Venstre",
           36,
           "Fyns Storkreds"
          ],
          [
           "Erling Bonnesen",
           "Venstre",
           67,
           "Fyns Storkreds"
          ],
          [
           "Jacob Vestergaard",
           "Venstre",
           18,
           "Vestjyllands Storkreds"
          ],
          [
           "Kenneth Mikkelsen",
           "Venstre",
           51,
           "Vestjyllands Storkreds"
          ],
          [
           "Carsten Kissmeyer",
           "Venstre",
           69,
           "Vestjyllands Storkreds"
          ],
          [
           "Søren Gade",
           "Venstre",
           59,
           "Vestjyllands Storkreds"
          ],
          [
           "Mads Fuglede",
           "Venstre",
           51,
           "Vestjyllands Storkreds"
          ],
          [
           "Ulrich Fredberg",
           "Venstre",
           67,
           "Vestjyllands Storkreds"
          ],
          [
           "Thomas Danielsen",
           "Venstre",
           39,
           "Vestjyllands Storkreds"
          ],
          [
           "Ib Bjerregaard",
           "Venstre",
           62,
           "Vestjyllands Storkreds"
          ],
          [
           "Kristian Pihl Lorentzen",
           "Venstre",
           61,
           "Vestjyllands Storkreds"
          ],
          [
           "Rikke Tangaa",
           "Venstre",
           49,
           "Sydjyllands Storkreds"
          ],
          [
           "Hans Christian Schmidt",
           "Venstre",
           69,
           "Sydjyllands Storkreds"
          ],
          [
           "Klaus Sandfeld",
           "Venstre",
           57,
           "Sydjyllands Storkreds"
          ],
          [
           "Anni Matthiesen",
           "Venstre",
           58,
           "Sydjyllands Storkreds"
          ],
          [
           "Christoffer Aagaard Melson",
           "Venstre",
           38,
           "Sydjyllands Storkreds"
          ],
          [
           "Chris Borup Preuss",
           "Venstre",
           30,
           "Sydjyllands Storkreds"
          ],
          [
           "Kasper B. Mundt",
           "Venstre",
           28,
           "Sydjyllands Storkreds"
          ],
          [
           "Tobias Jørgensen",
           "Venstre",
           38,
           "Sydjyllands Storkreds"
          ],
          [
           "Eva Kjer Hansen",
           "Venstre",
           58,
           "Sydjyllands Storkreds"
          ],
          [
           "Preben Friis-Hauge",
           "Venstre",
           60,
           "Sydjyllands Storkreds"
          ],
          [
           "Tilde Holch Duedahl",
           "Venstre",
           42,
           "Sydjyllands Storkreds"
          ],
          [
           "Niels Henning Bladt",
           "Venstre",
           34,
           "Sydjyllands Storkreds"
          ],
          [
           "Ditte Rust",
           "Venstre",
           38,
           "Sjællands Storkreds"
          ],
          [
           "Iben Kiilerich Krog",
           "Venstre",
           30,
           "Sjællands Storkreds"
          ],
          [
           "Jacob Panton",
           "Venstre",
           40,
           "Sjællands Storkreds"
          ],
          [
           "Ken Kristensen",
           "Venstre",
           50,
           "Sjællands Storkreds"
          ],
          [
           "Sten Knuth",
           "Venstre",
           57,
           "Sjællands Storkreds"
          ],
          [
           "Jacob Jensen",
           "Venstre",
           49,
           "Sjællands Storkreds"
          ],
          [
           "Rasmus Hylleberg",
           "Venstre",
           48,
           "Sjællands Storkreds"
          ],
          [
           "Malene Grandjean",
           "Venstre",
           47,
           "Sjællands Storkreds"
          ],
          [
           "Louise Schack Elholm",
           "Venstre",
           45,
           "Sjællands Storkreds"
          ],
          [
           "Charlotte Bisserup Bechfeldt",
           "Venstre",
           30,
           "Sjællands Storkreds"
          ],
          [
           "Marcus Techow Danielsson",
           "Venstre",
           28,
           "Sjællands Storkreds"
          ],
          [
           "Morten Dahlin",
           "Venstre",
           33,
           "Sjællands Storkreds"
          ],
          [
           "Sophie Løhde",
           "Venstre",
           39,
           "Nordsjællands Storkreds"
          ],
          [
           "Thomas Elong",
           "Venstre",
           46,
           "Nordsjællands Storkreds"
          ],
          [
           "Mette Lene Jensen",
           "Venstre",
           55,
           "Nordsjællands Storkreds"
          ],
          [
           "Hans Andersen",
           "Venstre",
           48,
           "Nordsjællands Storkreds"
          ],
          [
           "Marianne Lynghøj Pedersen",
           "Venstre",
           34,
           "Nordsjællands Storkreds"
          ],
          [
           "Ricki Vejsmose",
           "Venstre",
           47,
           "Københavns Omegns Storkreds"
          ],
          [
           "Kim Valentin",
           "Venstre",
           59,
           "Københavns Omegns Storkreds"
          ],
          [
           "Mathias Rinaldo",
           "Venstre",
           24,
           "Københavns Omegns Storkreds"
          ],
          [
           "Astrid Søborg",
           "Venstre",
           46,
           "Københavns Omegns Storkreds"
          ],
          [
           "Casper Pedersen",
           "Venstre",
           28,
           "Københavns Omegns Storkreds"
          ],
          [
           "Karen Ellemann",
           "Venstre",
           53,
           "Københavns Omegns Storkreds"
          ],
          [
           "Anders Bo Larsen",
           "Venstre",
           38,
           "Københavns Omegns Storkreds"
          ],
          [
           "Lennart Hartmann Nielsen",
           "Venstre",
           59,
           "Københavns Omegns Storkreds"
          ]
         ],
         "hovertemplate": "Party=%{customdata[1]}<br>Component 1=%{x}<br>Component 2=%{y}<br>Candidate=%{customdata[0]}<br>Age=%{customdata[2]}<br>Constituency=%{customdata[3]}<extra></extra>",
         "legendgroup": "Venstre",
         "marker": {
          "color": "rgb(0, 102, 151)",
          "line": {
           "color": "DarkSlateGrey",
           "width": 1
          },
          "size": 10,
          "symbol": "circle"
         },
         "mode": "markers",
         "name": "Venstre",
         "orientation": "v",
         "showlegend": true,
         "textposition": "top center",
         "type": "scatter",
         "x": [
          3.4792798109431673,
          0.782559254476119,
          3.0652530681711063,
          3.708140948615643,
          3.494006655020243,
          5.0908586861494385,
          3.910389713663979,
          3.7826769279366688,
          3.1787780660355476,
          3.1159462904535946,
          1.2176316858523992,
          3.108930614578721,
          5.069901517594895,
          2.4629619165478296,
          2.894478975551918,
          2.8406906326644217,
          3.3147169643479883,
          1.9338151694892367,
          4.788189263891656,
          2.6168259703259826,
          3.2161142044734654,
          2.241236951519814,
          1.088383754064634,
          2.9166633012846606,
          3.020633351968286,
          2.189284140102888,
          2.6803465098429853,
          4.730273887242007,
          3.6195867731820752,
          2.3137265240830147,
          3.1810556451581533,
          4.015965530759227,
          3.676986103065723,
          5.6907611763882,
          5.59760418289297,
          3.10255793442234,
          3.7445480085515754,
          2.755007035126914,
          2.0035210746573653,
          2.874545173473671,
          3.261710560803223,
          3.3811142459061068,
          3.309046201306033,
          0.9423303032734116,
          2.9443817410513886,
          2.498663768707118,
          4.560049377918447,
          2.7208688817294413,
          2.1494177340972844,
          3.0140383805285484,
          3.5928702964978028,
          2.7761593500333257,
          2.8151473571357415,
          3.490418440135581,
          2.7381658876444948,
          3.5997739525008376,
          1.6104985941039673,
          2.760368295627067,
          3.3679296517053543,
          3.6432041350462323,
          3.4301978063224117,
          5.133288033994424,
          1.9656989342107545,
          3.2102138685832795,
          5.039744180404177,
          3.678571286189503,
          1.2070913247402373,
          3.4553958160943896,
          4.1236866332291315,
          5.482623056012376,
          3.606497804659736,
          2.7276823445460048,
          2.27113773018348,
          2.429978836417043,
          3.0514387211696445,
          1.874126476677346,
          2.961366604865192,
          2.5278325898764966,
          3.472114715681509,
          3.6141868679585047,
          3.5805490428739395,
          2.9728302702131177,
          2.525733816812458,
          3.947462352589832
         ],
         "xaxis": "x",
         "y": [
          -1.0235418536279923,
          -0.35383052835907475,
          1.393240341477242,
          -1.447824353478821,
          -1.4542850317802123,
          -1.973548966960742,
          2.7994289507087604,
          -0.4148661230006161,
          0.4578714486551516,
          0.1318314956698059,
          -1.20859752855412,
          -0.614379111355021,
          -1.731322456900398,
          -0.8022999124943909,
          -1.2547022186786734,
          -3.0315370066688145,
          0.12443041753717411,
          0.01754600484045728,
          -2.5864794678086267,
          -1.6621531372874458,
          0.7335235489833203,
          -0.021274077974587923,
          -4.04068040235493,
          -0.2685405710334972,
          -0.8163263344439818,
          0.19130325124465258,
          1.0912861955931237,
          1.3122303817267524,
          -1.6339036720597,
          0.7333731107774633,
          0.8405682291847267,
          -1.367482208632968,
          -0.6034051385583247,
          0.8361913387961972,
          -0.42192310396625876,
          -2.970979676535489,
          1.454750680719624,
          1.1907401233863002,
          -2.9128021685102747,
          0.30323892276274816,
          -0.12412891287393191,
          0.8886817663256639,
          1.106293813039768,
          0.6760262483866288,
          0.9940574483015228,
          0.9917522792971487,
          1.2210309753897746,
          1.1475705304975412,
          2.056168514647134,
          0.9701980554557528,
          0.22639631638056343,
          0.0649363826034258,
          0.6844759289111373,
          -0.03242795055170953,
          0.2901277167301027,
          0.5494438061441012,
          0.41302138019128376,
          -0.6512759027103256,
          -0.2256866323503229,
          -1.5128212487629875,
          -0.4359953786872054,
          0.7314855965050759,
          1.392860067847319,
          0.9616800567744223,
          0.45698594459338404,
          -2.333133720880888,
          0.07572522028139775,
          0.8787153490329569,
          0.29406543786159106,
          -0.15911513572160554,
          0.5529779340439742,
          0.2696633414549431,
          -0.08540100970657766,
          0.44556430340312086,
          1.0497272794218095,
          -1.5275661825628597,
          -1.303239330494152,
          -0.908782928566824,
          -1.5071053809095816,
          -1.0483960677839985,
          -1.8159922068746779,
          0.4528936673390283,
          -0.36451841635284443,
          -1.3148031686408124
         ],
         "yaxis": "y"
        },
        {
         "customdata": [
          [
           "Ali Khatib",
           "Frie Grønne, Danmarks Nye Venstrefløjsparti",
           27,
           "Østjyllands Storkreds"
          ],
          [
           "Sara Hvidbak Grouleff",
           "Frie Grønne, Danmarks Nye Venstrefløjsparti",
           33,
           "Østjyllands Storkreds"
          ],
          [
           "Mohamed Abdikarim",
           "Frie Grønne, Danmarks Nye Venstrefløjsparti",
           33,
           "Østjyllands Storkreds"
          ],
          [
           "Karina Dammand",
           "Frie Grønne, Danmarks Nye Venstrefløjsparti",
           42,
           "Østjyllands Storkreds"
          ],
          [
           "Niko Grünfeld",
           "Frie Grønne, Danmarks Nye Venstrefløjsparti",
           47,
           "Østjyllands Storkreds"
          ],
          [
           "Iben Kirstine Parmann",
           "Frie Grønne, Danmarks Nye Venstrefløjsparti",
           26,
           "Københavns Storkreds"
          ],
          [
           "Daniel Tomicic",
           "Frie Grønne, Danmarks Nye Venstrefløjsparti",
           26,
           "Københavns Storkreds"
          ],
          [
           "Sikandar Siddique",
           "Frie Grønne, Danmarks Nye Venstrefløjsparti",
           36,
           "Københavns Storkreds"
          ],
          [
           "Elise Bjerkrheim",
           "Frie Grønne, Danmarks Nye Venstrefløjsparti",
           48,
           "Københavns Storkreds"
          ],
          [
           "Rashid Ali",
           "Frie Grønne, Danmarks Nye Venstrefløjsparti",
           38,
           "Københavns Storkreds"
          ],
          [
           "Rajesh Holmen",
           "Frie Grønne, Danmarks Nye Venstrefløjsparti",
           34,
           "Københavns Storkreds"
          ],
          [
           "Sazan Garmiyani",
           "Frie Grønne, Danmarks Nye Venstrefløjsparti",
           29,
           "Københavns Storkreds"
          ],
          [
           "Esra Ocak",
           "Frie Grønne, Danmarks Nye Venstrefløjsparti",
           33,
           "Nordjyllands Storkreds"
          ],
          [
           "Susanne Zimmer",
           "Frie Grønne, Danmarks Nye Venstrefløjsparti",
           62,
           "Nordjyllands Storkreds"
          ],
          [
           "Nishan Ganesh",
           "Frie Grønne, Danmarks Nye Venstrefløjsparti",
           35,
           "Fyns Storkreds"
          ],
          [
           "Rishi Balachandran",
           "Frie Grønne, Danmarks Nye Venstrefløjsparti",
           31,
           "Vestjyllands Storkreds"
          ],
          [
           "Marianne Karlberg",
           "Frie Grønne, Danmarks Nye Venstrefløjsparti",
           58,
           "Sydjyllands Storkreds"
          ],
          [
           "Xenia Anderson",
           "Frie Grønne, Danmarks Nye Venstrefløjsparti",
           20,
           "Sjællands Storkreds"
          ],
          [
           "Ahmet Üzümcü",
           "Frie Grønne, Danmarks Nye Venstrefløjsparti",
           35,
           "Sjællands Storkreds"
          ],
          [
           "Jasmin Kaur",
           "Frie Grønne, Danmarks Nye Venstrefløjsparti",
           21,
           "Sjællands Storkreds"
          ],
          [
           "Yadvinder Singh",
           "Frie Grønne, Danmarks Nye Venstrefløjsparti",
           30,
           "Sjællands Storkreds"
          ],
          [
           "Clara Rebecca Svarc",
           "Frie Grønne, Danmarks Nye Venstrefløjsparti",
           31,
           "Nordsjællands Storkreds"
          ],
          [
           "Lars Oskan-Henriksen",
           "Frie Grønne, Danmarks Nye Venstrefløjsparti",
           51,
           "Nordsjællands Storkreds"
          ],
          [
           "Sabrina Raaschou Brammer",
           "Frie Grønne, Danmarks Nye Venstrefløjsparti",
           22,
           "Københavns Omegns Storkreds"
          ],
          [
           "Aqeel Akhtar",
           "Frie Grønne, Danmarks Nye Venstrefløjsparti",
           31,
           "Københavns Omegns Storkreds"
          ],
          [
           "Asham Nadeem",
           "Frie Grønne, Danmarks Nye Venstrefløjsparti",
           26,
           "Københavns Omegns Storkreds"
          ]
         ],
         "hovertemplate": "Party=%{customdata[1]}<br>Component 1=%{x}<br>Component 2=%{y}<br>Candidate=%{customdata[0]}<br>Age=%{customdata[2]}<br>Constituency=%{customdata[3]}<extra></extra>",
         "legendgroup": "Frie Grønne, Danmarks Nye Venstrefløjsparti",
         "marker": {
          "color": "rgb(0, 230, 106)",
          "line": {
           "color": "DarkSlateGrey",
           "width": 1
          },
          "size": 10,
          "symbol": "circle"
         },
         "mode": "markers",
         "name": "Frie Grønne, Danmarks Nye Venstrefløjsparti",
         "orientation": "v",
         "showlegend": true,
         "textposition": "top center",
         "type": "scatter",
         "x": [
          -4.203781434535853,
          -5.617185134610996,
          -6.398922879782568,
          -6.3706358796455,
          -6.108968709705658,
          -6.70215257936287,
          -6.489496615163408,
          -6.109236379990665,
          -6.8134035080531685,
          -7.091884425121727,
          -6.032237050252825,
          -4.654581068206187,
          -5.6675537577800785,
          -5.0806980037119525,
          -5.9404200065850885,
          -6.630428442173472,
          -4.949212681777376,
          -6.355520009118355,
          -5.902699953256536,
          -5.263801833748162,
          -6.392474051230441,
          -6.970611455201114,
          -6.9153553678736985,
          -6.623662995967439,
          -5.1974076152188795,
          -6.2501379265392245
         ],
         "xaxis": "x",
         "y": [
          0.09137050593467295,
          -1.667294422656957,
          -0.760973607004487,
          -1.1393710974464049,
          -0.6313529741631981,
          -0.2768613493333141,
          -0.07650093745156253,
          -0.41113747098961706,
          -0.09615693812272519,
          -0.14405829681023002,
          -1.1522695523659219,
          0.3055614592044359,
          -1.652089226522704,
          -1.4631296593183591,
          0.16197998617679382,
          -0.03159518344648714,
          -1.3783768814410873,
          -0.31794003028543105,
          -0.7861558990573837,
          -0.7373540387104994,
          -0.2906627860964724,
          -0.4972322427588667,
          -0.04182078362298461,
          -0.49498446416833836,
          -1.302910777747662,
          -0.07606226320189481
         ],
         "yaxis": "y"
        },
        {
         "customdata": [
          [
           "Kim Christiansen",
           "Dansk Folkeparti",
           66,
           "Østjyllands Storkreds"
          ],
          [
           "Nick Zimmermann",
           "Dansk Folkeparti",
           28,
           "Østjyllands Storkreds"
          ],
          [
           "Anders Primdahl Vistisen",
           "Dansk Folkeparti",
           35,
           "Østjyllands Storkreds"
          ],
          [
           "Michael Kim Bladt Nedersøe",
           "Dansk Folkeparti",
           44,
           "Østjyllands Storkreds"
          ],
          [
           "Danny Rosenkilde",
           "Dansk Folkeparti",
           56,
           "Østjyllands Storkreds"
          ],
          [
           "Laura Guldager",
           "Dansk Folkeparti",
           21,
           "Østjyllands Storkreds"
          ],
          [
           "Paw Karslund",
           "Dansk Folkeparti",
           49,
           "Københavns Storkreds"
          ],
          [
           "Brian Borglund Bruun",
           "Dansk Folkeparti",
           50,
           "Københavns Storkreds"
          ],
          [
           "Jannie Bøgh",
           "Dansk Folkeparti",
           42,
           "Københavns Storkreds"
          ],
          [
           "Kenneth Kristensen Berth",
           "Dansk Folkeparti",
           45,
           "Københavns Storkreds"
          ],
          [
           "Carsten Ullmann Andersen",
           "Dansk Folkeparti",
           47,
           "Nordjyllands Storkreds"
          ],
          [
           "Nana Harring",
           "Dansk Folkeparti",
           24,
           "Nordjyllands Storkreds"
          ],
          [
           "Christian Langballe",
           "Dansk Folkeparti",
           55,
           "Nordjyllands Storkreds"
          ],
          [
           "Mette Sode Hansen",
           "Dansk Folkeparti",
           42,
           "Bornholms Storkreds"
          ],
          [
           "René Danielsson",
           "Dansk Folkeparti",
           35,
           "Bornholms Storkreds"
          ],
          [
           "Cheanne Nielsen",
           "Dansk Folkeparti",
           38,
           "Fyns Storkreds"
          ],
          [
           "Lars Kolling",
           "Dansk Folkeparti",
           48,
           "Fyns Storkreds"
          ],
          [
           "Frank Sørensen",
           "Dansk Folkeparti",
           58,
           "Fyns Storkreds"
          ],
          [
           "Signe Vedersø Keldorff",
           "Dansk Folkeparti",
           20,
           "Fyns Storkreds"
          ],
          [
           "Alex Ahrendtsen",
           "Dansk Folkeparti",
           55,
           "Fyns Storkreds"
          ],
          [
           "Kuno Danielsen",
           "Dansk Folkeparti",
           59,
           "Vestjyllands Storkreds"
          ],
          [
           "Erling Præstekjær",
           "Dansk Folkeparti",
           54,
           "Vestjyllands Storkreds"
          ],
          [
           "Jakob Kjærsgaard Mortensen",
           "Dansk Folkeparti",
           31,
           "Vestjyllands Storkreds"
          ],
          [
           "Lone Vase Langballe",
           "Dansk Folkeparti",
           52,
           "Vestjyllands Storkreds"
          ],
          [
           "Mikael Lund Jensen",
           "Dansk Folkeparti",
           52,
           "Vestjyllands Storkreds"
          ],
          [
           "Majbritt Birkholm",
           "Dansk Folkeparti",
           41,
           "Vestjyllands Storkreds"
          ],
          [
           "Lene Baggesø",
           "Dansk Folkeparti",
           52,
           "Sydjyllands Storkreds"
          ],
          [
           "Josephine Alstrup",
           "Dansk Folkeparti",
           23,
           "Sydjyllands Storkreds"
          ],
          [
           "Peter Kofod",
           "Dansk Folkeparti",
           32,
           "Sydjyllands Storkreds"
          ],
          [
           "Pia Kjærsgaard",
           "Dansk Folkeparti",
           75,
           "Sjællands Storkreds"
          ],
          [
           "Simon Hampe",
           "Dansk Folkeparti",
           28,
           "Sjællands Storkreds"
          ],
          [
           "Claus Engskov",
           "Dansk Folkeparti",
           39,
           "Sjællands Storkreds"
          ],
          [
           "Merete Dea Møller Larsen",
           "Dansk Folkeparti",
           44,
           "Sjællands Storkreds"
          ],
          [
           "Jan Herskov",
           "Dansk Folkeparti",
           56,
           "Sjællands Storkreds"
          ],
          [
           "Lars Damgaard",
           "Dansk Folkeparti",
           54,
           "Sjællands Storkreds"
          ],
          [
           "Kim Malmberg Hansen",
           "Dansk Folkeparti",
           61,
           "Sjællands Storkreds"
          ],
          [
           "Søren Lund Hansen",
           "Dansk Folkeparti",
           48,
           "Sjællands Storkreds"
          ],
          [
           "René Christensen",
           "Dansk Folkeparti",
           52,
           "Sjællands Storkreds"
          ],
          [
           "Kim Errebo",
           "Dansk Folkeparti",
           47,
           "Sjællands Storkreds"
          ],
          [
           "John Vind",
           "Dansk Folkeparti",
           49,
           "Sjællands Storkreds"
          ],
          [
           "Christian Sødergren",
           "Dansk Folkeparti",
           42,
           "Nordsjællands Storkreds"
          ],
          [
           "Brian Lyck Jørgensen",
           "Dansk Folkeparti",
           40,
           "Nordsjællands Storkreds"
          ],
          [
           "Gert Løfgren",
           "Dansk Folkeparti",
           57,
           "Nordsjællands Storkreds"
          ],
          [
           "Michael Jensen",
           "Dansk Folkeparti",
           51,
           "Københavns Omegns Storkreds"
          ],
          [
           "Susanne Damsgaard",
           "Dansk Folkeparti",
           61,
           "Københavns Omegns Storkreds"
          ],
          [
           "Mikkel S. Dencker",
           "Dansk Folkeparti",
           46,
           "Københavns Omegns Storkreds"
          ],
          [
           "Morten Messerschmidt",
           "Dansk Folkeparti",
           42,
           "Københavns Omegns Storkreds"
          ],
          [
           "Cecillie Winther Kristensen",
           "Dansk Folkeparti",
           28,
           "Københavns Omegns Storkreds"
          ],
          [
           "Lars Prier",
           "Dansk Folkeparti",
           57,
           "Københavns Omegns Storkreds"
          ]
         ],
         "hovertemplate": "Party=%{customdata[1]}<br>Component 1=%{x}<br>Component 2=%{y}<br>Candidate=%{customdata[0]}<br>Age=%{customdata[2]}<br>Constituency=%{customdata[3]}<extra></extra>",
         "legendgroup": "Dansk Folkeparti",
         "marker": {
          "color": "rgb(243, 205, 65)",
          "line": {
           "color": "DarkSlateGrey",
           "width": 1
          },
          "size": 10,
          "symbol": "circle"
         },
         "mode": "markers",
         "name": "Dansk Folkeparti",
         "orientation": "v",
         "showlegend": true,
         "textposition": "top center",
         "type": "scatter",
         "x": [
          5.553915601565294,
          2.2203202390204684,
          3.8245642697470736,
          2.395595383466268,
          2.297031765129251,
          3.8872708069124315,
          0.39516805581550296,
          1.1603430047326297,
          3.2468559642742942,
          3.8009710287992005,
          3.568868162304941,
          3.1804153316222825,
          5.593923274831451,
          4.215969762939566,
          3.9810037306334425,
          3.7085995650574737,
          2.681462973475048,
          3.5194985515946264,
          4.513407509402629,
          3.8278834086878435,
          2.886350433114611,
          3.5336131368190022,
          2.8096523869076306,
          4.402873800115173,
          4.283103936775316,
          3.09121562361851,
          3.4102434508251314,
          2.696481435868502,
          3.2390288536094625,
          3.976647562393028,
          4.494502442190751,
          5.195621184110163,
          3.659517522761671,
          1.9721720015340278,
          2.5650987005374275,
          2.0089374286527795,
          1.9256638386431257,
          1.9845733111156931,
          1.2269327550132683,
          2.7028120518007452,
          2.369786826058316,
          3.8146482078027177,
          1.9158852696229263,
          2.571471897048084,
          3.0380128004182194,
          3.8003668209896335,
          2.297829584581224,
          1.5049243901155858,
          3.6876066187510568
         ],
         "xaxis": "x",
         "y": [
          2.8087575652809775,
          5.391346070752071,
          3.7372955294117207,
          4.113150293051714,
          3.874443033957329,
          1.9689920711657984,
          3.6447168793805593,
          2.9173847358739162,
          3.024445332185918,
          3.5666785252538795,
          2.78830277426956,
          3.739816966868752,
          1.6702616760801339,
          1.8403933882093193,
          3.395976730866252,
          4.843997206990666,
          4.91622705983106,
          3.0469263537371174,
          4.520479759938562,
          3.159390340127635,
          3.631324816348098,
          3.419406369853033,
          3.0724943868467522,
          3.338777210591606,
          3.6048930777133026,
          4.1208334764604775,
          3.4797007119196164,
          3.8466001346374847,
          4.092752419679414,
          3.797201696203093,
          4.466471667214655,
          4.236772820104512,
          3.138863802799088,
          2.920277489159494,
          3.8868063506745565,
          4.249440565379932,
          1.9059505996138635,
          2.3628651549621966,
          3.784954729197194,
          3.9840315792425582,
          4.525564200138506,
          3.037819284204112,
          3.31818111418611,
          4.214241468377551,
          3.1860824518866635,
          5.290584751480103,
          4.160610577843945,
          1.108283757592197,
          -0.6672063968331701
         ],
         "yaxis": "y"
        },
        {
         "customdata": [
          [
           "Henning Østergaard-Christensen",
           "Kristendemokraterne",
           73,
           "Østjyllands Storkreds"
          ],
          [
           "Palle Bjørn Rosenkilde",
           "Kristendemokraterne",
           56,
           "Østjyllands Storkreds"
          ],
          [
           "Kristian Søndergaard Larsen",
           "Kristendemokraterne",
           44,
           "Østjyllands Storkreds"
          ],
          [
           "Hanna-Maria Smed Molte Lyng",
           "Kristendemokraterne",
           22,
           "Østjyllands Storkreds"
          ],
          [
           "Henrik Hjortshøj",
           "Kristendemokraterne",
           32,
           "Østjyllands Storkreds"
          ],
          [
           "Birgit Jakobsen",
           "Kristendemokraterne",
           58,
           "Østjyllands Storkreds"
          ],
          [
           "Rolf Bjerre",
           "Kristendemokraterne",
           43,
           "Østjyllands Storkreds"
          ],
          [
           "Gunnar Bjørn Thomsen",
           "Kristendemokraterne",
           65,
           "Københavns Storkreds"
          ],
          [
           "Tina Mørk",
           "Kristendemokraterne",
           60,
           "Københavns Storkreds"
          ],
          [
           "Jacob Bang",
           "Kristendemokraterne",
           59,
           "Københavns Storkreds"
          ],
          [
           "Jesper Housgaard",
           "Kristendemokraterne",
           40,
           "Københavns Storkreds"
          ],
          [
           "Peter Scheining",
           "Kristendemokraterne",
           41,
           "Nordjyllands Storkreds"
          ],
          [
           "Jørgen Bjerregaard",
           "Kristendemokraterne",
           58,
           "Nordjyllands Storkreds"
          ],
          [
           "Anne-Marie Jørgensen",
           "Kristendemokraterne",
           52,
           "Nordjyllands Storkreds"
          ],
          [
           "Karlo Brondbjerg",
           "Kristendemokraterne",
           0,
           "Nordjyllands Storkreds"
          ],
          [
           "Bjarne H. Kirkegaard",
           "Kristendemokraterne",
           68,
           "Bornholms Storkreds"
          ],
          [
           "Niclas Aarestrup",
           "Kristendemokraterne",
           49,
           "Fyns Storkreds"
          ],
          [
           "Anders Friis Knudsen",
           "Kristendemokraterne",
           62,
           "Fyns Storkreds"
          ],
          [
           "Maria Av Skardi",
           "Kristendemokraterne",
           44,
           "Fyns Storkreds"
          ],
          [
           "Simon Lavdal-Pedersen",
           "Kristendemokraterne",
           29,
           "Fyns Storkreds"
          ],
          [
           "Michelle West",
           "Kristendemokraterne",
           32,
           "Fyns Storkreds"
          ],
          [
           "Karen-Margrethe Lysholm",
           "Kristendemokraterne",
           50,
           "Vestjyllands Storkreds"
          ],
          [
           "Børge Rostgaard Winkel",
           "Kristendemokraterne",
           57,
           "Vestjyllands Storkreds"
          ],
          [
           "Inge Jensen",
           "Kristendemokraterne",
           61,
           "Vestjyllands Storkreds"
          ],
          [
           "Jonas Røjkjær Laustsen",
           "Kristendemokraterne",
           21,
           "Vestjyllands Storkreds"
          ],
          [
           "Marcus Sommerbirk",
           "Kristendemokraterne",
           58,
           "Vestjyllands Storkreds"
          ],
          [
           "Steffen Markussen",
           "Kristendemokraterne",
           42,
           "Vestjyllands Storkreds"
          ],
          [
           "Marianne Karlsmose",
           "Kristendemokraterne",
           49,
           "Vestjyllands Storkreds"
          ],
          [
           "Henrik Engelbrekt Refshauge",
           "Kristendemokraterne",
           51,
           "Sydjyllands Storkreds"
          ],
          [
           "Poul Harald Holm",
           "Kristendemokraterne",
           48,
           "Sydjyllands Storkreds"
          ],
          [
           "Ester Esmarch",
           "Kristendemokraterne",
           47,
           "Sydjyllands Storkreds"
          ],
          [
           "Søren Lydeking Pedersen",
           "Kristendemokraterne",
           38,
           "Sydjyllands Storkreds"
          ],
          [
           "Frits Simmelsgaard Kristensen",
           "Kristendemokraterne",
           61,
           "Sydjyllands Storkreds"
          ],
          [
           "Mirjam Fibiger Olesen",
           "Kristendemokraterne",
           43,
           "Sydjyllands Storkreds"
          ],
          [
           "Per Kristensen",
           "Kristendemokraterne",
           65,
           "Sjællands Storkreds"
          ],
          [
           "Finn Andersen",
           "Kristendemokraterne",
           69,
           "Sjællands Storkreds"
          ],
          [
           "Tage Sørensen",
           "Kristendemokraterne",
           66,
           "Sjællands Storkreds"
          ],
          [
           "John Haugegaard",
           "Kristendemokraterne",
           63,
           "Sjællands Storkreds"
          ],
          [
           "Britta Kristensen",
           "Kristendemokraterne",
           66,
           "Nordsjællands Storkreds"
          ],
          [
           "Esben Frette Johnsen",
           "Kristendemokraterne",
           23,
           "Københavns Omegns Storkreds"
          ],
          [
           "Bolette Von Westphal",
           "Kristendemokraterne",
           47,
           "Københavns Omegns Storkreds"
          ],
          [
           "Elif Demir Gökce",
           "Kristendemokraterne",
           47,
           "Københavns Omegns Storkreds"
          ]
         ],
         "hovertemplate": "Party=%{customdata[1]}<br>Component 1=%{x}<br>Component 2=%{y}<br>Candidate=%{customdata[0]}<br>Age=%{customdata[2]}<br>Constituency=%{customdata[3]}<extra></extra>",
         "legendgroup": "Kristendemokraterne",
         "marker": {
          "color": "rgb(186, 186, 186)",
          "line": {
           "color": "DarkSlateGrey",
           "width": 1
          },
          "size": 10,
          "symbol": "circle"
         },
         "mode": "markers",
         "name": "Kristendemokraterne",
         "orientation": "v",
         "showlegend": true,
         "textposition": "top center",
         "type": "scatter",
         "x": [
          0.13941882624164317,
          0.6497701035451525,
          -0.4814708323743755,
          2.0318433761328394,
          0.17891397100476567,
          -0.4039032861386522,
          -2.2107760640454925,
          -2.4581776470287235,
          -3.048840787996819,
          1.0487873436335977,
          0.7769768479967842,
          0.16757742610812673,
          -1.2756467784128767,
          -1.407288273649031,
          -2.8221380297940004,
          -0.742806719359045,
          -1.1152990007910035,
          -1.3201851524601635,
          0.6475084167383053,
          1.0063030407202664,
          -0.38382981963629137,
          0.7806366691825802,
          -0.25680780684171417,
          0.49744314362456277,
          2.017234769307657,
          1.4714925405738786,
          1.8560573975676542,
          -0.4473744023357141,
          -2.1807906492461915,
          -0.46751936510393644,
          -1.194236962634665,
          0.022508110476223364,
          1.3015290762091911,
          -0.01368525824604211,
          -0.15334851667918833,
          0.9249667295076747,
          1.20868717418086,
          0.35308861071882874,
          -1.902564596308919,
          -1.5562194062841554,
          -2.5853294844639536,
          0.1310487199630204
         ],
         "xaxis": "x",
         "y": [
          -1.6660016890695724,
          -0.24751328809497622,
          -1.713823509207183,
          -1.8506213106901923,
          -2.9283791063895723,
          -1.9498623479341086,
          -1.392890266159246,
          -1.7873278169727154,
          -1.582168661269368,
          -3.6260327906014953,
          -3.1192623367025285,
          -2.6138041636214346,
          -2.1167963934584844,
          -2.103879794487981,
          -2.0946854422102397,
          -0.9328671890422938,
          -2.2208229591362287,
          -2.012297870007149,
          -3.531541468144939,
          -1.1816203456340608,
          -2.249065100259926,
          -2.6993108045876353,
          -3.670042065674163,
          -2.260835739614799,
          -2.3696394150944284,
          -2.226898620166695,
          -3.1847727164834683,
          -2.1044262243050396,
          -1.1052683631031428,
          -2.8589984820104344,
          -2.1275283035413204,
          -3.5958185667943283,
          -2.811853006115448,
          -3.0183771731630036,
          0.32314897635899165,
          1.353536449394133,
          -1.5181252356034698,
          -2.432079207682689,
          -1.9302296540569963,
          -3.0515515143628793,
          -2.1818161205162827,
          -1.9114588203059266
         ],
         "yaxis": "y"
        },
        {
         "customdata": [
          [
           "Kurt Vind Christiansen",
           "Liberal Alliance",
           72,
           "Østjyllands Storkreds"
          ],
          [
           "Michael Valentin Ilsø",
           "Liberal Alliance",
           39,
           "Østjyllands Storkreds"
          ],
          [
           "Ditte Elisabeth Kryger Wedege",
           "Liberal Alliance",
           25,
           "Østjyllands Storkreds"
          ],
          [
           "Nicolai Wang",
           "Liberal Alliance",
           19,
           "Østjyllands Storkreds"
          ],
          [
           "Lisa Perkins",
           "Liberal Alliance",
           31,
           "Østjyllands Storkreds"
          ],
          [
           "Louise Brown",
           "Liberal Alliance",
           42,
           "Østjyllands Storkreds"
          ],
          [
           "Jens Meilvang",
           "Liberal Alliance",
           41,
           "Østjyllands Storkreds"
          ],
          [
           "Morten Kolbe Thomsen",
           "Liberal Alliance",
           21,
           "Østjyllands Storkreds"
          ],
          [
           "Alex Vanopslagh",
           "Liberal Alliance",
           31,
           "Østjyllands Storkreds"
          ],
          [
           "Per Nørgaard Andersen",
           "Liberal Alliance",
           58,
           "Københavns Storkreds"
          ],
          [
           "Claus Willén",
           "Liberal Alliance",
           59,
           "Københavns Storkreds"
          ],
          [
           "Christian Riegels Hjorth",
           "Liberal Alliance",
           41,
           "Københavns Storkreds"
          ],
          [
           "Joanne Bywater",
           "Liberal Alliance",
           42,
           "Københavns Storkreds"
          ],
          [
           "Hira Nadeem",
           "Liberal Alliance",
           22,
           "Københavns Storkreds"
          ],
          [
           "Alexander Ryle",
           "Liberal Alliance",
           32,
           "Københavns Storkreds"
          ],
          [
           "Charlotte Nellemann",
           "Liberal Alliance",
           48,
           "Københavns Storkreds"
          ],
          [
           "Ole Birk Olesen",
           "Liberal Alliance",
           49,
           "Københavns Storkreds"
          ],
          [
           "Ronny Van Tieu",
           "Liberal Alliance",
           49,
           "Nordjyllands Storkreds"
          ],
          [
           "Martin Bech",
           "Liberal Alliance",
           32,
           "Nordjyllands Storkreds"
          ],
          [
           "Michel Thrysøe",
           "Liberal Alliance",
           45,
           "Nordjyllands Storkreds"
          ],
          [
           "Kenneth Skatka Hammer",
           "Liberal Alliance",
           36,
           "Nordjyllands Storkreds"
          ],
          [
           "Jonas Urth Jensen",
           "Liberal Alliance",
           22,
           "Nordjyllands Storkreds"
          ],
          [
           "Bo Ritterbusch",
           "Liberal Alliance",
           53,
           "Nordjyllands Storkreds"
          ],
          [
           "Sólbjørg Jakobsen",
           "Liberal Alliance",
           31,
           "Nordjyllands Storkreds"
          ],
          [
           "Clara Malmqvist",
           "Liberal Alliance",
           26,
           "Bornholms Storkreds"
          ],
          [
           "Sinus Kremmer",
           "Liberal Alliance",
           18,
           "Fyns Storkreds"
          ],
          [
           "Christoffer Overgaard Munk",
           "Liberal Alliance",
           28,
           "Fyns Storkreds"
          ],
          [
           "Silke Anna Hein",
           "Liberal Alliance",
           22,
           "Fyns Storkreds"
          ],
          [
           "Katrine Daugaard",
           "Liberal Alliance",
           41,
           "Fyns Storkreds"
          ],
          [
           "Anders Kirkeby",
           "Liberal Alliance",
           31,
           "Fyns Storkreds"
          ],
          [
           "Helle Jensen",
           "Liberal Alliance",
           44,
           "Vestjyllands Storkreds"
          ],
          [
           "Thorbjørn Jacobsen",
           "Liberal Alliance",
           42,
           "Vestjyllands Storkreds"
          ],
          [
           "Steffen Troldtoft",
           "Liberal Alliance",
           0,
           "Vestjyllands Storkreds"
          ],
          [
           "Frederik Gottenborg Jacobsen",
           "Liberal Alliance",
           23,
           "Vestjyllands Storkreds"
          ],
          [
           "Mikkel Rentzø",
           "Liberal Alliance",
           21,
           "Vestjyllands Storkreds"
          ],
          [
           "Svend Stein Olsen",
           "Liberal Alliance",
           18,
           "Vestjyllands Storkreds"
          ],
          [
           "Carsten Bach",
           "Liberal Alliance",
           46,
           "Vestjyllands Storkreds"
          ],
          [
           "Lene Foged",
           "Liberal Alliance",
           52,
           "Vestjyllands Storkreds"
          ],
          [
           "Dorthe Wildt Nielsen",
           "Liberal Alliance",
           56,
           "Sydjyllands Storkreds"
          ],
          [
           "Kim Alexander Jensen",
           "Liberal Alliance",
           35,
           "Sydjyllands Storkreds"
          ],
          [
           "Kenneth Kirkeby",
           "Liberal Alliance",
           34,
           "Sydjyllands Storkreds"
          ],
          [
           "Carsten Andersen",
           "Liberal Alliance",
           44,
           "Sydjyllands Storkreds"
          ],
          [
           "Helena Artmann Andresen",
           "Liberal Alliance",
           21,
           "Sydjyllands Storkreds"
          ],
          [
           "Tobias Pagh",
           "Liberal Alliance",
           20,
           "Sydjyllands Storkreds"
          ],
          [
           "Mikkel Pedersen",
           "Liberal Alliance",
           27,
           "Sydjyllands Storkreds"
          ],
          [
           "Henrik Dahl",
           "Liberal Alliance",
           62,
           "Sydjyllands Storkreds"
          ],
          [
           "Carl Andersen",
           "Liberal Alliance",
           27,
           "Sydjyllands Storkreds"
          ],
          [
           "Joachim Riis-Bernickow",
           "Liberal Alliance",
           33,
           "Sjællands Storkreds"
          ],
          [
           "Flemming Sørensen",
           "Liberal Alliance",
           67,
           "Sjællands Storkreds"
          ],
          [
           "Frederik Grünfeld",
           "Liberal Alliance",
           26,
           "Sjællands Storkreds"
          ],
          [
           "Nicolai Wøldike Sandager",
           "Liberal Alliance",
           46,
           "Sjællands Storkreds"
          ],
          [
           "Nikolaj Vester",
           "Liberal Alliance",
           26,
           "Sjællands Storkreds"
          ],
          [
           "Lars-Christian Brask",
           "Liberal Alliance",
           59,
           "Sjællands Storkreds"
          ],
          [
           "Sandra Elisabeth Skalvig",
           "Liberal Alliance",
           32,
           "Sjællands Storkreds"
          ],
          [
           "Josephine Svane",
           "Liberal Alliance",
           0,
           "Nordsjællands Storkreds"
          ],
          [
           "Marianne Porsborg",
           "Liberal Alliance",
           53,
           "Nordsjællands Storkreds"
          ],
          [
           "Lars Høyer Holmqvist",
           "Liberal Alliance",
           44,
           "Nordsjællands Storkreds"
          ],
          [
           "Robert Mørck",
           "Liberal Alliance",
           40,
           "Nordsjællands Storkreds"
          ],
          [
           "Steffen Sjørslev",
           "Liberal Alliance",
           25,
           "Nordsjællands Storkreds"
          ],
          [
           "Kira Danholm",
           "Liberal Alliance",
           32,
           "Nordsjællands Storkreds"
          ],
          [
           "Steffen Frølund",
           "Liberal Alliance",
           38,
           "Nordsjællands Storkreds"
          ],
          [
           "Kim Bjørnstrup",
           "Liberal Alliance",
           64,
           "Nordsjællands Storkreds"
          ],
          [
           "Louise Siv Ebbesen",
           "Liberal Alliance",
           32,
           "Københavns Omegns Storkreds"
          ],
          [
           "Jørgen Mathow-Juhl",
           "Liberal Alliance",
           56,
           "Københavns Omegns Storkreds"
          ],
          [
           "Danny Malkowski",
           "Liberal Alliance",
           38,
           "Københavns Omegns Storkreds"
          ],
          [
           "Peter Loft",
           "Liberal Alliance",
           65,
           "Københavns Omegns Storkreds"
          ],
          [
           "David Ibsen",
           "Liberal Alliance",
           44,
           "Københavns Omegns Storkreds"
          ],
          [
           "Søren Schmidt-Andersen",
           "Liberal Alliance",
           21,
           "Københavns Omegns Storkreds"
          ],
          [
           "Simon Karim Helledie",
           "Liberal Alliance",
           25,
           "Københavns Omegns Storkreds"
          ],
          [
           "Steffen Larsen",
           "Liberal Alliance",
           38,
           "Københavns Omegns Storkreds"
          ]
         ],
         "hovertemplate": "Party=%{customdata[1]}<br>Component 1=%{x}<br>Component 2=%{y}<br>Candidate=%{customdata[0]}<br>Age=%{customdata[2]}<br>Constituency=%{customdata[3]}<extra></extra>",
         "legendgroup": "Liberal Alliance",
         "marker": {
          "color": "rgb(33, 198, 207)",
          "line": {
           "color": "DarkSlateGrey",
           "width": 1
          },
          "size": 10,
          "symbol": "circle"
         },
         "mode": "markers",
         "name": "Liberal Alliance",
         "orientation": "v",
         "showlegend": true,
         "textposition": "top center",
         "type": "scatter",
         "x": [
          2.115670835696788,
          6.820512249138342,
          3.7550525477888543,
          5.844832019292316,
          5.713393256197157,
          5.117596708235526,
          5.871757677997313,
          5.6489082462209605,
          5.973619627510754,
          4.779544169272139,
          6.309030775922825,
          6.211765937085459,
          5.103812029110427,
          4.111864736016553,
          3.735216613412572,
          5.615429447435292,
          6.260155157870825,
          4.667929802759784,
          5.246234570234849,
          6.29578797735772,
          3.183265237250489,
          4.92915763937879,
          5.050172024815452,
          6.119407941541156,
          4.907368151145879,
          6.394830093730787,
          6.052460465313404,
          4.044673072759898,
          6.172975251594345,
          4.455128777619471,
          5.057441448542868,
          5.218033742279093,
          6.25571479535076,
          4.784542083079002,
          6.140228372081541,
          5.62571314934529,
          6.050596591588588,
          4.481357537870935,
          6.343814853078982,
          6.090123903630886,
          4.8262361774359785,
          6.786759306525897,
          5.53351038473439,
          6.4293023996048415,
          5.823773431269547,
          6.315459479458952,
          6.842900578834841,
          4.435628540812903,
          5.1536755063071285,
          5.923882791971606,
          6.813103770028534,
          5.535695230317739,
          4.138263189891153,
          6.909541967616802,
          5.24251691996904,
          5.394011246599607,
          5.194854312739962,
          3.2228555762062396,
          7.1122223332880425,
          5.995920635917885,
          6.023949999886529,
          4.712761507828663,
          7.60285639788266,
          4.580977042919387,
          5.125322380431579,
          5.256283422525928,
          5.476809885604664,
          3.998225252079241,
          4.646890991487949,
          6.724972457923174
         ],
         "xaxis": "x",
         "y": [
          -2.670375738222334,
          -1.713037757113508,
          -3.2054605096597077,
          -2.5880758018234786,
          -3.2769063296667778,
          -3.5549558110609447,
          -1.4858457727058028,
          -2.919437963764801,
          -2.788866041014909,
          -1.8485330266592463,
          -3.073592278487143,
          -3.8401718286937467,
          -3.0489288843080367,
          -3.667282812169189,
          -4.578197454504456,
          -2.0430874576081774,
          -3.179810837963021,
          -2.999812592793791,
          -3.783118112795231,
          -2.4234319695528947,
          -1.817845175163073,
          -1.1829445347389476,
          -2.1741416321226765,
          -2.4282595770266266,
          -3.176988788682128,
          -3.004128716128635,
          -4.036130952384124,
          -2.556320749724764,
          -2.6900023886246713,
          -3.157372614700533,
          -2.981805546814674,
          -3.9985536738901057,
          -2.3452130170084247,
          -2.8511751344708944,
          -2.4854456517853016,
          -2.809706037677892,
          -2.2736101260082746,
          -0.9720042346568126,
          -2.895068200451442,
          -2.778815291913932,
          -4.249565898536201,
          -2.1390392946086663,
          -1.7383072406354383,
          -3.519516298051946,
          -2.72710588189179,
          -0.8720454850651519,
          -2.0112082847105217,
          -3.071378445473255,
          -2.513521651306431,
          -1.961738343581311,
          -2.777992094256796,
          -3.399137896748267,
          -2.045962136675049,
          -2.258607099220999,
          -3.8662449223556825,
          -2.8024346660171453,
          -2.210558411231123,
          -2.5105492820444977,
          -4.24382478734138,
          -3.1555365271759737,
          -4.784391498837191,
          -3.5290314924965194,
          -2.7668280923240793,
          -1.1164068735367039,
          -3.334997134444123,
          -3.132606561457642,
          -3.15521543150413,
          -5.032248154190226,
          -2.6744777884997215,
          -3.3768182698344384
         ],
         "yaxis": "y"
        },
        {
         "customdata": [
          [
           "Inger-Marie Tryde",
           "Nye Borgerlige",
           49,
           "Østjyllands Storkreds"
          ],
          [
           "Jens Lundager",
           "Nye Borgerlige",
           55,
           "Østjyllands Storkreds"
          ],
          [
           "Lars Axel Nielsen",
           "Nye Borgerlige",
           51,
           "Østjyllands Storkreds"
          ],
          [
           "Karina Kirk",
           "Nye Borgerlige",
           46,
           "Østjyllands Storkreds"
          ],
          [
           "Jes Halfdan",
           "Nye Borgerlige",
           58,
           "Østjyllands Storkreds"
          ],
          [
           "Lars Boje Mathiesen",
           "Nye Borgerlige",
           47,
           "Østjyllands Storkreds"
          ],
          [
           "Daniel Pinderup",
           "Nye Borgerlige",
           0,
           "Københavns Storkreds"
          ],
          [
           "Denise Rostgaard",
           "Nye Borgerlige",
           36,
           "Københavns Storkreds"
          ],
          [
           "Niels Peder Ravn",
           "Nye Borgerlige",
           55,
           "Københavns Storkreds"
          ],
          [
           "Brian Nielsen",
           "Nye Borgerlige",
           46,
           "Nordjyllands Storkreds"
          ],
          [
           "Sysser Nørholm",
           "Nye Borgerlige",
           58,
           "Nordjyllands Storkreds"
          ],
          [
           "Lars Rem",
           "Nye Borgerlige",
           60,
           "Nordjyllands Storkreds"
          ],
          [
           "John Bjerg",
           "Nye Borgerlige",
           58,
           "Nordjyllands Storkreds"
          ],
          [
           "Kim Edberg",
           "Nye Borgerlige",
           49,
           "Nordjyllands Storkreds"
          ],
          [
           "Jakob Buchwald Busk",
           "Nye Borgerlige",
           53,
           "Bornholms Storkreds"
          ],
          [
           "Nicolaj Holm Pedersen",
           "Nye Borgerlige",
           22,
           "Fyns Storkreds"
          ],
          [
           "Lars Sternkopf Lillebæk",
           "Nye Borgerlige",
           42,
           "Fyns Storkreds"
          ],
          [
           "Henrik Tørnqvist Lauridsen",
           "Nye Borgerlige",
           55,
           "Fyns Storkreds"
          ],
          [
           "Malte Jäger",
           "Nye Borgerlige",
           20,
           "Fyns Storkreds"
          ],
          [
           "Jonas René Jensen",
           "Nye Borgerlige",
           41,
           "Fyns Storkreds"
          ],
          [
           "Mikkel Bjørn",
           "Nye Borgerlige",
           27,
           "Fyns Storkreds"
          ],
          [
           "Melanie Jørgensen",
           "Nye Borgerlige",
           26,
           "Fyns Storkreds"
          ],
          [
           "Allan Berg",
           "Nye Borgerlige",
           52,
           "Vestjyllands Storkreds"
          ],
          [
           "Knud Nielsen",
           "Nye Borgerlige",
           66,
           "Vestjyllands Storkreds"
          ],
          [
           "Tenna Røberg",
           "Nye Borgerlige",
           21,
           "Vestjyllands Storkreds"
          ],
          [
           "Mogens Aaby",
           "Nye Borgerlige",
           57,
           "Vestjyllands Storkreds"
          ],
          [
           "Thomas Vedsted",
           "Nye Borgerlige",
           51,
           "Sydjyllands Storkreds"
          ],
          [
           "Marianne Mathiesen",
           "Nye Borgerlige",
           70,
           "Sydjyllands Storkreds"
          ],
          [
           "Kim Andkjær Doberck",
           "Nye Borgerlige",
           43,
           "Sydjyllands Storkreds"
          ],
          [
           "Hans-Christian Gjerlevsen",
           "Nye Borgerlige",
           35,
           "Sydjyllands Storkreds"
          ],
          [
           "Bo Kleis Christensen",
           "Nye Borgerlige",
           46,
           "Sydjyllands Storkreds"
          ],
          [
           "Rune Bønnelykke",
           "Nye Borgerlige",
           50,
           "Sydjyllands Storkreds"
          ],
          [
           "Tom Andkjær",
           "Nye Borgerlige",
           52,
           "Sydjyllands Storkreds"
          ],
          [
           "Pernille Vermund",
           "Nye Borgerlige",
           46,
           "Sydjyllands Storkreds"
          ],
          [
           "Karsten Byrgesen",
           "Nye Borgerlige",
           67,
           "Sydjyllands Storkreds"
          ],
          [
           "Jan Køpke Christensen",
           "Nye Borgerlige",
           67,
           "Sydjyllands Storkreds"
          ],
          [
           "Jan Bigum Warming",
           "Nye Borgerlige",
           42,
           "Sjællands Storkreds"
          ],
          [
           "Githa Lone Nelander",
           "Nye Borgerlige",
           61,
           "Sjællands Storkreds"
          ],
          [
           "Claus Bedemann",
           "Nye Borgerlige",
           61,
           "Sjællands Storkreds"
          ],
          [
           "Peter Seier Christensen",
           "Nye Borgerlige",
           54,
           "Sjællands Storkreds"
          ],
          [
           "Ulrik Lassen",
           "Nye Borgerlige",
           54,
           "Sjællands Storkreds"
          ],
          [
           "Henriette Ergemann",
           "Nye Borgerlige",
           48,
           "Sjællands Storkreds"
          ],
          [
           "Per Olsen",
           "Nye Borgerlige",
           47,
           "Nordsjællands Storkreds"
          ],
          [
           "Søren Regenberg",
           "Nye Borgerlige",
           49,
           "Nordsjællands Storkreds"
          ],
          [
           "Mette Thiesen",
           "Nye Borgerlige",
           40,
           "Nordsjællands Storkreds"
          ],
          [
           "Søren Højbjerg",
           "Nye Borgerlige",
           60,
           "Nordsjællands Storkreds"
          ],
          [
           "Claus Bruncke",
           "Nye Borgerlige",
           67,
           "Nordsjællands Storkreds"
          ],
          [
           "Carsten Winther",
           "Nye Borgerlige",
           52,
           "Nordsjællands Storkreds"
          ],
          [
           "Alberte Rasmussen",
           "Nye Borgerlige",
           34,
           "Københavns Omegns Storkreds"
          ],
          [
           "Claus Bøgh Svenningsen",
           "Nye Borgerlige",
           31,
           "Københavns Omegns Storkreds"
          ],
          [
           "Ulla Kokfelt",
           "Nye Borgerlige",
           49,
           "Københavns Omegns Storkreds"
          ]
         ],
         "hovertemplate": "Party=%{customdata[1]}<br>Component 1=%{x}<br>Component 2=%{y}<br>Candidate=%{customdata[0]}<br>Age=%{customdata[2]}<br>Constituency=%{customdata[3]}<extra></extra>",
         "legendgroup": "Nye Borgerlige",
         "marker": {
          "color": "rgb(5, 79, 92)",
          "line": {
           "color": "DarkSlateGrey",
           "width": 1
          },
          "size": 10,
          "symbol": "circle"
         },
         "mode": "markers",
         "name": "Nye Borgerlige",
         "orientation": "v",
         "showlegend": true,
         "textposition": "top center",
         "type": "scatter",
         "x": [
          6.007701005307819,
          6.103439347851033,
          6.149111090277438,
          5.358853038849074,
          5.921573066745902,
          5.702659331034953,
          5.866285074438133,
          5.71820938602728,
          6.758482411808334,
          6.646988828178781,
          6.401257615987166,
          6.355335860295384,
          7.205315062592104,
          6.286394842279794,
          6.555312786385437,
          6.415073993564901,
          6.344225302565964,
          5.622862011124103,
          7.190394736873584,
          6.234857377888154,
          6.373868197299819,
          5.476486513841668,
          5.7402772254343315,
          5.29287186637032,
          5.838328409412513,
          6.968282477022051,
          8.10233350275237,
          6.756279217619351,
          6.32893106571043,
          6.551194488973395,
          6.482090323154603,
          5.931371427787284,
          6.585354889465175,
          6.646988828178781,
          4.9275309674993855,
          5.557671921338537,
          6.646988828178781,
          6.670773375292191,
          4.964341024907705,
          6.537584306864943,
          6.54717375729519,
          6.2706039491597645,
          5.814478908712065,
          7.545234949572501,
          6.5168016962311865,
          6.730993847171394,
          5.751954795635064,
          6.391009958447177,
          6.92579440699524,
          6.751673487221711,
          6.537584306864943
         ],
         "xaxis": "x",
         "y": [
          1.5719024204141019,
          2.655444336265989,
          1.9889450444712984,
          2.1689564284031495,
          1.8919267298162534,
          1.9958180478706873,
          2.188432895712264,
          2.236917692712505,
          1.5900560166707554,
          2.1675932267817433,
          2.0979379917799346,
          2.153074271991067,
          2.5793774193812795,
          2.1440660875753905,
          2.092776247517564,
          2.1349432660198926,
          -0.11630658812085412,
          2.4815475304013686,
          1.255200459933117,
          2.629830311833842,
          2.9038513532598866,
          2.7312120672253153,
          1.854185475698819,
          1.886476394059587,
          2.0109461109955142,
          0.2315509383646258,
          -0.9228388970374538,
          1.6611313216385046,
          3.4992081315193504,
          2.0530165321859473,
          2.3846270228384423,
          1.5934957481950673,
          1.639951887091889,
          2.1675932267817433,
          2.387326653684448,
          3.2265134640502504,
          2.1675932267817433,
          1.7281732890874517,
          2.680101303602982,
          2.1267987222199016,
          1.222847213992035,
          2.3627700147636537,
          1.8936024369664497,
          0.7035585198967484,
          2.2895601261890146,
          1.4112774068215415,
          2.713279776934232,
          0.8117846245154455,
          2.2645348787874076,
          2.4404648227502346,
          2.1267987222199016
         ],
         "yaxis": "y"
        },
        {
         "customdata": [
          [
           "Heidi Printzen",
           "Det Konservative Folkeparti",
           50,
           "Østjyllands Storkreds"
          ],
          [
           "Søren Vanting",
           "Det Konservative Folkeparti",
           50,
           "Østjyllands Storkreds"
          ],
          [
           "Per Urban Olsen",
           "Det Konservative Folkeparti",
           61,
           "Østjyllands Storkreds"
          ],
          [
           "Marcus Knuth",
           "Det Konservative Folkeparti",
           46,
           "Østjyllands Storkreds"
          ],
          [
           "Kristian Damsgaard",
           "Det Konservative Folkeparti",
           53,
           "Østjyllands Storkreds"
          ],
          [
           "Anders Krojgaard Lund",
           "Det Konservative Folkeparti",
           32,
           "Østjyllands Storkreds"
          ],
          [
           "Klaus Nyengaard",
           "Det Konservative Folkeparti",
           52,
           "Østjyllands Storkreds"
          ],
          [
           "Frederikke Noa Jung",
           "Det Konservative Folkeparti",
           21,
           "Østjyllands Storkreds"
          ],
          [
           "Charlotte Green",
           "Det Konservative Folkeparti",
           48,
           "Østjyllands Storkreds"
          ],
          [
           "Isabella Arendt Vlasman",
           "Det Konservative Folkeparti",
           29,
           "Østjyllands Storkreds"
          ],
          [
           "Lotte Friis Böing",
           "Det Konservative Folkeparti",
           29,
           "Østjyllands Storkreds"
          ],
          [
           "Mona Juul",
           "Det Konservative Folkeparti",
           55,
           "Østjyllands Storkreds"
          ],
          [
           "Peter Stakemann",
           "Det Konservative Folkeparti",
           53,
           "Københavns Storkreds"
          ],
          [
           "Martin Wood Pedersen",
           "Det Konservative Folkeparti",
           52,
           "Københavns Storkreds"
          ],
          [
           "Laura Lindahl",
           "Det Konservative Folkeparti",
           39,
           "Københavns Storkreds"
          ],
          [
           "Casper Øhlers",
           "Det Konservative Folkeparti",
           23,
           "Københavns Storkreds"
          ],
          [
           "Nicola Emily Larsen",
           "Det Konservative Folkeparti",
           20,
           "Københavns Storkreds"
          ],
          [
           "Helle Jønch",
           "Det Konservative Folkeparti",
           50,
           "Københavns Storkreds"
          ],
          [
           "Nikolaj Bøgh",
           "Det Konservative Folkeparti",
           53,
           "Københavns Storkreds"
          ],
          [
           "Rico Djernis",
           "Det Konservative Folkeparti",
           53,
           "Københavns Storkreds"
          ],
          [
           "Helle Bonnesen",
           "Det Konservative Folkeparti",
           0,
           "Københavns Storkreds"
          ],
          [
           "Allan Beier",
           "Det Konservative Folkeparti",
           41,
           "Københavns Storkreds"
          ],
          [
           "Katarina Ammitzbøll",
           "Det Konservative Folkeparti",
           53,
           "Københavns Storkreds"
          ],
          [
           "Anders Krøyer",
           "Det Konservative Folkeparti",
           37,
           "Københavns Storkreds"
          ],
          [
           "Mia Tang",
           "Det Konservative Folkeparti",
           50,
           "Nordjyllands Storkreds"
          ],
          [
           "Karsten Skov Petersen",
           "Det Konservative Folkeparti",
           66,
           "Nordjyllands Storkreds"
          ],
          [
           "Jakob Axel Nielsen",
           "Det Konservative Folkeparti",
           55,
           "Nordjyllands Storkreds"
          ],
          [
           "Alexander Klitgaard",
           "Det Konservative Folkeparti",
           21,
           "Nordjyllands Storkreds"
          ],
          [
           "Jens-Henrik Kirk",
           "Det Konservative Folkeparti",
           45,
           "Nordjyllands Storkreds"
          ],
          [
           "Mette Jensen",
           "Det Konservative Folkeparti",
           54,
           "Nordjyllands Storkreds"
          ],
          [
           "Mikkel Højsleth",
           "Det Konservative Folkeparti",
           38,
           "Nordjyllands Storkreds"
          ],
          [
           "Per Larsen",
           "Det Konservative Folkeparti",
           57,
           "Nordjyllands Storkreds"
          ],
          [
           "Lene Burchardt",
           "Det Konservative Folkeparti",
           55,
           "Nordjyllands Storkreds"
          ],
          [
           "Lene Brix Kjelgaard Jensen",
           "Det Konservative Folkeparti",
           64,
           "Nordjyllands Storkreds"
          ],
          [
           "Sebastian Larvad",
           "Det Konservative Folkeparti",
           21,
           "Bornholms Storkreds"
          ],
          [
           "Henriette Søvind",
           "Det Konservative Folkeparti",
           51,
           "Bornholms Storkreds"
          ],
          [
           "Diana-Ester Eriksen",
           "Det Konservative Folkeparti",
           25,
           "Bornholms Storkreds"
          ],
          [
           "Emil Holbech Hansen",
           "Det Konservative Folkeparti",
           20,
           "Fyns Storkreds"
          ],
          [
           "John Hoppe",
           "Det Konservative Folkeparti",
           46,
           "Fyns Storkreds"
          ],
          [
           "Anne Fiber",
           "Det Konservative Folkeparti",
           41,
           "Fyns Storkreds"
          ],
          [
           "Tobias Bennedsen",
           "Det Konservative Folkeparti",
           36,
           "Fyns Storkreds"
          ],
          [
           "Roya Moore",
           "Det Konservative Folkeparti",
           0,
           "Fyns Storkreds"
          ],
          [
           "Joachim Hoffmann-Petersen",
           "Det Konservative Folkeparti",
           43,
           "Fyns Storkreds"
          ],
          [
           "Kristian Guldfeldt",
           "Det Konservative Folkeparti",
           31,
           "Fyns Storkreds"
          ],
          [
           "Anders Johansson",
           "Det Konservative Folkeparti",
           41,
           "Fyns Storkreds"
          ],
          [
           "Mai Mercado",
           "Det Konservative Folkeparti",
           42,
           "Fyns Storkreds"
          ],
          [
           "Gitte Willumsen",
           "Det Konservative Folkeparti",
           55,
           "Vestjyllands Storkreds"
          ],
          [
           "Trine Trærup Roungkvist",
           "Det Konservative Folkeparti",
           30,
           "Vestjyllands Storkreds"
          ],
          [
           "Bitten Kvist Jakobsen",
           "Det Konservative Folkeparti",
           53,
           "Vestjyllands Storkreds"
          ],
          [
           "Lennart Qvist",
           "Det Konservative Folkeparti",
           52,
           "Vestjyllands Storkreds"
          ],
          [
           "Dina Myrup Raabjerg",
           "Det Konservative Folkeparti",
           51,
           "Vestjyllands Storkreds"
          ],
          [
           "Siff Tang Lassen",
           "Det Konservative Folkeparti",
           20,
           "Vestjyllands Storkreds"
          ],
          [
           "Michael Norup",
           "Det Konservative Folkeparti",
           51,
           "Vestjyllands Storkreds"
          ],
          [
           "Ole Gade",
           "Det Konservative Folkeparti",
           58,
           "Vestjyllands Storkreds"
          ],
          [
           "Mogens Birkelund",
           "Det Konservative Folkeparti",
           54,
           "Vestjyllands Storkreds"
          ],
          [
           "Lise Bertelsen",
           "Det Konservative Folkeparti",
           47,
           "Vestjyllands Storkreds"
          ],
          [
           "Søren Pape Poulsen",
           "Det Konservative Folkeparti",
           50,
           "Vestjyllands Storkreds"
          ],
          [
           "Dorthe Schmittroth",
           "Det Konservative Folkeparti",
           41,
           "Sydjyllands Storkreds"
          ],
          [
           "Rikke Norlyk",
           "Det Konservative Folkeparti",
           53,
           "Sydjyllands Storkreds"
          ],
          [
           "Kirsten Hassing Nielsen",
           "Det Konservative Folkeparti",
           45,
           "Sydjyllands Storkreds"
          ],
          [
           "Rasmus Sandvej",
           "Det Konservative Folkeparti",
           37,
           "Sydjyllands Storkreds"
          ],
          [
           "Frederik Bloch Münster",
           "Det Konservative Folkeparti",
           28,
           "Sydjyllands Storkreds"
          ],
          [
           "Casper Nørgaard Maglekær",
           "Det Konservative Folkeparti",
           36,
           "Sydjyllands Storkreds"
          ],
          [
           "Christian Lorenzen",
           "Det Konservative Folkeparti",
           44,
           "Sydjyllands Storkreds"
          ],
          [
           "Dan Foss Kragh",
           "Det Konservative Folkeparti",
           57,
           "Sydjyllands Storkreds"
          ],
          [
           "Birgitte Klippert",
           "Det Konservative Folkeparti",
           37,
           "Sydjyllands Storkreds"
          ],
          [
           "Steen Holm Iversen",
           "Det Konservative Folkeparti",
           58,
           "Sydjyllands Storkreds"
          ],
          [
           "Jesper Højmark Esbensen",
           "Det Konservative Folkeparti",
           55,
           "Sydjyllands Storkreds"
          ],
          [
           "Steffen Peter Hansen",
           "Det Konservative Folkeparti",
           36,
           "Sydjyllands Storkreds"
          ],
          [
           "Rasmus Elkjær Larsen",
           "Det Konservative Folkeparti",
           51,
           "Sydjyllands Storkreds"
          ],
          [
           "Niels Flemming Hansen",
           "Det Konservative Folkeparti",
           48,
           "Sydjyllands Storkreds"
          ],
          [
           "Rasmus Dahlberg",
           "Det Konservative Folkeparti",
           45,
           "Sydjyllands Storkreds"
          ],
          [
           "Jacob Stryhn",
           "Det Konservative Folkeparti",
           52,
           "Sjællands Storkreds"
          ],
          [
           "Mads Silberg",
           "Det Konservative Folkeparti",
           50,
           "Sjællands Storkreds"
          ],
          [
           "Regitze Harslund Sancoeur",
           "Det Konservative Folkeparti",
           23,
           "Sjællands Storkreds"
          ],
          [
           "Helle Laursen Petersen",
           "Det Konservative Folkeparti",
           58,
           "Sjællands Storkreds"
          ],
          [
           "Annette Juhler Kjær",
           "Det Konservative Folkeparti",
           61,
           "Sjællands Storkreds"
          ],
          [
           "Stine Pilt Olsen",
           "Det Konservative Folkeparti",
           0,
           "Sjællands Storkreds"
          ],
          [
           "Rune Kristensen",
           "Det Konservative Folkeparti",
           40,
           "Sjællands Storkreds"
          ],
          [
           "Andreas Karlsen",
           "Det Konservative Folkeparti",
           0,
           "Sjællands Storkreds"
          ],
          [
           "Brigitte Klintskov Jerkel",
           "Det Konservative Folkeparti",
           53,
           "Sjællands Storkreds"
          ],
          [
           "Claus Dyremose",
           "Det Konservative Folkeparti",
           52,
           "Sjællands Storkreds"
          ],
          [
           "Camillo Krog",
           "Det Konservative Folkeparti",
           45,
           "Sjællands Storkreds"
          ],
          [
           "Niels Martin Viuff",
           "Det Konservative Folkeparti",
           62,
           "Nordsjællands Storkreds"
          ],
          [
           "Christoffer Buster Reinhardt",
           "Det Konservative Folkeparti",
           31,
           "Nordsjællands Storkreds"
          ],
          [
           "Emma Juul Hansen",
           "Det Konservative Folkeparti",
           22,
           "Nordsjællands Storkreds"
          ],
          [
           "Egil Hulgaard",
           "Det Konservative Folkeparti",
           60,
           "Nordsjællands Storkreds"
          ],
          [
           "Mette Abildgaard",
           "Det Konservative Folkeparti",
           34,
           "Nordsjællands Storkreds"
          ],
          [
           "Birgitte Bergman",
           "Det Konservative Folkeparti",
           55,
           "Nordsjællands Storkreds"
          ],
          [
           "Nikolaj Frederiksen",
           "Det Konservative Folkeparti",
           54,
           "Nordsjællands Storkreds"
          ],
          [
           "Rasmus Jarlov",
           "Det Konservative Folkeparti",
           45,
           "Københavns Omegns Storkreds"
          ],
          [
           "Henrik Sørensen",
           "Det Konservative Folkeparti",
           56,
           "Københavns Omegns Storkreds"
          ],
          [
           "Michael R. Rugaard",
           "Det Konservative Folkeparti",
           57,
           "Københavns Omegns Storkreds"
          ],
          [
           "Tina Cartey Hansen",
           "Det Konservative Folkeparti",
           44,
           "Københavns Omegns Storkreds"
          ],
          [
           "Magnus Von Dreiager",
           "Det Konservative Folkeparti",
           24,
           "Københavns Omegns Storkreds"
          ],
          [
           "Hanne Bjørn",
           "Det Konservative Folkeparti",
           50,
           "Københavns Omegns Storkreds"
          ],
          [
           "Britt Bager",
           "Det Konservative Folkeparti",
           46,
           "Københavns Omegns Storkreds"
          ],
          [
           "Merete Scheelsbeck",
           "Det Konservative Folkeparti",
           36,
           "Københavns Omegns Storkreds"
          ]
         ],
         "hovertemplate": "Party=%{customdata[1]}<br>Component 1=%{x}<br>Component 2=%{y}<br>Candidate=%{customdata[0]}<br>Age=%{customdata[2]}<br>Constituency=%{customdata[3]}<extra></extra>",
         "legendgroup": "Det Konservative Folkeparti",
         "marker": {
          "color": "rgb(158, 186, 39)",
          "line": {
           "color": "DarkSlateGrey",
           "width": 1
          },
          "size": 10,
          "symbol": "circle"
         },
         "mode": "markers",
         "name": "Det Konservative Folkeparti",
         "orientation": "v",
         "showlegend": true,
         "textposition": "top center",
         "type": "scatter",
         "x": [
          4.582351777871213,
          4.340412603628228,
          1.1978329775879182,
          5.562863252034225,
          2.2536044192075315,
          6.064235767646821,
          3.859975640391062,
          5.6147696009272865,
          2.413751133708971,
          3.628676231147493,
          4.220128856158249,
          4.042857018824551,
          4.281854764508042,
          1.7962028800995047,
          4.29983158069341,
          3.1636366109457823,
          3.948737191390091,
          5.970685534073952,
          5.073565006660018,
          5.528590603208562,
          3.164352625835818,
          3.9872774725086884,
          3.247279924521879,
          5.699943946030591,
          5.784432969227219,
          6.572565418277592,
          6.351360696134514,
          5.172442500372767,
          3.4563764319412624,
          5.316420322663984,
          5.581782199173027,
          5.994047071108012,
          2.8562860766553118,
          4.171128088809239,
          2.686845540897115,
          0.9244663118728915,
          1.8589082186459231,
          6.237407961718721,
          5.431506566370531,
          1.8978581115642688,
          5.905723293753973,
          4.771593896979969,
          2.681504174993152,
          4.415121349801464,
          5.251724500185984,
          6.26847384366962,
          5.278857982872648,
          5.8757236230951095,
          1.26101344718167,
          3.178036931516681,
          2.9477626687646286,
          4.902897561849961,
          5.246969895254491,
          4.214021090859432,
          4.6570075704315315,
          3.3105032634775333,
          5.872134752981372,
          2.2775920582212237,
          6.355332542449404,
          3.126165430030747,
          3.7448822411634177,
          5.091250649148088,
          6.137003876448941,
          2.5825442537309558,
          6.0393262852636544,
          5.674345919946271,
          4.657526676519166,
          5.132786044100346,
          3.5653406290937677,
          1.6076387875898295,
          5.56676293558443,
          4.9801026540215245,
          1.996515842660005,
          -1.1959513802726316,
          3.6919889099935133,
          5.149139433253606,
          3.3194409349295264,
          5.329575239516374,
          5.744791796781462,
          5.875519322685437,
          5.981303273919104,
          4.79646400097504,
          2.7394854343855553,
          1.2988314247980268,
          4.873904229007643,
          4.64915706742297,
          3.678140354666574,
          3.9164742317577814,
          4.922573221108473,
          6.011334168482558,
          5.108011131422691,
          5.584616559690605,
          3.4867475529195975,
          4.343707401526731,
          4.635848403348224,
          4.5248812847913715,
          4.627663250612823,
          4.941358461688836
         ],
         "xaxis": "x",
         "y": [
          -0.9368019184824229,
          -0.6897859108412508,
          -1.8955077947370886,
          1.4579849740219477,
          -1.0696929780978734,
          -2.499045562711828,
          -2.405306310150536,
          -0.05450439865413061,
          -0.44448323556001296,
          -1.030993726969068,
          -0.4299791887165237,
          -1.0517369084841661,
          -1.5770714924619131,
          -0.9342620832085597,
          -0.3232067725943997,
          -1.66635151624001,
          -1.1350734905282591,
          1.183195374089552,
          -1.39604811812822,
          0.07156903594861505,
          -2.085290202339139,
          0.0737474568139338,
          -1.4042595165681586,
          -0.12394339485421216,
          0.19745296203734927,
          0.44410751201587073,
          -0.28884470792176736,
          -2.8486845175936235,
          0.8322339585703593,
          -0.8601777691795641,
          0.5073166881661468,
          0.06661481722771917,
          -1.5782464293949936,
          -0.8292333532276009,
          -1.7853690505314201,
          0.5014416865068065,
          0.7342979276816792,
          0.33177525034552396,
          -0.4510238109257902,
          0.006920562065001894,
          0.4564173858327008,
          -1.5539545991220265,
          -0.3990300969201341,
          1.1100893726387187,
          1.1093798506409913,
          1.0077464562362146,
          1.223350930723262,
          -0.4355030853635194,
          -0.40085561903996186,
          -0.11507047150405289,
          -1.4410179801423233,
          -1.1138894613422388,
          -0.14160700830252204,
          -1.608876487620698,
          -2.3516278369734893,
          -0.43541342953630335,
          0.5129692252335393,
          -2.347926748111699,
          -1.132503687655428,
          -1.3140611172374148,
          0.2571085663962531,
          0.16987385570187197,
          -1.703325936082757,
          0.137606820524671,
          -0.7236393463725631,
          0.29301120361957117,
          -0.11164592286360314,
          -0.3813712229240044,
          0.19865630840054782,
          -1.5889552559564737,
          0.3240236866350217,
          -0.031066028238130157,
          -1.4248915912725326,
          -3.6945165833544737,
          -1.8619136775707084,
          -0.1038229656174362,
          -1.573310106821112,
          0.7231010846109355,
          -0.8907249734566843,
          1.6526615065591248,
          0.5293913657361208,
          0.5674011109466407,
          -0.2644403593899835,
          0.12673222099873804,
          -1.478658258948666,
          -0.2816706871968174,
          -0.753495816665031,
          -0.30224258562771467,
          -0.07641744196032478,
          0.6773301039860179,
          -2.2343726624070768,
          -2.912512175268223,
          -1.842826040106504,
          -1.0788987457790407,
          -0.7068229766592246,
          -1.3864613684407965,
          0.7535537570772689,
          -0.9556030844195254
         ],
         "yaxis": "y"
        },
        {
         "customdata": [
          [
           "Susan Kronborg",
           "Radikale Venstre",
           54,
           "Østjyllands Storkreds"
          ],
          [
           "Katrine Robsøe",
           "Radikale Venstre",
           31,
           "Østjyllands Storkreds"
          ],
          [
           "Hanne Roed",
           "Radikale Venstre",
           53,
           "Østjyllands Storkreds"
          ],
          [
           "Mia Nybo",
           "Radikale Venstre",
           33,
           "Østjyllands Storkreds"
          ],
          [
           "Frederik Aagaard Sørensen",
           "Radikale Venstre",
           36,
           "Østjyllands Storkreds"
          ],
          [
           "Rune Christiansen",
           "Radikale Venstre",
           45,
           "Østjyllands Storkreds"
          ],
          [
           "Andreas Steenberg",
           "Radikale Venstre",
           39,
           "Østjyllands Storkreds"
          ],
          [
           "Anders Højsted",
           "Radikale Venstre",
           49,
           "Københavns Storkreds"
          ],
          [
           "Michael Rachlin",
           "Radikale Venstre",
           52,
           "Københavns Storkreds"
          ],
          [
           "Peter Kjølbye Zinckernagel",
           "Radikale Venstre",
           65,
           "Københavns Storkreds"
          ],
          [
           "Carolina Magdalene Maier",
           "Radikale Venstre",
           48,
           "Københavns Storkreds"
          ],
          [
           "Marie Kampmann",
           "Radikale Venstre",
           36,
           "Københavns Storkreds"
          ],
          [
           "Emilie Normann",
           "Radikale Venstre",
           53,
           "Københavns Storkreds"
          ],
          [
           "Thomas Rohden",
           "Radikale Venstre",
           26,
           "Københavns Storkreds"
          ],
          [
           "Clara Halvorsen",
           "Radikale Venstre",
           30,
           "Københavns Storkreds"
          ],
          [
           "Samira Nawa",
           "Radikale Venstre",
           34,
           "Københavns Storkreds"
          ],
          [
           "Klaus Bondam",
           "Radikale Venstre",
           58,
           "Københavns Storkreds"
          ],
          [
           "Ruben Kidde",
           "Radikale Venstre",
           36,
           "Københavns Storkreds"
          ],
          [
           "Jes Vissing Tiedemann",
           "Radikale Venstre",
           39,
           "Københavns Storkreds"
          ],
          [
           "Julius Bjørn Honoré",
           "Radikale Venstre",
           21,
           "Nordjyllands Storkreds"
          ],
          [
           "Steffen Holme Helledie",
           "Radikale Venstre",
           33,
           "Nordjyllands Storkreds"
          ],
          [
           "Pia Britt Elberg",
           "Radikale Venstre",
           54,
           "Nordjyllands Storkreds"
          ],
          [
           "Daniel Nyboe Andersen",
           "Radikale Venstre",
           45,
           "Nordjyllands Storkreds"
          ],
          [
           "Christian Friis Bach",
           "Radikale Venstre",
           56,
           "Nordjyllands Storkreds"
          ],
          [
           "Bjarne Axelsen",
           "Radikale Venstre",
           48,
           "Nordjyllands Storkreds"
          ],
          [
           "Dorthe Kerschus",
           "Radikale Venstre",
           43,
           "Nordjyllands Storkreds"
          ],
          [
           "Birger Nissen",
           "Radikale Venstre",
           76,
           "Bornholms Storkreds"
          ],
          [
           "Rasmus Helveg Petersen",
           "Radikale Venstre",
           54,
           "Fyns Storkreds"
          ],
          [
           "Hanne Ringgaard Møller",
           "Radikale Venstre",
           58,
           "Fyns Storkreds"
          ],
          [
           "Jan Werner Mathiasen",
           "Radikale Venstre",
           50,
           "Fyns Storkreds"
          ],
          [
           "Kim Lei-Jensen",
           "Radikale Venstre",
           48,
           "Fyns Storkreds"
          ],
          [
           "Niels Ture Holm Grønlund",
           "Radikale Venstre",
           21,
           "Fyns Storkreds"
          ],
          [
           "Keld Marstrand Wang",
           "Radikale Venstre",
           42,
           "Vestjyllands Storkreds"
          ],
          [
           "Johan Brødsgaard",
           "Radikale Venstre",
           29,
           "Vestjyllands Storkreds"
          ],
          [
           "Kathrine Olldag",
           "Radikale Venstre",
           49,
           "Vestjyllands Storkreds"
          ],
          [
           "Josefine Schlosser",
           "Radikale Venstre",
           24,
           "Vestjyllands Storkreds"
          ],
          [
           "Michael Flarup",
           "Radikale Venstre",
           40,
           "Vestjyllands Storkreds"
          ],
          [
           "Bjarne Lastein",
           "Radikale Venstre",
           56,
           "Sydjyllands Storkreds"
          ],
          [
           "Finn Hartvig Nielsen",
           "Radikale Venstre",
           43,
           "Sydjyllands Storkreds"
          ],
          [
           "Ole Lynggaard Jørgensen",
           "Radikale Venstre",
           67,
           "Sydjyllands Storkreds"
          ],
          [
           "Anne Marie Geisler Andersen",
           "Radikale Venstre",
           41,
           "Sydjyllands Storkreds"
          ],
          [
           "Nils Sjøberg",
           "Radikale Venstre",
           62,
           "Sydjyllands Storkreds"
          ],
          [
           "Lasse Ovesen",
           "Radikale Venstre",
           57,
           "Sydjyllands Storkreds"
          ],
          [
           "Lotte Rod",
           "Radikale Venstre",
           37,
           "Sydjyllands Storkreds"
          ],
          [
           "Jeppe Trolle",
           "Radikale Venstre",
           53,
           "Sjællands Storkreds"
          ],
          [
           "Troels Brandt",
           "Radikale Venstre",
           55,
           "Sjællands Storkreds"
          ],
          [
           "Lukas Lunøe",
           "Radikale Venstre",
           24,
           "Sjællands Storkreds"
          ],
          [
           "Kristian Stokholm",
           "Radikale Venstre",
           59,
           "Sjællands Storkreds"
          ],
          [
           "Line Krogh Lay",
           "Radikale Venstre",
           50,
           "Sjællands Storkreds"
          ],
          [
           "Zenia Stampe",
           "Radikale Venstre",
           43,
           "Sjællands Storkreds"
          ],
          [
           "Anne Sophie Callesen",
           "Radikale Venstre",
           33,
           "Sjællands Storkreds"
          ],
          [
           "Edris Qasimi",
           "Radikale Venstre",
           34,
           "Sjællands Storkreds"
          ],
          [
           "Hikmet Altun",
           "Radikale Venstre",
           41,
           "Sjællands Storkreds"
          ],
          [
           "Maria Katarina Nielsen",
           "Radikale Venstre",
           27,
           "Nordsjællands Storkreds"
          ],
          [
           "Jacob Netteberg",
           "Radikale Venstre",
           52,
           "Nordsjællands Storkreds"
          ],
          [
           "Christina Thorholm",
           "Radikale Venstre",
           58,
           "Nordsjællands Storkreds"
          ],
          [
           "Martin Lidegaard",
           "Radikale Venstre",
           55,
           "Nordsjællands Storkreds"
          ],
          [
           "Tine Hessner",
           "Radikale Venstre",
           54,
           "Nordsjællands Storkreds"
          ],
          [
           "Christian Holm Donatzky",
           "Radikale Venstre",
           49,
           "Nordsjællands Storkreds"
          ],
          [
           "Hediye Temiz",
           "Radikale Venstre",
           24,
           "Københavns Omegns Storkreds"
          ],
          [
           "Abbas Razvi",
           "Radikale Venstre",
           74,
           "Københavns Omegns Storkreds"
          ],
          [
           "Christina Rittig Falkberg",
           "Radikale Venstre",
           47,
           "Københavns Omegns Storkreds"
          ],
          [
           "Brian Køster",
           "Radikale Venstre",
           45,
           "Københavns Omegns Storkreds"
          ],
          [
           "Kashif Ahmad",
           "Radikale Venstre",
           42,
           "Københavns Omegns Storkreds"
          ],
          [
           "Sofie Carsten Nielsen",
           "Radikale Venstre",
           47,
           "Københavns Omegns Storkreds"
          ],
          [
           "Stinus Lindgreen",
           "Radikale Venstre",
           42,
           "Københavns Omegns Storkreds"
          ],
          [
           "Esat Sentürk",
           "Radikale Venstre",
           33,
           "Københavns Omegns Storkreds"
          ]
         ],
         "hovertemplate": "Party=%{customdata[1]}<br>Component 1=%{x}<br>Component 2=%{y}<br>Candidate=%{customdata[0]}<br>Age=%{customdata[2]}<br>Constituency=%{customdata[3]}<extra></extra>",
         "legendgroup": "Radikale Venstre",
         "marker": {
          "color": "rgb(113, 50, 128)",
          "line": {
           "color": "DarkSlateGrey",
           "width": 1
          },
          "size": 10,
          "symbol": "circle"
         },
         "mode": "markers",
         "name": "Radikale Venstre",
         "orientation": "v",
         "showlegend": true,
         "textposition": "top center",
         "type": "scatter",
         "x": [
          -0.6604649445298365,
          -4.068256121739321,
          -3.210458309699781,
          -2.076604054509726,
          -1.806375681647001,
          -1.7158521924537153,
          -1.9225205991880236,
          -2.7334682492957163,
          -1.3840060858407877,
          -2.456502220716501,
          -4.331322732030595,
          -2.2137637776697536,
          -3.6571710800872035,
          -2.1117160043729815,
          -3.979835723600597,
          -3.2977774524243673,
          -3.0964252505430125,
          -2.802402850238565,
          -3.0594275713353096,
          -2.7537467377260194,
          -1.411896581266788,
          -3.004968743584606,
          -3.376537048425305,
          -3.013172738137124,
          -2.2285792659810064,
          -2.1545382114319622,
          -3.04270905933902,
          -2.380960217105338,
          -1.8669447910319417,
          -1.5167665677455797,
          -4.596430122168561,
          -2.699354811078639,
          0.3421222045950323,
          -3.191456198658572,
          -2.661451012262561,
          -2.793696571875936,
          -3.7513060246247845,
          -0.01741813047211193,
          -3.0871955254344363,
          -2.494346685061945,
          -1.7121080795483683,
          -3.161939118242304,
          -0.9280507150237505,
          -3.291779147999184,
          -4.549392812869574,
          -2.8674588133947134,
          -4.140984100384902,
          -1.9298645345997836,
          -3.3546275644416164,
          -4.287355190118338,
          -3.202766094250934,
          -2.871906721450752,
          -1.9905699239921064,
          -3.732817554998058,
          -2.126381123897064,
          -3.4128985695160248,
          -2.5468604541927364,
          -2.1441155658505293,
          -3.3061168061384327,
          -4.072006418129214,
          -2.3093040871740653,
          -2.105234492996151,
          -2.203939209136161,
          -3.3678667618469618,
          -2.8530586649165137,
          -2.1985113737070083,
          -1.8079148626483765
         ],
         "xaxis": "x",
         "y": [
          -2.6152557824061344,
          -2.709470029355476,
          -2.8861826970151743,
          -2.118300214964361,
          -2.099308035265463,
          -1.9785779953439762,
          -2.4773888291941297,
          -4.680101222908691,
          -4.415972641824772,
          -3.81564298157945,
          -2.7211590047179577,
          -3.076835403032309,
          -3.701941140183905,
          -3.5062313467390585,
          -2.895294222563216,
          -2.5254699292076683,
          -3.0601861563266897,
          -3.1821726415961087,
          -3.956121516850131,
          -3.7294107304792705,
          -2.3910011505838082,
          -2.7494387341490674,
          -3.4190868895537307,
          -3.0536413657412926,
          -1.1997870086484788,
          -3.388220291975708,
          -3.4809337949847405,
          -3.864925303201761,
          -0.8060038539412204,
          -3.8392944001145817,
          -2.429579338924664,
          -3.2322695553562584,
          -2.801981878404229,
          -2.322618277475367,
          -2.812964454909626,
          -3.732206988834379,
          -1.7424636508451723,
          -2.740464704614301,
          -2.817410200872891,
          -0.2702329273496806,
          -3.038122874644653,
          -1.0496941615734328,
          -2.511968810495207,
          -1.4727774915349772,
          -2.412363177896545,
          -2.6924620193888527,
          -2.371672454343435,
          -2.9065226047718467,
          -1.4347995905352886,
          -2.2187919948576713,
          -3.8542206764726576,
          -3.7570709458486125,
          -0.34080205077809067,
          -3.2474866796936572,
          -3.9415715937162883,
          -1.8009727880548625,
          -2.4419601079219997,
          -3.7867668021327576,
          -5.239664172430284,
          -3.459700369409215,
          -2.7559106129094015,
          -1.3955360209181036,
          -1.971183941161419,
          -1.4046320444597562,
          -3.0425485605245157,
          -4.179529930760843,
          -1.6427867563624015
         ],
         "yaxis": "y"
        },
        {
         "customdata": [
          [
           "Nicolai Wammen",
           "Socialdemokratiet",
           51,
           "Østjyllands Storkreds"
          ],
          [
           "Anna Thusgård",
           "Socialdemokratiet",
           26,
           "Østjyllands Storkreds"
          ],
          [
           "Iben Sønderup",
           "Socialdemokratiet",
           53,
           "Østjyllands Storkreds"
          ],
          [
           "Thomas Monberg",
           "Socialdemokratiet",
           46,
           "Østjyllands Storkreds"
          ],
          [
           "Leif Lahn Jensen",
           "Socialdemokratiet",
           55,
           "Østjyllands Storkreds"
          ],
          [
           "Malte Larsen",
           "Socialdemokratiet",
           53,
           "Østjyllands Storkreds"
          ],
          [
           "Dorthe Hindborg",
           "Socialdemokratiet",
           0,
           "Østjyllands Storkreds"
          ],
          [
           "Daniel Toft Jakobsen",
           "Socialdemokratiet",
           44,
           "Østjyllands Storkreds"
          ],
          [
           "Camilla Fabricius",
           "Socialdemokratiet",
           51,
           "Østjyllands Storkreds"
          ],
          [
           "Jens Joel",
           "Socialdemokratiet",
           44,
           "Østjyllands Storkreds"
          ],
          [
           "Lars Aslan Rasmussen",
           "Socialdemokratiet",
           44,
           "Københavns Storkreds"
          ],
          [
           "Lars Werge",
           "Socialdemokratiet",
           56,
           "Københavns Storkreds"
          ],
          [
           "Nikoline Prehn",
           "Socialdemokratiet",
           20,
           "Københavns Storkreds"
          ],
          [
           "Pernille Rosenkrantz-Theil",
           "Socialdemokratiet",
           45,
           "Københavns Storkreds"
          ],
          [
           "Peter Hummelgaard",
           "Socialdemokratiet",
           39,
           "Københavns Storkreds"
          ],
          [
           "Jørgen Mørup Pedersen",
           "Socialdemokratiet",
           78,
           "Københavns Storkreds"
          ],
          [
           "Lone Larsen",
           "Socialdemokratiet",
           69,
           "Københavns Storkreds"
          ],
          [
           "Mette Reissmann",
           "Socialdemokratiet",
           59,
           "Københavns Storkreds"
          ],
          [
           "Ida Margrete Meier Auken",
           "Socialdemokratiet",
           44,
           "Københavns Storkreds"
          ],
          [
           "Halima El Abassi",
           "Socialdemokratiet",
           44,
           "Københavns Storkreds"
          ],
          [
           "Yildiz Akdogan",
           "Socialdemokratiet",
           49,
           "Københavns Storkreds"
          ],
          [
           "Jarl Feyling",
           "Socialdemokratiet",
           32,
           "Københavns Storkreds"
          ],
          [
           "Morten Ryom",
           "Socialdemokratiet",
           30,
           "Nordjyllands Storkreds"
          ],
          [
           "Rasmus Prehn",
           "Socialdemokratiet",
           49,
           "Nordjyllands Storkreds"
          ],
          [
           "Flemming Møller Mortensen",
           "Socialdemokratiet",
           59,
           "Nordjyllands Storkreds"
          ],
          [
           "Per Husted",
           "Socialdemokratiet",
           56,
           "Nordjyllands Storkreds"
          ],
          [
           "Simon Kollerup",
           "Socialdemokratiet",
           36,
           "Nordjyllands Storkreds"
          ],
          [
           "Morten Klessen",
           "Socialdemokratiet",
           53,
           "Nordjyllands Storkreds"
          ],
          [
           "Ane Halsboe-Jørgensen",
           "Socialdemokratiet",
           39,
           "Nordjyllands Storkreds"
          ],
          [
           "Bjarne Laustsen",
           "Socialdemokratiet",
           68,
           "Nordjyllands Storkreds"
          ],
          [
           "Lars Goldschmidt",
           "Socialdemokratiet",
           67,
           "Bornholms Storkreds"
          ],
          [
           "Lea Wermelin",
           "Socialdemokratiet",
           37,
           "Bornholms Storkreds"
          ],
          [
           "Steen Frandsen",
           "Socialdemokratiet",
           61,
           "Bornholms Storkreds"
          ],
          [
           "Kim Aas",
           "Socialdemokratiet",
           52,
           "Fyns Storkreds"
          ],
          [
           "Lasse Haugaard Pedersen",
           "Socialdemokratiet",
           27,
           "Fyns Storkreds"
          ],
          [
           "Thomas Skriver Jensen",
           "Socialdemokratiet",
           26,
           "Fyns Storkreds"
          ],
          [
           "Dan Jørgensen",
           "Socialdemokratiet",
           47,
           "Fyns Storkreds"
          ],
          [
           "Bjørn Brandenborg",
           "Socialdemokratiet",
           0,
           "Fyns Storkreds"
          ],
          [
           "Mads Madsen Henriksen",
           "Socialdemokratiet",
           33,
           "Fyns Storkreds"
          ],
          [
           "Sara Emil Baaring",
           "Socialdemokratiet",
           36,
           "Fyns Storkreds"
          ],
          [
           "Trine Bramsen",
           "Socialdemokratiet",
           41,
           "Fyns Storkreds"
          ],
          [
           "Anne Paulin",
           "Socialdemokratiet",
           34,
           "Vestjyllands Storkreds"
          ],
          [
           "Tina Mortensen",
           "Socialdemokratiet",
           52,
           "Vestjyllands Storkreds"
          ],
          [
           "Annette Lind",
           "Socialdemokratiet",
           53,
           "Vestjyllands Storkreds"
          ],
          [
           "Thomas Jensen",
           "Socialdemokratiet",
           52,
           "Vestjyllands Storkreds"
          ],
          [
           "Mogens Jensen",
           "Socialdemokratiet",
           59,
           "Vestjyllands Storkreds"
          ],
          [
           "Karin Gaardsted",
           "Socialdemokratiet",
           67,
           "Vestjyllands Storkreds"
          ],
          [
           "Anders Andreasen",
           "Socialdemokratiet",
           48,
           "Vestjyllands Storkreds"
          ],
          [
           "Mette Nielsen",
           "Socialdemokratiet",
           50,
           "Vestjyllands Storkreds"
          ],
          [
           "Kris Jensen Skriver",
           "Socialdemokratiet",
           34,
           "Sydjyllands Storkreds"
          ],
          [
           "Birgitte Vind",
           "Socialdemokratiet",
           57,
           "Sydjyllands Storkreds"
          ],
          [
           "Jens Jonatan Steen",
           "Socialdemokratiet",
           41,
           "Sydjyllands Storkreds"
          ],
          [
           "Jesper Petersen",
           "Socialdemokratiet",
           41,
           "Sydjyllands Storkreds"
          ],
          [
           "Christian Rabjerg Madsen",
           "Socialdemokratiet",
           36,
           "Sydjyllands Storkreds"
          ],
          [
           "Bjørn Laursen",
           "Socialdemokratiet",
           61,
           "Sydjyllands Storkreds"
          ],
          [
           "Anders Kronborg",
           "Socialdemokratiet",
           40,
           "Sydjyllands Storkreds"
          ],
          [
           "Barbara Krarup Hansen",
           "Socialdemokratiet",
           48,
           "Sydjyllands Storkreds"
          ],
          [
           "Niels Ole Beck",
           "Socialdemokratiet",
           65,
           "Sydjyllands Storkreds"
          ],
          [
           "Kim Eskesen",
           "Socialdemokratiet",
           44,
           "Sydjyllands Storkreds"
          ],
          [
           "Benny Engelbrecht",
           "Socialdemokratiet",
           52,
           "Sydjyllands Storkreds"
          ],
          [
           "Theis Kylling Hommeltoft",
           "Socialdemokratiet",
           37,
           "Sydjyllands Storkreds"
          ],
          [
           "Frederik Vad",
           "Socialdemokratiet",
           28,
           "Sjællands Storkreds"
          ],
          [
           "Kasper Roug",
           "Socialdemokratiet",
           43,
           "Sjællands Storkreds"
          ],
          [
           "Tanja Larsson",
           "Socialdemokratiet",
           45,
           "Sjællands Storkreds"
          ],
          [
           "Rasmus Horn Langhoff",
           "Socialdemokratiet",
           42,
           "Sjællands Storkreds"
          ],
          [
           "Thorkild Holmboe-Hay",
           "Socialdemokratiet",
           57,
           "Sjællands Storkreds"
          ],
          [
           "Astrid Krag",
           "Socialdemokratiet",
           40,
           "Sjællands Storkreds"
          ],
          [
           "Jeppe Kofod",
           "Socialdemokratiet",
           48,
           "Sjællands Storkreds"
          ],
          [
           "Magnus Johannes Heunicke",
           "Socialdemokratiet",
           47,
           "Sjællands Storkreds"
          ],
          [
           "Frederik Enevoldsen",
           "Socialdemokratiet",
           25,
           "Sjællands Storkreds"
          ],
          [
           "Mette Gjerskov",
           "Socialdemokratiet",
           56,
           "Sjællands Storkreds"
          ],
          [
           "Kaare Dybvad Bek",
           "Socialdemokratiet",
           38,
           "Sjællands Storkreds"
          ],
          [
           "Brian Bressendorff",
           "Socialdemokratiet",
           34,
           "Sjællands Storkreds"
          ],
          [
           "Rasmus Stoklund",
           "Socialdemokratiet",
           38,
           "Nordsjællands Storkreds"
          ],
          [
           "Matilde Powers",
           "Socialdemokratiet",
           40,
           "Nordsjællands Storkreds"
          ],
          [
           "Louise Mehnke",
           "Socialdemokratiet",
           46,
           "Nordsjællands Storkreds"
          ],
          [
           "Henrik Møller",
           "Socialdemokratiet",
           57,
           "Nordsjællands Storkreds"
          ],
          [
           "Fie Thorsted Hækkerup",
           "Socialdemokratiet",
           28,
           "Nordsjællands Storkreds"
          ],
          [
           "Miki Dam Larsen",
           "Socialdemokratiet",
           36,
           "Nordsjællands Storkreds"
          ],
          [
           "Sebastian Schwartz",
           "Socialdemokratiet",
           22,
           "Københavns Omegns Storkreds"
          ],
          [
           "Mattias Tesfaye",
           "Socialdemokratiet",
           41,
           "Københavns Omegns Storkreds"
          ],
          [
           "Kasper Sand Kjær",
           "Socialdemokratiet",
           33,
           "Københavns Omegns Storkreds"
          ],
          [
           "Maria Gudme",
           "Socialdemokratiet",
           33,
           "Københavns Omegns Storkreds"
          ],
          [
           "Maria Durhuus",
           "Socialdemokratiet",
           45,
           "Københavns Omegns Storkreds"
          ],
          [
           "Morten Bødskov",
           "Socialdemokratiet",
           52,
           "Københavns Omegns Storkreds"
          ],
          [
           "Jeppe Bruus",
           "Socialdemokratiet",
           44,
           "Københavns Omegns Storkreds"
          ],
          [
           "Gunvor Wibroe",
           "Socialdemokratiet",
           50,
           "Københavns Omegns Storkreds"
          ]
         ],
         "hovertemplate": "Party=%{customdata[1]}<br>Component 1=%{x}<br>Component 2=%{y}<br>Candidate=%{customdata[0]}<br>Age=%{customdata[2]}<br>Constituency=%{customdata[3]}<extra></extra>",
         "legendgroup": "Socialdemokratiet",
         "marker": {
          "color": "rgb(179, 39, 34)",
          "line": {
           "color": "DarkSlateGrey",
           "width": 1
          },
          "size": 10,
          "symbol": "circle"
         },
         "mode": "markers",
         "name": "Socialdemokratiet",
         "orientation": "v",
         "showlegend": true,
         "textposition": "top center",
         "type": "scatter",
         "x": [
          -0.09054699178598662,
          -3.795024774665314,
          -3.0506459572557847,
          -2.04098781647094,
          1.741220467277174,
          -1.6738099009458165,
          -3.392854593901639,
          -2.655129290861843,
          -3.485655289134885,
          -3.429748188013899,
          -1.1648174367035105,
          -3.0063402925963194,
          -4.278217622894442,
          -2.9746026239738086,
          -1.8831431861976677,
          -1.2096484394694713,
          -2.2346583176644086,
          -2.508576909125504,
          -4.0679569299672425,
          -2.2206552304325133,
          -3.6701081945112435,
          -1.6814443229014766,
          -2.2160323555075396,
          -3.4755568318864105,
          -2.4910685358079774,
          -1.519248242406495,
          2.0193778192606517,
          -2.0812319717835748,
          -1.46480059411883,
          -1.30596023304026,
          -0.8435587699803385,
          -1.5330620663880874,
          0.23388808219439386,
          -3.6562899712853345,
          -1.5991064554716135,
          -0.9859911383871627,
          -2.9259624190910607,
          1.356778371185466,
          -3.8145427842734008,
          -3.0161417845476532,
          -1.585026147696828,
          -3.1240283894775414,
          -1.4983508064137492,
          -0.6168029773116851,
          -1.5826524219696478,
          0.5261731698434282,
          -2.3714676638568952,
          -3.4562268249258827,
          -1.5148086001684729,
          -2.0160464212386797,
          -2.7891695565526176,
          -1.0194500572047844,
          -2.078692562164476,
          0.25147279765706937,
          -1.0778194274691866,
          -0.6033509129057125,
          -1.1141549823031505,
          -2.3529280336573555,
          -2.1048978389291304,
          2.6430313961688316,
          -2.040524953839807,
          0.7813938463443229,
          -1.5834023461872242,
          -1.6075462206487885,
          -2.043742132278687,
          0.05520073658689307,
          -0.9005301440206781,
          -1.5962842657779488,
          -2.1889794517124423,
          -1.825497670562385,
          -4.464805181551763,
          -1.108178765026164,
          -2.577920606967422,
          -1.4531030417370632,
          -2.5162193297862685,
          -2.9276502713029466,
          -2.410129034373851,
          -2.0667430712790544,
          -2.6940778273518635,
          -2.7722247594525817,
          0.2725327208372152,
          -1.688646499053425,
          -2.699541170241568,
          -2.6883921059369102,
          -1.8034162598909274,
          -0.4595318772822253,
          -4.131322839514084
         ],
         "xaxis": "x",
         "y": [
          3.4857614127101657,
          1.8837681253593295,
          3.4846405234851,
          2.599765221009742,
          2.614490399745655,
          2.300177331644559,
          2.5374039848907115,
          0.7884136207106623,
          1.8744859410151826,
          1.0254160180861935,
          1.3746207449042422,
          0.7596411730393011,
          -1.252085202971931,
          3.0866456693968463,
          2.334636647278181,
          3.6951574103876044,
          0.5925048889687438,
          -0.43891245687285535,
          0.5476416618977622,
          0.8127291466038379,
          0.24921215083719553,
          2.444251200255784,
          3.228871921971595,
          1.514633558919316,
          2.0711835133516785,
          2.8579846422932533,
          2.14497094684187,
          1.4057957854039784,
          3.7006147976552195,
          2.8498119005666704,
          0.4371026055588276,
          3.58501512682215,
          2.7269454881563044,
          1.318074410253285,
          2.3632643014598576,
          2.7045917969807958,
          2.818798802215707,
          4.310956820194349,
          1.86078447181826,
          2.4206449868121562,
          3.382386021353264,
          1.768720651880868,
          3.415080024462928,
          4.306705197715968,
          4.274929819025934,
          2.970902930353205,
          1.1805304245128068,
          2.3057842978711225,
          2.468622017354781,
          1.9151397882427268,
          2.5687600354192752,
          4.839641026639806,
          2.771823193397289,
          2.9422506433185247,
          2.6478110747058627,
          2.5331903974303533,
          2.03754655894429,
          3.167191805105229,
          0.8859827508784388,
          2.39940154362769,
          -0.5076531518649153,
          4.583533711483882,
          1.142113509256882,
          3.165530667753622,
          2.8779760653192925,
          2.327669891387399,
          3.845391414081674,
          3.676091881501449,
          2.457705136910951,
          3.248019977515114,
          0.9345918191027516,
          3.6561567624257143,
          2.9570856619658232,
          3.5665943899995716,
          1.3208357835047135,
          2.167001554744869,
          2.1824835634499093,
          3.875001692396059,
          -0.19469655335983757,
          2.4754642877335504,
          2.973234399825216,
          2.2455728255226033,
          3.0499665699394094,
          2.3719444627621797,
          3.1043828867611123,
          1.6048233496892255,
          0.8463087138435715
         ],
         "yaxis": "y"
        }
       ],
       "layout": {
        "height": 800,
        "hovermode": "closest",
        "legend": {
         "title": {
          "text": "Party"
         },
         "tracegroupgap": 0
        },
        "showlegend": true,
        "template": {
         "data": {
          "bar": [
           {
            "error_x": {
             "color": "#2a3f5f"
            },
            "error_y": {
             "color": "#2a3f5f"
            },
            "marker": {
             "line": {
              "color": "#E5ECF6",
              "width": 0.5
             },
             "pattern": {
              "fillmode": "overlay",
              "size": 10,
              "solidity": 0.2
             }
            },
            "type": "bar"
           }
          ],
          "barpolar": [
           {
            "marker": {
             "line": {
              "color": "#E5ECF6",
              "width": 0.5
             },
             "pattern": {
              "fillmode": "overlay",
              "size": 10,
              "solidity": 0.2
             }
            },
            "type": "barpolar"
           }
          ],
          "carpet": [
           {
            "aaxis": {
             "endlinecolor": "#2a3f5f",
             "gridcolor": "white",
             "linecolor": "white",
             "minorgridcolor": "white",
             "startlinecolor": "#2a3f5f"
            },
            "baxis": {
             "endlinecolor": "#2a3f5f",
             "gridcolor": "white",
             "linecolor": "white",
             "minorgridcolor": "white",
             "startlinecolor": "#2a3f5f"
            },
            "type": "carpet"
           }
          ],
          "choropleth": [
           {
            "colorbar": {
             "outlinewidth": 0,
             "ticks": ""
            },
            "type": "choropleth"
           }
          ],
          "contour": [
           {
            "colorbar": {
             "outlinewidth": 0,
             "ticks": ""
            },
            "colorscale": [
             [
              0,
              "#0d0887"
             ],
             [
              0.1111111111111111,
              "#46039f"
             ],
             [
              0.2222222222222222,
              "#7201a8"
             ],
             [
              0.3333333333333333,
              "#9c179e"
             ],
             [
              0.4444444444444444,
              "#bd3786"
             ],
             [
              0.5555555555555556,
              "#d8576b"
             ],
             [
              0.6666666666666666,
              "#ed7953"
             ],
             [
              0.7777777777777778,
              "#fb9f3a"
             ],
             [
              0.8888888888888888,
              "#fdca26"
             ],
             [
              1,
              "#f0f921"
             ]
            ],
            "type": "contour"
           }
          ],
          "contourcarpet": [
           {
            "colorbar": {
             "outlinewidth": 0,
             "ticks": ""
            },
            "type": "contourcarpet"
           }
          ],
          "heatmap": [
           {
            "colorbar": {
             "outlinewidth": 0,
             "ticks": ""
            },
            "colorscale": [
             [
              0,
              "#0d0887"
             ],
             [
              0.1111111111111111,
              "#46039f"
             ],
             [
              0.2222222222222222,
              "#7201a8"
             ],
             [
              0.3333333333333333,
              "#9c179e"
             ],
             [
              0.4444444444444444,
              "#bd3786"
             ],
             [
              0.5555555555555556,
              "#d8576b"
             ],
             [
              0.6666666666666666,
              "#ed7953"
             ],
             [
              0.7777777777777778,
              "#fb9f3a"
             ],
             [
              0.8888888888888888,
              "#fdca26"
             ],
             [
              1,
              "#f0f921"
             ]
            ],
            "type": "heatmap"
           }
          ],
          "heatmapgl": [
           {
            "colorbar": {
             "outlinewidth": 0,
             "ticks": ""
            },
            "colorscale": [
             [
              0,
              "#0d0887"
             ],
             [
              0.1111111111111111,
              "#46039f"
             ],
             [
              0.2222222222222222,
              "#7201a8"
             ],
             [
              0.3333333333333333,
              "#9c179e"
             ],
             [
              0.4444444444444444,
              "#bd3786"
             ],
             [
              0.5555555555555556,
              "#d8576b"
             ],
             [
              0.6666666666666666,
              "#ed7953"
             ],
             [
              0.7777777777777778,
              "#fb9f3a"
             ],
             [
              0.8888888888888888,
              "#fdca26"
             ],
             [
              1,
              "#f0f921"
             ]
            ],
            "type": "heatmapgl"
           }
          ],
          "histogram": [
           {
            "marker": {
             "pattern": {
              "fillmode": "overlay",
              "size": 10,
              "solidity": 0.2
             }
            },
            "type": "histogram"
           }
          ],
          "histogram2d": [
           {
            "colorbar": {
             "outlinewidth": 0,
             "ticks": ""
            },
            "colorscale": [
             [
              0,
              "#0d0887"
             ],
             [
              0.1111111111111111,
              "#46039f"
             ],
             [
              0.2222222222222222,
              "#7201a8"
             ],
             [
              0.3333333333333333,
              "#9c179e"
             ],
             [
              0.4444444444444444,
              "#bd3786"
             ],
             [
              0.5555555555555556,
              "#d8576b"
             ],
             [
              0.6666666666666666,
              "#ed7953"
             ],
             [
              0.7777777777777778,
              "#fb9f3a"
             ],
             [
              0.8888888888888888,
              "#fdca26"
             ],
             [
              1,
              "#f0f921"
             ]
            ],
            "type": "histogram2d"
           }
          ],
          "histogram2dcontour": [
           {
            "colorbar": {
             "outlinewidth": 0,
             "ticks": ""
            },
            "colorscale": [
             [
              0,
              "#0d0887"
             ],
             [
              0.1111111111111111,
              "#46039f"
             ],
             [
              0.2222222222222222,
              "#7201a8"
             ],
             [
              0.3333333333333333,
              "#9c179e"
             ],
             [
              0.4444444444444444,
              "#bd3786"
             ],
             [
              0.5555555555555556,
              "#d8576b"
             ],
             [
              0.6666666666666666,
              "#ed7953"
             ],
             [
              0.7777777777777778,
              "#fb9f3a"
             ],
             [
              0.8888888888888888,
              "#fdca26"
             ],
             [
              1,
              "#f0f921"
             ]
            ],
            "type": "histogram2dcontour"
           }
          ],
          "mesh3d": [
           {
            "colorbar": {
             "outlinewidth": 0,
             "ticks": ""
            },
            "type": "mesh3d"
           }
          ],
          "parcoords": [
           {
            "line": {
             "colorbar": {
              "outlinewidth": 0,
              "ticks": ""
             }
            },
            "type": "parcoords"
           }
          ],
          "pie": [
           {
            "automargin": true,
            "type": "pie"
           }
          ],
          "scatter": [
           {
            "fillpattern": {
             "fillmode": "overlay",
             "size": 10,
             "solidity": 0.2
            },
            "type": "scatter"
           }
          ],
          "scatter3d": [
           {
            "line": {
             "colorbar": {
              "outlinewidth": 0,
              "ticks": ""
             }
            },
            "marker": {
             "colorbar": {
              "outlinewidth": 0,
              "ticks": ""
             }
            },
            "type": "scatter3d"
           }
          ],
          "scattercarpet": [
           {
            "marker": {
             "colorbar": {
              "outlinewidth": 0,
              "ticks": ""
             }
            },
            "type": "scattercarpet"
           }
          ],
          "scattergeo": [
           {
            "marker": {
             "colorbar": {
              "outlinewidth": 0,
              "ticks": ""
             }
            },
            "type": "scattergeo"
           }
          ],
          "scattergl": [
           {
            "marker": {
             "colorbar": {
              "outlinewidth": 0,
              "ticks": ""
             }
            },
            "type": "scattergl"
           }
          ],
          "scattermapbox": [
           {
            "marker": {
             "colorbar": {
              "outlinewidth": 0,
              "ticks": ""
             }
            },
            "type": "scattermapbox"
           }
          ],
          "scatterpolar": [
           {
            "marker": {
             "colorbar": {
              "outlinewidth": 0,
              "ticks": ""
             }
            },
            "type": "scatterpolar"
           }
          ],
          "scatterpolargl": [
           {
            "marker": {
             "colorbar": {
              "outlinewidth": 0,
              "ticks": ""
             }
            },
            "type": "scatterpolargl"
           }
          ],
          "scatterternary": [
           {
            "marker": {
             "colorbar": {
              "outlinewidth": 0,
              "ticks": ""
             }
            },
            "type": "scatterternary"
           }
          ],
          "surface": [
           {
            "colorbar": {
             "outlinewidth": 0,
             "ticks": ""
            },
            "colorscale": [
             [
              0,
              "#0d0887"
             ],
             [
              0.1111111111111111,
              "#46039f"
             ],
             [
              0.2222222222222222,
              "#7201a8"
             ],
             [
              0.3333333333333333,
              "#9c179e"
             ],
             [
              0.4444444444444444,
              "#bd3786"
             ],
             [
              0.5555555555555556,
              "#d8576b"
             ],
             [
              0.6666666666666666,
              "#ed7953"
             ],
             [
              0.7777777777777778,
              "#fb9f3a"
             ],
             [
              0.8888888888888888,
              "#fdca26"
             ],
             [
              1,
              "#f0f921"
             ]
            ],
            "type": "surface"
           }
          ],
          "table": [
           {
            "cells": {
             "fill": {
              "color": "#EBF0F8"
             },
             "line": {
              "color": "white"
             }
            },
            "header": {
             "fill": {
              "color": "#C8D4E3"
             },
             "line": {
              "color": "white"
             }
            },
            "type": "table"
           }
          ]
         },
         "layout": {
          "annotationdefaults": {
           "arrowcolor": "#2a3f5f",
           "arrowhead": 0,
           "arrowwidth": 1
          },
          "autotypenumbers": "strict",
          "coloraxis": {
           "colorbar": {
            "outlinewidth": 0,
            "ticks": ""
           }
          },
          "colorscale": {
           "diverging": [
            [
             0,
             "#8e0152"
            ],
            [
             0.1,
             "#c51b7d"
            ],
            [
             0.2,
             "#de77ae"
            ],
            [
             0.3,
             "#f1b6da"
            ],
            [
             0.4,
             "#fde0ef"
            ],
            [
             0.5,
             "#f7f7f7"
            ],
            [
             0.6,
             "#e6f5d0"
            ],
            [
             0.7,
             "#b8e186"
            ],
            [
             0.8,
             "#7fbc41"
            ],
            [
             0.9,
             "#4d9221"
            ],
            [
             1,
             "#276419"
            ]
           ],
           "sequential": [
            [
             0,
             "#0d0887"
            ],
            [
             0.1111111111111111,
             "#46039f"
            ],
            [
             0.2222222222222222,
             "#7201a8"
            ],
            [
             0.3333333333333333,
             "#9c179e"
            ],
            [
             0.4444444444444444,
             "#bd3786"
            ],
            [
             0.5555555555555556,
             "#d8576b"
            ],
            [
             0.6666666666666666,
             "#ed7953"
            ],
            [
             0.7777777777777778,
             "#fb9f3a"
            ],
            [
             0.8888888888888888,
             "#fdca26"
            ],
            [
             1,
             "#f0f921"
            ]
           ],
           "sequentialminus": [
            [
             0,
             "#0d0887"
            ],
            [
             0.1111111111111111,
             "#46039f"
            ],
            [
             0.2222222222222222,
             "#7201a8"
            ],
            [
             0.3333333333333333,
             "#9c179e"
            ],
            [
             0.4444444444444444,
             "#bd3786"
            ],
            [
             0.5555555555555556,
             "#d8576b"
            ],
            [
             0.6666666666666666,
             "#ed7953"
            ],
            [
             0.7777777777777778,
             "#fb9f3a"
            ],
            [
             0.8888888888888888,
             "#fdca26"
            ],
            [
             1,
             "#f0f921"
            ]
           ]
          },
          "colorway": [
           "#636efa",
           "#EF553B",
           "#00cc96",
           "#ab63fa",
           "#FFA15A",
           "#19d3f3",
           "#FF6692",
           "#B6E880",
           "#FF97FF",
           "#FECB52"
          ],
          "font": {
           "color": "#2a3f5f"
          },
          "geo": {
           "bgcolor": "white",
           "lakecolor": "white",
           "landcolor": "#E5ECF6",
           "showlakes": true,
           "showland": true,
           "subunitcolor": "white"
          },
          "hoverlabel": {
           "align": "left"
          },
          "hovermode": "closest",
          "mapbox": {
           "style": "light"
          },
          "paper_bgcolor": "white",
          "plot_bgcolor": "#E5ECF6",
          "polar": {
           "angularaxis": {
            "gridcolor": "white",
            "linecolor": "white",
            "ticks": ""
           },
           "bgcolor": "#E5ECF6",
           "radialaxis": {
            "gridcolor": "white",
            "linecolor": "white",
            "ticks": ""
           }
          },
          "scene": {
           "xaxis": {
            "backgroundcolor": "#E5ECF6",
            "gridcolor": "white",
            "gridwidth": 2,
            "linecolor": "white",
            "showbackground": true,
            "ticks": "",
            "zerolinecolor": "white"
           },
           "yaxis": {
            "backgroundcolor": "#E5ECF6",
            "gridcolor": "white",
            "gridwidth": 2,
            "linecolor": "white",
            "showbackground": true,
            "ticks": "",
            "zerolinecolor": "white"
           },
           "zaxis": {
            "backgroundcolor": "#E5ECF6",
            "gridcolor": "white",
            "gridwidth": 2,
            "linecolor": "white",
            "showbackground": true,
            "ticks": "",
            "zerolinecolor": "white"
           }
          },
          "shapedefaults": {
           "line": {
            "color": "#2a3f5f"
           }
          },
          "ternary": {
           "aaxis": {
            "gridcolor": "white",
            "linecolor": "white",
            "ticks": ""
           },
           "baxis": {
            "gridcolor": "white",
            "linecolor": "white",
            "ticks": ""
           },
           "bgcolor": "#E5ECF6",
           "caxis": {
            "gridcolor": "white",
            "linecolor": "white",
            "ticks": ""
           }
          },
          "title": {
           "x": 0.05
          },
          "xaxis": {
           "automargin": true,
           "gridcolor": "white",
           "linecolor": "white",
           "ticks": "",
           "title": {
            "standoff": 15
           },
           "zerolinecolor": "white",
           "zerolinewidth": 2
          },
          "yaxis": {
           "automargin": true,
           "gridcolor": "white",
           "linecolor": "white",
           "ticks": "",
           "title": {
            "standoff": 15
           },
           "zerolinecolor": "white",
           "zerolinewidth": 2
          }
         }
        },
        "title": {
         "text": "Political Compass of Candidates"
        },
        "width": 1200,
        "xaxis": {
         "anchor": "y",
         "domain": [
          0,
          1
         ],
         "title": {
          "text": "Component 1"
         }
        },
        "yaxis": {
         "anchor": "x",
         "domain": [
          0,
          1
         ],
         "title": {
          "text": "Component 2"
         }
        }
       }
      }
     },
     "metadata": {},
     "output_type": "display_data"
    }
   ],
   "source": [
    "\n",
    "# Convert the PCA components to a DataFrame for use with Plotly\n",
    "principal_df = pd.DataFrame(principal_components, columns=['Component 1', 'Component 2'])\n",
    "\n",
    "data = pd.read_excel('alldata.xlsx')\n",
    "\n",
    "# Add candidate names and parties to this DataFrame\n",
    "principal_df['Candidate'] = navn_col  \n",
    "principal_df['Party'] = parti_col  \n",
    "principal_df['Age'] = data['alder']\n",
    "principal_df['Constituency'] = data['storkreds']\n",
    "\n",
    "# Use Plotly Express to create the scatter plot\n",
    "fig = px.scatter(principal_df, x='Component 1', y='Component 2', color='Party',\n",
    "                 hover_data=['Candidate', 'Party', 'Age', 'Constituency'],  # configure hover information\n",
    "                 title='Political Compass of Candidates',\n",
    "                 color_discrete_map=party_colors)  # map party colors to the ones defined earlier\n",
    "\n",
    "# Improve layout\n",
    "fig.update_traces(marker=dict(size=10, line=dict(width=1, color='DarkSlateGrey')),  # Customize point appearance\n",
    "                  textposition='top center')\n",
    "fig.update_layout(showlegend=True,  # Show legend\n",
    "                  legend_title_text='Party',  # Legend title\n",
    "                  hovermode='closest',  # Hover only over the closest point\n",
    "                height=800, width=1200)  # Adjust the size of the plot\n",
    "\n",
    "# Show figure\n",
    "fig.show()\n"
   ]
  },
  {
   "cell_type": "code",
   "execution_count": 421,
   "id": "d4ef0a98",
   "metadata": {},
   "outputs": [
    {
     "data": {
      "text/html": [
       "\n",
       "<table>\n",
       "<tr><th>Party letter</th><th>Party name</th><th>Party name (English)</th><th>Political position</th><th>Color</th></tr>\n",
       "<tr><td>A</td><td>Socialdemokratiet</td><td>Social Democrats</td><td>Centre-left</td><td style=\"background-color:rgb(179, 39, 34)\"></td></tr>\n",
       "<tr><td>V</td><td>Venstre</td><td>Danish Liberal Party</td><td>Centre-right</td><td style=\"background-color:rgb(0, 102, 151)\"></td></tr>\n",
       "<tr><td>M</td><td>Moderaterne</td><td>Moderates</td><td>Centre-right</td><td style=\"background-color:rgb(108, 57, 229)\"></td></tr>\n",
       "<tr><td>F</td><td>Socialistisk Folkeparti</td><td>Socialist People's Party</td><td>Left-wing</td><td style=\"background-color:rgb(221, 8, 120)\"></td></tr>\n",
       "<tr><td>D</td><td>Danmarksdemokraterne</td><td>Denmark Democrats</td><td>Right-wing</td><td style=\"background-color:rgb(138, 195, 255)\"></td></tr>\n",
       "<tr><td>I</td><td>Liberal Alliance</td><td>Liberal Alliance</td><td>Right-wing</td><td style=\"background-color:rgb(33, 198, 207)\"></td></tr>\n",
       "<tr><td>C</td><td>Det Konservative Folkeparti</td><td>Conservative People's Party</td><td>Right-wing</td><td style=\"background-color:rgb(158, 186, 39)\"></td></tr>\n",
       "<tr><td>Æ</td><td>Enhedslisten</td><td>Red-Green Alliance</td><td>Far-left</td><td style=\"background-color:rgb(237, 128, 25)\"></td></tr>\n",
       "<tr><td>B</td><td>Radikale Venstre</td><td>Social Liberal Party</td><td>Centre-left</td><td style=\"background-color:rgb(113, 50, 128)\"></td></tr>\n",
       "<tr><td>D</td><td>Nye Borgerlige</td><td>New Right</td><td>Far-right</td><td style=\"background-color:rgb(5, 79, 92)\"></td></tr>\n",
       "<tr><td>Z</td><td>Alternativet</td><td>The Alternative</td><td>Centre-left</td><td style=\"background-color:rgb(42, 143, 57)\"></td></tr>\n",
       "<tr><td>O</td><td>Dansk Folkeparti</td><td>Danish People's Party</td><td>Far-right</td><td style=\"background-color:rgb(243, 205, 65)\"></td></tr>\n",
       "<tr><td>G</td><td>Frie Grønne, Danmarks Nye Venstrefløjsparti</td><td>Free Greens</td><td>Centre-left</td><td style=\"background-color:rgb(0, 230, 106)\"></td></tr>\n",
       "<tr><td>K</td><td>Kristendemokraterne</td><td>Christian Democrats</td><td>Centre-right</td><td style=\"background-color:rgb(186, 186, 186)\"></td></tr>\n",
       "<tr><td>L</td><td>Løsgænger</td><td>No party</td><td>---</td><td style=\"background-color:rgb(255, 118, 237)\"></td></tr>      \n",
       "</table>\n"
      ],
      "text/plain": [
       "<IPython.core.display.HTML object>"
      ]
     },
     "metadata": {},
     "output_type": "display_data"
    }
   ],
   "source": [
    "from IPython.display import display, HTML\n",
    "\n",
    "# Define the table\n",
    "table = \"\"\"\n",
    "<table>\n",
    "<tr><th>Party letter</th><th>Party name</th><th>Party name (English)</th><th>Political position</th><th>Color</th></tr>\n",
    "<tr><td>A</td><td>Socialdemokratiet</td><td>Social Democrats</td><td>Centre-left</td><td style=\"background-color:rgb(179, 39, 34)\"></td></tr>\n",
    "<tr><td>V</td><td>Venstre</td><td>Danish Liberal Party</td><td>Centre-right</td><td style=\"background-color:rgb(0, 102, 151)\"></td></tr>\n",
    "<tr><td>M</td><td>Moderaterne</td><td>Moderates</td><td>Centre-right</td><td style=\"background-color:rgb(108, 57, 229)\"></td></tr>\n",
    "<tr><td>F</td><td>Socialistisk Folkeparti</td><td>Socialist People's Party</td><td>Left-wing</td><td style=\"background-color:rgb(221, 8, 120)\"></td></tr>\n",
    "<tr><td>D</td><td>Danmarksdemokraterne</td><td>Denmark Democrats</td><td>Right-wing</td><td style=\"background-color:rgb(138, 195, 255)\"></td></tr>\n",
    "<tr><td>I</td><td>Liberal Alliance</td><td>Liberal Alliance</td><td>Right-wing</td><td style=\"background-color:rgb(33, 198, 207)\"></td></tr>\n",
    "<tr><td>C</td><td>Det Konservative Folkeparti</td><td>Conservative People's Party</td><td>Right-wing</td><td style=\"background-color:rgb(158, 186, 39)\"></td></tr>\n",
    "<tr><td>Æ</td><td>Enhedslisten</td><td>Red-Green Alliance</td><td>Far-left</td><td style=\"background-color:rgb(237, 128, 25)\"></td></tr>\n",
    "<tr><td>B</td><td>Radikale Venstre</td><td>Social Liberal Party</td><td>Centre-left</td><td style=\"background-color:rgb(113, 50, 128)\"></td></tr>\n",
    "<tr><td>D</td><td>Nye Borgerlige</td><td>New Right</td><td>Far-right</td><td style=\"background-color:rgb(5, 79, 92)\"></td></tr>\n",
    "<tr><td>Z</td><td>Alternativet</td><td>The Alternative</td><td>Centre-left</td><td style=\"background-color:rgb(42, 143, 57)\"></td></tr>\n",
    "<tr><td>O</td><td>Dansk Folkeparti</td><td>Danish People's Party</td><td>Far-right</td><td style=\"background-color:rgb(243, 205, 65)\"></td></tr>\n",
    "<tr><td>G</td><td>Frie Grønne, Danmarks Nye Venstrefløjsparti</td><td>Free Greens</td><td>Centre-left</td><td style=\"background-color:rgb(0, 230, 106)\"></td></tr>\n",
    "<tr><td>K</td><td>Kristendemokraterne</td><td>Christian Democrats</td><td>Centre-right</td><td style=\"background-color:rgb(186, 186, 186)\"></td></tr>\n",
    "<tr><td>L</td><td>Løsgænger</td><td>No party</td><td>---</td><td style=\"background-color:rgb(255, 118, 237)\"></td></tr>      \n",
    "</table>\n",
    "\"\"\"\n",
    "\n",
    "# Display the table\n",
    "display(HTML(table))"
   ]
  },
  {
   "cell_type": "code",
   "execution_count": 422,
   "id": "05f46df4",
   "metadata": {},
   "outputs": [
    {
     "data": {
      "image/png": "[encoded data removed]",
      "text/plain": [
       "<Figure size 1500x1000 with 1 Axes>"
      ]
     },
     "metadata": {},
     "output_type": "display_data"
    }
   ],
   "source": [
    "\n",
    "parties = parti_col\n",
    "names = navn_col\n",
    "\n",
    "# Apply t-SNE\n",
    "tsne = TSNE(n_components=2, random_state=42)  \n",
    "tsne_results = tsne.fit_transform(data_scaled)\n",
    "\n",
    "# Plot the candidates using t-SNE results\n",
    "plt.figure(figsize=(15, 10))\n",
    "\n",
    "# Create a dictionary to map each party to a matplotlib color\n",
    "for i, (x, y) in enumerate(tsne_results):\n",
    "    party = parties[i]\n",
    "    rgb = party_colors[party][4:-1].split(',')\n",
    "    color_tuple = (int(rgb[0])/255, int(rgb[1])/255, int(rgb[2])/255)\n",
    "    plt.scatter(x, y, color=color_tuple, label=party)\n",
    "\n",
    "# Create the legend without duplicates, and move it outside the plot area\n",
    "handles, labels = plt.gca().get_legend_handles_labels()\n",
    "unique_labels = list(set(labels))  # Remove duplicates in label list\n",
    "unique_handles = [handles[labels.index(label)] for label in unique_labels]  # Get the handles for unique labels\n",
    "plt.legend(unique_handles, unique_labels, loc='upper left', bbox_to_anchor=(1, 1))\n",
    "\n",
    "plt.axhline(0, color='grey', lw=1)\n",
    "plt.axvline(0, color='grey', lw=1)\n",
    "plt.grid(True)\n",
    "plt.xlabel('t-SNE Component 1')\n",
    "plt.ylabel('t-SNE Component 2')\n",
    "plt.title('Political Compass of Candidates Based on t-SNE of Questionnaire Responses')\n",
    "\n",
    "plt.tight_layout()  # Adjust subplot params so that the subplot(s) fits in to the figure area.\n",
    "plt.show()"
   ]
  }
 ],
 "metadata": {
  "kernelspec": {
   "display_name": "Python 3 (ipykernel)",
   "language": "python",
   "name": "python3"
  },
  "language_info": {
   "codemirror_mode": {
    "name": "ipython",
    "version": 3
   },
   "file_extension": ".py",
   "mimetype": "text/x-python",
   "name": "python",
   "nbconvert_exporter": "python",
   "pygments_lexer": "ipython3",
   "version": "3.11.7"
  }
 },
 "nbformat": 4,
 "nbformat_minor": 5
}
