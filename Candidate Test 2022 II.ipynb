{
 "cells": [
  {
   "cell_type": "markdown",
   "id": "278102b3",
   "metadata": {},
   "source": [
    "# Candidate Test 2022 Analysis Part 2\n",
    "\n",
    "This exercise focuses on the candidate tests from two television networks: DR and TV2. Data from both tests have been given on a scale of five responses (-2, -1, 0, 1, 2). Consider normalizing the data or performing similar scaling transformations as needed.\n",
    "\n",
    "---\n",
    "\n",
    "There are 6 datasets included in this exercise:\n",
    "\n",
    "- `alldata.xlsx`: Contains responses from both TV stations.\n",
    "- `drdata.xlsx`: Contains responses from DR.\n",
    "- `drq.xlsx`: Contains questions from DR.\n",
    "- `tv2data.xlsx`: Contains responses from TV2.\n",
    "- `tv2q.xlsx`: Contains questions from TV2.\n",
    "- `electeddata.xlsx`: Contains responses from both TV stations for candidates who were elected to the parliament. Note that 9 members are missing; 7 of them didn't take any of the tests. Additionally, some notable figures like Mette F. and Lars Løkke did not participate in any of the tests.\n",
    "\n",
    "---\n",
    "\n",
    "It's entirely up to you how you approach this data, but at a *minimum*, your analysis should include:\n",
    "\n",
    "- An analysis/description of which questions are most crucial concerning their placement on the axes.\n",
    "- Average positions of parties concerning each question, preferably with accompanying plots of each (or selected) question.\n",
    "- A clustering analysis where you attempt various cluster numbers, which would correspond to different parties. Discuss whether there is room for more clusters/parties or if a reduction is needed. Make sure you cover: **K-Means, Hierarchical clustering, and DBSCAN.**\n",
    "- An overview of the political landscape of the elected candidates, highlighting which members agree or disagree the most and which parties or party members have significant disagreements.\n",
    "- Feel free to explore further and remember that preprocessing, methodology, and evaluation metrics are not mentioned explicitly, but are implicitly assumed.\n",
    "\n",
    "---\n",
    "\n",
    "The following parties are represented:\n",
    "\n",
    "| Party letter | Party name | Party name (English) | Political position |\n",
    "| :-: | :-: | :-: | :-: |\n",
    "| A | Socialdemokratiet | Social Democrats | Centre-left |\n",
    "| V | Venstre | Danish Liberal Party | Centre-right |\n",
    "| M | Moderaterne | Moderates | Centre-right |\n",
    "| F | Socialistisk Folkeparti | Socialist People's Party | Left-wing |\n",
    "| D | Danmarksdemokraterne | Denmark Democrats | Right-wing |\n",
    "| I | Liberal Alliance | Liberal Alliance | Right-wing |\n",
    "| C | Konservative | Conservative People's Party | Right-wing |\n",
    "| Æ | Enhedslisten | Red-Green Alliance | Far-left |\n",
    "| B | Radikale Venstre | Social Liberal Party | Centre-left |\n",
    "| D | Nye Borgerlige | New Right | Far-right |\n",
    "| Z | Alternativet | The Alternative | Centre-left |\n",
    "| O | Dansk Folkeparti | Danish People's Party | Far-right |\n",
    "| G | Frie Grønne | Free Greens | Centre-left |\n",
    "| K | Kristendemokraterne | Christian Democrats | Centre-right |\n",
    "\n",
    "Below you can see the results and the colors chosen to represent the parties. Use these colors in your analysis above.\n",
    "\n",
    "![Alt text](image-1.png)\n",
    "\n",
    "\n",
    "Others have undertaken similar analyses. You can draw inspiration from the following (use Google tranlsate if your Danish is rusty):\n",
    "\n",
    "- [Analysis of where individual candidates stand relative to each other and their parties](https://v2022.dumdata.dk/)\n",
    "- [Candidate Test 2022 – A deep dive into the data](https://kwedel.github.io/kandidattest2022/)\n",
    "- [The Political Landscape 2019](https://kwedel.github.io/kandidattest2019/)\n",
    "\n"
   ]
  },
  {
   "cell_type": "code",
   "execution_count": 37,
   "id": "0773e39c",
   "metadata": {},
   "outputs": [],
   "source": [
    "import pandas as pd\n",
    "from sklearn.decomposition import PCA\n",
    "from sklearn.preprocessing import StandardScaler\n",
    "import matplotlib.pyplot as plt\n",
    "import numpy as np\n",
    "import plotly.express as px\n",
    "from sklearn.manifold import TSNE"
   ]
  },
  {
   "cell_type": "markdown",
   "id": "181081af",
   "metadata": {},
   "source": [
    "Load the data and remove the unnecessary columns."
   ]
  },
  {
   "cell_type": "code",
   "execution_count": 38,
   "id": "05d4ccb7",
   "metadata": {},
   "outputs": [
    {
     "name": "stdout",
     "output_type": "stream",
     "text": [
      "Index(['530', '531', '533', '534', '535', '537', '538', '540', '541', '543',\n",
      "       '544', '545', '546', '547', '548', '550', '551', '552', '553', '555',\n",
      "       '556', '557', '559', '561', '563', 'navn', 'parti', '1a', '1b', '2a',\n",
      "       '2b', '3a', '3b', '4a', '4b', '5a', '5b', '6a', '6b', '7a', '7b', '8a',\n",
      "       '8b', '9a', '9b', '10a', '10b', '11a', '11b', '12a', '12b'],\n",
      "      dtype='object')\n"
     ]
    }
   ],
   "source": [
    "data = pd.read_excel('alldata.xlsx')\n",
    "data = data.drop(columns='alder')\n",
    "data = data.drop(columns='storkreds')\n",
    "print(data.columns)"
   ]
  },
  {
   "cell_type": "markdown",
   "id": "3a8d3317",
   "metadata": {},
   "source": [
    "Move the candidate's name and party to the end of the dataframe for easier selection of question data."
   ]
  },
  {
   "cell_type": "code",
   "execution_count": 39,
   "id": "54fff1ad",
   "metadata": {},
   "outputs": [
    {
     "name": "stdout",
     "output_type": "stream",
     "text": [
      "   530  531  533  534  535  537  538  540  541  543  544  545  546  547  548  \\\n",
      "0   -1   -2    1   -2    2    1   -2    1    1    2   -2    1    2    2    1   \n",
      "1    2    2   -1   -2   -1   -2    1   -2    2   -2    2   -1   -2   -2    2   \n",
      "2    2    1   -2   -2    1   -2    1   -1    1   -1    2   -2   -2   -1    1   \n",
      "3    2    1   -2   -1    1    1    1    1    1   -2    2    1    1   -2    2   \n",
      "4    1    1   -2    2   -2    1   -2    1    2   -2   -2    2    2   -2    2   \n",
      "\n",
      "   550  551  552  553  555  556  557  559  561  563  1a  1b  2a  2b  3a  3b  \\\n",
      "0   -2    1    2   -2    2    2    1    2    2   -2   0   0   2   2   2  -2   \n",
      "1    2   -2    1    1   -1   -2    1    2    1    2   1   1   1   1   1   2   \n",
      "2    1   -2    2   -1   -2   -1    1    2    2    2   1   1   1   2   1   1   \n",
      "3    2   -2    2    1    2   -2    2    2    2    2   2   2   2   2   0   2   \n",
      "4    1   -2    2   -2   -2   -1    1   -2   -1   -2  -2  -2   0   0  -2  -2   \n",
      "\n",
      "   4a  4b  5a  5b  6a  6b  7a  7b  8a  8b  9a  9b  10a  10b  11a  11b  12a  \\\n",
      "0  -1   0  -1   1  -1   1   2   2   1   0   2   0    1   -2   -2    1    1   \n",
      "1   2   2  -2   0   1  -2  -2   0   0   0  -2   0   -1    2    1   -2    0   \n",
      "2   2   0  -1   1   2  -2  -2  -2   1   1  -1  -2    0    2    0   -1    1   \n",
      "3   0   2  -2   2  -1   2   0  -2   2   2  -2   2    2    2    2   -1    2   \n",
      "4   2   1  -2   2   1  -2   2  -2   1   0  -2   0   -1    0   -2    0    2   \n",
      "\n",
      "   12b                    parti                      navn  \n",
      "0    1              Moderaterne      Lars Philipsen Prahm  \n",
      "1    0  Socialistisk Folkeparti             Karsten Hønge  \n",
      "2   -2             Alternativet  Martin Kelleher-Petersen  \n",
      "3    0             Alternativet    Nicklas Gjedsig Larsen  \n",
      "4   -2                Løsgænger            Tom Gillesberg  \n"
     ]
    }
   ],
   "source": [
    "parti_col = data['parti']\n",
    "navn_col = data['navn']\n",
    "# Drop the columns 'parti' and 'navn'\n",
    "data.drop(columns=['parti', 'navn'], inplace=True)\n",
    "\n",
    "# Append the columns 'parti' and 'navn' to the end of the DataFrame\n",
    "data['parti'] = parti_col\n",
    "data['navn'] = navn_col\n",
    "print(data.head())"
   ]
  },
  {
   "cell_type": "markdown",
   "id": "e6cb212c",
   "metadata": {},
   "source": [
    "Extract only the question data into a separate dataframe and print."
   ]
  },
  {
   "cell_type": "code",
   "execution_count": 40,
   "id": "3efb2d3e",
   "metadata": {},
   "outputs": [
    {
     "name": "stdout",
     "output_type": "stream",
     "text": [
      "49\n",
      "   530  531  533  534  535  537  538  540  541  543  544  545  546  547  548  \\\n",
      "0   -1   -2    1   -2    2    1   -2    1    1    2   -2    1    2    2    1   \n",
      "1    2    2   -1   -2   -1   -2    1   -2    2   -2    2   -1   -2   -2    2   \n",
      "2    2    1   -2   -2    1   -2    1   -1    1   -1    2   -2   -2   -1    1   \n",
      "3    2    1   -2   -1    1    1    1    1    1   -2    2    1    1   -2    2   \n",
      "4    1    1   -2    2   -2    1   -2    1    2   -2   -2    2    2   -2    2   \n",
      "\n",
      "   550  551  552  553  555  556  557  559  561  563  1a  1b  2a  2b  3a  3b  \\\n",
      "0   -2    1    2   -2    2    2    1    2    2   -2   0   0   2   2   2  -2   \n",
      "1    2   -2    1    1   -1   -2    1    2    1    2   1   1   1   1   1   2   \n",
      "2    1   -2    2   -1   -2   -1    1    2    2    2   1   1   1   2   1   1   \n",
      "3    2   -2    2    1    2   -2    2    2    2    2   2   2   2   2   0   2   \n",
      "4    1   -2    2   -2   -2   -1    1   -2   -1   -2  -2  -2   0   0  -2  -2   \n",
      "\n",
      "   4a  4b  5a  5b  6a  6b  7a  7b  8a  8b  9a  9b  10a  10b  11a  11b  12a  \\\n",
      "0  -1   0  -1   1  -1   1   2   2   1   0   2   0    1   -2   -2    1    1   \n",
      "1   2   2  -2   0   1  -2  -2   0   0   0  -2   0   -1    2    1   -2    0   \n",
      "2   2   0  -1   1   2  -2  -2  -2   1   1  -1  -2    0    2    0   -1    1   \n",
      "3   0   2  -2   2  -1   2   0  -2   2   2  -2   2    2    2    2   -1    2   \n",
      "4   2   1  -2   2   1  -2   2  -2   1   0  -2   0   -1    0   -2    0    2   \n",
      "\n",
      "   12b  \n",
      "0    1  \n",
      "1    0  \n",
      "2   -2  \n",
      "3    0  \n",
      "4   -2  \n"
     ]
    }
   ],
   "source": [
    "pd.set_option('display.max_columns', None)  # This line will ensure all columns are displayed\n",
    "index_of_parti = data.columns.get_loc('parti')\n",
    "print(index_of_parti)\n",
    "questions_data = data.iloc[:,:49]\n",
    "print(questions_data.head())\n"
   ]
  },
  {
   "cell_type": "markdown",
   "id": "5a122ee9",
   "metadata": {},
   "source": [
    "Scale the data using the standard scaler (mean of 0 with variance of 1) and apply PCA without specifying the number of components in order to see the variance explained by each component. \n",
    "We can observe that the first two components explain about 51% of the variance."
   ]
  },
  {
   "cell_type": "code",
   "execution_count": 41,
   "id": "ef243610",
   "metadata": {},
   "outputs": [
    {
     "name": "stdout",
     "output_type": "stream",
     "text": [
      "[0.41737636 0.10259865 0.04976015 0.04300927 0.0293233  0.0237033\n",
      " 0.01994712 0.01697463 0.01676652 0.01608279 0.01527152 0.01449084\n",
      " 0.01303718 0.01297392 0.01200226 0.01125725 0.0102922  0.00997773\n",
      " 0.00986747 0.00966786 0.00928391 0.0089641  0.00877818 0.00786085\n",
      " 0.00755989 0.00722701 0.00682415 0.00670982 0.00626662 0.00605007\n",
      " 0.00582534 0.0055948  0.0052595  0.00505699 0.00473416 0.00466639\n",
      " 0.00453667 0.00416406 0.00398844 0.00388108 0.00341904 0.00330379\n",
      " 0.0029882  0.00290354 0.00251036 0.00244041 0.00210387 0.00141116\n",
      " 0.00130729]\n"
     ]
    }
   ],
   "source": [
    "scaler = StandardScaler()\n",
    "data_scaled = scaler.fit_transform(questions_data)\n",
    "\n",
    "pca = PCA(n_components=None)\n",
    "principal_components = pca.fit_transform(data_scaled)\n",
    "print(pca.explained_variance_ratio_)"
   ]
  },
  {
   "cell_type": "markdown",
   "id": "d93a12d7",
   "metadata": {},
   "source": [
    "Specify the number of components, show the shape of the data, and plot the elbow graph."
   ]
  },
  {
   "cell_type": "code",
   "execution_count": 42,
   "id": "ed799be8",
   "metadata": {},
   "outputs": [
    {
     "name": "stdout",
     "output_type": "stream",
     "text": [
      "[0.41737636 0.10259865 0.04976012 0.04300921 0.02932097 0.02370226\n",
      " 0.01991486 0.01692977 0.0166561  0.01604087]\n",
      "Original shape: (867, 49)\n",
      "Reduced shape: (867, 10)\n"
     ]
    },
    {
     "data": {
      "image/png": "[encoded data removed]",
      "text/plain": [
       "<Figure size 1000x600 with 1 Axes>"
      ]
     },
     "metadata": {},
     "output_type": "display_data"
    }
   ],
   "source": [
    "pca = PCA(n_components=10)\n",
    "principal_components = pca.fit_transform(data_scaled)\n",
    "print(pca.explained_variance_ratio_)\n",
    "\n",
    "print(\"Original shape: {}\".format(str(data_scaled.shape)))\n",
    "print(\"Reduced shape: {}\".format(str(principal_components.shape)))\n",
    "\n",
    "# Creating the plot\n",
    "plt.figure(figsize=(10, 6))\n",
    "plt.plot(range(1, 1 + len(pca.explained_variance_ratio_)), pca.explained_variance_ratio_, marker='o', linestyle='-', color='b')\n",
    "plt.title('Scree Plot')\n",
    "plt.xlabel('Principal Component')\n",
    "plt.ylabel('Explained Variance Ratio')\n",
    "plt.xticks(range(1, 11))  # Ensuring that all components are marked on the x-axis\n",
    "plt.grid(True)\n",
    "plt.show()"
   ]
  },
  {
   "cell_type": "markdown",
   "id": "e68e969c",
   "metadata": {},
   "source": [
    "Based on the information in the elbow graph, we pick two principal components for the analysis and plot a heatmap. The heatmap shows the 'loading' of the features in the selected components - essentially the weight of each question, or how much they are represented in the components. The more yellow the square representing the question is, the more it is represented in the component."
   ]
  },
  {
   "cell_type": "code",
   "execution_count": 43,
   "id": "b06b215b",
   "metadata": {},
   "outputs": [
    {
     "name": "stdout",
     "output_type": "stream",
     "text": [
      "[0.41737636 0.10259865]\n",
      "Original shape: (867, 49)\n",
      "Reduced shape: (867, 2)\n"
     ]
    },
    {
     "data": {
      "image/png": "[encoded data removed]",
      "text/plain": [
       "<Figure size 1200x600 with 2 Axes>"
      ]
     },
     "metadata": {},
     "output_type": "display_data"
    }
   ],
   "source": [
    "pca = PCA(n_components=2)\n",
    "principal_components = pca.fit_transform(data_scaled)\n",
    "print(pca.explained_variance_ratio_)\n",
    "\n",
    "print(\"Original shape: {}\".format(str(data_scaled.shape)))\n",
    "print(\"Reduced shape: {}\".format(str(principal_components.shape)))\n",
    "\n",
    "# Create a heatmap of the loading vectors\n",
    "plt.figure(figsize=(12, 6))\n",
    "plt.matshow(pca.components_, cmap='viridis', fignum=1)\n",
    "plt.yticks([0, 1], [\"First component\", \"Second component\"])\n",
    "plt.colorbar()\n",
    "plt.xticks(range(len(questions_data.columns)),\n",
    "           questions_data.columns, rotation=60, ha='left')\n",
    "plt.xlabel(\"Feature\")\n",
    "plt.ylabel(\"Principal components\")\n",
    "plt.show()"
   ]
  },
  {
   "cell_type": "markdown",
   "id": "e04d704d",
   "metadata": {},
   "source": [
    "The output of the code below shows 10 most influential questions for each component rounded to 5 decimal points and accompanied by the question ID, text and translation to english. The political compass by definition rates political ideology in a spectrum with two axes: \n",
    "- economic policy (left-rigth) - Component 1 \n",
    "- social policy (authoritarian - libertarian) - Component 2\n",
    "\n",
    "To some extent, this can be observed in the selected questions as well - the Component 1 seems to focus more on economic policy and governance. The most influential questions are 537, 543 and 540, which cover economic inequality and social welfare. On the other hand, the Component 2 focuses more on national policy with questions covering border control, EU membership and energy independence (among others).\n",
    "\n",
    "Two questions covering the same topic (managing of asylum seekers) 555 and 6b are represented in top 10 of the both components. Both the questions still have more weight in the Component 2, in accordance with the political compass definition. "
   ]
  },
  {
   "cell_type": "code",
   "execution_count": 44,
   "id": "02cacbfd",
   "metadata": {},
   "outputs": [
    {
     "name": "stdout",
     "output_type": "stream",
     "text": [
      "Component 1:\n",
      "\t537: 0.19028\tDet er okay, at den økonomiske ulighed stiger, så længe danskerne generelt bliver rigere\n",
      "\t543: 0.18589\tDet er en god idé, at dagpengesatsen for nyuddannede er sat ned\n",
      "\t540: 0.1744\tDet skal være muligt at tjene penge på at drive private børnehaver og vuggestuer\n",
      "\t9a: 0.17269\tDele af SU’en på videregående uddannelser skal omdannes til lån for at sikre ressourcer til andre dele af uddannelsesområdet.\n",
      "\t3a: 0.17047\tDanmark bør bruge to procent af BNP på forsvaret, inden 2033 begynder.\n",
      "\t555: 0.16574\tAsylansøgere bør sendes til et land uden for EU - f.eks. Rwanda - mens deres ansøgning behandles\n",
      "\t10a: 0.16568\tDet offentlige bruger i dag for mange penge på at hjælpe mennesker, der godt kunne klare sig selv, og for få penge på mennesker, der virkelig har brug for hjælp.\n",
      "\t6b: 0.16321\tDet vil være en god idé at etablere et dansk asylmodtagecenter i Rwanda.\n",
      "\t11b: 0.15866\tDet bør undersøges, om Mette Frederiksen kan stilles for en rigsret som konsekvens af hendes håndtering af Mink-sagen.\n",
      "\t7a: 0.15516\tIndførelse af atomkraft i Danmark vil være et godt bidrag til den grønne omstilling.\n",
      "Component 2:\n",
      "\t10b: 0.30292\tDen såkaldte Arne-pension, der giver mulighed for tidligere pension, skal bibeholdes, selvom der er mangel på arbejdskraft.\n",
      "\t551: 0.29384\tDer skal være permanent grænsekontrol mellem Danmark og Tyskland\n",
      "\t553: 0.27281\tDer skal udflyttes flere uddannelsespladser fra de store byer\n",
      "\t4b: 0.25845\tStaten bør i højere grad kompensere danskerne for de stigende priser, som inflationen har medført.\n",
      "\t6b: 0.20771\tDet vil være en god idé at etablere et dansk asylmodtagecenter i Rwanda.\n",
      "\t555: 0.20675\tAsylansøgere bør sendes til et land uden for EU - f.eks. Rwanda - mens deres ansøgning behandles\n",
      "\t534: 0.20145\tPå sigt skal Danmark meldes ud af EU\n",
      "\t533: 0.18496\tKriminalitet begået i udsatte boligområder skal straffes særligt hårdt\n",
      "\t5b: 0.17042\tDer bør tilføres ekstra ressourcer til ældreplejen, selvom dette vil medføre, at andre velfærdsområder får færre ressourcer.\n",
      "\t7b: 0.12597\tDanmark skal hurtigst muligt gøre sig totalt uafhængig af russisk gas og olie, også selvom det medfører øget brug af kul, som er mere klimaskadeligt.\n"
     ]
    }
   ],
   "source": [
    "drq_questions = pd.read_excel('drq.xlsx')\n",
    "tv2_questions = pd.read_excel('tv2q.xlsx')\n",
    "\n",
    "# Remove the first 51 elements from tv2_questions\n",
    "tv2_questions = tv2_questions.iloc[50:]\n",
    "\n",
    "combined_questions = pd.concat([drq_questions[['ID', 'Title', 'Question']], tv2_questions[['id', 'header', 'question']].rename(columns={'id': 'ID', 'header': 'Title', 'question': 'Question'})])\n",
    "# Print all combined questions\n",
    "pd.set_option('display.max_rows', None)  # This line will ensure all rows are displayed\n",
    "pd.set_option('display.max_columns', None)  # This line will ensure all columns are displayed\n",
    "\n",
    "combined_questions.to_excel('combined_questions.xlsx', index=False)\n",
    "# print(combined_questions)\n",
    "\n",
    "# set the ID column of combined questions as string\n",
    "combined_questions.ID = combined_questions.ID.astype(str)\n",
    "\n",
    "# Create a dictionary to store loadings for each component\n",
    "loading_dict = {}\n",
    "for i, component in enumerate(pca.components_):\n",
    "    # Create a list to store tuples of feature loading pairs\n",
    "    loadings_list = [(feature, loading) for feature, loading in zip(questions_data.columns, component)]\n",
    "    # Sort the list based on loading value\n",
    "    sorted_loadings = sorted(loadings_list, key=lambda x: x[1], reverse=True)\n",
    "    # Store the sorted loadings in the dictionary\n",
    "    loading_dict[\"Component {}\".format(i + 1)] = sorted_loadings\n",
    "\n",
    "# Print the questions ordered by loading to each component\n",
    "for component, loadings_list in loading_dict.items():\n",
    "    print(component + \":\")\n",
    "    for feature, loading in loadings_list[:10]:     # Only take the top 10\n",
    "        loading = round(loading, 5)                 # Round the loading to 5 decimal points\n",
    "        question_text = combined_questions[combined_questions['ID'] == feature]['Question'].values[0] if feature in combined_questions['ID'].values else 'No question found'\n",
    "        print(\"\\t{}: {}\\t{}\".format(feature, loading, question_text))"
   ]
  },
  {
   "cell_type": "markdown",
   "id": "0bd133b5",
   "metadata": {},
   "source": [
    "**Component 1:**\n",
    "\n",
    "| Item | Loading   | Question |\n",
    "|------|---------|-----------|\n",
    "| 537  | 0.19028 | It is okay for economic inequality to increase as long as the Danes generally become richer |\n",
    "| 543  | 0.18589 | It is a good idea that the allowance rate for new graduates has been reduced |\n",
    "| 540  | 0.17440 | It must be possible to make money from running private kindergartens and nurseries |\n",
    "| 9a   | 0.17269 | Parts of the SU in higher education must be converted into loans in order to secure resources for other parts of the education area |\n",
    "| 3a   | 0.17047 | Denmark should spend two percent of GDP on defense before 2033 begins |\n",
    "| 555  | 0.16574 | Asylum seekers should be sent to a country outside the EU - e.g. Rwanda - while their application is being processed |\n",
    "| 10a  | 0.16568 | The public sector today spends too much money on helping people who could manage well on their own, and too little money on people who really need help |\n",
    "| 6b   | 0.16321 | It would be a good idea to establish a Danish asylum reception center in Rwanda |\n",
    "| 11b  | 0.15866 | It should be investigated whether Mette Frederiksen can be impeached as a consequence of her handling of the Mink case |\n",
    "| 7a   | 0.15516 | Introduction of nuclear power in Denmark will be a good contribution to the green transition |\n",
    "\n",
    "**Component 2:**\n",
    "\n",
    "| Item | Loading   | Question |\n",
    "|------|---------|-----------|\n",
    "| 10b  | 0.30292 | The so-called Arne pension, which allows for an earlier pension, must be maintained, even if there is a shortage of labour |\n",
    "| 551  | 0.29384 | There must be permanent border control between Denmark and Germany |\n",
    "| 553  | 0.27281 | More education places must be moved from the big cities |\n",
    "| 4b   | 0.25845 | The state should compensate the Danes to a greater extent for the rising prices that inflation has brought about |\n",
    "| 6b   | 0.20771 | It would be a good idea to establish a Danish asylum reception center in Rwanda |\n",
    "| 555  | 0.20675 | Asylum seekers should be sent to a country outside the EU - e.g. Rwanda - while their application is being processed |\n",
    "| 534  | 0.20145 | In the long term, Denmark must be declared out of the EU |\n",
    "| 533  | 0.18496 | Crime committed in vulnerable residential areas must be punished particularly harshly |\n",
    "| 5b   | 0.17042 | Extra resources should be added to care for the elderly, even if this will result in other welfare areas receiving fewer resources |\n",
    "| 7b   | 0.12597 | Denmark must as soon as possible become totally independent of Russian gas and oil, even if this entails increased use of coal, which is more harmful to the climate |\n",
    "\n",
    "\n",
    "\n",
    "\n",
    "\n",
    "\n",
    "\n",
    "\n"
   ]
  },
  {
   "cell_type": "markdown",
   "id": "8de03317",
   "metadata": {},
   "source": [
    "The code below creates the plot of the parties across the political compass. Each dot represents one candidate and the color of the dot represents party affiliation. The RGB values of the parties were extracted from the election results graph at the start of this notebook. "
   ]
  },
  {
   "cell_type": "code",
   "execution_count": 45,
   "id": "9bbc01a5",
   "metadata": {},
   "outputs": [
    {
     "data": {
      "image/png": "[encoded data removed]",
      "text/plain": [
       "<Figure size 1500x1000 with 1 Axes>"
      ]
     },
     "metadata": {},
     "output_type": "display_data"
    }
   ],
   "source": [
    "# Define party colors using RGB values\n",
    "party_colors = {\n",
    "    'Socialdemokratiet': 'rgb(179, 39, 34)',\n",
    "    'Venstre': 'rgb(0, 102, 151)',\n",
    "    'Moderaterne': 'rgb(108, 57, 229)',\n",
    "    'Socialistisk Folkeparti': 'rgb(221, 8, 120)',\n",
    "    'Danmarksdemokraterne': 'rgb(138, 195, 255)',\n",
    "    'Liberal Alliance': 'rgb(33, 198, 207)',\n",
    "    'Det Konservative Folkeparti': 'rgb(158, 186, 39)',\n",
    "    'Enhedslisten': 'rgb(237, 128, 25)',\n",
    "    'Radikale Venstre': 'rgb(113, 50, 128)',\n",
    "    'Nye Borgerlige': 'rgb(5, 79, 92)',\n",
    "    'Alternativet': 'rgb(42, 143, 57)',\n",
    "    'Dansk Folkeparti': 'rgb(243, 205, 65)',\n",
    "    'Frie Grønne, Danmarks Nye Venstrefløjsparti': 'rgb(0, 230, 106)',\n",
    "    'Kristendemokraterne': 'rgb(186, 186, 186)',\n",
    "    'Løsgænger': 'rgb(255, 118, 237)'\n",
    "}\n",
    "\n",
    "# Plot the candidates on the political compass\n",
    "plt.figure(figsize=(15, 10))\n",
    "\n",
    "# Plot each candidate, coloring by party\n",
    "for i, (x, y) in enumerate(principal_components):\n",
    "    party = parti_col[i]\n",
    "    rgb = party_colors[party][4:-1].split(',')\n",
    "    color_tuple = (int(rgb[0])/255, int(rgb[1])/255, int(rgb[2])/255)\n",
    "    plt.scatter(x, y, color=color_tuple, label=party)\n",
    "\n",
    "# Create the legend without duplicates, and move it outside the plot area\n",
    "handles, labels = plt.gca().get_legend_handles_labels()\n",
    "by_label = dict(zip(labels, handles))\n",
    "plt.legend(by_label.values(), by_label.keys(), loc='upper left', bbox_to_anchor=(1, 1))\n",
    "\n",
    "plt.axhline(0, color='grey', lw=1)\n",
    "plt.axvline(0, color='grey', lw=1)\n",
    "plt.grid(True)\n",
    "plt.xlabel('Component 1')\n",
    "plt.ylabel('Component 2')\n",
    "plt.title('Political Compass of Candidates Based on PCA of Questionnaire Responses')\n",
    "\n",
    "plt.tight_layout()  # Adjust subplot params so that the subplot(s) fits in to the figure area.\n",
    "plt.show()"
   ]
  },
  {
   "cell_type": "markdown",
   "id": "621b13e7",
   "metadata": {},
   "source": [
    "The code below creates the same plot, but using plotly.express to make the plot interactive. Hovering above each dot shows the candidate's name, age and their constituency (storkreds). This allows for a better analysis of the 'political outliers' within the respective parties and the overall distribution of the parties across the spectrum. \n",
    "For example: \n",
    "- Rasmus Paludan, well known for his far-right views (such as Islam should be banned and all non-Western citizens deported) is not belonging to any party, but is placed very clearly among candidates with similar political views - far right Nye Borgerlige.\n",
    "- Mads Silberg of Det Konservative Folkeparti seems to have different view than the rest of the members of his party - he is the only one on the left side of the compass, every other member is more right-leaning.\n",
    "- Lars Prier of Dansk Folkeparti has the most liberal views compared to others in their party, he's the only one below the Component 2 axis.\n",
    "- Looking at the consistency of opinions across the parties, there seems to be agreement on the far-left side of the spectrum among Enhedslisten, Socialistisk Folkeparti and Frie Grønne. Similarly on the other side of the spectrum, there is a considerable overlap between Danmarksdemokraterne and Dansk Folkeparti.\n",
    "- Some parties are very consistent in their opinions among party members - Nye Borgerlige show very little variance. On the other hand, Moderaterne - true to their name are spread widely across the center of the spectrum."
   ]
  },
  {
   "cell_type": "code",
   "execution_count": 46,
   "id": "5600113b",
   "metadata": {},
   "outputs": [
    {
     "data": {
      "application/vnd.plotly.v1+json": {
       "config": {
        "plotlyServerURL": "https://plot.ly"
       },
       "data": [
        {
         "customdata": [
          [
           "Lars Philipsen Prahm",
           "Moderaterne",
           78,
           "Københavns Storkreds"
          ],
          [
           "Johan Kahl",
           "Moderaterne",
           25,
           "Københavns Storkreds"
          ],
          [
           "Henrik Rejnholt Andersen",
           "Moderaterne",
           45,
           "Østjyllands Storkreds"
          ],
          [
           "Karin Liltorp",
           "Moderaterne",
           50,
           "Østjyllands Storkreds"
          ],
          [
           "Peter Have",
           "Moderaterne",
           59,
           "Østjyllands Storkreds"
          ],
          [
           "Tobias Grotkjær Elmstrøm",
           "Moderaterne",
           40,
           "Østjyllands Storkreds"
          ],
          [
           "Ellen Emilie",
           "Moderaterne",
           21,
           "Københavns Storkreds"
          ],
          [
           "Jørgen Kjøller",
           "Moderaterne",
           65,
           "Københavns Storkreds"
          ],
          [
           "Marina Fløjgaard Andersen",
           "Moderaterne",
           46,
           "Københavns Storkreds"
          ],
          [
           "Nanna W. Gotfredsen",
           "Moderaterne",
           53,
           "Københavns Storkreds"
          ],
          [
           "Jon Læssøe Stephensen",
           "Moderaterne",
           62,
           "Københavns Storkreds"
          ],
          [
           "Louise Davidsen",
           "Moderaterne",
           43,
           "Københavns Storkreds"
          ],
          [
           "Lean Milo",
           "Moderaterne",
           47,
           "Københavns Storkreds"
          ],
          [
           "Dina Mofidi",
           "Moderaterne",
           24,
           "Nordjyllands Storkreds"
          ],
          [
           "Mohammad Rona",
           "Moderaterne",
           37,
           "Nordjyllands Storkreds"
          ],
          [
           "Kristian Klarskov",
           "Moderaterne",
           47,
           "Nordjyllands Storkreds"
          ],
          [
           "Kenneth Bjerg Andersen",
           "Moderaterne",
           36,
           "Fyns Storkreds"
          ],
          [
           "Rosa Eriksen",
           "Moderaterne",
           32,
           "Fyns Storkreds"
          ],
          [
           "Carsten Damgaard Møller",
           "Moderaterne",
           52,
           "Fyns Storkreds"
          ],
          [
           "Jeppe Søe",
           "Moderaterne",
           51,
           "Vestjyllands Storkreds"
          ],
          [
           "Nikolaj Gam-Pedersen",
           "Moderaterne",
           29,
           "Vestjyllands Storkreds"
          ],
          [
           "Freya Luna Andersen",
           "Moderaterne",
           19,
           "Vestjyllands Storkreds"
          ],
          [
           "Kasper Søstrøm Müller",
           "Moderaterne",
           36,
           "Sydjyllands Storkreds"
          ],
          [
           "Mette Kierkgaard",
           "Moderaterne",
           50,
           "Sydjyllands Storkreds"
          ],
          [
           "Henrik Frandsen",
           "Moderaterne",
           61,
           "Sydjyllands Storkreds"
          ],
          [
           "Mads Lund Beier",
           "Moderaterne",
           19,
           "Sjællands Storkreds"
          ],
          [
           "Michael Hertz",
           "Moderaterne",
           33,
           "Sjællands Storkreds"
          ],
          [
           "Benjamin Lindberg",
           "Moderaterne",
           45,
           "Sjællands Storkreds"
          ],
          [
           "Charlotte Bagge Hansen",
           "Moderaterne",
           53,
           "Sjællands Storkreds"
          ],
          [
           "Jan Carlsen",
           "Moderaterne",
           57,
           "Sjællands Storkreds"
          ],
          [
           "Ulf Helgstrand",
           "Moderaterne",
           71,
           "Nordsjællands Storkreds"
          ],
          [
           "Kim Rasmussen",
           "Moderaterne",
           61,
           "Nordsjællands Storkreds"
          ],
          [
           "Kim Mejnert Frydensbjerg",
           "Moderaterne",
           42,
           "Nordsjællands Storkreds"
          ],
          [
           "Erick Thürmer",
           "Moderaterne",
           45,
           "Nordsjællands Storkreds"
          ],
          [
           "Jakob Engel-Schmidt",
           "Moderaterne",
           39,
           "Nordsjællands Storkreds"
          ],
          [
           "Carina Bloch Simonsen",
           "Moderaterne",
           49,
           "Nordsjællands Storkreds"
          ],
          [
           "Anastasia Valentin Mikitsiuk Rasmussen",
           "Moderaterne",
           40,
           "Københavns Omegns Storkreds"
          ],
          [
           "Rasmus Skindbjerg Hinrichs",
           "Moderaterne",
           35,
           "Københavns Omegns Storkreds"
          ],
          [
           "Rasmus Lund-Nielsen",
           "Moderaterne",
           34,
           "Københavns Omegns Storkreds"
          ],
          [
           "Ammar Ali",
           "Moderaterne",
           37,
           "Københavns Omegns Storkreds"
          ],
          [
           "Monika Rubin",
           "Moderaterne",
           34,
           "Københavns Omegns Storkreds"
          ],
          [
           "Lars Arne Christensen",
           "Moderaterne",
           57,
           "Københavns Omegns Storkreds"
          ]
         ],
         "hovertemplate": "Party=%{customdata[1]}<br>Component 1=%{x}<br>Component 2=%{y}<br>Candidate=%{customdata[0]}<br>Age=%{customdata[2]}<br>Constituency=%{customdata[3]}<extra></extra>",
         "legendgroup": "Moderaterne",
         "marker": {
          "color": "rgb(108, 57, 229)",
          "line": {
           "color": "DarkSlateGrey",
           "width": 1
          },
          "size": 10,
          "symbol": "circle"
         },
         "mode": "markers",
         "name": "Moderaterne",
         "orientation": "v",
         "showlegend": true,
         "textposition": "top center",
         "type": "scatter",
         "x": [
          3.3621853975397955,
          -0.4901270407988812,
          1.6637700571684815,
          0.16514816702003252,
          1.1388605283893245,
          0.4243315717960043,
          -1.4774346026537712,
          1.816482998589814,
          3.2957564682734377,
          -0.27110359195817113,
          -4.2210849342595775,
          2.121167036979365,
          1.489065627403408,
          0.9386591793037231,
          -0.5505443474012518,
          1.9520755392633402,
          -1.437580019809203,
          0.03463048879438547,
          1.4752939258718194,
          2.4951095844859528,
          0.82318272977115,
          1.0674796945948812,
          -0.7819994654998011,
          0.945145378272272,
          1.958849830810284,
          0.34081766576751643,
          -0.42327792024203914,
          1.160139500233902,
          1.875559079361616,
          2.419394437671221,
          2.2333785525340684,
          2.6578423235339925,
          0.38083260774792865,
          3.7819253976682625,
          1.0017869512400868,
          0.4236828032437702,
          1.0760490798564142,
          -0.627217005762484,
          0.9738762080629738,
          -0.9780164640454908,
          -0.48164245173908915,
          0.9708186418277187
         ],
         "xaxis": "x",
         "y": [
          -1.516929910920462,
          -4.467208185887307,
          -3.6849745200393023,
          -2.991722815791082,
          -0.8857168713025118,
          -2.616646264340877,
          -3.377851248135084,
          -2.061959882834578,
          -3.4955276626065164,
          -2.585446823949566,
          -2.227609244905695,
          -4.43082477684631,
          -2.8918829632534697,
          -2.098438718421027,
          -1.084963804280008,
          -3.009671871230992,
          -1.0465274984959922,
          -1.2553700707140667,
          -2.208025657497383,
          -1.8208410952289886,
          -2.659012190527335,
          -1.9447469812671032,
          -3.887689552054264,
          -1.955928106148871,
          -1.5617532610490892,
          -2.197314350297344,
          -3.1506244634966487,
          -3.1312997527139586,
          -1.470905976813694,
          -1.1555809836852124,
          -2.9217549992867116,
          -3.84124895686978,
          -3.340728707737146,
          -2.3803008402796366,
          -1.5799977249259367,
          -0.1406764787395904,
          -2.09415570021238,
          -1.8861067755199283,
          -2.4879039009498487,
          -2.4378800158374205,
          -3.8707660842218172,
          -3.8632638531216257
         ],
         "yaxis": "y"
        },
        {
         "customdata": [
          [
           "Karsten Hønge",
           "Socialistisk Folkeparti",
           64,
           "Fyns Storkreds"
          ],
          [
           "Søren Lahn Sloth",
           "Socialistisk Folkeparti",
           32,
           "Østjyllands Storkreds"
          ],
          [
           "Charlotte Vindeløv",
           "Socialistisk Folkeparti",
           52,
           "Østjyllands Storkreds"
          ],
          [
           "Morten Siig Henriksen",
           "Socialistisk Folkeparti",
           25,
           "Østjyllands Storkreds"
          ],
          [
           "Sofie Lippert",
           "Socialistisk Folkeparti",
           26,
           "Østjyllands Storkreds"
          ],
          [
           "Charlotte Broman Mølbæk",
           "Socialistisk Folkeparti",
           44,
           "Østjyllands Storkreds"
          ],
          [
           "Rasmus Nordqvist",
           "Socialistisk Folkeparti",
           47,
           "Østjyllands Storkreds"
          ],
          [
           "Anna Brændemose",
           "Socialistisk Folkeparti",
           29,
           "Østjyllands Storkreds"
          ],
          [
           "Kirsten Normann Andersen",
           "Socialistisk Folkeparti",
           60,
           "Østjyllands Storkreds"
          ],
          [
           "Sadek Al-Amood",
           "Socialistisk Folkeparti",
           22,
           "Københavns Storkreds"
          ],
          [
           "Klaus Mygind",
           "Socialistisk Folkeparti",
           67,
           "Københavns Storkreds"
          ],
          [
           "Cecilie Holdt",
           "Socialistisk Folkeparti",
           36,
           "Københavns Storkreds"
          ],
          [
           "Peder Holk Svendsen",
           "Socialistisk Folkeparti",
           50,
           "Københavns Storkreds"
          ],
          [
           "Melissa Skovgaard Jensen",
           "Socialistisk Folkeparti",
           33,
           "Københavns Storkreds"
          ],
          [
           "Line Petersen",
           "Socialistisk Folkeparti",
           30,
           "Københavns Storkreds"
          ],
          [
           "Andreas Berendt Bæk",
           "Socialistisk Folkeparti",
           22,
           "Københavns Storkreds"
          ],
          [
           "Pia Olsen Dyhr",
           "Socialistisk Folkeparti",
           50,
           "Københavns Storkreds"
          ],
          [
           "Carl Valentin",
           "Socialistisk Folkeparti",
           30,
           "Københavns Storkreds"
          ],
          [
           "Lisbeth Bech-Nielsen",
           "Socialistisk Folkeparti",
           39,
           "Københavns Storkreds"
          ],
          [
           "Halime Oguz",
           "Socialistisk Folkeparti",
           52,
           "Københavns Storkreds"
          ],
          [
           "Balder Mørk Andersen",
           "Socialistisk Folkeparti",
           46,
           "Københavns Storkreds"
          ],
          [
           "Dorte M. Nielsen",
           "Socialistisk Folkeparti",
           56,
           "Nordjyllands Storkreds"
          ],
          [
           "Peder Larsen",
           "Socialistisk Folkeparti",
           49,
           "Nordjyllands Storkreds"
          ],
          [
           "Thorkil Olesen",
           "Socialistisk Folkeparti",
           57,
           "Nordjyllands Storkreds"
          ],
          [
           "Benjamin Risager Jørgensen",
           "Socialistisk Folkeparti",
           26,
           "Nordjyllands Storkreds"
          ],
          [
           "Melina Andersen",
           "Socialistisk Folkeparti",
           28,
           "Nordjyllands Storkreds"
          ],
          [
           "Theresa Berg Andersen",
           "Socialistisk Folkeparti",
           42,
           "Nordjyllands Storkreds"
          ],
          [
           "Thomas Garfort",
           "Socialistisk Folkeparti",
           53,
           "Bornholms Storkreds"
          ],
          [
           "Andreas Grosbøll",
           "Socialistisk Folkeparti",
           0,
           "Bornholms Storkreds"
          ],
          [
           "Jonas Hulgaard Ammundsen",
           "Socialistisk Folkeparti",
           26,
           "Fyns Storkreds"
          ],
          [
           "Katrine Wulff",
           "Socialistisk Folkeparti",
           41,
           "Fyns Storkreds"
          ],
          [
           "Lise Müller",
           "Socialistisk Folkeparti",
           48,
           "Fyns Storkreds"
          ],
          [
           "Meritta Bjerregaard",
           "Socialistisk Folkeparti",
           47,
           "Vestjyllands Storkreds"
          ],
          [
           "Emma Thorup Jacobsen",
           "Socialistisk Folkeparti",
           26,
           "Vestjyllands Storkreds"
          ],
          [
           "Niels Kristian Larsen",
           "Socialistisk Folkeparti",
           21,
           "Vestjyllands Storkreds"
          ],
          [
           "Bente Refslund",
           "Socialistisk Folkeparti",
           65,
           "Vestjyllands Storkreds"
          ],
          [
           "Signe Munk",
           "Socialistisk Folkeparti",
           32,
           "Vestjyllands Storkreds"
          ],
          [
           "Karsten Filsø",
           "Socialistisk Folkeparti",
           63,
           "Vestjyllands Storkreds"
          ],
          [
           "Susanne Stenstrop Thorsen",
           "Socialistisk Folkeparti",
           44,
           "Sydjyllands Storkreds"
          ],
          [
           "Gunner Poulsen",
           "Socialistisk Folkeparti",
           57,
           "Sydjyllands Storkreds"
          ],
          [
           "Karin B. Nissen",
           "Socialistisk Folkeparti",
           49,
           "Sydjyllands Storkreds"
          ],
          [
           "Lars Olesen",
           "Socialistisk Folkeparti",
           44,
           "Sydjyllands Storkreds"
          ],
          [
           "Wanda Madsen",
           "Socialistisk Folkeparti",
           47,
           "Sydjyllands Storkreds"
          ],
          [
           "John Hyrup Jensen",
           "Socialistisk Folkeparti",
           64,
           "Sydjyllands Storkreds"
          ],
          [
           "David Dam Jensen",
           "Socialistisk Folkeparti",
           20,
           "Sydjyllands Storkreds"
          ],
          [
           "Karina Lorentzen Dehnhardt",
           "Socialistisk Folkeparti",
           49,
           "Sydjyllands Storkreds"
          ],
          [
           "Christian Mutwa Christensen",
           "Socialistisk Folkeparti",
           40,
           "Sydjyllands Storkreds"
          ],
          [
           "Nanna Bonde",
           "Socialistisk Folkeparti",
           29,
           "Sydjyllands Storkreds"
          ],
          [
           "Kenneth Werby Jensen",
           "Socialistisk Folkeparti",
           30,
           "Sjællands Storkreds"
          ],
          [
           "Mads Olsen",
           "Socialistisk Folkeparti",
           20,
           "Sjællands Storkreds"
          ],
          [
           "Michael Graakjær",
           "Socialistisk Folkeparti",
           62,
           "Sjællands Storkreds"
          ],
          [
           "Jeanne Bergmansen",
           "Socialistisk Folkeparti",
           33,
           "Sjællands Storkreds"
          ],
          [
           "Gitte Terp Henriksen",
           "Socialistisk Folkeparti",
           59,
           "Sjællands Storkreds"
          ],
          [
           "Anne Valentina Berthelsen",
           "Socialistisk Folkeparti",
           28,
           "Sjællands Storkreds"
          ],
          [
           "Claus Jørgensen",
           "Socialistisk Folkeparti",
           53,
           "Sjællands Storkreds"
          ],
          [
           "Astrid Carøe Rasmussen",
           "Socialistisk Folkeparti",
           28,
           "Sjællands Storkreds"
          ],
          [
           "Jacob Mark",
           "Socialistisk Folkeparti",
           31,
           "Sjællands Storkreds"
          ],
          [
           "Jens Skov",
           "Socialistisk Folkeparti",
           56,
           "Nordsjællands Storkreds"
          ],
          [
           "Peter Westermann",
           "Socialistisk Folkeparti",
           37,
           "Nordsjællands Storkreds"
          ],
          [
           "Marianne Stannum",
           "Socialistisk Folkeparti",
           56,
           "Nordsjællands Storkreds"
          ],
          [
           "Silje Brynildsen",
           "Socialistisk Folkeparti",
           20,
           "Nordsjællands Storkreds"
          ],
          [
           "Marianne Bigum",
           "Socialistisk Folkeparti",
           39,
           "Nordsjællands Storkreds"
          ],
          [
           "Alexander Bruhn Skjøth",
           "Socialistisk Folkeparti",
           42,
           "Københavns Omegns Storkreds"
          ],
          [
           "Niels Haxthausen",
           "Socialistisk Folkeparti",
           68,
           "Københavns Omegns Storkreds"
          ],
          [
           "Sigurd Agersnap",
           "Socialistisk Folkeparti",
           29,
           "Københavns Omegns Storkreds"
          ],
          [
           "Sofie Falck Villadsen",
           "Socialistisk Folkeparti",
           28,
           "Københavns Omegns Storkreds"
          ],
          [
           "Rasmus Henriksen",
           "Socialistisk Folkeparti",
           38,
           "Københavns Omegns Storkreds"
          ],
          [
           "Troels Stru Schmidt",
           "Socialistisk Folkeparti",
           40,
           "Københavns Omegns Storkreds"
          ],
          [
           "Vivi Nør Jacobsen",
           "Socialistisk Folkeparti",
           46,
           "Københavns Omegns Storkreds"
          ],
          [
           "Serdal Benli",
           "Socialistisk Folkeparti",
           43,
           "Københavns Omegns Storkreds"
          ]
         ],
         "hovertemplate": "Party=%{customdata[1]}<br>Component 1=%{x}<br>Component 2=%{y}<br>Candidate=%{customdata[0]}<br>Age=%{customdata[2]}<br>Constituency=%{customdata[3]}<extra></extra>",
         "legendgroup": "Socialistisk Folkeparti",
         "marker": {
          "color": "rgb(221, 8, 120)",
          "line": {
           "color": "DarkSlateGrey",
           "width": 1
          },
          "size": 10,
          "symbol": "circle"
         },
         "mode": "markers",
         "name": "Socialistisk Folkeparti",
         "orientation": "v",
         "showlegend": true,
         "textposition": "top center",
         "type": "scatter",
         "x": [
          -6.091748745171917,
          -7.052065939874389,
          -6.643609904133804,
          -4.641474830510334,
          -6.765133147750253,
          -6.557955845870022,
          -7.40749077158154,
          -7.101194010450875,
          -6.10547776065652,
          -5.64730799650652,
          -5.6469024924255695,
          -6.373867871007686,
          -6.167734826823422,
          -4.319228412467714,
          -6.816094810207943,
          -6.256100878727394,
          -5.097629549838989,
          -6.7808113360962485,
          -6.72391611533895,
          -5.462622270983855,
          -6.289214477714445,
          -4.544132173688125,
          -5.686909436186495,
          -6.494309128686093,
          -6.317154157562426,
          -5.83498436842605,
          -5.144232114824879,
          -4.115057840390845,
          -4.769175862306969,
          -6.361098899698377,
          -6.824366694356038,
          -5.757563091177963,
          -6.309354771737364,
          -5.521900679169705,
          -6.884726964699238,
          -6.6685833278082445,
          -6.269973908198614,
          -5.49677218206327,
          -6.039594834059057,
          -5.79439440720267,
          -5.469026244730974,
          -7.004886860402598,
          -6.356405136190741,
          -2.7427429121917744,
          -6.148757041414163,
          -6.7699205269350875,
          -6.531991364328976,
          -6.444563082483789,
          -4.579331391581361,
          -5.350289660397116,
          -6.624296938445374,
          -4.147439557060034,
          -4.82969017456295,
          -6.043891123833755,
          -6.593713878287996,
          -6.987042114242875,
          -5.026110660626917,
          -6.752227918128063,
          -4.993585616773852,
          -5.816830433799568,
          -6.273342995711827,
          -4.451842583816734,
          -4.894923931654424,
          -6.159774875806486,
          -5.864676945560454,
          -5.241622191711637,
          -5.126085914399794,
          -4.123901223300855,
          -4.986285654878241,
          -4.949255733287803
         ],
         "xaxis": "x",
         "y": [
          1.1919513494555325,
          1.3406696758547167,
          2.2278093248257513,
          -0.7212235711525771,
          -0.3359848118031111,
          1.2871704962001838,
          1.4015975144474624,
          0.8968149491428109,
          2.262367471649189,
          0.31908397088220825,
          1.8647200472525272,
          0.5311390265135334,
          -0.34942889120628123,
          -0.9136257626315397,
          1.9106514508753083,
          1.0958363356330234,
          1.8201583227698699,
          0.008827155165870407,
          0.9521927880696519,
          2.5029489631023027,
          0.2635111735554318,
          1.7332352297012268,
          0.8099873492458075,
          2.225770956930812,
          1.360971967457911,
          2.330263274930796,
          1.5187674768729924,
          0.47821263593987273,
          -0.29623132526702317,
          -0.062327742590030245,
          1.821518684383495,
          1.477794053276789,
          2.349909667581281,
          0.20720054674154856,
          1.878355731726282,
          0.5706036222919446,
          2.4400217990591657,
          0.05958016342585369,
          1.1180831668306486,
          1.0756770798595126,
          1.3215247345044676,
          1.0213419492400277,
          2.457103833951817,
          0.8207866992421878,
          1.6429566176144539,
          2.2660624510853706,
          0.8991680235719203,
          1.4904274785114602,
          1.1035713455689675,
          0.6473256327018901,
          0.44797517713848356,
          -1.6062446412417977,
          1.778740960646657,
          1.712217948393901,
          1.357778881896587,
          1.6094905613666408,
          2.240917105483424,
          2.2528847633991362,
          1.0244288496820204,
          1.8674487944261533,
          -1.005833492987386,
          0.5841942940678014,
          1.1980269754579123,
          0.38244234468619,
          0.2597892595010545,
          0.5662250980074792,
          2.7181244988370246,
          0.30702231209601705,
          0.6433528760622812,
          1.7190765466308882
         ],
         "yaxis": "y"
        },
        {
         "customdata": [
          [
           "Martin Kelleher-Petersen",
           "Alternativet",
           37,
           "Bornholms Storkreds"
          ],
          [
           "Nicklas Gjedsig Larsen",
           "Alternativet",
           28,
           "Nordjyllands Storkreds"
          ],
          [
           "Jan Kristoffersen",
           "Alternativet",
           48,
           "Københavns Storkreds"
          ],
          [
           "Thor Clasen Jonasen",
           "Alternativet",
           47,
           "Østjyllands Storkreds"
          ],
          [
           "Vinni Kjærgaard Jørgensen",
           "Alternativet",
           55,
           "Østjyllands Storkreds"
          ],
          [
           "Berit Naomi Skjernaa",
           "Alternativet",
           48,
           "Østjyllands Storkreds"
          ],
          [
           "Helle Wium",
           "Alternativet",
           56,
           "Østjyllands Storkreds"
          ],
          [
           "Line Aaen",
           "Alternativet",
           57,
           "Østjyllands Storkreds"
          ],
          [
           "Sarah Roued Thomsen",
           "Alternativet",
           0,
           "Østjyllands Storkreds"
          ],
          [
           "Mira Issa Bloch",
           "Alternativet",
           52,
           "Østjyllands Storkreds"
          ],
          [
           "Nikoline Erbs Hillers-Bendtsen",
           "Alternativet",
           21,
           "Østjyllands Storkreds"
          ],
          [
           "Torsten Gejl",
           "Alternativet",
           58,
           "Østjyllands Storkreds"
          ],
          [
           "Kim Hjerrild",
           "Alternativet",
           62,
           "Københavns Storkreds"
          ],
          [
           "Annika Martins",
           "Alternativet",
           49,
           "Københavns Storkreds"
          ],
          [
           "Lars Corvinius Olesen",
           "Alternativet",
           31,
           "Københavns Storkreds"
          ],
          [
           "Noah Reinert Sturis",
           "Alternativet",
           29,
           "Københavns Storkreds"
          ],
          [
           "Mette Kaasfeldt Bram",
           "Alternativet",
           58,
           "Københavns Storkreds"
          ],
          [
           "Christina Sade Olumeko",
           "Alternativet",
           25,
           "Københavns Storkreds"
          ],
          [
           "Birgitte Kehler Holst",
           "Alternativet",
           50,
           "Københavns Storkreds"
          ],
          [
           "Jonathan Ries",
           "Alternativet",
           35,
           "Københavns Storkreds"
          ],
          [
           "Franciska Rosenkilde",
           "Alternativet",
           46,
           "Københavns Storkreds"
          ],
          [
           "Troels Christian Jakobsen",
           "Alternativet",
           53,
           "Københavns Storkreds"
          ],
          [
           "Jens Harder",
           "Alternativet",
           42,
           "Nordjyllands Storkreds"
          ],
          [
           "Liselotte Jakobe Lundgaard",
           "Alternativet",
           46,
           "Nordjyllands Storkreds"
          ],
          [
           "Jef Seistrup",
           "Alternativet",
           64,
           "Nordjyllands Storkreds"
          ],
          [
           "Anette Jensen Smith",
           "Alternativet",
           50,
           "Nordjyllands Storkreds"
          ],
          [
           "Mikkel Høj Bagger Larsson",
           "Alternativet",
           23,
           "Nordjyllands Storkreds"
          ],
          [
           "Joachim Plaetner Kjeldsen",
           "Alternativet",
           43,
           "Nordjyllands Storkreds"
          ],
          [
           "Kasper Sten Krebs",
           "Alternativet",
           30,
           "Fyns Storkreds"
          ],
          [
           "Martin Kjærulff",
           "Alternativet",
           44,
           "Fyns Storkreds"
          ],
          [
           "Henrik Boye",
           "Alternativet",
           66,
           "Fyns Storkreds"
          ],
          [
           "Ole Dupont Kofod",
           "Alternativet",
           51,
           "Fyns Storkreds"
          ],
          [
           "Simon Nyborg Jensen",
           "Alternativet",
           27,
           "Fyns Storkreds"
          ],
          [
           "Anna Astrid Høy-Nielsen",
           "Alternativet",
           23,
           "Fyns Storkreds"
          ],
          [
           "Lars Holstein",
           "Alternativet",
           59,
           "Vestjyllands Storkreds"
          ],
          [
           "Jørn Grønkjær",
           "Alternativet",
           71,
           "Vestjyllands Storkreds"
          ],
          [
           "Kirsten Hindbo",
           "Alternativet",
           63,
           "Vestjyllands Storkreds"
          ],
          [
           "Stine Isaksen",
           "Alternativet",
           45,
           "Vestjyllands Storkreds"
          ],
          [
           "H.C. Molbech",
           "Alternativet",
           46,
           "Vestjyllands Storkreds"
          ],
          [
           "Benjamin Strand Andersen",
           "Alternativet",
           29,
           "Sydjyllands Storkreds"
          ],
          [
           "Carsten Sohl",
           "Alternativet",
           0,
           "Sydjyllands Storkreds"
          ],
          [
           "Hans Biering Fonsbøl",
           "Alternativet",
           77,
           "Sydjyllands Storkreds"
          ],
          [
           "Ane Line Søndergaard",
           "Alternativet",
           50,
           "Sydjyllands Storkreds"
          ],
          [
           "Nilas Bay-Foged",
           "Alternativet",
           44,
           "Sydjyllands Storkreds"
          ],
          [
           "Ditte Madvig Evald",
           "Alternativet",
           42,
           "Sydjyllands Storkreds"
          ],
          [
           "Ulla Munksgaard",
           "Alternativet",
           69,
           "Sjællands Storkreds"
          ],
          [
           "Kirsten Kock",
           "Alternativet",
           53,
           "Sjællands Storkreds"
          ],
          [
           "Jakob Schmidt",
           "Alternativet",
           50,
           "Sjællands Storkreds"
          ],
          [
           "Jan Allan Andersen",
           "Alternativet",
           61,
           "Sjællands Storkreds"
          ],
          [
           "Line Gessø",
           "Alternativet",
           48,
           "Sjællands Storkreds"
          ],
          [
           "Michael Monberg",
           "Alternativet",
           44,
           "Sjællands Storkreds"
          ],
          [
           "Sascha Faxe",
           "Alternativet",
           51,
           "Sjællands Storkreds"
          ],
          [
           "Nicklas Hakmann",
           "Alternativet",
           25,
           "Nordsjællands Storkreds"
          ],
          [
           "Sidsel Marie Dyekjær",
           "Alternativet",
           60,
           "Nordsjællands Storkreds"
          ],
          [
           "Allon Hein Sørensen",
           "Alternativet",
           50,
           "Nordsjællands Storkreds"
          ],
          [
           "Maud Margrethe Pedersen",
           "Alternativet",
           59,
           "Nordsjællands Storkreds"
          ],
          [
           "Nanna Høyrup",
           "Alternativet",
           43,
           "Nordsjællands Storkreds"
          ],
          [
           "Helene Liliendahl Brydensholt",
           "Alternativet",
           35,
           "Nordsjællands Storkreds"
          ],
          [
           "Mariane Lunden",
           "Alternativet",
           59,
           "Nordsjællands Storkreds"
          ],
          [
           "Mette Skamris",
           "Alternativet",
           39,
           "Nordsjællands Storkreds"
          ],
          [
           "Thomas Lindqvist",
           "Alternativet",
           32,
           "Københavns Omegns Storkreds"
          ],
          [
           "Ulla Sandbæk",
           "Alternativet",
           79,
           "Københavns Omegns Storkreds"
          ],
          [
           "Jesper Callesen",
           "Alternativet",
           62,
           "Københavns Omegns Storkreds"
          ],
          [
           "Irina Bjørnø",
           "Alternativet",
           63,
           "Københavns Omegns Storkreds"
          ],
          [
           "Qasam Nazir Ahmad",
           "Alternativet",
           42,
           "Københavns Omegns Storkreds"
          ],
          [
           "Sofie Groth",
           "Alternativet",
           31,
           "Københavns Omegns Storkreds"
          ],
          [
           "Thomas Anker",
           "Alternativet",
           47,
           "Københavns Omegns Storkreds"
          ]
         ],
         "hovertemplate": "Party=%{customdata[1]}<br>Component 1=%{x}<br>Component 2=%{y}<br>Candidate=%{customdata[0]}<br>Age=%{customdata[2]}<br>Constituency=%{customdata[3]}<extra></extra>",
         "legendgroup": "Alternativet",
         "marker": {
          "color": "rgb(42, 143, 57)",
          "line": {
           "color": "DarkSlateGrey",
           "width": 1
          },
          "size": 10,
          "symbol": "circle"
         },
         "mode": "markers",
         "name": "Alternativet",
         "orientation": "v",
         "showlegend": true,
         "textposition": "top center",
         "type": "scatter",
         "x": [
          -4.960182356272805,
          -4.037529213157737,
          -2.9488885556156403,
          -4.46021076926975,
          -4.266105343398478,
          -4.93032585515809,
          -4.127114522327412,
          -6.130196801112924,
          -6.678304956572402,
          -4.735721558482262,
          -5.0148945329411365,
          -6.633397144265244,
          -5.340646129575617,
          -4.912163771416219,
          -5.140810338846299,
          -5.10102424139243,
          -3.9489110166662793,
          -4.461297165573526,
          -5.674112166812821,
          -6.678832867207366,
          -5.078264538637204,
          -4.537393600706981,
          -4.450852990689919,
          -5.063499698199488,
          -3.9938784080089493,
          -3.8769320233112436,
          -5.675411806086188,
          -3.2987811964058937,
          -3.0435235238983975,
          -4.09223120370014,
          -5.84871581412625,
          -3.7081182250951383,
          -6.1475518050202655,
          -5.781276803265767,
          -5.106734014667226,
          -3.6533738504082707,
          -5.398633355944253,
          -6.493172990358236,
          -4.637468581663531,
          -3.0076193941740885,
          -5.210703899065514,
          -4.527497657631274,
          -4.092709070697621,
          -5.610326458272206,
          -6.27913838296971,
          -5.056438945508304,
          -4.406367626743639,
          -4.101662092702416,
          -4.2106048479836256,
          -3.1826194866249424,
          -5.543661141879699,
          -4.341417968460988,
          -4.987008054571738,
          -6.098735340024007,
          -3.9315768005065634,
          -6.472349711322608,
          -4.464179319878846,
          -5.489710478627725,
          -4.928785309301449,
          -4.042383535557008,
          -4.930497022272354,
          -4.679480089665657,
          -3.7788163541594373,
          -1.3418298848556867,
          -5.782194135408277,
          -4.806883536388895,
          -5.580877801301037
         ],
         "xaxis": "x",
         "y": [
          -1.0960076353311323,
          0.8349477998358353,
          -2.6264518233640395,
          -1.9558537578798676,
          -0.5047339104876236,
          -1.0992667180914035,
          -2.483380841653067,
          -0.08919290351468691,
          -0.6438576678248118,
          -0.8094163214559522,
          -2.307558149903134,
          0.3055929072248647,
          -1.611523910816305,
          -1.5844651630602873,
          -0.16422623650595672,
          -1.7584961829638124,
          -2.472110199934656,
          -2.7130248967941366,
          -1.4930051814766954,
          0.14892343559824667,
          -2.070398475692567,
          -0.14454315824319586,
          -1.9355713703264534,
          -0.04199474301091911,
          -0.3654675542478888,
          -1.3026157445695132,
          -1.214510279910336,
          -1.2361598788805443,
          -0.348013980547056,
          -1.5445811182291858,
          0.35878053874447674,
          -3.4365559046008567,
          -1.2493974922672013,
          -1.3179917399807557,
          -2.0378921501270764,
          -0.7281522547997553,
          -2.0345188988709237,
          -0.9209666981537292,
          -2.1902727276849787,
          -1.4499725818359026,
          0.8861081822273034,
          -1.5409330931802339,
          -1.705154914273709,
          -0.11450410468793018,
          -0.3718900173496933,
          -0.7564768945122796,
          -1.6326494288557418,
          -0.4570361131713783,
          -1.1210119869507116,
          -0.7742749824201475,
          -1.1616375801353056,
          -2.002646599394491,
          -2.376560865957636,
          -0.18782212034346119,
          -0.5531205331645489,
          0.4362603970556729,
          -2.1984128901824427,
          -1.765875059271472,
          -1.8773124455285153,
          -3.2161998138636734,
          -1.704567635771493,
          -2.733440669112271,
          -1.741555833206114,
          -1.6529935963812343,
          -1.1666339876037801,
          -1.228856916685814,
          -1.265276537870841
         ],
         "yaxis": "y"
        },
        {
         "customdata": [
          [
           "Tom Gillesberg",
           "Løsgænger",
           58,
           "Københavns Storkreds"
          ],
          [
           "Chresten H. Ibsen",
           "Løsgænger",
           46,
           "Østjyllands Storkreds"
          ],
          [
           "Rasmus Paludan",
           "Løsgænger",
           40,
           "Sjællands Storkreds"
          ]
         ],
         "hovertemplate": "Party=%{customdata[1]}<br>Component 1=%{x}<br>Component 2=%{y}<br>Candidate=%{customdata[0]}<br>Age=%{customdata[2]}<br>Constituency=%{customdata[3]}<extra></extra>",
         "legendgroup": "Løsgænger",
         "marker": {
          "color": "rgb(255, 118, 237)",
          "line": {
           "color": "DarkSlateGrey",
           "width": 1
          },
          "size": 10,
          "symbol": "circle"
         },
         "mode": "markers",
         "name": "Løsgænger",
         "orientation": "v",
         "showlegend": true,
         "textposition": "top center",
         "type": "scatter",
         "x": [
          -0.5069012888283774,
          -1.287291218382289,
          6.074776196438469
         ],
         "xaxis": "x",
         "y": [
          -0.7847394762102179,
          -2.546549500055669,
          2.591999288696655
         ],
         "yaxis": "y"
        },
        {
         "customdata": [
          [
           "Rasmus Bøgh Vinther",
           "Enhedslisten",
           21,
           "Østjyllands Storkreds"
          ],
          [
           "Lucasia Gregersen",
           "Enhedslisten",
           21,
           "Østjyllands Storkreds"
          ],
          [
           "Magnus Fage Gislason",
           "Enhedslisten",
           19,
           "Østjyllands Storkreds"
          ],
          [
           "Anders Pedersen",
           "Enhedslisten",
           28,
           "Østjyllands Storkreds"
          ],
          [
           "Jesper Yde Knudsen",
           "Enhedslisten",
           60,
           "Østjyllands Storkreds"
          ],
          [
           "Kristjar Skajaa",
           "Enhedslisten",
           68,
           "Østjyllands Storkreds"
          ],
          [
           "Lisbeth Torfing",
           "Enhedslisten",
           35,
           "Østjyllands Storkreds"
          ],
          [
           "Anne Hegelund",
           "Enhedslisten",
           33,
           "Østjyllands Storkreds"
          ],
          [
           "Mai Villadsen",
           "Enhedslisten",
           30,
           "Østjyllands Storkreds"
          ],
          [
           "Karen Budtz-Jørgensen",
           "Enhedslisten",
           19,
           "Østjyllands Storkreds"
          ],
          [
           "Mette Bloch Hansen",
           "Enhedslisten",
           45,
           "Københavns Storkreds"
          ],
          [
           "Dorthe Hecht",
           "Enhedslisten",
           0,
           "Københavns Storkreds"
          ],
          [
           "David Schack Trappaud Rønne",
           "Enhedslisten",
           0,
           "Københavns Storkreds"
          ],
          [
           "Emil Samaras",
           "Enhedslisten",
           24,
           "Københavns Storkreds"
          ],
          [
           "Jette Gottlieb",
           "Enhedslisten",
           74,
           "Københavns Storkreds"
          ],
          [
           "Leila Stockmarr",
           "Enhedslisten",
           40,
           "Københavns Storkreds"
          ],
          [
           "Ibrahim Benli",
           "Enhedslisten",
           43,
           "Københavns Storkreds"
          ],
          [
           "Rosa Lund",
           "Enhedslisten",
           35,
           "Københavns Storkreds"
          ],
          [
           "Pelle Dragsted",
           "Enhedslisten",
           47,
           "Københavns Storkreds"
          ],
          [
           "Clara Turms",
           "Enhedslisten",
           26,
           "Københavns Storkreds"
          ],
          [
           "Janne Toft-Lind",
           "Enhedslisten",
           51,
           "Nordjyllands Storkreds"
          ],
          [
           "Stine Ry Andersen",
           "Enhedslisten",
           22,
           "Nordjyllands Storkreds"
          ],
          [
           "Berit Raldin",
           "Enhedslisten",
           53,
           "Nordjyllands Storkreds"
          ],
          [
           "Susanne Flydtkjær",
           "Enhedslisten",
           59,
           "Nordjyllands Storkreds"
          ],
          [
           "Malene Ingwersen",
           "Enhedslisten",
           47,
           "Nordjyllands Storkreds"
          ],
          [
           "Runa Friis Hansen",
           "Enhedslisten",
           38,
           "Nordjyllands Storkreds"
          ],
          [
           "Peder Hvelplund",
           "Enhedslisten",
           55,
           "Nordjyllands Storkreds"
          ],
          [
           "Astrid Vang Hansen",
           "Enhedslisten",
           35,
           "Nordjyllands Storkreds"
          ],
          [
           "Pia Thorsen",
           "Enhedslisten",
           51,
           "Nordjyllands Storkreds"
          ],
          [
           "Morten Riis",
           "Enhedslisten",
           46,
           "Bornholms Storkreds"
          ],
          [
           "Laura Kofod",
           "Enhedslisten",
           34,
           "Bornholms Storkreds"
          ],
          [
           "Niels Bjarne Lund",
           "Enhedslisten",
           65,
           "Fyns Storkreds"
          ],
          [
           "Camilla Dalum Jensen",
           "Enhedslisten",
           21,
           "Fyns Storkreds"
          ],
          [
           "Torsten Ringgaard",
           "Enhedslisten",
           46,
           "Fyns Storkreds"
          ],
          [
           "Vibeke Syppli Enrum",
           "Enhedslisten",
           74,
           "Fyns Storkreds"
          ],
          [
           "Victoria Velásquez",
           "Enhedslisten",
           31,
           "Fyns Storkreds"
          ],
          [
           "Reza Javid",
           "Enhedslisten",
           59,
           "Fyns Storkreds"
          ],
          [
           "Victoria Bøgh Salo",
           "Enhedslisten",
           34,
           "Fyns Storkreds"
          ],
          [
           "Sabrina Christiansen Broch",
           "Enhedslisten",
           33,
           "Vestjyllands Storkreds"
          ],
          [
           "Peter Sig Kristensen",
           "Enhedslisten",
           49,
           "Vestjyllands Storkreds"
          ],
          [
           "Per Møller Jacobsen",
           "Enhedslisten",
           54,
           "Vestjyllands Storkreds"
          ],
          [
           "Charlotte Lindberg",
           "Enhedslisten",
           35,
           "Vestjyllands Storkreds"
          ],
          [
           "Maria Temponeras",
           "Enhedslisten",
           51,
           "Vestjyllands Storkreds"
          ],
          [
           "Aksel Rosager Johansen",
           "Enhedslisten",
           31,
           "Vestjyllands Storkreds"
          ],
          [
           "Benny Dall",
           "Enhedslisten",
           66,
           "Sydjyllands Storkreds"
          ],
          [
           "Helene Hellesøe Appel",
           "Enhedslisten",
           36,
           "Sydjyllands Storkreds"
          ],
          [
           "Sabrina Louise Christiansen",
           "Enhedslisten",
           27,
           "Sydjyllands Storkreds"
          ],
          [
           "Marianne Mose",
           "Enhedslisten",
           44,
           "Sydjyllands Storkreds"
          ],
          [
           "Johanna-Maria Precht",
           "Enhedslisten",
           58,
           "Sydjyllands Storkreds"
          ],
          [
           "Selma Bolø",
           "Enhedslisten",
           24,
           "Sydjyllands Storkreds"
          ],
          [
           "Mathias Christiansen",
           "Enhedslisten",
           42,
           "Sydjyllands Storkreds"
          ],
          [
           "Jan Filbært",
           "Enhedslisten",
           57,
           "Sydjyllands Storkreds"
          ],
          [
           "Søren Egge Rasmussen",
           "Enhedslisten",
           61,
           "Sydjyllands Storkreds"
          ],
          [
           "Sarah Nørris",
           "Enhedslisten",
           43,
           "Sydjyllands Storkreds"
          ],
          [
           "Rasmus Vestergaard Madsen",
           "Enhedslisten",
           31,
           "Sydjyllands Storkreds"
          ],
          [
           "Otto Mortensen",
           "Enhedslisten",
           20,
           "Sjællands Storkreds"
          ],
          [
           "Jonas Paludan",
           "Enhedslisten",
           41,
           "Sjællands Storkreds"
          ],
          [
           "Bruno Jerup",
           "Enhedslisten",
           65,
           "Sjællands Storkreds"
          ],
          [
           "Trine Pertou Mach",
           "Enhedslisten",
           0,
           "Sjællands Storkreds"
          ],
          [
           "Christine Lundgaard",
           "Enhedslisten",
           48,
           "Sjællands Storkreds"
          ],
          [
           "Ludmila Plenge Schütt",
           "Enhedslisten",
           20,
           "Sjællands Storkreds"
          ],
          [
           "Anders Marchsteiner",
           "Enhedslisten",
           35,
           "Sjællands Storkreds"
          ],
          [
           "Sinem Demir",
           "Enhedslisten",
           30,
           "Nordsjællands Storkreds"
          ],
          [
           "Øjvind Vilsholm",
           "Enhedslisten",
           55,
           "Nordsjællands Storkreds"
          ],
          [
           "Emil Ulrik Andersen",
           "Enhedslisten",
           35,
           "Nordsjællands Storkreds"
          ],
          [
           "Christoffer Emil Jexen",
           "Enhedslisten",
           35,
           "Nordsjællands Storkreds"
          ],
          [
           "Annie Hagel",
           "Enhedslisten",
           72,
           "Nordsjællands Storkreds"
          ],
          [
           "Thue Lundgaard",
           "Enhedslisten",
           49,
           "Nordsjællands Storkreds"
          ],
          [
           "Stine Rahbek Pedersen",
           "Enhedslisten",
           45,
           "Københavns Omegns Storkreds"
          ],
          [
           "Mathilde Vinther",
           "Enhedslisten",
           28,
           "Københavns Omegns Storkreds"
          ],
          [
           "Stefan Rundstrøm",
           "Enhedslisten",
           23,
           "Københavns Omegns Storkreds"
          ],
          [
           "Søren Søndergaard",
           "Enhedslisten",
           67,
           "Københavns Omegns Storkreds"
          ],
          [
           "Tobias Clausen",
           "Enhedslisten",
           36,
           "Københavns Omegns Storkreds"
          ],
          [
           "Helge Bo Jensen",
           "Enhedslisten",
           63,
           "Københavns Omegns Storkreds"
          ]
         ],
         "hovertemplate": "Party=%{customdata[1]}<br>Component 1=%{x}<br>Component 2=%{y}<br>Candidate=%{customdata[0]}<br>Age=%{customdata[2]}<br>Constituency=%{customdata[3]}<extra></extra>",
         "legendgroup": "Enhedslisten",
         "marker": {
          "color": "rgb(237, 128, 25)",
          "line": {
           "color": "DarkSlateGrey",
           "width": 1
          },
          "size": 10,
          "symbol": "circle"
         },
         "mode": "markers",
         "name": "Enhedslisten",
         "orientation": "v",
         "showlegend": true,
         "textposition": "top center",
         "type": "scatter",
         "x": [
          -4.522382626772199,
          -7.265347907588914,
          -5.930497303519494,
          -6.907602253008523,
          -6.510117203385178,
          -7.110887444654787,
          -7.784359518467376,
          -3.2852709463196965,
          -6.87501848110299,
          -6.344276040550279,
          -6.892401464046578,
          -4.847676426520139,
          -7.291634471402057,
          -4.5856706508521325,
          -5.748582691420983,
          -6.87215415670352,
          -7.793572708215327,
          -7.385657003796962,
          -6.872265364798609,
          -6.954488477456834,
          -6.774236972255122,
          -7.421398421259014,
          -6.20400102731469,
          -6.624307829875008,
          -7.04214717528004,
          -6.47293723162309,
          -7.697338398441563,
          -6.299108903809459,
          -6.56906765371099,
          -6.81739277144632,
          -7.295685855076453,
          -5.770825976329715,
          -6.944770141400096,
          -6.982705697404455,
          -6.611091215661979,
          -6.703119299888024,
          -6.632442929957461,
          -7.137141623288366,
          -5.761446492809696,
          -6.279602351684663,
          -7.892153438213991,
          -6.796811756374065,
          -6.059763744992944,
          -6.4017475044922785,
          -6.9695779293103195,
          -6.66493400999769,
          -8.091058756926422,
          -7.316972044957514,
          -6.430697994688569,
          -7.267483562279748,
          -5.834377739776682,
          -5.616492485608985,
          -6.735998834111586,
          -7.750809419047757,
          -6.722191721525923,
          -7.554183508169966,
          -7.340802280285159,
          -7.473768829327904,
          -7.091373710474921,
          -7.339348371555948,
          -7.478979332739284,
          -5.38867662935922,
          -6.1695740838023365,
          -6.962566985980566,
          -4.791594803154552,
          -6.0406273694436985,
          -7.046576069239921,
          -7.121806670912226,
          -4.919037720109106,
          -7.088189424807801,
          -5.080685925931331,
          -5.520604929065636,
          -5.018411668120958,
          -5.713500444921198
         ],
         "xaxis": "x",
         "y": [
          -0.04768800305132759,
          1.1831876062153732,
          1.06914022296988,
          0.24533248667718155,
          0.906421416312544,
          0.18621957784711235,
          2.0693729905149763,
          1.2562560844062256,
          0.8429895647231831,
          1.1720570417310214,
          0.5738557979857473,
          1.7877406218307625,
          0.6389697595931703,
          0.14579175830328212,
          1.6363880494955307,
          0.6728423550503365,
          1.0457301963885324,
          0.6442175363407874,
          0.6784554390499812,
          -0.31511469380711776,
          1.7517185213902466,
          1.3164850365520395,
          0.9282734052232988,
          1.413136142043185,
          1.509061020955699,
          0.8288327520719436,
          1.3310708848562842,
          1.0756866857996041,
          0.9654096329852703,
          0.6911734351025743,
          0.6319945069372068,
          1.1778178776255668,
          1.7821541727338188,
          0.9469975976506343,
          0.21313759024307632,
          1.4047429931418867,
          1.5872461753793685,
          0.6349684065704339,
          0.5340950941916207,
          0.9253047659300007,
          1.5416259517653188,
          0.6671180875400528,
          1.5579715147371604,
          1.1296577623129935,
          1.501849798950943,
          1.3332209986915948,
          1.1342039845996803,
          -0.1499176610762706,
          0.15269034176417423,
          1.033062482232354,
          0.595022902779627,
          2.5594312363709433,
          0.8723246675143814,
          1.2544554223188027,
          0.30116536199177907,
          1.487532801988803,
          0.22240205782691608,
          1.6449544165159404,
          1.0938889630679098,
          0.5441562385568894,
          1.6708519083431865,
          -0.9324681148328231,
          1.3551031409899232,
          0.8825276562697453,
          0.3668797971858064,
          1.0402132755532028,
          0.5412052466970022,
          1.1866806189559496,
          -0.4973420088435362,
          1.03135075080998,
          1.0440944513368078,
          0.9661924020129546,
          2.2832160908618655,
          1.5136562539363039
         ],
         "yaxis": "y"
        },
        {
         "customdata": [
          [
           "Linda Englyst",
           "Danmarksdemokraterne",
           48,
           "Østjyllands Storkreds"
          ],
          [
           "Erik Poulsen",
           "Danmarksdemokraterne",
           60,
           "Østjyllands Storkreds"
          ],
          [
           "Lone Glarbo",
           "Danmarksdemokraterne",
           57,
           "Østjyllands Storkreds"
          ],
          [
           "Hans Kristian Skibby",
           "Danmarksdemokraterne",
           53,
           "Østjyllands Storkreds"
          ],
          [
           "Ulrik Knudsen",
           "Danmarksdemokraterne",
           44,
           "Østjyllands Storkreds"
          ],
          [
           "Claus Gisselmann",
           "Danmarksdemokraterne",
           55,
           "Københavns Storkreds"
          ],
          [
           "Therese Skaarup",
           "Danmarksdemokraterne",
           46,
           "Københavns Storkreds"
          ],
          [
           "Lise Bech",
           "Danmarksdemokraterne",
           61,
           "Nordjyllands Storkreds"
          ],
          [
           "Peter Lindholt",
           "Danmarksdemokraterne",
           56,
           "Nordjyllands Storkreds"
          ],
          [
           "Inger Støjberg",
           "Danmarksdemokraterne",
           49,
           "Nordjyllands Storkreds"
          ],
          [
           "Kristian Bøgsted",
           "Danmarksdemokraterne",
           40,
           "Nordjyllands Storkreds"
          ],
          [
           "Vibeke Brønnum",
           "Danmarksdemokraterne",
           69,
           "Bornholms Storkreds"
          ],
          [
           "Martin Jason Adelgaard",
           "Danmarksdemokraterne",
           48,
           "Fyns Storkreds"
          ],
          [
           "Bent Juul Sørensen",
           "Danmarksdemokraterne",
           63,
           "Fyns Storkreds"
          ],
          [
           "Jens Henrik W. Thulesen Dahl",
           "Danmarksdemokraterne",
           61,
           "Fyns Storkreds"
          ],
          [
           "Nikolaj Vang",
           "Danmarksdemokraterne",
           45,
           "Fyns Storkreds"
          ],
          [
           "Vivian Lindberg Larsen",
           "Danmarksdemokraterne",
           56,
           "Fyns Storkreds"
          ],
          [
           "Dennis Flydtkjær",
           "Danmarksdemokraterne",
           44,
           "Vestjyllands Storkreds"
          ],
          [
           "Betina Kastbjerg",
           "Danmarksdemokraterne",
           50,
           "Vestjyllands Storkreds"
          ],
          [
           "Morten Vehl",
           "Danmarksdemokraterne",
           48,
           "Vestjyllands Storkreds"
          ],
          [
           "Vivi Altenburg",
           "Danmarksdemokraterne",
           60,
           "Vestjyllands Storkreds"
          ],
          [
           "Kenneth Fredslund Petersen",
           "Danmarksdemokraterne",
           57,
           "Sydjyllands Storkreds"
          ],
          [
           "Karina Adsbøl",
           "Danmarksdemokraterne",
           45,
           "Sydjyllands Storkreds"
          ],
          [
           "Michael Mikkelsen",
           "Danmarksdemokraterne",
           50,
           "Sydjyllands Storkreds"
          ],
          [
           "Jenny Andresen",
           "Danmarksdemokraterne",
           40,
           "Sydjyllands Storkreds"
          ],
          [
           "Patrick Culmsee Bryhl",
           "Danmarksdemokraterne",
           24,
           "Sydjyllands Storkreds"
          ],
          [
           "Søren Espersen",
           "Danmarksdemokraterne",
           69,
           "Sydjyllands Storkreds"
          ],
          [
           "Peter Skaarup",
           "Danmarksdemokraterne",
           58,
           "Sjællands Storkreds"
          ],
          [
           "Susie Jessen",
           "Danmarksdemokraterne",
           37,
           "Sjællands Storkreds"
          ],
          [
           "Sebastian Mylsted-Schenstrøm",
           "Danmarksdemokraterne",
           30,
           "Sjællands Storkreds"
          ],
          [
           "Christian Wibholm",
           "Danmarksdemokraterne",
           55,
           "Sjællands Storkreds"
          ],
          [
           "Lars Bregbak",
           "Danmarksdemokraterne",
           59,
           "Nordsjællands Storkreds"
          ],
          [
           "Marlene Harpsøe",
           "Danmarksdemokraterne",
           39,
           "Nordsjællands Storkreds"
          ],
          [
           "Lars Ole Skovgaard Larsen",
           "Danmarksdemokraterne",
           61,
           "Nordsjællands Storkreds"
          ],
          [
           "Charlotte Munch",
           "Danmarksdemokraterne",
           55,
           "Københavns Omegns Storkreds"
          ],
          [
           "Michael Rosenmark",
           "Danmarksdemokraterne",
           63,
           "Københavns Omegns Storkreds"
          ],
          [
           "Mette Qwinten",
           "Danmarksdemokraterne",
           40,
           "Københavns Omegns Storkreds"
          ]
         ],
         "hovertemplate": "Party=%{customdata[1]}<br>Component 1=%{x}<br>Component 2=%{y}<br>Candidate=%{customdata[0]}<br>Age=%{customdata[2]}<br>Constituency=%{customdata[3]}<extra></extra>",
         "legendgroup": "Danmarksdemokraterne",
         "marker": {
          "color": "rgb(138, 195, 255)",
          "line": {
           "color": "DarkSlateGrey",
           "width": 1
          },
          "size": 10,
          "symbol": "circle"
         },
         "mode": "markers",
         "name": "Danmarksdemokraterne",
         "orientation": "v",
         "showlegend": true,
         "textposition": "top center",
         "type": "scatter",
         "x": [
          2.852782968298311,
          4.388949157913999,
          3.7553161400817525,
          3.3137680752699636,
          4.024859448843732,
          4.236176419629215,
          3.4630404440909874,
          4.245398926773715,
          3.347298185071685,
          4.301242504460958,
          3.729288555890332,
          4.711825285558221,
          4.550187962562647,
          3.502184844597603,
          3.9745225737998933,
          2.641392311498735,
          3.380991691431284,
          4.473242457194425,
          4.413529745627775,
          5.056917095609704,
          4.492893170767124,
          2.1609280632567702,
          3.168604328656049,
          2.805366203609015,
          3.8880038119994516,
          4.1953586950778465,
          2.386141152849681,
          3.8933788289336073,
          3.5725153684884785,
          4.578741352343576,
          3.734019455671593,
          3.48393434363953,
          3.0336682172296476,
          4.274096697731936,
          4.807913541864124,
          2.8656811080641496,
          4.442672962431141
         ],
         "xaxis": "x",
         "y": [
          2.9886855638523064,
          3.57551593450844,
          4.203831156099441,
          3.845313795702236,
          3.9723529351023705,
          4.07115260305496,
          4.0478601194053265,
          4.05225737068811,
          2.7815689252650047,
          3.9441815908104534,
          4.297036269390151,
          3.171358362132393,
          3.5701878734881856,
          2.2215714916258777,
          3.7392707820259394,
          3.412199551585454,
          3.8417400714977883,
          3.22053275724908,
          3.702044866374604,
          3.262546007319332,
          2.947733280762455,
          2.0174265254481742,
          3.500516751794302,
          2.0808265210125145,
          3.6713248901239246,
          3.641457914787591,
          3.6394787268711264,
          4.041308015295414,
          4.530581264612254,
          3.8679738037689138,
          3.022350889659529,
          3.1081332194186246,
          4.234752695830179,
          3.2906452938870467,
          3.218681111010282,
          3.605017827554847,
          3.8769728912574766
         ],
         "yaxis": "y"
        },
        {
         "customdata": [
          [
           "Tina Lund Sørensen",
           "Venstre",
           41,
           "Østjyllands Storkreds"
          ],
          [
           "Erik Veje Rasmussen",
           "Venstre",
           63,
           "Østjyllands Storkreds"
          ],
          [
           "Troels Lund Poulsen",
           "Venstre",
           46,
           "Østjyllands Storkreds"
          ],
          [
           "Lene Prip-Sørensen",
           "Venstre",
           41,
           "Østjyllands Storkreds"
          ],
          [
           "Louise Lingren Louring",
           "Venstre",
           30,
           "Østjyllands Storkreds"
          ],
          [
           "Gustav Juul",
           "Venstre",
           52,
           "Østjyllands Storkreds"
          ],
          [
           "Michael Aastrup Jensen",
           "Venstre",
           46,
           "Østjyllands Storkreds"
          ],
          [
           "Stephan Arnold",
           "Venstre",
           44,
           "Østjyllands Storkreds"
          ],
          [
           "Jakob Ellemann-Jensen",
           "Venstre",
           49,
           "Østjyllands Storkreds"
          ],
          [
           "Heidi Bank",
           "Venstre",
           50,
           "Østjyllands Storkreds"
          ],
          [
           "Alexandra Sasha",
           "Venstre",
           27,
           "Københavns Storkreds"
          ],
          [
           "Linea Søgaard-Lidell",
           "Venstre",
           35,
           "Københavns Storkreds"
          ],
          [
           "Bo Sandroos",
           "Venstre",
           57,
           "Københavns Storkreds"
          ],
          [
           "Michael Lange",
           "Venstre",
           59,
           "Københavns Storkreds"
          ],
          [
           "Anne Rasmussen",
           "Venstre",
           51,
           "Københavns Storkreds"
          ],
          [
           "Jan E. Jørgensen",
           "Venstre",
           57,
           "Københavns Storkreds"
          ],
          [
           "Martin Geertsen",
           "Venstre",
           52,
           "Københavns Storkreds"
          ],
          [
           "Claus Buch",
           "Venstre",
           50,
           "Københavns Storkreds"
          ],
          [
           "René Bredal",
           "Venstre",
           61,
           "Københavns Storkreds"
          ],
          [
           "Anders Fausbøll",
           "Venstre",
           45,
           "Københavns Storkreds"
          ],
          [
           "Anne Honoré Østergaard",
           "Venstre",
           41,
           "Nordjyllands Storkreds"
          ],
          [
           "Maja Torp",
           "Venstre",
           49,
           "Nordjyllands Storkreds"
          ],
          [
           "Phillip Sperling",
           "Venstre",
           25,
           "Nordjyllands Storkreds"
          ],
          [
           "Marie Bjerre",
           "Venstre",
           36,
           "Nordjyllands Storkreds"
          ],
          [
           "Preben Bang Henriksen",
           "Venstre",
           68,
           "Nordjyllands Storkreds"
          ],
          [
           "Henrik Buchhave",
           "Venstre",
           60,
           "Nordjyllands Storkreds"
          ],
          [
           "Mette Hardam",
           "Venstre",
           49,
           "Nordjyllands Storkreds"
          ],
          [
           "Torsten Schack Pedersen",
           "Venstre",
           46,
           "Nordjyllands Storkreds"
          ],
          [
           "Julie Pauch Nymark",
           "Venstre",
           27,
           "Bornholms Storkreds"
          ],
          [
           "Birthe Tindbæk Bredo",
           "Venstre",
           63,
           "Bornholms Storkreds"
          ],
          [
           "Peter Juel-Jensen",
           "Venstre",
           56,
           "Bornholms Storkreds"
          ],
          [
           "Bo Sandberg",
           "Venstre",
           60,
           "Fyns Storkreds"
          ],
          [
           "Pia Offer Madsen",
           "Venstre",
           49,
           "Fyns Storkreds"
          ],
          [
           "Lars Christian Lilleholt",
           "Venstre",
           57,
           "Fyns Storkreds"
          ],
          [
           "Araz Khan",
           "Venstre",
           41,
           "Fyns Storkreds"
          ],
          [
           "Nikolaj Leed Henriksen",
           "Venstre",
           26,
           "Fyns Storkreds"
          ],
          [
           "Marlene Ambo-Rasmussen",
           "Venstre",
           36,
           "Fyns Storkreds"
          ],
          [
           "Erling Bonnesen",
           "Venstre",
           67,
           "Fyns Storkreds"
          ],
          [
           "Jacob Vestergaard",
           "Venstre",
           18,
           "Vestjyllands Storkreds"
          ],
          [
           "Kenneth Mikkelsen",
           "Venstre",
           51,
           "Vestjyllands Storkreds"
          ],
          [
           "Carsten Kissmeyer",
           "Venstre",
           69,
           "Vestjyllands Storkreds"
          ],
          [
           "Søren Gade",
           "Venstre",
           59,
           "Vestjyllands Storkreds"
          ],
          [
           "Mads Fuglede",
           "Venstre",
           51,
           "Vestjyllands Storkreds"
          ],
          [
           "Ulrich Fredberg",
           "Venstre",
           67,
           "Vestjyllands Storkreds"
          ],
          [
           "Thomas Danielsen",
           "Venstre",
           39,
           "Vestjyllands Storkreds"
          ],
          [
           "Ib Bjerregaard",
           "Venstre",
           62,
           "Vestjyllands Storkreds"
          ],
          [
           "Kristian Pihl Lorentzen",
           "Venstre",
           61,
           "Vestjyllands Storkreds"
          ],
          [
           "Rikke Tangaa",
           "Venstre",
           49,
           "Sydjyllands Storkreds"
          ],
          [
           "Hans Christian Schmidt",
           "Venstre",
           69,
           "Sydjyllands Storkreds"
          ],
          [
           "Klaus Sandfeld",
           "Venstre",
           57,
           "Sydjyllands Storkreds"
          ],
          [
           "Anni Matthiesen",
           "Venstre",
           58,
           "Sydjyllands Storkreds"
          ],
          [
           "Christoffer Aagaard Melson",
           "Venstre",
           38,
           "Sydjyllands Storkreds"
          ],
          [
           "Chris Borup Preuss",
           "Venstre",
           30,
           "Sydjyllands Storkreds"
          ],
          [
           "Kasper B. Mundt",
           "Venstre",
           28,
           "Sydjyllands Storkreds"
          ],
          [
           "Tobias Jørgensen",
           "Venstre",
           38,
           "Sydjyllands Storkreds"
          ],
          [
           "Eva Kjer Hansen",
           "Venstre",
           58,
           "Sydjyllands Storkreds"
          ],
          [
           "Preben Friis-Hauge",
           "Venstre",
           60,
           "Sydjyllands Storkreds"
          ],
          [
           "Tilde Holch Duedahl",
           "Venstre",
           42,
           "Sydjyllands Storkreds"
          ],
          [
           "Niels Henning Bladt",
           "Venstre",
           34,
           "Sydjyllands Storkreds"
          ],
          [
           "Ditte Rust",
           "Venstre",
           38,
           "Sjællands Storkreds"
          ],
          [
           "Iben Kiilerich Krog",
           "Venstre",
           30,
           "Sjællands Storkreds"
          ],
          [
           "Jacob Panton",
           "Venstre",
           40,
           "Sjællands Storkreds"
          ],
          [
           "Ken Kristensen",
           "Venstre",
           50,
           "Sjællands Storkreds"
          ],
          [
           "Sten Knuth",
           "Venstre",
           57,
           "Sjællands Storkreds"
          ],
          [
           "Jacob Jensen",
           "Venstre",
           49,
           "Sjællands Storkreds"
          ],
          [
           "Rasmus Hylleberg",
           "Venstre",
           48,
           "Sjællands Storkreds"
          ],
          [
           "Malene Grandjean",
           "Venstre",
           47,
           "Sjællands Storkreds"
          ],
          [
           "Louise Schack Elholm",
           "Venstre",
           45,
           "Sjællands Storkreds"
          ],
          [
           "Charlotte Bisserup Bechfeldt",
           "Venstre",
           30,
           "Sjællands Storkreds"
          ],
          [
           "Marcus Techow Danielsson",
           "Venstre",
           28,
           "Sjællands Storkreds"
          ],
          [
           "Morten Dahlin",
           "Venstre",
           33,
           "Sjællands Storkreds"
          ],
          [
           "Sophie Løhde",
           "Venstre",
           39,
           "Nordsjællands Storkreds"
          ],
          [
           "Thomas Elong",
           "Venstre",
           46,
           "Nordsjællands Storkreds"
          ],
          [
           "Mette Lene Jensen",
           "Venstre",
           55,
           "Nordsjællands Storkreds"
          ],
          [
           "Hans Andersen",
           "Venstre",
           48,
           "Nordsjællands Storkreds"
          ],
          [
           "Marianne Lynghøj Pedersen",
           "Venstre",
           34,
           "Nordsjællands Storkreds"
          ],
          [
           "Ricki Vejsmose",
           "Venstre",
           47,
           "Københavns Omegns Storkreds"
          ],
          [
           "Kim Valentin",
           "Venstre",
           59,
           "Københavns Omegns Storkreds"
          ],
          [
           "Mathias Rinaldo",
           "Venstre",
           24,
           "Københavns Omegns Storkreds"
          ],
          [
           "Astrid Søborg",
           "Venstre",
           46,
           "Københavns Omegns Storkreds"
          ],
          [
           "Casper Pedersen",
           "Venstre",
           28,
           "Københavns Omegns Storkreds"
          ],
          [
           "Karen Ellemann",
           "Venstre",
           53,
           "Københavns Omegns Storkreds"
          ],
          [
           "Anders Bo Larsen",
           "Venstre",
           38,
           "Københavns Omegns Storkreds"
          ],
          [
           "Lennart Hartmann Nielsen",
           "Venstre",
           59,
           "Københavns Omegns Storkreds"
          ]
         ],
         "hovertemplate": "Party=%{customdata[1]}<br>Component 1=%{x}<br>Component 2=%{y}<br>Candidate=%{customdata[0]}<br>Age=%{customdata[2]}<br>Constituency=%{customdata[3]}<extra></extra>",
         "legendgroup": "Venstre",
         "marker": {
          "color": "rgb(0, 102, 151)",
          "line": {
           "color": "DarkSlateGrey",
           "width": 1
          },
          "size": 10,
          "symbol": "circle"
         },
         "mode": "markers",
         "name": "Venstre",
         "orientation": "v",
         "showlegend": true,
         "textposition": "top center",
         "type": "scatter",
         "x": [
          3.479279810922199,
          0.78255925445624,
          3.065253068131303,
          3.708140948576101,
          3.4940066550228646,
          5.09085868623489,
          3.910389713645134,
          3.7826769279040597,
          3.178778065997218,
          3.115946290483904,
          1.2176316858498821,
          3.1089306145596898,
          5.069901517592435,
          2.4629619164754835,
          2.8944789754987386,
          2.8406906326360684,
          3.314716964282487,
          1.9338151694334595,
          4.788189263851909,
          2.6168259703360883,
          3.2161142044144144,
          2.241236951566077,
          1.0883837540440895,
          2.916663301298347,
          3.020633351939934,
          2.189284140078991,
          2.6803465098460313,
          4.730273887233121,
          3.6195867731840305,
          2.3137265240155735,
          3.181055645112668,
          4.015965530818885,
          3.6769861031034092,
          5.690761176361985,
          5.597604182828101,
          3.1025579344364913,
          3.7445480084993212,
          2.755007035103084,
          2.0035210747051018,
          2.874545173422464,
          3.261710560772354,
          3.3811142458421917,
          3.309046201303144,
          0.9423303033222433,
          2.944381740985443,
          2.498663768716544,
          4.56004937785924,
          2.7208688816829794,
          2.149417734106394,
          3.0140383804694304,
          3.592870296349469,
          2.776159350044773,
          2.8151473570836854,
          3.4904184402249845,
          2.7381658875885817,
          3.5997739524542185,
          1.6104985940524938,
          2.7603682955310362,
          3.3679296516058352,
          3.643204134914583,
          3.4301978062530316,
          5.1332880339958145,
          1.9656989341630449,
          3.2102138684799773,
          5.039744180408714,
          3.6785712861930717,
          1.2070913246799277,
          3.4553958160712526,
          4.123686633202602,
          5.482623056109914,
          3.6064978046363323,
          2.7276823444997684,
          2.27113773016385,
          2.4299788363710446,
          3.051438721147136,
          1.8741264766885444,
          2.96136660490227,
          2.5278325899630327,
          3.4721147156771597,
          3.614186867991035,
          3.580549042837891,
          2.972830270181745,
          2.5257338167664276,
          3.9474623525455192
         ],
         "xaxis": "x",
         "y": [
          -1.0235411354355546,
          -0.35383104189738557,
          1.3932401707269886,
          -1.4478246808164095,
          -1.454285386435222,
          -1.9735486808613962,
          2.7994282662986016,
          -0.4148662161915125,
          0.45787033905630425,
          0.13183108859504603,
          -1.2085978856387218,
          -0.6143792799255099,
          -1.7313234803192086,
          -0.8023005762297895,
          -1.2547019696956703,
          -3.0315374431155657,
          0.12442942588719946,
          0.01754578535784758,
          -2.586479493044392,
          -1.6621532997833568,
          0.7335228993110353,
          -0.02127401190418694,
          -4.040680899556094,
          -0.268540836054055,
          -0.8163260087574563,
          0.19130309876210924,
          1.091286547232412,
          1.312229790545808,
          -1.6339042058076327,
          0.7333726036529165,
          0.8405680007701505,
          -1.3674827935974818,
          -0.603404783777439,
          0.8361921581763682,
          -0.4219223741699135,
          -2.970980252378122,
          1.4547505247149057,
          1.1907395976546262,
          -2.9128019486042827,
          0.30323809083126824,
          -0.12412818814260196,
          0.8886813690285347,
          1.1062936266113665,
          0.6760265304062452,
          0.9940568433681826,
          0.9917529309147508,
          1.221031115116371,
          1.1475704914188996,
          2.0561675392649112,
          0.9701975996352675,
          0.22639615418283576,
          0.0649358668422406,
          0.6844754845413508,
          -0.03242784656035416,
          0.2901268962937739,
          0.5494430202088619,
          0.4130215259852416,
          -0.6512749962728419,
          -0.2256864236830416,
          -1.5128205974991045,
          -0.43599515596808913,
          0.731484744731288,
          1.3928595733433426,
          0.9616796494361779,
          0.4569868070710057,
          -2.3331327043820917,
          0.07572594650300346,
          0.8787148510923055,
          0.29406464574188673,
          -0.15911562615484676,
          0.5529775437209825,
          0.2696622478209602,
          -0.0854014599575989,
          0.44556405902930535,
          1.049726273334178,
          -1.5275661763246615,
          -1.3032399902234433,
          -0.9087824791007642,
          -1.5071055569779477,
          -1.0483964146348865,
          -1.8159924900362678,
          0.45289274685836445,
          -0.36451918137079375,
          -1.314803329080715
         ],
         "yaxis": "y"
        },
        {
         "customdata": [
          [
           "Ali Khatib",
           "Frie Grønne, Danmarks Nye Venstrefløjsparti",
           27,
           "Østjyllands Storkreds"
          ],
          [
           "Sara Hvidbak Grouleff",
           "Frie Grønne, Danmarks Nye Venstrefløjsparti",
           33,
           "Østjyllands Storkreds"
          ],
          [
           "Mohamed Abdikarim",
           "Frie Grønne, Danmarks Nye Venstrefløjsparti",
           33,
           "Østjyllands Storkreds"
          ],
          [
           "Karina Dammand",
           "Frie Grønne, Danmarks Nye Venstrefløjsparti",
           42,
           "Østjyllands Storkreds"
          ],
          [
           "Niko Grünfeld",
           "Frie Grønne, Danmarks Nye Venstrefløjsparti",
           47,
           "Østjyllands Storkreds"
          ],
          [
           "Iben Kirstine Parmann",
           "Frie Grønne, Danmarks Nye Venstrefløjsparti",
           26,
           "Københavns Storkreds"
          ],
          [
           "Daniel Tomicic",
           "Frie Grønne, Danmarks Nye Venstrefløjsparti",
           26,
           "Københavns Storkreds"
          ],
          [
           "Sikandar Siddique",
           "Frie Grønne, Danmarks Nye Venstrefløjsparti",
           36,
           "Københavns Storkreds"
          ],
          [
           "Elise Bjerkrheim",
           "Frie Grønne, Danmarks Nye Venstrefløjsparti",
           48,
           "Københavns Storkreds"
          ],
          [
           "Rashid Ali",
           "Frie Grønne, Danmarks Nye Venstrefløjsparti",
           38,
           "Københavns Storkreds"
          ],
          [
           "Rajesh Holmen",
           "Frie Grønne, Danmarks Nye Venstrefløjsparti",
           34,
           "Københavns Storkreds"
          ],
          [
           "Sazan Garmiyani",
           "Frie Grønne, Danmarks Nye Venstrefløjsparti",
           29,
           "Københavns Storkreds"
          ],
          [
           "Esra Ocak",
           "Frie Grønne, Danmarks Nye Venstrefløjsparti",
           33,
           "Nordjyllands Storkreds"
          ],
          [
           "Susanne Zimmer",
           "Frie Grønne, Danmarks Nye Venstrefløjsparti",
           62,
           "Nordjyllands Storkreds"
          ],
          [
           "Nishan Ganesh",
           "Frie Grønne, Danmarks Nye Venstrefløjsparti",
           35,
           "Fyns Storkreds"
          ],
          [
           "Rishi Balachandran",
           "Frie Grønne, Danmarks Nye Venstrefløjsparti",
           31,
           "Vestjyllands Storkreds"
          ],
          [
           "Marianne Karlberg",
           "Frie Grønne, Danmarks Nye Venstrefløjsparti",
           58,
           "Sydjyllands Storkreds"
          ],
          [
           "Xenia Anderson",
           "Frie Grønne, Danmarks Nye Venstrefløjsparti",
           20,
           "Sjællands Storkreds"
          ],
          [
           "Ahmet Üzümcü",
           "Frie Grønne, Danmarks Nye Venstrefløjsparti",
           35,
           "Sjællands Storkreds"
          ],
          [
           "Jasmin Kaur",
           "Frie Grønne, Danmarks Nye Venstrefløjsparti",
           21,
           "Sjællands Storkreds"
          ],
          [
           "Yadvinder Singh",
           "Frie Grønne, Danmarks Nye Venstrefløjsparti",
           30,
           "Sjællands Storkreds"
          ],
          [
           "Clara Rebecca Svarc",
           "Frie Grønne, Danmarks Nye Venstrefløjsparti",
           31,
           "Nordsjællands Storkreds"
          ],
          [
           "Lars Oskan-Henriksen",
           "Frie Grønne, Danmarks Nye Venstrefløjsparti",
           51,
           "Nordsjællands Storkreds"
          ],
          [
           "Sabrina Raaschou Brammer",
           "Frie Grønne, Danmarks Nye Venstrefløjsparti",
           22,
           "Københavns Omegns Storkreds"
          ],
          [
           "Aqeel Akhtar",
           "Frie Grønne, Danmarks Nye Venstrefløjsparti",
           31,
           "Københavns Omegns Storkreds"
          ],
          [
           "Asham Nadeem",
           "Frie Grønne, Danmarks Nye Venstrefløjsparti",
           26,
           "Københavns Omegns Storkreds"
          ]
         ],
         "hovertemplate": "Party=%{customdata[1]}<br>Component 1=%{x}<br>Component 2=%{y}<br>Candidate=%{customdata[0]}<br>Age=%{customdata[2]}<br>Constituency=%{customdata[3]}<extra></extra>",
         "legendgroup": "Frie Grønne, Danmarks Nye Venstrefløjsparti",
         "marker": {
          "color": "rgb(0, 230, 106)",
          "line": {
           "color": "DarkSlateGrey",
           "width": 1
          },
          "size": 10,
          "symbol": "circle"
         },
         "mode": "markers",
         "name": "Frie Grønne, Danmarks Nye Venstrefløjsparti",
         "orientation": "v",
         "showlegend": true,
         "textposition": "top center",
         "type": "scatter",
         "x": [
          -4.203781434493248,
          -5.6171851346595245,
          -6.398922879715635,
          -6.370635879724955,
          -6.108968709580796,
          -6.702152579325145,
          -6.489496615146645,
          -6.109236379994186,
          -6.8134035079394595,
          -7.0918844251786295,
          -6.0322370502142775,
          -4.654581068171837,
          -5.667553757812401,
          -5.080698003565377,
          -5.940420006521438,
          -6.63042844216174,
          -4.94921268163401,
          -6.35552000906441,
          -5.902699953254053,
          -5.263801833661698,
          -6.39247405110315,
          -6.970611455174657,
          -6.915355367851101,
          -6.623662995966537,
          -5.19740761528036,
          -6.250137926411229
         ],
         "xaxis": "x",
         "y": [
          0.09137086300175669,
          -1.6672939636002049,
          -0.7609743026087359,
          -1.1393700358749348,
          -0.6313523261165138,
          -0.27686074599923155,
          -0.0765002322387121,
          -0.41113754245947115,
          -0.0961567386156634,
          -0.14405772274480502,
          -1.1522688030675177,
          0.30556233068705135,
          -1.6520880957800606,
          -1.4631302302103166,
          0.16198010776052083,
          -0.03159456617296747,
          -1.3783766255751637,
          -0.3179397616261173,
          -0.7861553988819172,
          -0.7373542135485726,
          -0.2906621055142252,
          -0.4972320554105187,
          -0.041820972645512135,
          -0.49498389858568775,
          -1.3029101269834513,
          -0.07606187582268316
         ],
         "yaxis": "y"
        },
        {
         "customdata": [
          [
           "Kim Christiansen",
           "Dansk Folkeparti",
           66,
           "Østjyllands Storkreds"
          ],
          [
           "Nick Zimmermann",
           "Dansk Folkeparti",
           28,
           "Østjyllands Storkreds"
          ],
          [
           "Anders Primdahl Vistisen",
           "Dansk Folkeparti",
           35,
           "Østjyllands Storkreds"
          ],
          [
           "Michael Kim Bladt Nedersøe",
           "Dansk Folkeparti",
           44,
           "Østjyllands Storkreds"
          ],
          [
           "Danny Rosenkilde",
           "Dansk Folkeparti",
           56,
           "Østjyllands Storkreds"
          ],
          [
           "Laura Guldager",
           "Dansk Folkeparti",
           21,
           "Østjyllands Storkreds"
          ],
          [
           "Paw Karslund",
           "Dansk Folkeparti",
           49,
           "Københavns Storkreds"
          ],
          [
           "Brian Borglund Bruun",
           "Dansk Folkeparti",
           50,
           "Københavns Storkreds"
          ],
          [
           "Jannie Bøgh",
           "Dansk Folkeparti",
           42,
           "Københavns Storkreds"
          ],
          [
           "Kenneth Kristensen Berth",
           "Dansk Folkeparti",
           45,
           "Københavns Storkreds"
          ],
          [
           "Carsten Ullmann Andersen",
           "Dansk Folkeparti",
           47,
           "Nordjyllands Storkreds"
          ],
          [
           "Nana Harring",
           "Dansk Folkeparti",
           24,
           "Nordjyllands Storkreds"
          ],
          [
           "Christian Langballe",
           "Dansk Folkeparti",
           55,
           "Nordjyllands Storkreds"
          ],
          [
           "Mette Sode Hansen",
           "Dansk Folkeparti",
           42,
           "Bornholms Storkreds"
          ],
          [
           "René Danielsson",
           "Dansk Folkeparti",
           35,
           "Bornholms Storkreds"
          ],
          [
           "Cheanne Nielsen",
           "Dansk Folkeparti",
           38,
           "Fyns Storkreds"
          ],
          [
           "Lars Kolling",
           "Dansk Folkeparti",
           48,
           "Fyns Storkreds"
          ],
          [
           "Frank Sørensen",
           "Dansk Folkeparti",
           58,
           "Fyns Storkreds"
          ],
          [
           "Signe Vedersø Keldorff",
           "Dansk Folkeparti",
           20,
           "Fyns Storkreds"
          ],
          [
           "Alex Ahrendtsen",
           "Dansk Folkeparti",
           55,
           "Fyns Storkreds"
          ],
          [
           "Kuno Danielsen",
           "Dansk Folkeparti",
           59,
           "Vestjyllands Storkreds"
          ],
          [
           "Erling Præstekjær",
           "Dansk Folkeparti",
           54,
           "Vestjyllands Storkreds"
          ],
          [
           "Jakob Kjærsgaard Mortensen",
           "Dansk Folkeparti",
           31,
           "Vestjyllands Storkreds"
          ],
          [
           "Lone Vase Langballe",
           "Dansk Folkeparti",
           52,
           "Vestjyllands Storkreds"
          ],
          [
           "Mikael Lund Jensen",
           "Dansk Folkeparti",
           52,
           "Vestjyllands Storkreds"
          ],
          [
           "Majbritt Birkholm",
           "Dansk Folkeparti",
           41,
           "Vestjyllands Storkreds"
          ],
          [
           "Lene Baggesø",
           "Dansk Folkeparti",
           52,
           "Sydjyllands Storkreds"
          ],
          [
           "Josephine Alstrup",
           "Dansk Folkeparti",
           23,
           "Sydjyllands Storkreds"
          ],
          [
           "Peter Kofod",
           "Dansk Folkeparti",
           32,
           "Sydjyllands Storkreds"
          ],
          [
           "Pia Kjærsgaard",
           "Dansk Folkeparti",
           75,
           "Sjællands Storkreds"
          ],
          [
           "Simon Hampe",
           "Dansk Folkeparti",
           28,
           "Sjællands Storkreds"
          ],
          [
           "Claus Engskov",
           "Dansk Folkeparti",
           39,
           "Sjællands Storkreds"
          ],
          [
           "Merete Dea Møller Larsen",
           "Dansk Folkeparti",
           44,
           "Sjællands Storkreds"
          ],
          [
           "Jan Herskov",
           "Dansk Folkeparti",
           56,
           "Sjællands Storkreds"
          ],
          [
           "Lars Damgaard",
           "Dansk Folkeparti",
           54,
           "Sjællands Storkreds"
          ],
          [
           "Kim Malmberg Hansen",
           "Dansk Folkeparti",
           61,
           "Sjællands Storkreds"
          ],
          [
           "Søren Lund Hansen",
           "Dansk Folkeparti",
           48,
           "Sjællands Storkreds"
          ],
          [
           "René Christensen",
           "Dansk Folkeparti",
           52,
           "Sjællands Storkreds"
          ],
          [
           "Kim Errebo",
           "Dansk Folkeparti",
           47,
           "Sjællands Storkreds"
          ],
          [
           "John Vind",
           "Dansk Folkeparti",
           49,
           "Sjællands Storkreds"
          ],
          [
           "Christian Sødergren",
           "Dansk Folkeparti",
           42,
           "Nordsjællands Storkreds"
          ],
          [
           "Brian Lyck Jørgensen",
           "Dansk Folkeparti",
           40,
           "Nordsjællands Storkreds"
          ],
          [
           "Gert Løfgren",
           "Dansk Folkeparti",
           57,
           "Nordsjællands Storkreds"
          ],
          [
           "Michael Jensen",
           "Dansk Folkeparti",
           51,
           "Københavns Omegns Storkreds"
          ],
          [
           "Susanne Damsgaard",
           "Dansk Folkeparti",
           61,
           "Københavns Omegns Storkreds"
          ],
          [
           "Mikkel S. Dencker",
           "Dansk Folkeparti",
           46,
           "Københavns Omegns Storkreds"
          ],
          [
           "Morten Messerschmidt",
           "Dansk Folkeparti",
           42,
           "Københavns Omegns Storkreds"
          ],
          [
           "Cecillie Winther Kristensen",
           "Dansk Folkeparti",
           28,
           "Københavns Omegns Storkreds"
          ],
          [
           "Lars Prier",
           "Dansk Folkeparti",
           57,
           "Københavns Omegns Storkreds"
          ]
         ],
         "hovertemplate": "Party=%{customdata[1]}<br>Component 1=%{x}<br>Component 2=%{y}<br>Candidate=%{customdata[0]}<br>Age=%{customdata[2]}<br>Constituency=%{customdata[3]}<extra></extra>",
         "legendgroup": "Dansk Folkeparti",
         "marker": {
          "color": "rgb(243, 205, 65)",
          "line": {
           "color": "DarkSlateGrey",
           "width": 1
          },
          "size": 10,
          "symbol": "circle"
         },
         "mode": "markers",
         "name": "Dansk Folkeparti",
         "orientation": "v",
         "showlegend": true,
         "textposition": "top center",
         "type": "scatter",
         "x": [
          5.553915601444294,
          2.2203202389964636,
          3.8245642697075772,
          2.395595383371013,
          2.2970317652067562,
          3.887270806875765,
          0.3951680557583555,
          1.1603430046804106,
          3.2468559642425943,
          3.8009710287970795,
          3.568868162234139,
          3.1804153316369317,
          5.593923274885216,
          4.2159697628939545,
          3.981003730610767,
          3.708599565047734,
          2.6814629733637907,
          3.519498551593902,
          4.513407509327603,
          3.827883408590999,
          2.8863504330368595,
          3.533613136834153,
          2.809652386820091,
          4.4028738002173515,
          4.283103936677891,
          3.0912156236231523,
          3.4102434507629824,
          2.6964814357720464,
          3.239028853541722,
          3.9766475623522326,
          4.494502442196315,
          5.195621184086877,
          3.6595175227568513,
          1.9721720015007007,
          2.56509870051239,
          2.0089374285764863,
          1.925663838574548,
          1.984573311070181,
          1.2269327550079967,
          2.7028120517723937,
          2.3697868260397983,
          3.8146482078310227,
          1.9158852696139503,
          2.5714718970763135,
          3.0380128003949234,
          3.8003668210144084,
          2.2978295845876473,
          1.5049243900510194,
          3.687606618791898
         ],
         "xaxis": "x",
         "y": [
          2.808758170101507,
          5.3913459655729055,
          3.737295656652475,
          4.11314983758969,
          3.8744427335663794,
          1.9689915752632265,
          3.6447174995080105,
          2.917383693812589,
          3.024445922863982,
          3.566677741215443,
          2.788302999393958,
          3.739816605030213,
          1.6702614617088996,
          1.8403942288161728,
          3.395977253306395,
          4.843998170137057,
          4.9162258297132215,
          3.0469257730379664,
          4.5204793017369385,
          3.159390298484652,
          3.631323899735151,
          3.4194055943999175,
          3.0724936817689765,
          3.3387757795747266,
          3.6048932303420864,
          4.12083348551861,
          3.4797008956136315,
          3.846599234536462,
          4.092753160647948,
          3.7972012673616375,
          4.466471281430953,
          4.236772643020988,
          3.1388644251937388,
          2.9202780182834194,
          3.8868050918755865,
          4.249440707171933,
          1.9059507038783297,
          2.3628650387390344,
          3.7849552084423728,
          3.984030654565697,
          4.525563033203138,
          3.0378186540811436,
          3.318180186143432,
          4.214240935535069,
          3.186082039884723,
          5.290583821591847,
          4.160610052093708,
          1.1082836954437536,
          -0.6672076131211375
         ],
         "yaxis": "y"
        },
        {
         "customdata": [
          [
           "Henning Østergaard-Christensen",
           "Kristendemokraterne",
           73,
           "Østjyllands Storkreds"
          ],
          [
           "Palle Bjørn Rosenkilde",
           "Kristendemokraterne",
           56,
           "Østjyllands Storkreds"
          ],
          [
           "Kristian Søndergaard Larsen",
           "Kristendemokraterne",
           44,
           "Østjyllands Storkreds"
          ],
          [
           "Hanna-Maria Smed Molte Lyng",
           "Kristendemokraterne",
           22,
           "Østjyllands Storkreds"
          ],
          [
           "Henrik Hjortshøj",
           "Kristendemokraterne",
           32,
           "Østjyllands Storkreds"
          ],
          [
           "Birgit Jakobsen",
           "Kristendemokraterne",
           58,
           "Østjyllands Storkreds"
          ],
          [
           "Rolf Bjerre",
           "Kristendemokraterne",
           43,
           "Østjyllands Storkreds"
          ],
          [
           "Gunnar Bjørn Thomsen",
           "Kristendemokraterne",
           65,
           "Københavns Storkreds"
          ],
          [
           "Tina Mørk",
           "Kristendemokraterne",
           60,
           "Københavns Storkreds"
          ],
          [
           "Jacob Bang",
           "Kristendemokraterne",
           59,
           "Københavns Storkreds"
          ],
          [
           "Jesper Housgaard",
           "Kristendemokraterne",
           40,
           "Københavns Storkreds"
          ],
          [
           "Peter Scheining",
           "Kristendemokraterne",
           41,
           "Nordjyllands Storkreds"
          ],
          [
           "Jørgen Bjerregaard",
           "Kristendemokraterne",
           58,
           "Nordjyllands Storkreds"
          ],
          [
           "Anne-Marie Jørgensen",
           "Kristendemokraterne",
           52,
           "Nordjyllands Storkreds"
          ],
          [
           "Karlo Brondbjerg",
           "Kristendemokraterne",
           0,
           "Nordjyllands Storkreds"
          ],
          [
           "Bjarne H. Kirkegaard",
           "Kristendemokraterne",
           68,
           "Bornholms Storkreds"
          ],
          [
           "Niclas Aarestrup",
           "Kristendemokraterne",
           49,
           "Fyns Storkreds"
          ],
          [
           "Anders Friis Knudsen",
           "Kristendemokraterne",
           62,
           "Fyns Storkreds"
          ],
          [
           "Maria Av Skardi",
           "Kristendemokraterne",
           44,
           "Fyns Storkreds"
          ],
          [
           "Simon Lavdal-Pedersen",
           "Kristendemokraterne",
           29,
           "Fyns Storkreds"
          ],
          [
           "Michelle West",
           "Kristendemokraterne",
           32,
           "Fyns Storkreds"
          ],
          [
           "Karen-Margrethe Lysholm",
           "Kristendemokraterne",
           50,
           "Vestjyllands Storkreds"
          ],
          [
           "Børge Rostgaard Winkel",
           "Kristendemokraterne",
           57,
           "Vestjyllands Storkreds"
          ],
          [
           "Inge Jensen",
           "Kristendemokraterne",
           61,
           "Vestjyllands Storkreds"
          ],
          [
           "Jonas Røjkjær Laustsen",
           "Kristendemokraterne",
           21,
           "Vestjyllands Storkreds"
          ],
          [
           "Marcus Sommerbirk",
           "Kristendemokraterne",
           58,
           "Vestjyllands Storkreds"
          ],
          [
           "Steffen Markussen",
           "Kristendemokraterne",
           42,
           "Vestjyllands Storkreds"
          ],
          [
           "Marianne Karlsmose",
           "Kristendemokraterne",
           49,
           "Vestjyllands Storkreds"
          ],
          [
           "Henrik Engelbrekt Refshauge",
           "Kristendemokraterne",
           51,
           "Sydjyllands Storkreds"
          ],
          [
           "Poul Harald Holm",
           "Kristendemokraterne",
           48,
           "Sydjyllands Storkreds"
          ],
          [
           "Ester Esmarch",
           "Kristendemokraterne",
           47,
           "Sydjyllands Storkreds"
          ],
          [
           "Søren Lydeking Pedersen",
           "Kristendemokraterne",
           38,
           "Sydjyllands Storkreds"
          ],
          [
           "Frits Simmelsgaard Kristensen",
           "Kristendemokraterne",
           61,
           "Sydjyllands Storkreds"
          ],
          [
           "Mirjam Fibiger Olesen",
           "Kristendemokraterne",
           43,
           "Sydjyllands Storkreds"
          ],
          [
           "Per Kristensen",
           "Kristendemokraterne",
           65,
           "Sjællands Storkreds"
          ],
          [
           "Finn Andersen",
           "Kristendemokraterne",
           69,
           "Sjællands Storkreds"
          ],
          [
           "Tage Sørensen",
           "Kristendemokraterne",
           66,
           "Sjællands Storkreds"
          ],
          [
           "John Haugegaard",
           "Kristendemokraterne",
           63,
           "Sjællands Storkreds"
          ],
          [
           "Britta Kristensen",
           "Kristendemokraterne",
           66,
           "Nordsjællands Storkreds"
          ],
          [
           "Esben Frette Johnsen",
           "Kristendemokraterne",
           23,
           "Københavns Omegns Storkreds"
          ],
          [
           "Bolette Von Westphal",
           "Kristendemokraterne",
           47,
           "Københavns Omegns Storkreds"
          ],
          [
           "Elif Demir Gökce",
           "Kristendemokraterne",
           47,
           "Københavns Omegns Storkreds"
          ]
         ],
         "hovertemplate": "Party=%{customdata[1]}<br>Component 1=%{x}<br>Component 2=%{y}<br>Candidate=%{customdata[0]}<br>Age=%{customdata[2]}<br>Constituency=%{customdata[3]}<extra></extra>",
         "legendgroup": "Kristendemokraterne",
         "marker": {
          "color": "rgb(186, 186, 186)",
          "line": {
           "color": "DarkSlateGrey",
           "width": 1
          },
          "size": 10,
          "symbol": "circle"
         },
         "mode": "markers",
         "name": "Kristendemokraterne",
         "orientation": "v",
         "showlegend": true,
         "textposition": "top center",
         "type": "scatter",
         "x": [
          0.139418826282343,
          0.6497701035969686,
          -0.48147083235983773,
          2.0318433761653174,
          0.1789139709894302,
          -0.40390328612498877,
          -2.210776064085394,
          -2.458177646967902,
          -3.048840787975895,
          1.0487873436876134,
          0.7769768480204854,
          0.16757742614120436,
          -1.2756467785057737,
          -1.4072882735966263,
          -2.8221380298085363,
          -0.7428067193457545,
          -1.1152990009022463,
          -1.3201851523789352,
          0.6475084167429541,
          1.0063030406840816,
          -0.38382981970371405,
          0.7806366691376374,
          -0.25680780682920334,
          0.49744314359081065,
          2.017234769267858,
          1.4714925406255486,
          1.8560573975489945,
          -0.44737440232998166,
          -2.1807906492907594,
          -0.4675193652276929,
          -1.1942369626745446,
          0.02250811034869132,
          1.3015290762034302,
          -0.013685258228369033,
          -0.15334851668101493,
          0.924966729518623,
          1.2086871742336827,
          0.35308861079215115,
          -1.9025645963068167,
          -1.5562194062911492,
          -2.5853294845516004,
          0.13104871994802836
         ],
         "xaxis": "x",
         "y": [
          -1.6659994550691144,
          -0.24751331809937177,
          -1.7138233362738626,
          -1.8506209014863053,
          -2.9283785968319918,
          -1.949861910634461,
          -1.3928900667760586,
          -1.7873281165746324,
          -1.5821692230503657,
          -3.6260332732937997,
          -3.119262369760098,
          -2.6138051080999287,
          -2.1167968829998527,
          -2.103879527152057,
          -2.0946846079795574,
          -0.9328673262524037,
          -2.2208240084346613,
          -2.0122967956439837,
          -3.5315419007009132,
          -1.181621064235125,
          -2.2490654295396877,
          -2.6993107341478786,
          -3.6700423413381285,
          -2.260836556125534,
          -2.3696400710737775,
          -2.226898183375871,
          -3.1847730075063563,
          -2.1044266775113876,
          -1.1052682547498862,
          -2.8589987130461467,
          -2.127527345126433,
          -3.595818706336588,
          -2.811854072039463,
          -3.0183771298390893,
          0.3231497012320257,
          1.3535354207900046,
          -1.5181248646558114,
          -2.4320789227915287,
          -1.9302295578185897,
          -3.051552456682462,
          -2.181816081121859,
          -1.9114596856095194
         ],
         "yaxis": "y"
        },
        {
         "customdata": [
          [
           "Kurt Vind Christiansen",
           "Liberal Alliance",
           72,
           "Østjyllands Storkreds"
          ],
          [
           "Michael Valentin Ilsø",
           "Liberal Alliance",
           39,
           "Østjyllands Storkreds"
          ],
          [
           "Ditte Elisabeth Kryger Wedege",
           "Liberal Alliance",
           25,
           "Østjyllands Storkreds"
          ],
          [
           "Nicolai Wang",
           "Liberal Alliance",
           19,
           "Østjyllands Storkreds"
          ],
          [
           "Lisa Perkins",
           "Liberal Alliance",
           31,
           "Østjyllands Storkreds"
          ],
          [
           "Louise Brown",
           "Liberal Alliance",
           42,
           "Østjyllands Storkreds"
          ],
          [
           "Jens Meilvang",
           "Liberal Alliance",
           41,
           "Østjyllands Storkreds"
          ],
          [
           "Morten Kolbe Thomsen",
           "Liberal Alliance",
           21,
           "Østjyllands Storkreds"
          ],
          [
           "Alex Vanopslagh",
           "Liberal Alliance",
           31,
           "Østjyllands Storkreds"
          ],
          [
           "Per Nørgaard Andersen",
           "Liberal Alliance",
           58,
           "Københavns Storkreds"
          ],
          [
           "Claus Willén",
           "Liberal Alliance",
           59,
           "Københavns Storkreds"
          ],
          [
           "Christian Riegels Hjorth",
           "Liberal Alliance",
           41,
           "Københavns Storkreds"
          ],
          [
           "Joanne Bywater",
           "Liberal Alliance",
           42,
           "Københavns Storkreds"
          ],
          [
           "Hira Nadeem",
           "Liberal Alliance",
           22,
           "Københavns Storkreds"
          ],
          [
           "Alexander Ryle",
           "Liberal Alliance",
           32,
           "Københavns Storkreds"
          ],
          [
           "Charlotte Nellemann",
           "Liberal Alliance",
           48,
           "Københavns Storkreds"
          ],
          [
           "Ole Birk Olesen",
           "Liberal Alliance",
           49,
           "Københavns Storkreds"
          ],
          [
           "Ronny Van Tieu",
           "Liberal Alliance",
           49,
           "Nordjyllands Storkreds"
          ],
          [
           "Martin Bech",
           "Liberal Alliance",
           32,
           "Nordjyllands Storkreds"
          ],
          [
           "Michel Thrysøe",
           "Liberal Alliance",
           45,
           "Nordjyllands Storkreds"
          ],
          [
           "Kenneth Skatka Hammer",
           "Liberal Alliance",
           36,
           "Nordjyllands Storkreds"
          ],
          [
           "Jonas Urth Jensen",
           "Liberal Alliance",
           22,
           "Nordjyllands Storkreds"
          ],
          [
           "Bo Ritterbusch",
           "Liberal Alliance",
           53,
           "Nordjyllands Storkreds"
          ],
          [
           "Sólbjørg Jakobsen",
           "Liberal Alliance",
           31,
           "Nordjyllands Storkreds"
          ],
          [
           "Clara Malmqvist",
           "Liberal Alliance",
           26,
           "Bornholms Storkreds"
          ],
          [
           "Sinus Kremmer",
           "Liberal Alliance",
           18,
           "Fyns Storkreds"
          ],
          [
           "Christoffer Overgaard Munk",
           "Liberal Alliance",
           28,
           "Fyns Storkreds"
          ],
          [
           "Silke Anna Hein",
           "Liberal Alliance",
           22,
           "Fyns Storkreds"
          ],
          [
           "Katrine Daugaard",
           "Liberal Alliance",
           41,
           "Fyns Storkreds"
          ],
          [
           "Anders Kirkeby",
           "Liberal Alliance",
           31,
           "Fyns Storkreds"
          ],
          [
           "Helle Jensen",
           "Liberal Alliance",
           44,
           "Vestjyllands Storkreds"
          ],
          [
           "Thorbjørn Jacobsen",
           "Liberal Alliance",
           42,
           "Vestjyllands Storkreds"
          ],
          [
           "Steffen Troldtoft",
           "Liberal Alliance",
           0,
           "Vestjyllands Storkreds"
          ],
          [
           "Frederik Gottenborg Jacobsen",
           "Liberal Alliance",
           23,
           "Vestjyllands Storkreds"
          ],
          [
           "Mikkel Rentzø",
           "Liberal Alliance",
           21,
           "Vestjyllands Storkreds"
          ],
          [
           "Svend Stein Olsen",
           "Liberal Alliance",
           18,
           "Vestjyllands Storkreds"
          ],
          [
           "Carsten Bach",
           "Liberal Alliance",
           46,
           "Vestjyllands Storkreds"
          ],
          [
           "Lene Foged",
           "Liberal Alliance",
           52,
           "Vestjyllands Storkreds"
          ],
          [
           "Dorthe Wildt Nielsen",
           "Liberal Alliance",
           56,
           "Sydjyllands Storkreds"
          ],
          [
           "Kim Alexander Jensen",
           "Liberal Alliance",
           35,
           "Sydjyllands Storkreds"
          ],
          [
           "Kenneth Kirkeby",
           "Liberal Alliance",
           34,
           "Sydjyllands Storkreds"
          ],
          [
           "Carsten Andersen",
           "Liberal Alliance",
           44,
           "Sydjyllands Storkreds"
          ],
          [
           "Helena Artmann Andresen",
           "Liberal Alliance",
           21,
           "Sydjyllands Storkreds"
          ],
          [
           "Tobias Pagh",
           "Liberal Alliance",
           20,
           "Sydjyllands Storkreds"
          ],
          [
           "Mikkel Pedersen",
           "Liberal Alliance",
           27,
           "Sydjyllands Storkreds"
          ],
          [
           "Henrik Dahl",
           "Liberal Alliance",
           62,
           "Sydjyllands Storkreds"
          ],
          [
           "Carl Andersen",
           "Liberal Alliance",
           27,
           "Sydjyllands Storkreds"
          ],
          [
           "Joachim Riis-Bernickow",
           "Liberal Alliance",
           33,
           "Sjællands Storkreds"
          ],
          [
           "Flemming Sørensen",
           "Liberal Alliance",
           67,
           "Sjællands Storkreds"
          ],
          [
           "Frederik Grünfeld",
           "Liberal Alliance",
           26,
           "Sjællands Storkreds"
          ],
          [
           "Nicolai Wøldike Sandager",
           "Liberal Alliance",
           46,
           "Sjællands Storkreds"
          ],
          [
           "Nikolaj Vester",
           "Liberal Alliance",
           26,
           "Sjællands Storkreds"
          ],
          [
           "Lars-Christian Brask",
           "Liberal Alliance",
           59,
           "Sjællands Storkreds"
          ],
          [
           "Sandra Elisabeth Skalvig",
           "Liberal Alliance",
           32,
           "Sjællands Storkreds"
          ],
          [
           "Josephine Svane",
           "Liberal Alliance",
           0,
           "Nordsjællands Storkreds"
          ],
          [
           "Marianne Porsborg",
           "Liberal Alliance",
           53,
           "Nordsjællands Storkreds"
          ],
          [
           "Lars Høyer Holmqvist",
           "Liberal Alliance",
           44,
           "Nordsjællands Storkreds"
          ],
          [
           "Robert Mørck",
           "Liberal Alliance",
           40,
           "Nordsjællands Storkreds"
          ],
          [
           "Steffen Sjørslev",
           "Liberal Alliance",
           25,
           "Nordsjællands Storkreds"
          ],
          [
           "Kira Danholm",
           "Liberal Alliance",
           32,
           "Nordsjællands Storkreds"
          ],
          [
           "Steffen Frølund",
           "Liberal Alliance",
           38,
           "Nordsjællands Storkreds"
          ],
          [
           "Kim Bjørnstrup",
           "Liberal Alliance",
           64,
           "Nordsjællands Storkreds"
          ],
          [
           "Louise Siv Ebbesen",
           "Liberal Alliance",
           32,
           "Københavns Omegns Storkreds"
          ],
          [
           "Jørgen Mathow-Juhl",
           "Liberal Alliance",
           56,
           "Københavns Omegns Storkreds"
          ],
          [
           "Danny Malkowski",
           "Liberal Alliance",
           38,
           "Københavns Omegns Storkreds"
          ],
          [
           "Peter Loft",
           "Liberal Alliance",
           65,
           "Københavns Omegns Storkreds"
          ],
          [
           "David Ibsen",
           "Liberal Alliance",
           44,
           "Københavns Omegns Storkreds"
          ],
          [
           "Søren Schmidt-Andersen",
           "Liberal Alliance",
           21,
           "Københavns Omegns Storkreds"
          ],
          [
           "Simon Karim Helledie",
           "Liberal Alliance",
           25,
           "Københavns Omegns Storkreds"
          ],
          [
           "Steffen Larsen",
           "Liberal Alliance",
           38,
           "Københavns Omegns Storkreds"
          ]
         ],
         "hovertemplate": "Party=%{customdata[1]}<br>Component 1=%{x}<br>Component 2=%{y}<br>Candidate=%{customdata[0]}<br>Age=%{customdata[2]}<br>Constituency=%{customdata[3]}<extra></extra>",
         "legendgroup": "Liberal Alliance",
         "marker": {
          "color": "rgb(33, 198, 207)",
          "line": {
           "color": "DarkSlateGrey",
           "width": 1
          },
          "size": 10,
          "symbol": "circle"
         },
         "mode": "markers",
         "name": "Liberal Alliance",
         "orientation": "v",
         "showlegend": true,
         "textposition": "top center",
         "type": "scatter",
         "x": [
          2.1156708357358456,
          6.820512249109441,
          3.755052547783689,
          5.844832019274148,
          5.713393256206346,
          5.117596708186094,
          5.871757677982371,
          5.648908246216108,
          5.973619627476446,
          4.779544169174192,
          6.309030775983947,
          6.211765937137117,
          5.103812029127921,
          4.111864735991435,
          3.7352166133504316,
          5.615429447455572,
          6.26015515782792,
          4.667929802615014,
          5.2462345702643045,
          6.295787977318935,
          3.1832652372618546,
          4.92915763932466,
          5.050172024804834,
          6.1194079416201985,
          4.907368151142627,
          6.394830093643559,
          6.052460465353905,
          4.044673072739756,
          6.172975251607978,
          4.455128777611159,
          5.057441448630446,
          5.218033742269334,
          6.2557147953363215,
          4.784542083083864,
          6.140228372086454,
          5.62571314932076,
          6.050596591562468,
          4.481357537861949,
          6.3438148531302545,
          6.09012390360068,
          4.826236177401175,
          6.786759306531761,
          5.533510384728343,
          6.429302399613639,
          5.823773431259476,
          6.315459479484005,
          6.842900578859374,
          4.435628540825104,
          5.153675506331504,
          5.923882791965062,
          6.813103770107091,
          5.535695230318192,
          4.138263189880806,
          6.909541967690999,
          5.2425169199696,
          5.394011246573145,
          5.194854312723473,
          3.2228555762898363,
          7.1122223332924595,
          5.995920635892078,
          6.023949999837614,
          4.712761507786716,
          7.602856397884299,
          4.580977042919654,
          5.1253223804047865,
          5.256283422517565,
          5.476809885628827,
          3.9982252520628467,
          4.6468909914359156,
          6.724972457910396
         ],
         "xaxis": "x",
         "y": [
          -2.6703764087748465,
          -1.7130368516507293,
          -3.2054601106182212,
          -2.588075964940535,
          -3.2769056238596233,
          -3.5549554789661437,
          -1.4858466345038008,
          -2.919437423587607,
          -2.7888664520512476,
          -1.8485340269676924,
          -3.0735923858455285,
          -3.8401725395527655,
          -3.0489294470867754,
          -3.667282620322162,
          -4.578197905603245,
          -2.043087135188274,
          -3.1798106014827123,
          -2.9998130179231577,
          -3.7831176242711586,
          -2.423432241615955,
          -1.8178457076946781,
          -1.1829454814817604,
          -2.1741415764547085,
          -2.4282599341951396,
          -3.17698918873536,
          -3.0041282637166558,
          -4.036131411499546,
          -2.5563205743088386,
          -2.690002340907373,
          -3.157372036870969,
          -2.9818055002985835,
          -3.9985541442748946,
          -2.345213103568125,
          -2.8511756023858323,
          -2.4854454173783913,
          -2.809705614787895,
          -2.27361007583818,
          -0.9720046280693406,
          -2.8950683483529547,
          -2.778815332524043,
          -4.249565313833129,
          -2.139038999385372,
          -1.7383075279156408,
          -3.519516148212861,
          -2.727105866441403,
          -0.8720452606966018,
          -2.011207855666742,
          -3.0713782672197127,
          -2.5135218516799793,
          -1.9617386815446953,
          -2.777992035737983,
          -3.3991382234881997,
          -2.045961578498461,
          -2.258607305523115,
          -3.866245241087489,
          -2.80243502235115,
          -2.2105585260967238,
          -2.510549438100565,
          -4.2438243489025895,
          -3.155536371437964,
          -4.7843904453242905,
          -3.529032634592817,
          -2.766828115560901,
          -1.1164070206053156,
          -3.334997348779508,
          -3.1326073800921996,
          -3.1552140907758717,
          -5.032248303835581,
          -2.6744783492701405,
          -3.3768181219758797
         ],
         "yaxis": "y"
        },
        {
         "customdata": [
          [
           "Inger-Marie Tryde",
           "Nye Borgerlige",
           49,
           "Østjyllands Storkreds"
          ],
          [
           "Jens Lundager",
           "Nye Borgerlige",
           55,
           "Østjyllands Storkreds"
          ],
          [
           "Lars Axel Nielsen",
           "Nye Borgerlige",
           51,
           "Østjyllands Storkreds"
          ],
          [
           "Karina Kirk",
           "Nye Borgerlige",
           46,
           "Østjyllands Storkreds"
          ],
          [
           "Jes Halfdan",
           "Nye Borgerlige",
           58,
           "Østjyllands Storkreds"
          ],
          [
           "Lars Boje Mathiesen",
           "Nye Borgerlige",
           47,
           "Østjyllands Storkreds"
          ],
          [
           "Daniel Pinderup",
           "Nye Borgerlige",
           0,
           "Københavns Storkreds"
          ],
          [
           "Denise Rostgaard",
           "Nye Borgerlige",
           36,
           "Københavns Storkreds"
          ],
          [
           "Niels Peder Ravn",
           "Nye Borgerlige",
           55,
           "Københavns Storkreds"
          ],
          [
           "Brian Nielsen",
           "Nye Borgerlige",
           46,
           "Nordjyllands Storkreds"
          ],
          [
           "Sysser Nørholm",
           "Nye Borgerlige",
           58,
           "Nordjyllands Storkreds"
          ],
          [
           "Lars Rem",
           "Nye Borgerlige",
           60,
           "Nordjyllands Storkreds"
          ],
          [
           "John Bjerg",
           "Nye Borgerlige",
           58,
           "Nordjyllands Storkreds"
          ],
          [
           "Kim Edberg",
           "Nye Borgerlige",
           49,
           "Nordjyllands Storkreds"
          ],
          [
           "Jakob Buchwald Busk",
           "Nye Borgerlige",
           53,
           "Bornholms Storkreds"
          ],
          [
           "Nicolaj Holm Pedersen",
           "Nye Borgerlige",
           22,
           "Fyns Storkreds"
          ],
          [
           "Lars Sternkopf Lillebæk",
           "Nye Borgerlige",
           42,
           "Fyns Storkreds"
          ],
          [
           "Henrik Tørnqvist Lauridsen",
           "Nye Borgerlige",
           55,
           "Fyns Storkreds"
          ],
          [
           "Malte Jäger",
           "Nye Borgerlige",
           20,
           "Fyns Storkreds"
          ],
          [
           "Jonas René Jensen",
           "Nye Borgerlige",
           41,
           "Fyns Storkreds"
          ],
          [
           "Mikkel Bjørn",
           "Nye Borgerlige",
           27,
           "Fyns Storkreds"
          ],
          [
           "Melanie Jørgensen",
           "Nye Borgerlige",
           26,
           "Fyns Storkreds"
          ],
          [
           "Allan Berg",
           "Nye Borgerlige",
           52,
           "Vestjyllands Storkreds"
          ],
          [
           "Knud Nielsen",
           "Nye Borgerlige",
           66,
           "Vestjyllands Storkreds"
          ],
          [
           "Tenna Røberg",
           "Nye Borgerlige",
           21,
           "Vestjyllands Storkreds"
          ],
          [
           "Mogens Aaby",
           "Nye Borgerlige",
           57,
           "Vestjyllands Storkreds"
          ],
          [
           "Thomas Vedsted",
           "Nye Borgerlige",
           51,
           "Sydjyllands Storkreds"
          ],
          [
           "Marianne Mathiesen",
           "Nye Borgerlige",
           70,
           "Sydjyllands Storkreds"
          ],
          [
           "Kim Andkjær Doberck",
           "Nye Borgerlige",
           43,
           "Sydjyllands Storkreds"
          ],
          [
           "Hans-Christian Gjerlevsen",
           "Nye Borgerlige",
           35,
           "Sydjyllands Storkreds"
          ],
          [
           "Bo Kleis Christensen",
           "Nye Borgerlige",
           46,
           "Sydjyllands Storkreds"
          ],
          [
           "Rune Bønnelykke",
           "Nye Borgerlige",
           50,
           "Sydjyllands Storkreds"
          ],
          [
           "Tom Andkjær",
           "Nye Borgerlige",
           52,
           "Sydjyllands Storkreds"
          ],
          [
           "Pernille Vermund",
           "Nye Borgerlige",
           46,
           "Sydjyllands Storkreds"
          ],
          [
           "Karsten Byrgesen",
           "Nye Borgerlige",
           67,
           "Sydjyllands Storkreds"
          ],
          [
           "Jan Køpke Christensen",
           "Nye Borgerlige",
           67,
           "Sydjyllands Storkreds"
          ],
          [
           "Jan Bigum Warming",
           "Nye Borgerlige",
           42,
           "Sjællands Storkreds"
          ],
          [
           "Githa Lone Nelander",
           "Nye Borgerlige",
           61,
           "Sjællands Storkreds"
          ],
          [
           "Claus Bedemann",
           "Nye Borgerlige",
           61,
           "Sjællands Storkreds"
          ],
          [
           "Peter Seier Christensen",
           "Nye Borgerlige",
           54,
           "Sjællands Storkreds"
          ],
          [
           "Ulrik Lassen",
           "Nye Borgerlige",
           54,
           "Sjællands Storkreds"
          ],
          [
           "Henriette Ergemann",
           "Nye Borgerlige",
           48,
           "Sjællands Storkreds"
          ],
          [
           "Per Olsen",
           "Nye Borgerlige",
           47,
           "Nordsjællands Storkreds"
          ],
          [
           "Søren Regenberg",
           "Nye Borgerlige",
           49,
           "Nordsjællands Storkreds"
          ],
          [
           "Mette Thiesen",
           "Nye Borgerlige",
           40,
           "Nordsjællands Storkreds"
          ],
          [
           "Søren Højbjerg",
           "Nye Borgerlige",
           60,
           "Nordsjællands Storkreds"
          ],
          [
           "Claus Bruncke",
           "Nye Borgerlige",
           67,
           "Nordsjællands Storkreds"
          ],
          [
           "Carsten Winther",
           "Nye Borgerlige",
           52,
           "Nordsjællands Storkreds"
          ],
          [
           "Alberte Rasmussen",
           "Nye Borgerlige",
           34,
           "Københavns Omegns Storkreds"
          ],
          [
           "Claus Bøgh Svenningsen",
           "Nye Borgerlige",
           31,
           "Københavns Omegns Storkreds"
          ],
          [
           "Ulla Kokfelt",
           "Nye Borgerlige",
           49,
           "Københavns Omegns Storkreds"
          ]
         ],
         "hovertemplate": "Party=%{customdata[1]}<br>Component 1=%{x}<br>Component 2=%{y}<br>Candidate=%{customdata[0]}<br>Age=%{customdata[2]}<br>Constituency=%{customdata[3]}<extra></extra>",
         "legendgroup": "Nye Borgerlige",
         "marker": {
          "color": "rgb(5, 79, 92)",
          "line": {
           "color": "DarkSlateGrey",
           "width": 1
          },
          "size": 10,
          "symbol": "circle"
         },
         "mode": "markers",
         "name": "Nye Borgerlige",
         "orientation": "v",
         "showlegend": true,
         "textposition": "top center",
         "type": "scatter",
         "x": [
          6.007701005271911,
          6.103439347903958,
          6.149111090304421,
          5.358853038917582,
          5.921573066735312,
          5.702659331105847,
          5.866285074505825,
          5.718209385977873,
          6.758482411838822,
          6.646988828229812,
          6.401257616020905,
          6.355335860333579,
          7.205315062596654,
          6.286394842337616,
          6.555312786437778,
          6.415073993614454,
          6.3442253025883435,
          5.622862011068225,
          7.190394736937306,
          6.23485737794856,
          6.373868197323334,
          5.476486513848582,
          5.740277225505402,
          5.292871866332416,
          5.838328409422339,
          6.968282477058073,
          8.102333502699823,
          6.756279217641614,
          6.328931065780839,
          6.5511944889873375,
          6.482090323187363,
          5.931371427850537,
          6.585354889531694,
          6.646988828229812,
          4.927530967575548,
          5.55767192127645,
          6.646988828229812,
          6.670773375307245,
          4.964341024873325,
          6.537584306918053,
          6.547173757316655,
          6.270603949217659,
          5.814478908766403,
          7.545234949565093,
          6.516801696248787,
          6.7309938472158315,
          5.751954795702666,
          6.391009958445107,
          6.925794406970636,
          6.751673487251413,
          6.537584306918053
         ],
         "xaxis": "x",
         "y": [
          1.5719026713018718,
          2.6554445094046963,
          1.9889447696165476,
          2.16895629301491,
          1.8919263519317524,
          1.99581805533141,
          2.1884332047051096,
          2.236917985144509,
          1.5900567939754,
          2.167593541741606,
          2.0979383136528584,
          2.153075001524385,
          2.5793771738125093,
          2.144066427469745,
          2.0927759202261784,
          2.1349434962698655,
          -0.11630654931341855,
          2.481547198872169,
          1.2552009904934107,
          2.6298300393695104,
          2.9038517069224468,
          2.7312112325733917,
          1.8541856134898251,
          1.8864774848993195,
          2.01094660715572,
          0.23155225653109135,
          -0.9228370212442689,
          1.6611323970072456,
          3.4992084635196545,
          2.0530168786902148,
          2.384627111962725,
          1.593495830751442,
          1.639952156223517,
          2.167593541741606,
          2.3873264476634635,
          3.22651441276578,
          2.167593541741606,
          1.72817429862614,
          2.680100055097449,
          2.1267991051520028,
          1.2228476086602211,
          2.3627703486628473,
          1.8936026769675927,
          0.7035591976496802,
          2.2895606125845753,
          1.4112777630568771,
          2.713280384516347,
          0.8117847594293054,
          2.264534892496778,
          2.440465191905096,
          2.1267991051520028
         ],
         "yaxis": "y"
        },
        {
         "customdata": [
          [
           "Heidi Printzen",
           "Det Konservative Folkeparti",
           50,
           "Østjyllands Storkreds"
          ],
          [
           "Søren Vanting",
           "Det Konservative Folkeparti",
           50,
           "Østjyllands Storkreds"
          ],
          [
           "Per Urban Olsen",
           "Det Konservative Folkeparti",
           61,
           "Østjyllands Storkreds"
          ],
          [
           "Marcus Knuth",
           "Det Konservative Folkeparti",
           46,
           "Østjyllands Storkreds"
          ],
          [
           "Kristian Damsgaard",
           "Det Konservative Folkeparti",
           53,
           "Østjyllands Storkreds"
          ],
          [
           "Anders Krojgaard Lund",
           "Det Konservative Folkeparti",
           32,
           "Østjyllands Storkreds"
          ],
          [
           "Klaus Nyengaard",
           "Det Konservative Folkeparti",
           52,
           "Østjyllands Storkreds"
          ],
          [
           "Frederikke Noa Jung",
           "Det Konservative Folkeparti",
           21,
           "Østjyllands Storkreds"
          ],
          [
           "Charlotte Green",
           "Det Konservative Folkeparti",
           48,
           "Østjyllands Storkreds"
          ],
          [
           "Isabella Arendt Vlasman",
           "Det Konservative Folkeparti",
           29,
           "Østjyllands Storkreds"
          ],
          [
           "Lotte Friis Böing",
           "Det Konservative Folkeparti",
           29,
           "Østjyllands Storkreds"
          ],
          [
           "Mona Juul",
           "Det Konservative Folkeparti",
           55,
           "Østjyllands Storkreds"
          ],
          [
           "Peter Stakemann",
           "Det Konservative Folkeparti",
           53,
           "Københavns Storkreds"
          ],
          [
           "Martin Wood Pedersen",
           "Det Konservative Folkeparti",
           52,
           "Københavns Storkreds"
          ],
          [
           "Laura Lindahl",
           "Det Konservative Folkeparti",
           39,
           "Københavns Storkreds"
          ],
          [
           "Casper Øhlers",
           "Det Konservative Folkeparti",
           23,
           "Københavns Storkreds"
          ],
          [
           "Nicola Emily Larsen",
           "Det Konservative Folkeparti",
           20,
           "Københavns Storkreds"
          ],
          [
           "Helle Jønch",
           "Det Konservative Folkeparti",
           50,
           "Københavns Storkreds"
          ],
          [
           "Nikolaj Bøgh",
           "Det Konservative Folkeparti",
           53,
           "Københavns Storkreds"
          ],
          [
           "Rico Djernis",
           "Det Konservative Folkeparti",
           53,
           "Københavns Storkreds"
          ],
          [
           "Helle Bonnesen",
           "Det Konservative Folkeparti",
           0,
           "Københavns Storkreds"
          ],
          [
           "Allan Beier",
           "Det Konservative Folkeparti",
           41,
           "Københavns Storkreds"
          ],
          [
           "Katarina Ammitzbøll",
           "Det Konservative Folkeparti",
           53,
           "Københavns Storkreds"
          ],
          [
           "Anders Krøyer",
           "Det Konservative Folkeparti",
           37,
           "Københavns Storkreds"
          ],
          [
           "Mia Tang",
           "Det Konservative Folkeparti",
           50,
           "Nordjyllands Storkreds"
          ],
          [
           "Karsten Skov Petersen",
           "Det Konservative Folkeparti",
           66,
           "Nordjyllands Storkreds"
          ],
          [
           "Jakob Axel Nielsen",
           "Det Konservative Folkeparti",
           55,
           "Nordjyllands Storkreds"
          ],
          [
           "Alexander Klitgaard",
           "Det Konservative Folkeparti",
           21,
           "Nordjyllands Storkreds"
          ],
          [
           "Jens-Henrik Kirk",
           "Det Konservative Folkeparti",
           45,
           "Nordjyllands Storkreds"
          ],
          [
           "Mette Jensen",
           "Det Konservative Folkeparti",
           54,
           "Nordjyllands Storkreds"
          ],
          [
           "Mikkel Højsleth",
           "Det Konservative Folkeparti",
           38,
           "Nordjyllands Storkreds"
          ],
          [
           "Per Larsen",
           "Det Konservative Folkeparti",
           57,
           "Nordjyllands Storkreds"
          ],
          [
           "Lene Burchardt",
           "Det Konservative Folkeparti",
           55,
           "Nordjyllands Storkreds"
          ],
          [
           "Lene Brix Kjelgaard Jensen",
           "Det Konservative Folkeparti",
           64,
           "Nordjyllands Storkreds"
          ],
          [
           "Sebastian Larvad",
           "Det Konservative Folkeparti",
           21,
           "Bornholms Storkreds"
          ],
          [
           "Henriette Søvind",
           "Det Konservative Folkeparti",
           51,
           "Bornholms Storkreds"
          ],
          [
           "Diana-Ester Eriksen",
           "Det Konservative Folkeparti",
           25,
           "Bornholms Storkreds"
          ],
          [
           "Emil Holbech Hansen",
           "Det Konservative Folkeparti",
           20,
           "Fyns Storkreds"
          ],
          [
           "John Hoppe",
           "Det Konservative Folkeparti",
           46,
           "Fyns Storkreds"
          ],
          [
           "Anne Fiber",
           "Det Konservative Folkeparti",
           41,
           "Fyns Storkreds"
          ],
          [
           "Tobias Bennedsen",
           "Det Konservative Folkeparti",
           36,
           "Fyns Storkreds"
          ],
          [
           "Roya Moore",
           "Det Konservative Folkeparti",
           0,
           "Fyns Storkreds"
          ],
          [
           "Joachim Hoffmann-Petersen",
           "Det Konservative Folkeparti",
           43,
           "Fyns Storkreds"
          ],
          [
           "Kristian Guldfeldt",
           "Det Konservative Folkeparti",
           31,
           "Fyns Storkreds"
          ],
          [
           "Anders Johansson",
           "Det Konservative Folkeparti",
           41,
           "Fyns Storkreds"
          ],
          [
           "Mai Mercado",
           "Det Konservative Folkeparti",
           42,
           "Fyns Storkreds"
          ],
          [
           "Gitte Willumsen",
           "Det Konservative Folkeparti",
           55,
           "Vestjyllands Storkreds"
          ],
          [
           "Trine Trærup Roungkvist",
           "Det Konservative Folkeparti",
           30,
           "Vestjyllands Storkreds"
          ],
          [
           "Bitten Kvist Jakobsen",
           "Det Konservative Folkeparti",
           53,
           "Vestjyllands Storkreds"
          ],
          [
           "Lennart Qvist",
           "Det Konservative Folkeparti",
           52,
           "Vestjyllands Storkreds"
          ],
          [
           "Dina Myrup Raabjerg",
           "Det Konservative Folkeparti",
           51,
           "Vestjyllands Storkreds"
          ],
          [
           "Siff Tang Lassen",
           "Det Konservative Folkeparti",
           20,
           "Vestjyllands Storkreds"
          ],
          [
           "Michael Norup",
           "Det Konservative Folkeparti",
           51,
           "Vestjyllands Storkreds"
          ],
          [
           "Ole Gade",
           "Det Konservative Folkeparti",
           58,
           "Vestjyllands Storkreds"
          ],
          [
           "Mogens Birkelund",
           "Det Konservative Folkeparti",
           54,
           "Vestjyllands Storkreds"
          ],
          [
           "Lise Bertelsen",
           "Det Konservative Folkeparti",
           47,
           "Vestjyllands Storkreds"
          ],
          [
           "Søren Pape Poulsen",
           "Det Konservative Folkeparti",
           50,
           "Vestjyllands Storkreds"
          ],
          [
           "Dorthe Schmittroth",
           "Det Konservative Folkeparti",
           41,
           "Sydjyllands Storkreds"
          ],
          [
           "Rikke Norlyk",
           "Det Konservative Folkeparti",
           53,
           "Sydjyllands Storkreds"
          ],
          [
           "Kirsten Hassing Nielsen",
           "Det Konservative Folkeparti",
           45,
           "Sydjyllands Storkreds"
          ],
          [
           "Rasmus Sandvej",
           "Det Konservative Folkeparti",
           37,
           "Sydjyllands Storkreds"
          ],
          [
           "Frederik Bloch Münster",
           "Det Konservative Folkeparti",
           28,
           "Sydjyllands Storkreds"
          ],
          [
           "Casper Nørgaard Maglekær",
           "Det Konservative Folkeparti",
           36,
           "Sydjyllands Storkreds"
          ],
          [
           "Christian Lorenzen",
           "Det Konservative Folkeparti",
           44,
           "Sydjyllands Storkreds"
          ],
          [
           "Dan Foss Kragh",
           "Det Konservative Folkeparti",
           57,
           "Sydjyllands Storkreds"
          ],
          [
           "Birgitte Klippert",
           "Det Konservative Folkeparti",
           37,
           "Sydjyllands Storkreds"
          ],
          [
           "Steen Holm Iversen",
           "Det Konservative Folkeparti",
           58,
           "Sydjyllands Storkreds"
          ],
          [
           "Jesper Højmark Esbensen",
           "Det Konservative Folkeparti",
           55,
           "Sydjyllands Storkreds"
          ],
          [
           "Steffen Peter Hansen",
           "Det Konservative Folkeparti",
           36,
           "Sydjyllands Storkreds"
          ],
          [
           "Rasmus Elkjær Larsen",
           "Det Konservative Folkeparti",
           51,
           "Sydjyllands Storkreds"
          ],
          [
           "Niels Flemming Hansen",
           "Det Konservative Folkeparti",
           48,
           "Sydjyllands Storkreds"
          ],
          [
           "Rasmus Dahlberg",
           "Det Konservative Folkeparti",
           45,
           "Sydjyllands Storkreds"
          ],
          [
           "Jacob Stryhn",
           "Det Konservative Folkeparti",
           52,
           "Sjællands Storkreds"
          ],
          [
           "Mads Silberg",
           "Det Konservative Folkeparti",
           50,
           "Sjællands Storkreds"
          ],
          [
           "Regitze Harslund Sancoeur",
           "Det Konservative Folkeparti",
           23,
           "Sjællands Storkreds"
          ],
          [
           "Helle Laursen Petersen",
           "Det Konservative Folkeparti",
           58,
           "Sjællands Storkreds"
          ],
          [
           "Annette Juhler Kjær",
           "Det Konservative Folkeparti",
           61,
           "Sjællands Storkreds"
          ],
          [
           "Stine Pilt Olsen",
           "Det Konservative Folkeparti",
           0,
           "Sjællands Storkreds"
          ],
          [
           "Rune Kristensen",
           "Det Konservative Folkeparti",
           40,
           "Sjællands Storkreds"
          ],
          [
           "Andreas Karlsen",
           "Det Konservative Folkeparti",
           0,
           "Sjællands Storkreds"
          ],
          [
           "Brigitte Klintskov Jerkel",
           "Det Konservative Folkeparti",
           53,
           "Sjællands Storkreds"
          ],
          [
           "Claus Dyremose",
           "Det Konservative Folkeparti",
           52,
           "Sjællands Storkreds"
          ],
          [
           "Camillo Krog",
           "Det Konservative Folkeparti",
           45,
           "Sjællands Storkreds"
          ],
          [
           "Niels Martin Viuff",
           "Det Konservative Folkeparti",
           62,
           "Nordsjællands Storkreds"
          ],
          [
           "Christoffer Buster Reinhardt",
           "Det Konservative Folkeparti",
           31,
           "Nordsjællands Storkreds"
          ],
          [
           "Emma Juul Hansen",
           "Det Konservative Folkeparti",
           22,
           "Nordsjællands Storkreds"
          ],
          [
           "Egil Hulgaard",
           "Det Konservative Folkeparti",
           60,
           "Nordsjællands Storkreds"
          ],
          [
           "Mette Abildgaard",
           "Det Konservative Folkeparti",
           34,
           "Nordsjællands Storkreds"
          ],
          [
           "Birgitte Bergman",
           "Det Konservative Folkeparti",
           55,
           "Nordsjællands Storkreds"
          ],
          [
           "Nikolaj Frederiksen",
           "Det Konservative Folkeparti",
           54,
           "Nordsjællands Storkreds"
          ],
          [
           "Rasmus Jarlov",
           "Det Konservative Folkeparti",
           45,
           "Københavns Omegns Storkreds"
          ],
          [
           "Henrik Sørensen",
           "Det Konservative Folkeparti",
           56,
           "Københavns Omegns Storkreds"
          ],
          [
           "Michael R. Rugaard",
           "Det Konservative Folkeparti",
           57,
           "Københavns Omegns Storkreds"
          ],
          [
           "Tina Cartey Hansen",
           "Det Konservative Folkeparti",
           44,
           "Københavns Omegns Storkreds"
          ],
          [
           "Magnus Von Dreiager",
           "Det Konservative Folkeparti",
           24,
           "Københavns Omegns Storkreds"
          ],
          [
           "Hanne Bjørn",
           "Det Konservative Folkeparti",
           50,
           "Københavns Omegns Storkreds"
          ],
          [
           "Britt Bager",
           "Det Konservative Folkeparti",
           46,
           "Københavns Omegns Storkreds"
          ],
          [
           "Merete Scheelsbeck",
           "Det Konservative Folkeparti",
           36,
           "Københavns Omegns Storkreds"
          ]
         ],
         "hovertemplate": "Party=%{customdata[1]}<br>Component 1=%{x}<br>Component 2=%{y}<br>Candidate=%{customdata[0]}<br>Age=%{customdata[2]}<br>Constituency=%{customdata[3]}<extra></extra>",
         "legendgroup": "Det Konservative Folkeparti",
         "marker": {
          "color": "rgb(158, 186, 39)",
          "line": {
           "color": "DarkSlateGrey",
           "width": 1
          },
          "size": 10,
          "symbol": "circle"
         },
         "mode": "markers",
         "name": "Det Konservative Folkeparti",
         "orientation": "v",
         "showlegend": true,
         "textposition": "top center",
         "type": "scatter",
         "x": [
          4.582351777876175,
          4.340412603588637,
          1.197832977649202,
          5.562863252057032,
          2.253604419236073,
          6.064235767624397,
          3.8599756403671477,
          5.614769600888186,
          2.413751133747931,
          3.6286762312194507,
          4.220128856166838,
          4.042857018856363,
          4.281854764592864,
          1.7962028801099885,
          4.299831580724175,
          3.1636366109396743,
          3.9487371914042813,
          5.970685534046114,
          5.073565006656793,
          5.5285906032640195,
          3.164352625875788,
          3.98727747256826,
          3.247279924582414,
          5.699943946004974,
          5.784432969216161,
          6.5725654182287085,
          6.351360696149775,
          5.17244250033417,
          3.4563764319588826,
          5.31642032262552,
          5.581782199127358,
          5.994047071165998,
          2.8562860766329385,
          4.171128088740791,
          2.6868455408702863,
          0.9244663118700821,
          1.858908218616534,
          6.237407961701689,
          5.431506566313932,
          1.8978581115407025,
          5.905723293793907,
          4.771593896998583,
          2.6815041749821895,
          4.4151213498341475,
          5.251724500224866,
          6.268473843648466,
          5.2788579828690025,
          5.875723623098515,
          1.2610134470952046,
          3.1780369314595243,
          2.947762668731358,
          4.902897561809609,
          5.246969895240723,
          4.21402109088424,
          4.657007570306122,
          3.310503263435744,
          5.872134752967834,
          2.2775920582782265,
          6.355332542420008,
          3.1261654300816093,
          3.744882241153354,
          5.091250649138603,
          6.137003876404506,
          2.582544253788615,
          6.039326285169751,
          5.674345919998055,
          4.657526676600584,
          5.132786044115128,
          3.5653406290485568,
          1.6076387876783549,
          5.5667629355727195,
          4.980102654014009,
          1.9965158426311291,
          -1.1959513801898924,
          3.691988909937597,
          5.149139433302094,
          3.3194409349253458,
          5.32957523951777,
          5.74479179677399,
          5.875519322668307,
          5.981303273891799,
          4.796464001003841,
          2.739485434458784,
          1.2988314248213844,
          4.8739042290578345,
          4.649157067397731,
          3.6781403546785736,
          3.916474231758583,
          4.922573221108228,
          6.01133416849562,
          5.108011131375222,
          5.584616559678705,
          3.486747552878407,
          4.343707401579594,
          4.635848403300797,
          4.524881284765069,
          4.627663250656679,
          4.941358461721866
         ],
         "xaxis": "x",
         "y": [
          -0.9368023925519586,
          -0.6897883189812521,
          -1.8955088580487416,
          1.4579851162368611,
          -1.0696930337941046,
          -2.4990458566373346,
          -2.405305862003966,
          -0.054504471831354345,
          -0.44448361168462747,
          -1.030994284292589,
          -0.429979140260816,
          -1.0517372280902049,
          -1.5770716416672848,
          -0.9342627513196503,
          -0.32320703351279545,
          -1.6663519383212961,
          -1.135073782821083,
          1.1831961564505393,
          -1.3960474930754188,
          0.07156869596579418,
          -2.085290042850708,
          0.07374745193476599,
          -1.4042588696585216,
          -0.12394410866398513,
          0.1974523214082939,
          0.44410688840877716,
          -0.2888453471027886,
          -2.8486843272766262,
          0.8322342439419222,
          -0.8601771036948178,
          0.5073172069853715,
          0.06661528424509933,
          -1.5782463279573022,
          -0.8292325235740569,
          -1.7853682244620657,
          0.5014419195879094,
          0.7342973419966276,
          0.33177607148935234,
          -0.45102457862718803,
          0.006920047541823657,
          0.4564176003378329,
          -1.5539543805300509,
          -0.39903059734416174,
          1.1100887041039385,
          1.1093796813908778,
          1.0077463551394563,
          1.2233509212477984,
          -0.4355038502853255,
          -0.40085513705030257,
          -0.11507094835856593,
          -1.4410176840703037,
          -1.1138891659089616,
          -0.14160575724798694,
          -1.6088771147660446,
          -2.3516273546496156,
          -0.4354130169954519,
          0.5129694053259163,
          -2.3479284488366305,
          -1.1325032800167598,
          -1.3140609234598484,
          0.25710826425585925,
          0.16987444978838423,
          -1.7033247799784839,
          0.13760696422464128,
          -0.7236389630133662,
          0.2930103954091917,
          -0.11164615805125094,
          -0.38137136771302416,
          0.1986561010327136,
          -1.5889553109422239,
          0.3240247593280617,
          -0.031065926412009188,
          -1.4248915034202845,
          -3.694517094686053,
          -1.8619149669640576,
          -0.1038230281278448,
          -1.5733096664893365,
          0.7231014183744422,
          -0.8907251472450273,
          1.6526616345504515,
          0.5293918014343308,
          0.5674009091579459,
          -0.26444085138065077,
          0.12673169472204668,
          -1.478658108080989,
          -0.28167070572887204,
          -0.7534959038762,
          -0.302242491989987,
          -0.07641783148422693,
          0.6773301900455191,
          -2.234372939166487,
          -2.9125119614956185,
          -1.8428259653731978,
          -1.0788989015292152,
          -0.7068228664233257,
          -1.3864622380090332,
          0.7535539425179627,
          -0.9556032020552259
         ],
         "yaxis": "y"
        },
        {
         "customdata": [
          [
           "Susan Kronborg",
           "Radikale Venstre",
           54,
           "Østjyllands Storkreds"
          ],
          [
           "Katrine Robsøe",
           "Radikale Venstre",
           31,
           "Østjyllands Storkreds"
          ],
          [
           "Hanne Roed",
           "Radikale Venstre",
           53,
           "Østjyllands Storkreds"
          ],
          [
           "Mia Nybo",
           "Radikale Venstre",
           33,
           "Østjyllands Storkreds"
          ],
          [
           "Frederik Aagaard Sørensen",
           "Radikale Venstre",
           36,
           "Østjyllands Storkreds"
          ],
          [
           "Rune Christiansen",
           "Radikale Venstre",
           45,
           "Østjyllands Storkreds"
          ],
          [
           "Andreas Steenberg",
           "Radikale Venstre",
           39,
           "Østjyllands Storkreds"
          ],
          [
           "Anders Højsted",
           "Radikale Venstre",
           49,
           "Københavns Storkreds"
          ],
          [
           "Michael Rachlin",
           "Radikale Venstre",
           52,
           "Københavns Storkreds"
          ],
          [
           "Peter Kjølbye Zinckernagel",
           "Radikale Venstre",
           65,
           "Københavns Storkreds"
          ],
          [
           "Carolina Magdalene Maier",
           "Radikale Venstre",
           48,
           "Københavns Storkreds"
          ],
          [
           "Marie Kampmann",
           "Radikale Venstre",
           36,
           "Københavns Storkreds"
          ],
          [
           "Emilie Normann",
           "Radikale Venstre",
           53,
           "Københavns Storkreds"
          ],
          [
           "Thomas Rohden",
           "Radikale Venstre",
           26,
           "Københavns Storkreds"
          ],
          [
           "Clara Halvorsen",
           "Radikale Venstre",
           30,
           "Københavns Storkreds"
          ],
          [
           "Samira Nawa",
           "Radikale Venstre",
           34,
           "Københavns Storkreds"
          ],
          [
           "Klaus Bondam",
           "Radikale Venstre",
           58,
           "Københavns Storkreds"
          ],
          [
           "Ruben Kidde",
           "Radikale Venstre",
           36,
           "Københavns Storkreds"
          ],
          [
           "Jes Vissing Tiedemann",
           "Radikale Venstre",
           39,
           "Københavns Storkreds"
          ],
          [
           "Julius Bjørn Honoré",
           "Radikale Venstre",
           21,
           "Nordjyllands Storkreds"
          ],
          [
           "Steffen Holme Helledie",
           "Radikale Venstre",
           33,
           "Nordjyllands Storkreds"
          ],
          [
           "Pia Britt Elberg",
           "Radikale Venstre",
           54,
           "Nordjyllands Storkreds"
          ],
          [
           "Daniel Nyboe Andersen",
           "Radikale Venstre",
           45,
           "Nordjyllands Storkreds"
          ],
          [
           "Christian Friis Bach",
           "Radikale Venstre",
           56,
           "Nordjyllands Storkreds"
          ],
          [
           "Bjarne Axelsen",
           "Radikale Venstre",
           48,
           "Nordjyllands Storkreds"
          ],
          [
           "Dorthe Kerschus",
           "Radikale Venstre",
           43,
           "Nordjyllands Storkreds"
          ],
          [
           "Birger Nissen",
           "Radikale Venstre",
           76,
           "Bornholms Storkreds"
          ],
          [
           "Rasmus Helveg Petersen",
           "Radikale Venstre",
           54,
           "Fyns Storkreds"
          ],
          [
           "Hanne Ringgaard Møller",
           "Radikale Venstre",
           58,
           "Fyns Storkreds"
          ],
          [
           "Jan Werner Mathiasen",
           "Radikale Venstre",
           50,
           "Fyns Storkreds"
          ],
          [
           "Kim Lei-Jensen",
           "Radikale Venstre",
           48,
           "Fyns Storkreds"
          ],
          [
           "Niels Ture Holm Grønlund",
           "Radikale Venstre",
           21,
           "Fyns Storkreds"
          ],
          [
           "Keld Marstrand Wang",
           "Radikale Venstre",
           42,
           "Vestjyllands Storkreds"
          ],
          [
           "Johan Brødsgaard",
           "Radikale Venstre",
           29,
           "Vestjyllands Storkreds"
          ],
          [
           "Kathrine Olldag",
           "Radikale Venstre",
           49,
           "Vestjyllands Storkreds"
          ],
          [
           "Josefine Schlosser",
           "Radikale Venstre",
           24,
           "Vestjyllands Storkreds"
          ],
          [
           "Michael Flarup",
           "Radikale Venstre",
           40,
           "Vestjyllands Storkreds"
          ],
          [
           "Bjarne Lastein",
           "Radikale Venstre",
           56,
           "Sydjyllands Storkreds"
          ],
          [
           "Finn Hartvig Nielsen",
           "Radikale Venstre",
           43,
           "Sydjyllands Storkreds"
          ],
          [
           "Ole Lynggaard Jørgensen",
           "Radikale Venstre",
           67,
           "Sydjyllands Storkreds"
          ],
          [
           "Anne Marie Geisler Andersen",
           "Radikale Venstre",
           41,
           "Sydjyllands Storkreds"
          ],
          [
           "Nils Sjøberg",
           "Radikale Venstre",
           62,
           "Sydjyllands Storkreds"
          ],
          [
           "Lasse Ovesen",
           "Radikale Venstre",
           57,
           "Sydjyllands Storkreds"
          ],
          [
           "Lotte Rod",
           "Radikale Venstre",
           37,
           "Sydjyllands Storkreds"
          ],
          [
           "Jeppe Trolle",
           "Radikale Venstre",
           53,
           "Sjællands Storkreds"
          ],
          [
           "Troels Brandt",
           "Radikale Venstre",
           55,
           "Sjællands Storkreds"
          ],
          [
           "Lukas Lunøe",
           "Radikale Venstre",
           24,
           "Sjællands Storkreds"
          ],
          [
           "Kristian Stokholm",
           "Radikale Venstre",
           59,
           "Sjællands Storkreds"
          ],
          [
           "Line Krogh Lay",
           "Radikale Venstre",
           50,
           "Sjællands Storkreds"
          ],
          [
           "Zenia Stampe",
           "Radikale Venstre",
           43,
           "Sjællands Storkreds"
          ],
          [
           "Anne Sophie Callesen",
           "Radikale Venstre",
           33,
           "Sjællands Storkreds"
          ],
          [
           "Edris Qasimi",
           "Radikale Venstre",
           34,
           "Sjællands Storkreds"
          ],
          [
           "Hikmet Altun",
           "Radikale Venstre",
           41,
           "Sjællands Storkreds"
          ],
          [
           "Maria Katarina Nielsen",
           "Radikale Venstre",
           27,
           "Nordsjællands Storkreds"
          ],
          [
           "Jacob Netteberg",
           "Radikale Venstre",
           52,
           "Nordsjællands Storkreds"
          ],
          [
           "Christina Thorholm",
           "Radikale Venstre",
           58,
           "Nordsjællands Storkreds"
          ],
          [
           "Martin Lidegaard",
           "Radikale Venstre",
           55,
           "Nordsjællands Storkreds"
          ],
          [
           "Tine Hessner",
           "Radikale Venstre",
           54,
           "Nordsjællands Storkreds"
          ],
          [
           "Christian Holm Donatzky",
           "Radikale Venstre",
           49,
           "Nordsjællands Storkreds"
          ],
          [
           "Hediye Temiz",
           "Radikale Venstre",
           24,
           "Københavns Omegns Storkreds"
          ],
          [
           "Abbas Razvi",
           "Radikale Venstre",
           74,
           "Københavns Omegns Storkreds"
          ],
          [
           "Christina Rittig Falkberg",
           "Radikale Venstre",
           47,
           "Københavns Omegns Storkreds"
          ],
          [
           "Brian Køster",
           "Radikale Venstre",
           45,
           "Københavns Omegns Storkreds"
          ],
          [
           "Kashif Ahmad",
           "Radikale Venstre",
           42,
           "Københavns Omegns Storkreds"
          ],
          [
           "Sofie Carsten Nielsen",
           "Radikale Venstre",
           47,
           "Københavns Omegns Storkreds"
          ],
          [
           "Stinus Lindgreen",
           "Radikale Venstre",
           42,
           "Københavns Omegns Storkreds"
          ],
          [
           "Esat Sentürk",
           "Radikale Venstre",
           33,
           "Københavns Omegns Storkreds"
          ]
         ],
         "hovertemplate": "Party=%{customdata[1]}<br>Component 1=%{x}<br>Component 2=%{y}<br>Candidate=%{customdata[0]}<br>Age=%{customdata[2]}<br>Constituency=%{customdata[3]}<extra></extra>",
         "legendgroup": "Radikale Venstre",
         "marker": {
          "color": "rgb(113, 50, 128)",
          "line": {
           "color": "DarkSlateGrey",
           "width": 1
          },
          "size": 10,
          "symbol": "circle"
         },
         "mode": "markers",
         "name": "Radikale Venstre",
         "orientation": "v",
         "showlegend": true,
         "textposition": "top center",
         "type": "scatter",
         "x": [
          -0.6604649445132645,
          -4.068256121731803,
          -3.210458309700426,
          -2.076604054477336,
          -1.8063756815887466,
          -1.7158521924888692,
          -1.9225205992357866,
          -2.7334682493656963,
          -1.3840060858333372,
          -2.4565022207065064,
          -4.3313227319836844,
          -2.2137637775891146,
          -3.657171080155394,
          -2.1117160043780414,
          -3.9798357236323985,
          -3.297777452408681,
          -3.096425250564537,
          -2.802402850162272,
          -3.059427571312524,
          -2.753746737717933,
          -1.411896581226261,
          -3.0049687435662182,
          -3.3765370483611568,
          -3.0131727381347826,
          -2.2285792658821397,
          -2.1545382114130245,
          -3.0427090593332613,
          -2.3809602171214506,
          -1.8669447909702575,
          -1.5167665676525406,
          -4.596430122266452,
          -2.6993548110103673,
          0.34212220463907844,
          -3.1914561986199965,
          -2.6614510122869497,
          -2.793696571973377,
          -3.751306024525987,
          -0.01741813039993176,
          -3.087195525397229,
          -2.494346685009781,
          -1.712108079515151,
          -3.1619391182087564,
          -0.9280507150068934,
          -3.2917791479210794,
          -4.549392812816593,
          -2.867458813311249,
          -4.140984100398693,
          -1.9298645345726853,
          -3.3546275643691397,
          -4.28735519014312,
          -3.2027660942485032,
          -2.871906721500639,
          -1.9905699239647776,
          -3.732817554909853,
          -2.1263811238727954,
          -3.4128985695057024,
          -2.54686045428442,
          -2.1441155657835886,
          -3.306116806146427,
          -4.072006418133437,
          -2.3093040870891666,
          -2.105234492961425,
          -2.2039392091440377,
          -3.3678667618068183,
          -2.853058664935658,
          -2.1985113737640347,
          -1.807914862605602
         ],
         "xaxis": "x",
         "y": [
          -2.6152557007197883,
          -2.7094709261434766,
          -2.886182093752803,
          -2.118300823516711,
          -2.0993084528942347,
          -1.9785785584334126,
          -2.477389072203095,
          -4.680102344126348,
          -4.415973713467354,
          -3.8156435419891688,
          -2.7211595457415614,
          -3.0768350008126624,
          -3.701940626808547,
          -3.5062312284900576,
          -2.8952941685891522,
          -2.52547102391257,
          -3.0601864029246957,
          -3.182172808754393,
          -3.956121681893095,
          -3.7294091945113146,
          -2.391001384784515,
          -2.7494392047528455,
          -3.4190866660015575,
          -3.0536416626893623,
          -1.1997883193282568,
          -3.388220023756337,
          -3.48093406524899,
          -3.8649259476808093,
          -0.8060031335928556,
          -3.839293685120587,
          -2.4295798319320556,
          -3.232269804246242,
          -2.8019821022128735,
          -2.322618468396291,
          -2.8129653312728204,
          -3.732207482467707,
          -1.7424638961592673,
          -2.7404648510749112,
          -2.8174120181881634,
          -0.2702340993286294,
          -3.038123057949361,
          -1.0496946122429083,
          -2.5119689511270202,
          -1.4727776837883602,
          -2.4123623452400293,
          -2.6924625609910375,
          -2.371673013922952,
          -2.9065224616640006,
          -1.4348004343257026,
          -2.2187919799311384,
          -3.8542208694416393,
          -3.75707138669833,
          -0.34080201156685486,
          -3.2474862617141382,
          -3.941572475829464,
          -1.8009733242300496,
          -2.4419603529859213,
          -3.7867667198355726,
          -5.23966385840623,
          -3.45970042511538,
          -2.755911129117092,
          -1.395536162313223,
          -1.9711842605511949,
          -1.4046330558675135,
          -3.0425492573889565,
          -4.179530677163431,
          -1.6427869226632101
         ],
         "yaxis": "y"
        },
        {
         "customdata": [
          [
           "Nicolai Wammen",
           "Socialdemokratiet",
           51,
           "Østjyllands Storkreds"
          ],
          [
           "Anna Thusgård",
           "Socialdemokratiet",
           26,
           "Østjyllands Storkreds"
          ],
          [
           "Iben Sønderup",
           "Socialdemokratiet",
           53,
           "Østjyllands Storkreds"
          ],
          [
           "Thomas Monberg",
           "Socialdemokratiet",
           46,
           "Østjyllands Storkreds"
          ],
          [
           "Leif Lahn Jensen",
           "Socialdemokratiet",
           55,
           "Østjyllands Storkreds"
          ],
          [
           "Malte Larsen",
           "Socialdemokratiet",
           53,
           "Østjyllands Storkreds"
          ],
          [
           "Dorthe Hindborg",
           "Socialdemokratiet",
           0,
           "Østjyllands Storkreds"
          ],
          [
           "Daniel Toft Jakobsen",
           "Socialdemokratiet",
           44,
           "Østjyllands Storkreds"
          ],
          [
           "Camilla Fabricius",
           "Socialdemokratiet",
           51,
           "Østjyllands Storkreds"
          ],
          [
           "Jens Joel",
           "Socialdemokratiet",
           44,
           "Østjyllands Storkreds"
          ],
          [
           "Lars Aslan Rasmussen",
           "Socialdemokratiet",
           44,
           "Københavns Storkreds"
          ],
          [
           "Lars Werge",
           "Socialdemokratiet",
           56,
           "Københavns Storkreds"
          ],
          [
           "Nikoline Prehn",
           "Socialdemokratiet",
           20,
           "Københavns Storkreds"
          ],
          [
           "Pernille Rosenkrantz-Theil",
           "Socialdemokratiet",
           45,
           "Københavns Storkreds"
          ],
          [
           "Peter Hummelgaard",
           "Socialdemokratiet",
           39,
           "Københavns Storkreds"
          ],
          [
           "Jørgen Mørup Pedersen",
           "Socialdemokratiet",
           78,
           "Københavns Storkreds"
          ],
          [
           "Lone Larsen",
           "Socialdemokratiet",
           69,
           "Københavns Storkreds"
          ],
          [
           "Mette Reissmann",
           "Socialdemokratiet",
           59,
           "Københavns Storkreds"
          ],
          [
           "Ida Margrete Meier Auken",
           "Socialdemokratiet",
           44,
           "Københavns Storkreds"
          ],
          [
           "Halima El Abassi",
           "Socialdemokratiet",
           44,
           "Københavns Storkreds"
          ],
          [
           "Yildiz Akdogan",
           "Socialdemokratiet",
           49,
           "Københavns Storkreds"
          ],
          [
           "Jarl Feyling",
           "Socialdemokratiet",
           32,
           "Københavns Storkreds"
          ],
          [
           "Morten Ryom",
           "Socialdemokratiet",
           30,
           "Nordjyllands Storkreds"
          ],
          [
           "Rasmus Prehn",
           "Socialdemokratiet",
           49,
           "Nordjyllands Storkreds"
          ],
          [
           "Flemming Møller Mortensen",
           "Socialdemokratiet",
           59,
           "Nordjyllands Storkreds"
          ],
          [
           "Per Husted",
           "Socialdemokratiet",
           56,
           "Nordjyllands Storkreds"
          ],
          [
           "Simon Kollerup",
           "Socialdemokratiet",
           36,
           "Nordjyllands Storkreds"
          ],
          [
           "Morten Klessen",
           "Socialdemokratiet",
           53,
           "Nordjyllands Storkreds"
          ],
          [
           "Ane Halsboe-Jørgensen",
           "Socialdemokratiet",
           39,
           "Nordjyllands Storkreds"
          ],
          [
           "Bjarne Laustsen",
           "Socialdemokratiet",
           68,
           "Nordjyllands Storkreds"
          ],
          [
           "Lars Goldschmidt",
           "Socialdemokratiet",
           67,
           "Bornholms Storkreds"
          ],
          [
           "Lea Wermelin",
           "Socialdemokratiet",
           37,
           "Bornholms Storkreds"
          ],
          [
           "Steen Frandsen",
           "Socialdemokratiet",
           61,
           "Bornholms Storkreds"
          ],
          [
           "Kim Aas",
           "Socialdemokratiet",
           52,
           "Fyns Storkreds"
          ],
          [
           "Lasse Haugaard Pedersen",
           "Socialdemokratiet",
           27,
           "Fyns Storkreds"
          ],
          [
           "Thomas Skriver Jensen",
           "Socialdemokratiet",
           26,
           "Fyns Storkreds"
          ],
          [
           "Dan Jørgensen",
           "Socialdemokratiet",
           47,
           "Fyns Storkreds"
          ],
          [
           "Bjørn Brandenborg",
           "Socialdemokratiet",
           0,
           "Fyns Storkreds"
          ],
          [
           "Mads Madsen Henriksen",
           "Socialdemokratiet",
           33,
           "Fyns Storkreds"
          ],
          [
           "Sara Emil Baaring",
           "Socialdemokratiet",
           36,
           "Fyns Storkreds"
          ],
          [
           "Trine Bramsen",
           "Socialdemokratiet",
           41,
           "Fyns Storkreds"
          ],
          [
           "Anne Paulin",
           "Socialdemokratiet",
           34,
           "Vestjyllands Storkreds"
          ],
          [
           "Tina Mortensen",
           "Socialdemokratiet",
           52,
           "Vestjyllands Storkreds"
          ],
          [
           "Annette Lind",
           "Socialdemokratiet",
           53,
           "Vestjyllands Storkreds"
          ],
          [
           "Thomas Jensen",
           "Socialdemokratiet",
           52,
           "Vestjyllands Storkreds"
          ],
          [
           "Mogens Jensen",
           "Socialdemokratiet",
           59,
           "Vestjyllands Storkreds"
          ],
          [
           "Karin Gaardsted",
           "Socialdemokratiet",
           67,
           "Vestjyllands Storkreds"
          ],
          [
           "Anders Andreasen",
           "Socialdemokratiet",
           48,
           "Vestjyllands Storkreds"
          ],
          [
           "Mette Nielsen",
           "Socialdemokratiet",
           50,
           "Vestjyllands Storkreds"
          ],
          [
           "Kris Jensen Skriver",
           "Socialdemokratiet",
           34,
           "Sydjyllands Storkreds"
          ],
          [
           "Birgitte Vind",
           "Socialdemokratiet",
           57,
           "Sydjyllands Storkreds"
          ],
          [
           "Jens Jonatan Steen",
           "Socialdemokratiet",
           41,
           "Sydjyllands Storkreds"
          ],
          [
           "Jesper Petersen",
           "Socialdemokratiet",
           41,
           "Sydjyllands Storkreds"
          ],
          [
           "Christian Rabjerg Madsen",
           "Socialdemokratiet",
           36,
           "Sydjyllands Storkreds"
          ],
          [
           "Bjørn Laursen",
           "Socialdemokratiet",
           61,
           "Sydjyllands Storkreds"
          ],
          [
           "Anders Kronborg",
           "Socialdemokratiet",
           40,
           "Sydjyllands Storkreds"
          ],
          [
           "Barbara Krarup Hansen",
           "Socialdemokratiet",
           48,
           "Sydjyllands Storkreds"
          ],
          [
           "Niels Ole Beck",
           "Socialdemokratiet",
           65,
           "Sydjyllands Storkreds"
          ],
          [
           "Kim Eskesen",
           "Socialdemokratiet",
           44,
           "Sydjyllands Storkreds"
          ],
          [
           "Benny Engelbrecht",
           "Socialdemokratiet",
           52,
           "Sydjyllands Storkreds"
          ],
          [
           "Theis Kylling Hommeltoft",
           "Socialdemokratiet",
           37,
           "Sydjyllands Storkreds"
          ],
          [
           "Frederik Vad",
           "Socialdemokratiet",
           28,
           "Sjællands Storkreds"
          ],
          [
           "Kasper Roug",
           "Socialdemokratiet",
           43,
           "Sjællands Storkreds"
          ],
          [
           "Tanja Larsson",
           "Socialdemokratiet",
           45,
           "Sjællands Storkreds"
          ],
          [
           "Rasmus Horn Langhoff",
           "Socialdemokratiet",
           42,
           "Sjællands Storkreds"
          ],
          [
           "Thorkild Holmboe-Hay",
           "Socialdemokratiet",
           57,
           "Sjællands Storkreds"
          ],
          [
           "Astrid Krag",
           "Socialdemokratiet",
           40,
           "Sjællands Storkreds"
          ],
          [
           "Jeppe Kofod",
           "Socialdemokratiet",
           48,
           "Sjællands Storkreds"
          ],
          [
           "Magnus Johannes Heunicke",
           "Socialdemokratiet",
           47,
           "Sjællands Storkreds"
          ],
          [
           "Frederik Enevoldsen",
           "Socialdemokratiet",
           25,
           "Sjællands Storkreds"
          ],
          [
           "Mette Gjerskov",
           "Socialdemokratiet",
           56,
           "Sjællands Storkreds"
          ],
          [
           "Kaare Dybvad Bek",
           "Socialdemokratiet",
           38,
           "Sjællands Storkreds"
          ],
          [
           "Brian Bressendorff",
           "Socialdemokratiet",
           34,
           "Sjællands Storkreds"
          ],
          [
           "Rasmus Stoklund",
           "Socialdemokratiet",
           38,
           "Nordsjællands Storkreds"
          ],
          [
           "Matilde Powers",
           "Socialdemokratiet",
           40,
           "Nordsjællands Storkreds"
          ],
          [
           "Louise Mehnke",
           "Socialdemokratiet",
           46,
           "Nordsjællands Storkreds"
          ],
          [
           "Henrik Møller",
           "Socialdemokratiet",
           57,
           "Nordsjællands Storkreds"
          ],
          [
           "Fie Thorsted Hækkerup",
           "Socialdemokratiet",
           28,
           "Nordsjællands Storkreds"
          ],
          [
           "Miki Dam Larsen",
           "Socialdemokratiet",
           36,
           "Nordsjællands Storkreds"
          ],
          [
           "Sebastian Schwartz",
           "Socialdemokratiet",
           22,
           "Københavns Omegns Storkreds"
          ],
          [
           "Mattias Tesfaye",
           "Socialdemokratiet",
           41,
           "Københavns Omegns Storkreds"
          ],
          [
           "Kasper Sand Kjær",
           "Socialdemokratiet",
           33,
           "Københavns Omegns Storkreds"
          ],
          [
           "Maria Gudme",
           "Socialdemokratiet",
           33,
           "Københavns Omegns Storkreds"
          ],
          [
           "Maria Durhuus",
           "Socialdemokratiet",
           45,
           "Københavns Omegns Storkreds"
          ],
          [
           "Morten Bødskov",
           "Socialdemokratiet",
           52,
           "Københavns Omegns Storkreds"
          ],
          [
           "Jeppe Bruus",
           "Socialdemokratiet",
           44,
           "Københavns Omegns Storkreds"
          ],
          [
           "Gunvor Wibroe",
           "Socialdemokratiet",
           50,
           "Københavns Omegns Storkreds"
          ]
         ],
         "hovertemplate": "Party=%{customdata[1]}<br>Component 1=%{x}<br>Component 2=%{y}<br>Candidate=%{customdata[0]}<br>Age=%{customdata[2]}<br>Constituency=%{customdata[3]}<extra></extra>",
         "legendgroup": "Socialdemokratiet",
         "marker": {
          "color": "rgb(179, 39, 34)",
          "line": {
           "color": "DarkSlateGrey",
           "width": 1
          },
          "size": 10,
          "symbol": "circle"
         },
         "mode": "markers",
         "name": "Socialdemokratiet",
         "orientation": "v",
         "showlegend": true,
         "textposition": "top center",
         "type": "scatter",
         "x": [
          -0.0905469917698433,
          -3.7950247746631125,
          -3.0506459572277493,
          -2.040987816529015,
          1.7412204672273295,
          -1.6738099010023593,
          -3.3928545939545476,
          -2.655129290798058,
          -3.4856552891708996,
          -3.4297481879952216,
          -1.164817436732253,
          -3.0063402925691842,
          -4.278217622831674,
          -2.974602623944915,
          -1.8831431861943235,
          -1.2096484394515825,
          -2.2346583176387242,
          -2.508576909123239,
          -4.067956929989012,
          -2.220655230456089,
          -3.6701081944919416,
          -1.6814443229427376,
          -2.2160323555502868,
          -3.4755568318584023,
          -2.491068535807497,
          -1.5192482424493015,
          2.0193778192010345,
          -2.0812319717903383,
          -1.464800594102415,
          -1.305960233050315,
          -0.8435587699860145,
          -1.5330620663763388,
          0.23388808221230975,
          -3.6562899712808647,
          -1.5991064554895036,
          -0.9859911384021972,
          -2.9259624190505638,
          1.3567783711691823,
          -3.814542784295157,
          -3.016141784493806,
          -1.5850261476860823,
          -3.124028389507691,
          -1.4983508064389324,
          -0.6168029773192079,
          -1.5826524219933529,
          0.5261731697532617,
          -2.3714676640129784,
          -3.4562268249636467,
          -1.5148086002254482,
          -2.016046421261861,
          -2.789169556561106,
          -1.0194500572504366,
          -2.0786925621729795,
          0.2514727976065408,
          -1.0778194275295467,
          -0.6033509129457827,
          -1.1141549822859487,
          -2.3529280336505205,
          -2.1048978389496082,
          2.6430313961223537,
          -2.040524953811784,
          0.7813938463114962,
          -1.5834023461791535,
          -1.6075462206308755,
          -2.043742132267949,
          0.05520073661197049,
          -0.9005301440086697,
          -1.596284265774469,
          -2.188979451774687,
          -1.825497670547579,
          -4.464805181553324,
          -1.1081787650456851,
          -2.577920606963525,
          -1.4531030417293456,
          -2.5162193297883504,
          -2.9276502712469457,
          -2.410129034333199,
          -2.066743071327694,
          -2.694077827296808,
          -2.7722247594168583,
          0.27253272086892305,
          -1.6886464990383592,
          -2.699541170244637,
          -2.6883921059073366,
          -1.8034162598670889,
          -0.4595318773081626,
          -4.131322839476857
         ],
         "xaxis": "x",
         "y": [
          3.4857614797779592,
          1.8837674432080653,
          3.4846399808517172,
          2.5997650854129764,
          2.6144906746951193,
          2.3001777471562943,
          2.5374043040806393,
          0.7884138713869052,
          1.8744862839515104,
          1.0254158129069928,
          1.3746205953402773,
          0.7596411969312158,
          -1.2520843465031084,
          3.0866451415100777,
          2.334636970080586,
          3.6951581777825693,
          0.5925057668419058,
          -0.43891233118485606,
          0.5476417608561862,
          0.8127291332358733,
          0.24921211529629644,
          2.444251334062362,
          3.228871666514934,
          1.5146337684616906,
          2.071183992190851,
          2.8579854397351228,
          2.144971410538763,
          1.4057955192922031,
          3.7006149970922877,
          2.84981207527351,
          0.4371011163101023,
          3.5850154095227222,
          2.7269446462428686,
          1.3180745932988884,
          2.36326414572182,
          2.704591585297237,
          2.8187981457468734,
          4.310956068308445,
          1.8607839313944163,
          2.4206442285566654,
          3.382386496234302,
          1.7687210819215085,
          3.4150808517218625,
          4.306705499174483,
          4.2749304764451015,
          2.970903097702565,
          1.1805312416531661,
          2.305783862150272,
          2.4686221608285357,
          1.9151403151625053,
          2.5687598941677487,
          4.839641101200719,
          2.771823294819586,
          2.9422508379475523,
          2.647811419595002,
          2.5331904035498733,
          2.037546779979056,
          3.1671922992543085,
          0.8859828641320875,
          2.3994017892932678,
          -0.5076527131556713,
          4.583533569528926,
          1.1421128926839965,
          3.165531859692219,
          2.8779766364862094,
          2.3276694950156016,
          3.845391839404423,
          3.6760924586405843,
          2.4577056653165794,
          3.2480211969249333,
          0.9345915288925659,
          3.6561568281621484,
          2.957085897994857,
          3.5665948253797564,
          1.320835001214925,
          2.167001549689438,
          2.182484255389128,
          3.8750016117494557,
          -0.19469693084693335,
          2.475464213630442,
          2.9732346991146503,
          2.2455728624312403,
          3.0499671657330256,
          2.371943614829109,
          3.104383452316452,
          1.6048231222543508,
          0.8463086845831786
         ],
         "yaxis": "y"
        }
       ],
       "layout": {
        "height": 800,
        "hovermode": "closest",
        "legend": {
         "title": {
          "text": "Party"
         },
         "tracegroupgap": 0
        },
        "showlegend": true,
        "template": {
         "data": {
          "bar": [
           {
            "error_x": {
             "color": "#2a3f5f"
            },
            "error_y": {
             "color": "#2a3f5f"
            },
            "marker": {
             "line": {
              "color": "#E5ECF6",
              "width": 0.5
             },
             "pattern": {
              "fillmode": "overlay",
              "size": 10,
              "solidity": 0.2
             }
            },
            "type": "bar"
           }
          ],
          "barpolar": [
           {
            "marker": {
             "line": {
              "color": "#E5ECF6",
              "width": 0.5
             },
             "pattern": {
              "fillmode": "overlay",
              "size": 10,
              "solidity": 0.2
             }
            },
            "type": "barpolar"
           }
          ],
          "carpet": [
           {
            "aaxis": {
             "endlinecolor": "#2a3f5f",
             "gridcolor": "white",
             "linecolor": "white",
             "minorgridcolor": "white",
             "startlinecolor": "#2a3f5f"
            },
            "baxis": {
             "endlinecolor": "#2a3f5f",
             "gridcolor": "white",
             "linecolor": "white",
             "minorgridcolor": "white",
             "startlinecolor": "#2a3f5f"
            },
            "type": "carpet"
           }
          ],
          "choropleth": [
           {
            "colorbar": {
             "outlinewidth": 0,
             "ticks": ""
            },
            "type": "choropleth"
           }
          ],
          "contour": [
           {
            "colorbar": {
             "outlinewidth": 0,
             "ticks": ""
            },
            "colorscale": [
             [
              0,
              "#0d0887"
             ],
             [
              0.1111111111111111,
              "#46039f"
             ],
             [
              0.2222222222222222,
              "#7201a8"
             ],
             [
              0.3333333333333333,
              "#9c179e"
             ],
             [
              0.4444444444444444,
              "#bd3786"
             ],
             [
              0.5555555555555556,
              "#d8576b"
             ],
             [
              0.6666666666666666,
              "#ed7953"
             ],
             [
              0.7777777777777778,
              "#fb9f3a"
             ],
             [
              0.8888888888888888,
              "#fdca26"
             ],
             [
              1,
              "#f0f921"
             ]
            ],
            "type": "contour"
           }
          ],
          "contourcarpet": [
           {
            "colorbar": {
             "outlinewidth": 0,
             "ticks": ""
            },
            "type": "contourcarpet"
           }
          ],
          "heatmap": [
           {
            "colorbar": {
             "outlinewidth": 0,
             "ticks": ""
            },
            "colorscale": [
             [
              0,
              "#0d0887"
             ],
             [
              0.1111111111111111,
              "#46039f"
             ],
             [
              0.2222222222222222,
              "#7201a8"
             ],
             [
              0.3333333333333333,
              "#9c179e"
             ],
             [
              0.4444444444444444,
              "#bd3786"
             ],
             [
              0.5555555555555556,
              "#d8576b"
             ],
             [
              0.6666666666666666,
              "#ed7953"
             ],
             [
              0.7777777777777778,
              "#fb9f3a"
             ],
             [
              0.8888888888888888,
              "#fdca26"
             ],
             [
              1,
              "#f0f921"
             ]
            ],
            "type": "heatmap"
           }
          ],
          "heatmapgl": [
           {
            "colorbar": {
             "outlinewidth": 0,
             "ticks": ""
            },
            "colorscale": [
             [
              0,
              "#0d0887"
             ],
             [
              0.1111111111111111,
              "#46039f"
             ],
             [
              0.2222222222222222,
              "#7201a8"
             ],
             [
              0.3333333333333333,
              "#9c179e"
             ],
             [
              0.4444444444444444,
              "#bd3786"
             ],
             [
              0.5555555555555556,
              "#d8576b"
             ],
             [
              0.6666666666666666,
              "#ed7953"
             ],
             [
              0.7777777777777778,
              "#fb9f3a"
             ],
             [
              0.8888888888888888,
              "#fdca26"
             ],
             [
              1,
              "#f0f921"
             ]
            ],
            "type": "heatmapgl"
           }
          ],
          "histogram": [
           {
            "marker": {
             "pattern": {
              "fillmode": "overlay",
              "size": 10,
              "solidity": 0.2
             }
            },
            "type": "histogram"
           }
          ],
          "histogram2d": [
           {
            "colorbar": {
             "outlinewidth": 0,
             "ticks": ""
            },
            "colorscale": [
             [
              0,
              "#0d0887"
             ],
             [
              0.1111111111111111,
              "#46039f"
             ],
             [
              0.2222222222222222,
              "#7201a8"
             ],
             [
              0.3333333333333333,
              "#9c179e"
             ],
             [
              0.4444444444444444,
              "#bd3786"
             ],
             [
              0.5555555555555556,
              "#d8576b"
             ],
             [
              0.6666666666666666,
              "#ed7953"
             ],
             [
              0.7777777777777778,
              "#fb9f3a"
             ],
             [
              0.8888888888888888,
              "#fdca26"
             ],
             [
              1,
              "#f0f921"
             ]
            ],
            "type": "histogram2d"
           }
          ],
          "histogram2dcontour": [
           {
            "colorbar": {
             "outlinewidth": 0,
             "ticks": ""
            },
            "colorscale": [
             [
              0,
              "#0d0887"
             ],
             [
              0.1111111111111111,
              "#46039f"
             ],
             [
              0.2222222222222222,
              "#7201a8"
             ],
             [
              0.3333333333333333,
              "#9c179e"
             ],
             [
              0.4444444444444444,
              "#bd3786"
             ],
             [
              0.5555555555555556,
              "#d8576b"
             ],
             [
              0.6666666666666666,
              "#ed7953"
             ],
             [
              0.7777777777777778,
              "#fb9f3a"
             ],
             [
              0.8888888888888888,
              "#fdca26"
             ],
             [
              1,
              "#f0f921"
             ]
            ],
            "type": "histogram2dcontour"
           }
          ],
          "mesh3d": [
           {
            "colorbar": {
             "outlinewidth": 0,
             "ticks": ""
            },
            "type": "mesh3d"
           }
          ],
          "parcoords": [
           {
            "line": {
             "colorbar": {
              "outlinewidth": 0,
              "ticks": ""
             }
            },
            "type": "parcoords"
           }
          ],
          "pie": [
           {
            "automargin": true,
            "type": "pie"
           }
          ],
          "scatter": [
           {
            "fillpattern": {
             "fillmode": "overlay",
             "size": 10,
             "solidity": 0.2
            },
            "type": "scatter"
           }
          ],
          "scatter3d": [
           {
            "line": {
             "colorbar": {
              "outlinewidth": 0,
              "ticks": ""
             }
            },
            "marker": {
             "colorbar": {
              "outlinewidth": 0,
              "ticks": ""
             }
            },
            "type": "scatter3d"
           }
          ],
          "scattercarpet": [
           {
            "marker": {
             "colorbar": {
              "outlinewidth": 0,
              "ticks": ""
             }
            },
            "type": "scattercarpet"
           }
          ],
          "scattergeo": [
           {
            "marker": {
             "colorbar": {
              "outlinewidth": 0,
              "ticks": ""
             }
            },
            "type": "scattergeo"
           }
          ],
          "scattergl": [
           {
            "marker": {
             "colorbar": {
              "outlinewidth": 0,
              "ticks": ""
             }
            },
            "type": "scattergl"
           }
          ],
          "scattermapbox": [
           {
            "marker": {
             "colorbar": {
              "outlinewidth": 0,
              "ticks": ""
             }
            },
            "type": "scattermapbox"
           }
          ],
          "scatterpolar": [
           {
            "marker": {
             "colorbar": {
              "outlinewidth": 0,
              "ticks": ""
             }
            },
            "type": "scatterpolar"
           }
          ],
          "scatterpolargl": [
           {
            "marker": {
             "colorbar": {
              "outlinewidth": 0,
              "ticks": ""
             }
            },
            "type": "scatterpolargl"
           }
          ],
          "scatterternary": [
           {
            "marker": {
             "colorbar": {
              "outlinewidth": 0,
              "ticks": ""
             }
            },
            "type": "scatterternary"
           }
          ],
          "surface": [
           {
            "colorbar": {
             "outlinewidth": 0,
             "ticks": ""
            },
            "colorscale": [
             [
              0,
              "#0d0887"
             ],
             [
              0.1111111111111111,
              "#46039f"
             ],
             [
              0.2222222222222222,
              "#7201a8"
             ],
             [
              0.3333333333333333,
              "#9c179e"
             ],
             [
              0.4444444444444444,
              "#bd3786"
             ],
             [
              0.5555555555555556,
              "#d8576b"
             ],
             [
              0.6666666666666666,
              "#ed7953"
             ],
             [
              0.7777777777777778,
              "#fb9f3a"
             ],
             [
              0.8888888888888888,
              "#fdca26"
             ],
             [
              1,
              "#f0f921"
             ]
            ],
            "type": "surface"
           }
          ],
          "table": [
           {
            "cells": {
             "fill": {
              "color": "#EBF0F8"
             },
             "line": {
              "color": "white"
             }
            },
            "header": {
             "fill": {
              "color": "#C8D4E3"
             },
             "line": {
              "color": "white"
             }
            },
            "type": "table"
           }
          ]
         },
         "layout": {
          "annotationdefaults": {
           "arrowcolor": "#2a3f5f",
           "arrowhead": 0,
           "arrowwidth": 1
          },
          "autotypenumbers": "strict",
          "coloraxis": {
           "colorbar": {
            "outlinewidth": 0,
            "ticks": ""
           }
          },
          "colorscale": {
           "diverging": [
            [
             0,
             "#8e0152"
            ],
            [
             0.1,
             "#c51b7d"
            ],
            [
             0.2,
             "#de77ae"
            ],
            [
             0.3,
             "#f1b6da"
            ],
            [
             0.4,
             "#fde0ef"
            ],
            [
             0.5,
             "#f7f7f7"
            ],
            [
             0.6,
             "#e6f5d0"
            ],
            [
             0.7,
             "#b8e186"
            ],
            [
             0.8,
             "#7fbc41"
            ],
            [
             0.9,
             "#4d9221"
            ],
            [
             1,
             "#276419"
            ]
           ],
           "sequential": [
            [
             0,
             "#0d0887"
            ],
            [
             0.1111111111111111,
             "#46039f"
            ],
            [
             0.2222222222222222,
             "#7201a8"
            ],
            [
             0.3333333333333333,
             "#9c179e"
            ],
            [
             0.4444444444444444,
             "#bd3786"
            ],
            [
             0.5555555555555556,
             "#d8576b"
            ],
            [
             0.6666666666666666,
             "#ed7953"
            ],
            [
             0.7777777777777778,
             "#fb9f3a"
            ],
            [
             0.8888888888888888,
             "#fdca26"
            ],
            [
             1,
             "#f0f921"
            ]
           ],
           "sequentialminus": [
            [
             0,
             "#0d0887"
            ],
            [
             0.1111111111111111,
             "#46039f"
            ],
            [
             0.2222222222222222,
             "#7201a8"
            ],
            [
             0.3333333333333333,
             "#9c179e"
            ],
            [
             0.4444444444444444,
             "#bd3786"
            ],
            [
             0.5555555555555556,
             "#d8576b"
            ],
            [
             0.6666666666666666,
             "#ed7953"
            ],
            [
             0.7777777777777778,
             "#fb9f3a"
            ],
            [
             0.8888888888888888,
             "#fdca26"
            ],
            [
             1,
             "#f0f921"
            ]
           ]
          },
          "colorway": [
           "#636efa",
           "#EF553B",
           "#00cc96",
           "#ab63fa",
           "#FFA15A",
           "#19d3f3",
           "#FF6692",
           "#B6E880",
           "#FF97FF",
           "#FECB52"
          ],
          "font": {
           "color": "#2a3f5f"
          },
          "geo": {
           "bgcolor": "white",
           "lakecolor": "white",
           "landcolor": "#E5ECF6",
           "showlakes": true,
           "showland": true,
           "subunitcolor": "white"
          },
          "hoverlabel": {
           "align": "left"
          },
          "hovermode": "closest",
          "mapbox": {
           "style": "light"
          },
          "paper_bgcolor": "white",
          "plot_bgcolor": "#E5ECF6",
          "polar": {
           "angularaxis": {
            "gridcolor": "white",
            "linecolor": "white",
            "ticks": ""
           },
           "bgcolor": "#E5ECF6",
           "radialaxis": {
            "gridcolor": "white",
            "linecolor": "white",
            "ticks": ""
           }
          },
          "scene": {
           "xaxis": {
            "backgroundcolor": "#E5ECF6",
            "gridcolor": "white",
            "gridwidth": 2,
            "linecolor": "white",
            "showbackground": true,
            "ticks": "",
            "zerolinecolor": "white"
           },
           "yaxis": {
            "backgroundcolor": "#E5ECF6",
            "gridcolor": "white",
            "gridwidth": 2,
            "linecolor": "white",
            "showbackground": true,
            "ticks": "",
            "zerolinecolor": "white"
           },
           "zaxis": {
            "backgroundcolor": "#E5ECF6",
            "gridcolor": "white",
            "gridwidth": 2,
            "linecolor": "white",
            "showbackground": true,
            "ticks": "",
            "zerolinecolor": "white"
           }
          },
          "shapedefaults": {
           "line": {
            "color": "#2a3f5f"
           }
          },
          "ternary": {
           "aaxis": {
            "gridcolor": "white",
            "linecolor": "white",
            "ticks": ""
           },
           "baxis": {
            "gridcolor": "white",
            "linecolor": "white",
            "ticks": ""
           },
           "bgcolor": "#E5ECF6",
           "caxis": {
            "gridcolor": "white",
            "linecolor": "white",
            "ticks": ""
           }
          },
          "title": {
           "x": 0.05
          },
          "xaxis": {
           "automargin": true,
           "gridcolor": "white",
           "linecolor": "white",
           "ticks": "",
           "title": {
            "standoff": 15
           },
           "zerolinecolor": "white",
           "zerolinewidth": 2
          },
          "yaxis": {
           "automargin": true,
           "gridcolor": "white",
           "linecolor": "white",
           "ticks": "",
           "title": {
            "standoff": 15
           },
           "zerolinecolor": "white",
           "zerolinewidth": 2
          }
         }
        },
        "title": {
         "text": "Political Compass of Candidates"
        },
        "width": 1200,
        "xaxis": {
         "anchor": "y",
         "domain": [
          0,
          1
         ],
         "title": {
          "text": "Component 1"
         }
        },
        "yaxis": {
         "anchor": "x",
         "domain": [
          0,
          1
         ],
         "title": {
          "text": "Component 2"
         }
        }
       }
      }
     },
     "metadata": {},
     "output_type": "display_data"
    }
   ],
   "source": [
    "\n",
    "# Convert the PCA components to a DataFrame for use with Plotly\n",
    "principal_df = pd.DataFrame(principal_components, columns=['Component 1', 'Component 2'])\n",
    "\n",
    "data = pd.read_excel('alldata.xlsx')\n",
    "\n",
    "# Add candidate names and parties to this DataFrame\n",
    "principal_df['Candidate'] = navn_col  \n",
    "principal_df['Party'] = parti_col  \n",
    "principal_df['Age'] = data['alder']\n",
    "principal_df['Constituency'] = data['storkreds']\n",
    "\n",
    "# Use Plotly Express to create the scatter plot\n",
    "fig = px.scatter(principal_df, x='Component 1', y='Component 2', color='Party',\n",
    "                 hover_data=['Candidate', 'Party', 'Age', 'Constituency'],  # configure hover information\n",
    "                 title='Political Compass of Candidates',\n",
    "                 color_discrete_map=party_colors)  # map party colors to the ones defined earlier\n",
    "\n",
    "# Improve layout\n",
    "fig.update_traces(marker=dict(size=10, line=dict(width=1, color='DarkSlateGrey')),  # Customize point appearance\n",
    "                  textposition='top center')\n",
    "fig.update_layout(showlegend=True,  # Show legend\n",
    "                  legend_title_text='Party',  # Legend title\n",
    "                  hovermode='closest',  # Hover only over the closest point\n",
    "                height=800, width=1200)  # Adjust the size of the plot\n",
    "\n",
    "# Show figure\n",
    "fig.show()\n"
   ]
  },
  {
   "cell_type": "markdown",
   "id": "233b64d9",
   "metadata": {},
   "source": [
    "The HTML table below again maps the parties to their respective colors. It is shown here because it contains the 'Political position' column. It can be used to confirm the results of the PCA analysis. For example, Enhedslisten is listed as Far-left and that is exactly what the plot shows."
   ]
  },
  {
   "cell_type": "code",
   "execution_count": 47,
   "id": "d4ef0a98",
   "metadata": {},
   "outputs": [
    {
     "data": {
      "text/html": [
       "\n",
       "<table>\n",
       "<tr><th>Party letter</th><th>Party name</th><th>Party name (English)</th><th>Political position</th><th>Color</th></tr>\n",
       "<tr><td>A</td><td>Socialdemokratiet</td><td>Social Democrats</td><td>Centre-left</td><td style=\"background-color:rgb(179, 39, 34)\"></td></tr>\n",
       "<tr><td>V</td><td>Venstre</td><td>Danish Liberal Party</td><td>Centre-right</td><td style=\"background-color:rgb(0, 102, 151)\"></td></tr>\n",
       "<tr><td>M</td><td>Moderaterne</td><td>Moderates</td><td>Centre-right</td><td style=\"background-color:rgb(108, 57, 229)\"></td></tr>\n",
       "<tr><td>F</td><td>Socialistisk Folkeparti</td><td>Socialist People's Party</td><td>Left-wing</td><td style=\"background-color:rgb(221, 8, 120)\"></td></tr>\n",
       "<tr><td>D</td><td>Danmarksdemokraterne</td><td>Denmark Democrats</td><td>Right-wing</td><td style=\"background-color:rgb(138, 195, 255)\"></td></tr>\n",
       "<tr><td>I</td><td>Liberal Alliance</td><td>Liberal Alliance</td><td>Right-wing</td><td style=\"background-color:rgb(33, 198, 207)\"></td></tr>\n",
       "<tr><td>C</td><td>Det Konservative Folkeparti</td><td>Conservative People's Party</td><td>Right-wing</td><td style=\"background-color:rgb(158, 186, 39)\"></td></tr>\n",
       "<tr><td>Æ</td><td>Enhedslisten</td><td>Red-Green Alliance</td><td>Far-left</td><td style=\"background-color:rgb(237, 128, 25)\"></td></tr>\n",
       "<tr><td>B</td><td>Radikale Venstre</td><td>Social Liberal Party</td><td>Centre-left</td><td style=\"background-color:rgb(113, 50, 128)\"></td></tr>\n",
       "<tr><td>D</td><td>Nye Borgerlige</td><td>New Right</td><td>Far-right</td><td style=\"background-color:rgb(5, 79, 92)\"></td></tr>\n",
       "<tr><td>Z</td><td>Alternativet</td><td>The Alternative</td><td>Centre-left</td><td style=\"background-color:rgb(42, 143, 57)\"></td></tr>\n",
       "<tr><td>O</td><td>Dansk Folkeparti</td><td>Danish People's Party</td><td>Far-right</td><td style=\"background-color:rgb(243, 205, 65)\"></td></tr>\n",
       "<tr><td>G</td><td>Frie Grønne, Danmarks Nye Venstrefløjsparti</td><td>Free Greens</td><td>Centre-left</td><td style=\"background-color:rgb(0, 230, 106)\"></td></tr>\n",
       "<tr><td>K</td><td>Kristendemokraterne</td><td>Christian Democrats</td><td>Centre-right</td><td style=\"background-color:rgb(186, 186, 186)\"></td></tr>\n",
       "<tr><td>L</td><td>Løsgænger</td><td>No party</td><td>---</td><td style=\"background-color:rgb(255, 118, 237)\"></td></tr>      \n",
       "</table>\n"
      ],
      "text/plain": [
       "<IPython.core.display.HTML object>"
      ]
     },
     "metadata": {},
     "output_type": "display_data"
    }
   ],
   "source": [
    "from IPython.display import display, HTML\n",
    "\n",
    "# Define the table\n",
    "table = \"\"\"\n",
    "<table>\n",
    "<tr><th>Party letter</th><th>Party name</th><th>Party name (English)</th><th>Political position</th><th>Color</th></tr>\n",
    "<tr><td>A</td><td>Socialdemokratiet</td><td>Social Democrats</td><td>Centre-left</td><td style=\"background-color:rgb(179, 39, 34)\"></td></tr>\n",
    "<tr><td>V</td><td>Venstre</td><td>Danish Liberal Party</td><td>Centre-right</td><td style=\"background-color:rgb(0, 102, 151)\"></td></tr>\n",
    "<tr><td>M</td><td>Moderaterne</td><td>Moderates</td><td>Centre-right</td><td style=\"background-color:rgb(108, 57, 229)\"></td></tr>\n",
    "<tr><td>F</td><td>Socialistisk Folkeparti</td><td>Socialist People's Party</td><td>Left-wing</td><td style=\"background-color:rgb(221, 8, 120)\"></td></tr>\n",
    "<tr><td>D</td><td>Danmarksdemokraterne</td><td>Denmark Democrats</td><td>Right-wing</td><td style=\"background-color:rgb(138, 195, 255)\"></td></tr>\n",
    "<tr><td>I</td><td>Liberal Alliance</td><td>Liberal Alliance</td><td>Right-wing</td><td style=\"background-color:rgb(33, 198, 207)\"></td></tr>\n",
    "<tr><td>C</td><td>Det Konservative Folkeparti</td><td>Conservative People's Party</td><td>Right-wing</td><td style=\"background-color:rgb(158, 186, 39)\"></td></tr>\n",
    "<tr><td>Æ</td><td>Enhedslisten</td><td>Red-Green Alliance</td><td>Far-left</td><td style=\"background-color:rgb(237, 128, 25)\"></td></tr>\n",
    "<tr><td>B</td><td>Radikale Venstre</td><td>Social Liberal Party</td><td>Centre-left</td><td style=\"background-color:rgb(113, 50, 128)\"></td></tr>\n",
    "<tr><td>D</td><td>Nye Borgerlige</td><td>New Right</td><td>Far-right</td><td style=\"background-color:rgb(5, 79, 92)\"></td></tr>\n",
    "<tr><td>Z</td><td>Alternativet</td><td>The Alternative</td><td>Centre-left</td><td style=\"background-color:rgb(42, 143, 57)\"></td></tr>\n",
    "<tr><td>O</td><td>Dansk Folkeparti</td><td>Danish People's Party</td><td>Far-right</td><td style=\"background-color:rgb(243, 205, 65)\"></td></tr>\n",
    "<tr><td>G</td><td>Frie Grønne, Danmarks Nye Venstrefløjsparti</td><td>Free Greens</td><td>Centre-left</td><td style=\"background-color:rgb(0, 230, 106)\"></td></tr>\n",
    "<tr><td>K</td><td>Kristendemokraterne</td><td>Christian Democrats</td><td>Centre-right</td><td style=\"background-color:rgb(186, 186, 186)\"></td></tr>\n",
    "<tr><td>L</td><td>Løsgænger</td><td>No party</td><td>---</td><td style=\"background-color:rgb(255, 118, 237)\"></td></tr>      \n",
    "</table>\n",
    "\"\"\"\n",
    "\n",
    "# Display the table\n",
    "display(HTML(table))"
   ]
  },
  {
   "cell_type": "markdown",
   "id": "9b6d1899",
   "metadata": {},
   "source": [
    "In the next step, t-SNE is used to plot the data. As expected from t-SNE, the shape of the data is preserved to a much higher degree, which shows less overlap between parties and allows for easier analysis. The candidates of each party are closer together and more details are revealed. Especially the points of interest mentioned before - overlap in far-left and far-right is not so apparent now."
   ]
  },
  {
   "cell_type": "code",
   "execution_count": 48,
   "id": "05f46df4",
   "metadata": {},
   "outputs": [
    {
     "data": {
      "image/png": "[encoded data removed]",
      "text/plain": [
       "<Figure size 1500x1000 with 1 Axes>"
      ]
     },
     "metadata": {},
     "output_type": "display_data"
    }
   ],
   "source": [
    "\n",
    "parties = parti_col\n",
    "names = navn_col\n",
    "\n",
    "# Apply t-SNE\n",
    "tsne = TSNE(n_components=2, random_state=42)  \n",
    "tsne_results = tsne.fit_transform(data_scaled)\n",
    "\n",
    "# Plot the candidates using t-SNE results\n",
    "plt.figure(figsize=(15, 10))\n",
    "\n",
    "# Create a dictionary to map each party to a matplotlib color\n",
    "for i, (x, y) in enumerate(tsne_results):\n",
    "    party = parties[i]\n",
    "    rgb = party_colors[party][4:-1].split(',')\n",
    "    color_tuple = (int(rgb[0])/255, int(rgb[1])/255, int(rgb[2])/255)\n",
    "    plt.scatter(x, y, color=color_tuple, label=party)\n",
    "\n",
    "# Create the legend without duplicates, and move it outside the plot area\n",
    "handles, labels = plt.gca().get_legend_handles_labels()\n",
    "unique_labels = list(set(labels))  # Remove duplicates in label list\n",
    "unique_handles = [handles[labels.index(label)] for label in unique_labels]  # Get the handles for unique labels\n",
    "plt.legend(unique_handles, unique_labels, loc='upper left', bbox_to_anchor=(1, 1))\n",
    "\n",
    "plt.axhline(0, color='grey', lw=1)\n",
    "plt.axvline(0, color='grey', lw=1)\n",
    "plt.grid(True)\n",
    "plt.xlabel('t-SNE Component 1')\n",
    "plt.ylabel('t-SNE Component 2')\n",
    "plt.title('Political Compass of Candidates Based on t-SNE of Questionnaire Responses')\n",
    "\n",
    "plt.tight_layout()  # Adjust subplot params so that the subplot(s) fits in to the figure area.\n",
    "plt.show()"
   ]
  }
 ],
 "metadata": {
  "kernelspec": {
   "display_name": "Python 3 (ipykernel)",
   "language": "python",
   "name": "python3"
  },
  "language_info": {
   "codemirror_mode": {
    "name": "ipython",
    "version": 3
   },
   "file_extension": ".py",
   "mimetype": "text/x-python",
   "name": "python",
   "nbconvert_exporter": "python",
   "pygments_lexer": "ipython3",
   "version": "3.11.7"
  }
 },
 "nbformat": 4,
 "nbformat_minor": 5
}
